{
 "cells": [
  {
   "cell_type": "markdown",
   "source": [
    "# Movie Recommendation System"
   ],
   "metadata": {
    "collapsed": false
   }
  },
  {
   "cell_type": "markdown",
   "source": [
    "## Environment settings preparation"
   ],
   "metadata": {
    "collapsed": false
   }
  },
  {
   "cell_type": "code",
   "execution_count": 1,
   "outputs": [],
   "source": [
    "# Dataset\n",
    "import pandas as pd\n",
    "\n",
    "# Pytorch geometric\n",
    "import torch\n",
    "\n",
    "# My scripts\n",
    "from Src.scripts.data.tabular_dataset_handler import TabularDatasetHandler\n",
    "from Src.scripts.data.graph_dataset_handler import HeterogeneousGraphDatasetHandler\n",
    "from Src.scripts.approaches.collaborative_filters.GNN_based_CF import GNN_Based_CollaborativeFilter\n",
    "from Src.scripts.approaches.models.GNN_regression_model import GCNEncoder, GraphSAGEEncoder, GATEncoder\n",
    "from Src.scripts.approaches.filters.hybrid_filtering import HybridFiltering\n",
    "\n",
    "# Remove warnings\n",
    "import warnings; warnings.simplefilter('ignore')"
   ],
   "metadata": {
    "collapsed": false,
    "ExecuteTime": {
     "end_time": "2024-01-14T18:43:22.885648400Z",
     "start_time": "2024-01-14T18:43:17.315384900Z"
    }
   }
  },
  {
   "cell_type": "code",
   "execution_count": 2,
   "outputs": [
    {
     "name": "stdout",
     "output_type": "stream",
     "text": [
      "CUDA is available.\n",
      "Number of GPUs available: 1\n",
      "GPU 0: NVIDIA GeForce GTX 970, Compute Capability: 5.2\n",
      "Currently selected GPU number: 0\n"
     ]
    }
   ],
   "source": [
    "# Check if CUDA is available:\n",
    "if torch.cuda.is_available():\n",
    "    print(\"CUDA is available.\")\n",
    "    \n",
    "    # Get the number of available GPUs:\n",
    "    num_gpus = torch.cuda.device_count()\n",
    "    print(f\"Number of GPUs available: {num_gpus}\")\n",
    "    \n",
    "    # Get information about each GPU:\n",
    "    for i in range(torch.cuda.device_count()):\n",
    "        gpu = torch.cuda.get_device_properties(i)\n",
    "        print(f\"GPU {i}: {gpu.name}, Compute Capability: {gpu.major}.{gpu.minor}\")\n",
    "    \n",
    "    # Get the currently selected GPU:\n",
    "    current_gpu = torch.cuda.current_device()\n",
    "    print(f\"Currently selected GPU number: {current_gpu}\")\n",
    "else:\n",
    "    print(\"CUDA is not available.\")"
   ],
   "metadata": {
    "collapsed": false,
    "ExecuteTime": {
     "end_time": "2024-01-14T18:43:22.939545900Z",
     "start_time": "2024-01-14T18:43:22.888640600Z"
    }
   }
  },
  {
   "cell_type": "markdown",
   "source": [
    "# Tabular dataset preparation"
   ],
   "metadata": {
    "collapsed": false
   }
  },
  {
   "cell_type": "markdown",
   "source": [
    "## Data loading"
   ],
   "metadata": {
    "collapsed": false
   }
  },
  {
   "cell_type": "code",
   "execution_count": 3,
   "outputs": [
    {
     "data": {
      "text/plain": "(45466, 24)"
     },
     "execution_count": 3,
     "metadata": {},
     "output_type": "execute_result"
    }
   ],
   "source": [
    "tdh = TabularDatasetHandler()\n",
    "tdh.get_movies_df_deepcopy().shape"
   ],
   "metadata": {
    "collapsed": false,
    "ExecuteTime": {
     "end_time": "2024-01-14T18:43:24.608041400Z",
     "start_time": "2024-01-14T18:43:22.917563800Z"
    }
   }
  },
  {
   "cell_type": "code",
   "execution_count": 4,
   "outputs": [
    {
     "data": {
      "text/plain": "   adult                              belongs_to_collection    budget  \\\n0  False  {'id': 10194, 'name': 'Toy Story Collection', ...  30000000   \n1  False                                                NaN  65000000   \n2  False  {'id': 119050, 'name': 'Grumpy Old Men Collect...         0   \n3  False                                                NaN  16000000   \n4  False  {'id': 96871, 'name': 'Father of the Bride Col...         0   \n\n                                              genres  \\\n0  [{'id': 16, 'name': 'Animation'}, {'id': 35, '...   \n1  [{'id': 12, 'name': 'Adventure'}, {'id': 14, '...   \n2  [{'id': 10749, 'name': 'Romance'}, {'id': 35, ...   \n3  [{'id': 35, 'name': 'Comedy'}, {'id': 18, 'nam...   \n4                     [{'id': 35, 'name': 'Comedy'}]   \n\n                               homepage     id    imdb_id original_language  \\\n0  http://toystory.disney.com/toy-story    862  tt0114709                en   \n1                                   NaN   8844  tt0113497                en   \n2                                   NaN  15602  tt0113228                en   \n3                                   NaN  31357  tt0114885                en   \n4                                   NaN  11862  tt0113041                en   \n\n                original_title  \\\n0                    Toy Story   \n1                      Jumanji   \n2             Grumpier Old Men   \n3            Waiting to Exhale   \n4  Father of the Bride Part II   \n\n                                            overview  ... release_date  \\\n0  Led by Woody, Andy's toys live happily in his ...  ...   1995-10-30   \n1  When siblings Judy and Peter discover an encha...  ...   1995-12-15   \n2  A family wedding reignites the ancient feud be...  ...   1995-12-22   \n3  Cheated on, mistreated and stepped on, the wom...  ...   1995-12-22   \n4  Just when George Banks has recovered from his ...  ...   1995-02-10   \n\n       revenue runtime                                   spoken_languages  \\\n0  373554033.0    81.0           [{'iso_639_1': 'en', 'name': 'English'}]   \n1  262797249.0   104.0  [{'iso_639_1': 'en', 'name': 'English'}, {'iso...   \n2          0.0   101.0           [{'iso_639_1': 'en', 'name': 'English'}]   \n3   81452156.0   127.0           [{'iso_639_1': 'en', 'name': 'English'}]   \n4   76578911.0   106.0           [{'iso_639_1': 'en', 'name': 'English'}]   \n\n     status                                            tagline  \\\n0  Released                                                NaN   \n1  Released          Roll the dice and unleash the excitement!   \n2  Released  Still Yelling. Still Fighting. Still Ready for...   \n3  Released  Friends are the people who let you be yourself...   \n4  Released  Just When His World Is Back To Normal... He's ...   \n\n                         title  video vote_average vote_count  \n0                    Toy Story  False          7.7     5415.0  \n1                      Jumanji  False          6.9     2413.0  \n2             Grumpier Old Men  False          6.5       92.0  \n3            Waiting to Exhale  False          6.1       34.0  \n4  Father of the Bride Part II  False          5.7      173.0  \n\n[5 rows x 24 columns]",
      "text/html": "<div>\n<style scoped>\n    .dataframe tbody tr th:only-of-type {\n        vertical-align: middle;\n    }\n\n    .dataframe tbody tr th {\n        vertical-align: top;\n    }\n\n    .dataframe thead th {\n        text-align: right;\n    }\n</style>\n<table border=\"1\" class=\"dataframe\">\n  <thead>\n    <tr style=\"text-align: right;\">\n      <th></th>\n      <th>adult</th>\n      <th>belongs_to_collection</th>\n      <th>budget</th>\n      <th>genres</th>\n      <th>homepage</th>\n      <th>id</th>\n      <th>imdb_id</th>\n      <th>original_language</th>\n      <th>original_title</th>\n      <th>overview</th>\n      <th>...</th>\n      <th>release_date</th>\n      <th>revenue</th>\n      <th>runtime</th>\n      <th>spoken_languages</th>\n      <th>status</th>\n      <th>tagline</th>\n      <th>title</th>\n      <th>video</th>\n      <th>vote_average</th>\n      <th>vote_count</th>\n    </tr>\n  </thead>\n  <tbody>\n    <tr>\n      <th>0</th>\n      <td>False</td>\n      <td>{'id': 10194, 'name': 'Toy Story Collection', ...</td>\n      <td>30000000</td>\n      <td>[{'id': 16, 'name': 'Animation'}, {'id': 35, '...</td>\n      <td>http://toystory.disney.com/toy-story</td>\n      <td>862</td>\n      <td>tt0114709</td>\n      <td>en</td>\n      <td>Toy Story</td>\n      <td>Led by Woody, Andy's toys live happily in his ...</td>\n      <td>...</td>\n      <td>1995-10-30</td>\n      <td>373554033.0</td>\n      <td>81.0</td>\n      <td>[{'iso_639_1': 'en', 'name': 'English'}]</td>\n      <td>Released</td>\n      <td>NaN</td>\n      <td>Toy Story</td>\n      <td>False</td>\n      <td>7.7</td>\n      <td>5415.0</td>\n    </tr>\n    <tr>\n      <th>1</th>\n      <td>False</td>\n      <td>NaN</td>\n      <td>65000000</td>\n      <td>[{'id': 12, 'name': 'Adventure'}, {'id': 14, '...</td>\n      <td>NaN</td>\n      <td>8844</td>\n      <td>tt0113497</td>\n      <td>en</td>\n      <td>Jumanji</td>\n      <td>When siblings Judy and Peter discover an encha...</td>\n      <td>...</td>\n      <td>1995-12-15</td>\n      <td>262797249.0</td>\n      <td>104.0</td>\n      <td>[{'iso_639_1': 'en', 'name': 'English'}, {'iso...</td>\n      <td>Released</td>\n      <td>Roll the dice and unleash the excitement!</td>\n      <td>Jumanji</td>\n      <td>False</td>\n      <td>6.9</td>\n      <td>2413.0</td>\n    </tr>\n    <tr>\n      <th>2</th>\n      <td>False</td>\n      <td>{'id': 119050, 'name': 'Grumpy Old Men Collect...</td>\n      <td>0</td>\n      <td>[{'id': 10749, 'name': 'Romance'}, {'id': 35, ...</td>\n      <td>NaN</td>\n      <td>15602</td>\n      <td>tt0113228</td>\n      <td>en</td>\n      <td>Grumpier Old Men</td>\n      <td>A family wedding reignites the ancient feud be...</td>\n      <td>...</td>\n      <td>1995-12-22</td>\n      <td>0.0</td>\n      <td>101.0</td>\n      <td>[{'iso_639_1': 'en', 'name': 'English'}]</td>\n      <td>Released</td>\n      <td>Still Yelling. Still Fighting. Still Ready for...</td>\n      <td>Grumpier Old Men</td>\n      <td>False</td>\n      <td>6.5</td>\n      <td>92.0</td>\n    </tr>\n    <tr>\n      <th>3</th>\n      <td>False</td>\n      <td>NaN</td>\n      <td>16000000</td>\n      <td>[{'id': 35, 'name': 'Comedy'}, {'id': 18, 'nam...</td>\n      <td>NaN</td>\n      <td>31357</td>\n      <td>tt0114885</td>\n      <td>en</td>\n      <td>Waiting to Exhale</td>\n      <td>Cheated on, mistreated and stepped on, the wom...</td>\n      <td>...</td>\n      <td>1995-12-22</td>\n      <td>81452156.0</td>\n      <td>127.0</td>\n      <td>[{'iso_639_1': 'en', 'name': 'English'}]</td>\n      <td>Released</td>\n      <td>Friends are the people who let you be yourself...</td>\n      <td>Waiting to Exhale</td>\n      <td>False</td>\n      <td>6.1</td>\n      <td>34.0</td>\n    </tr>\n    <tr>\n      <th>4</th>\n      <td>False</td>\n      <td>{'id': 96871, 'name': 'Father of the Bride Col...</td>\n      <td>0</td>\n      <td>[{'id': 35, 'name': 'Comedy'}]</td>\n      <td>NaN</td>\n      <td>11862</td>\n      <td>tt0113041</td>\n      <td>en</td>\n      <td>Father of the Bride Part II</td>\n      <td>Just when George Banks has recovered from his ...</td>\n      <td>...</td>\n      <td>1995-02-10</td>\n      <td>76578911.0</td>\n      <td>106.0</td>\n      <td>[{'iso_639_1': 'en', 'name': 'English'}]</td>\n      <td>Released</td>\n      <td>Just When His World Is Back To Normal... He's ...</td>\n      <td>Father of the Bride Part II</td>\n      <td>False</td>\n      <td>5.7</td>\n      <td>173.0</td>\n    </tr>\n  </tbody>\n</table>\n<p>5 rows × 24 columns</p>\n</div>"
     },
     "execution_count": 4,
     "metadata": {},
     "output_type": "execute_result"
    }
   ],
   "source": [
    "tdh.get_movies_df_deepcopy().head()"
   ],
   "metadata": {
    "collapsed": false,
    "ExecuteTime": {
     "end_time": "2024-01-14T18:43:24.647930Z",
     "start_time": "2024-01-14T18:43:24.605045500Z"
    }
   }
  },
  {
   "cell_type": "code",
   "execution_count": 5,
   "outputs": [
    {
     "data": {
      "text/plain": "adult                     object\nbelongs_to_collection     object\nbudget                    object\ngenres                    object\nhomepage                  object\nid                        object\nimdb_id                   object\noriginal_language         object\noriginal_title            object\noverview                  object\npopularity                object\nposter_path               object\nproduction_companies      object\nproduction_countries      object\nrelease_date              object\nrevenue                  float64\nruntime                  float64\nspoken_languages          object\nstatus                    object\ntagline                   object\ntitle                     object\nvideo                     object\nvote_average             float64\nvote_count               float64\ndtype: object"
     },
     "execution_count": 5,
     "metadata": {},
     "output_type": "execute_result"
    }
   ],
   "source": [
    "tdh.get_movies_df_deepcopy().dtypes"
   ],
   "metadata": {
    "collapsed": false,
    "ExecuteTime": {
     "end_time": "2024-01-14T18:43:24.686830300Z",
     "start_time": "2024-01-14T18:43:24.635967300Z"
    }
   }
  },
  {
   "cell_type": "markdown",
   "source": [
    "## Data preprocessing"
   ],
   "metadata": {
    "collapsed": false
   }
  },
  {
   "cell_type": "code",
   "execution_count": 6,
   "outputs": [
    {
     "data": {
      "text/plain": "(45463, 25)"
     },
     "execution_count": 6,
     "metadata": {},
     "output_type": "execute_result"
    }
   ],
   "source": [
    "tdh.preprocess_datasets()\n",
    "tdh.get_movies_df_deepcopy().shape"
   ],
   "metadata": {
    "collapsed": false,
    "ExecuteTime": {
     "end_time": "2024-01-14T18:43:27.682839600Z",
     "start_time": "2024-01-14T18:43:24.667884500Z"
    }
   }
  },
  {
   "cell_type": "code",
   "execution_count": 7,
   "outputs": [
    {
     "data": {
      "text/plain": "   adult           belongs_to_collection    budget  \\\n0  False            Toy Story Collection  30000000   \n1  False                            None  65000000   \n2  False       Grumpy Old Men Collection         0   \n3  False                            None  16000000   \n4  False  Father of the Bride Collection         0   \n\n                         genres                              homepage     id  \\\n0   [Animation, Comedy, Family]  http://toystory.disney.com/toy-story    862   \n1  [Adventure, Fantasy, Family]                                   NaN   8844   \n2             [Romance, Comedy]                                   NaN  15602   \n3      [Comedy, Drama, Romance]                                   NaN  31357   \n4                      [Comedy]                                   NaN  11862   \n\n     imdb_id original_language               original_title  \\\n0  tt0114709                en                    Toy Story   \n1  tt0113497                en                      Jumanji   \n2  tt0113228                en             Grumpier Old Men   \n3  tt0114885                en            Waiting to Exhale   \n4  tt0113041                en  Father of the Bride Part II   \n\n                                            overview  ...      revenue  \\\n0  Led by Woody, Andy's toys live happily in his ...  ...  373554033.0   \n1  When siblings Judy and Peter discover an encha...  ...  262797249.0   \n2  A family wedding reignites the ancient feud be...  ...          0.0   \n3  Cheated on, mistreated and stepped on, the wom...  ...   81452156.0   \n4  Just when George Banks has recovered from his ...  ...   76578911.0   \n\n  runtime                                   spoken_languages    status  \\\n0    81.0           [{'iso_639_1': 'en', 'name': 'English'}]  Released   \n1   104.0  [{'iso_639_1': 'en', 'name': 'English'}, {'iso...  Released   \n2   101.0           [{'iso_639_1': 'en', 'name': 'English'}]  Released   \n3   127.0           [{'iso_639_1': 'en', 'name': 'English'}]  Released   \n4   106.0           [{'iso_639_1': 'en', 'name': 'English'}]  Released   \n\n                                             tagline  \\\n0                                                NaN   \n1          Roll the dice and unleash the excitement!   \n2  Still Yelling. Still Fighting. Still Ready for...   \n3  Friends are the people who let you be yourself...   \n4  Just When His World Is Back To Normal... He's ...   \n\n                         title  video vote_average vote_count  year  \n0                    Toy Story  False          7.7     5415.0  1995  \n1                      Jumanji  False          6.9     2413.0  1995  \n2             Grumpier Old Men  False          6.5       92.0  1995  \n3            Waiting to Exhale  False          6.1       34.0  1995  \n4  Father of the Bride Part II  False          5.7      173.0  1995  \n\n[5 rows x 25 columns]",
      "text/html": "<div>\n<style scoped>\n    .dataframe tbody tr th:only-of-type {\n        vertical-align: middle;\n    }\n\n    .dataframe tbody tr th {\n        vertical-align: top;\n    }\n\n    .dataframe thead th {\n        text-align: right;\n    }\n</style>\n<table border=\"1\" class=\"dataframe\">\n  <thead>\n    <tr style=\"text-align: right;\">\n      <th></th>\n      <th>adult</th>\n      <th>belongs_to_collection</th>\n      <th>budget</th>\n      <th>genres</th>\n      <th>homepage</th>\n      <th>id</th>\n      <th>imdb_id</th>\n      <th>original_language</th>\n      <th>original_title</th>\n      <th>overview</th>\n      <th>...</th>\n      <th>revenue</th>\n      <th>runtime</th>\n      <th>spoken_languages</th>\n      <th>status</th>\n      <th>tagline</th>\n      <th>title</th>\n      <th>video</th>\n      <th>vote_average</th>\n      <th>vote_count</th>\n      <th>year</th>\n    </tr>\n  </thead>\n  <tbody>\n    <tr>\n      <th>0</th>\n      <td>False</td>\n      <td>Toy Story Collection</td>\n      <td>30000000</td>\n      <td>[Animation, Comedy, Family]</td>\n      <td>http://toystory.disney.com/toy-story</td>\n      <td>862</td>\n      <td>tt0114709</td>\n      <td>en</td>\n      <td>Toy Story</td>\n      <td>Led by Woody, Andy's toys live happily in his ...</td>\n      <td>...</td>\n      <td>373554033.0</td>\n      <td>81.0</td>\n      <td>[{'iso_639_1': 'en', 'name': 'English'}]</td>\n      <td>Released</td>\n      <td>NaN</td>\n      <td>Toy Story</td>\n      <td>False</td>\n      <td>7.7</td>\n      <td>5415.0</td>\n      <td>1995</td>\n    </tr>\n    <tr>\n      <th>1</th>\n      <td>False</td>\n      <td>None</td>\n      <td>65000000</td>\n      <td>[Adventure, Fantasy, Family]</td>\n      <td>NaN</td>\n      <td>8844</td>\n      <td>tt0113497</td>\n      <td>en</td>\n      <td>Jumanji</td>\n      <td>When siblings Judy and Peter discover an encha...</td>\n      <td>...</td>\n      <td>262797249.0</td>\n      <td>104.0</td>\n      <td>[{'iso_639_1': 'en', 'name': 'English'}, {'iso...</td>\n      <td>Released</td>\n      <td>Roll the dice and unleash the excitement!</td>\n      <td>Jumanji</td>\n      <td>False</td>\n      <td>6.9</td>\n      <td>2413.0</td>\n      <td>1995</td>\n    </tr>\n    <tr>\n      <th>2</th>\n      <td>False</td>\n      <td>Grumpy Old Men Collection</td>\n      <td>0</td>\n      <td>[Romance, Comedy]</td>\n      <td>NaN</td>\n      <td>15602</td>\n      <td>tt0113228</td>\n      <td>en</td>\n      <td>Grumpier Old Men</td>\n      <td>A family wedding reignites the ancient feud be...</td>\n      <td>...</td>\n      <td>0.0</td>\n      <td>101.0</td>\n      <td>[{'iso_639_1': 'en', 'name': 'English'}]</td>\n      <td>Released</td>\n      <td>Still Yelling. Still Fighting. Still Ready for...</td>\n      <td>Grumpier Old Men</td>\n      <td>False</td>\n      <td>6.5</td>\n      <td>92.0</td>\n      <td>1995</td>\n    </tr>\n    <tr>\n      <th>3</th>\n      <td>False</td>\n      <td>None</td>\n      <td>16000000</td>\n      <td>[Comedy, Drama, Romance]</td>\n      <td>NaN</td>\n      <td>31357</td>\n      <td>tt0114885</td>\n      <td>en</td>\n      <td>Waiting to Exhale</td>\n      <td>Cheated on, mistreated and stepped on, the wom...</td>\n      <td>...</td>\n      <td>81452156.0</td>\n      <td>127.0</td>\n      <td>[{'iso_639_1': 'en', 'name': 'English'}]</td>\n      <td>Released</td>\n      <td>Friends are the people who let you be yourself...</td>\n      <td>Waiting to Exhale</td>\n      <td>False</td>\n      <td>6.1</td>\n      <td>34.0</td>\n      <td>1995</td>\n    </tr>\n    <tr>\n      <th>4</th>\n      <td>False</td>\n      <td>Father of the Bride Collection</td>\n      <td>0</td>\n      <td>[Comedy]</td>\n      <td>NaN</td>\n      <td>11862</td>\n      <td>tt0113041</td>\n      <td>en</td>\n      <td>Father of the Bride Part II</td>\n      <td>Just when George Banks has recovered from his ...</td>\n      <td>...</td>\n      <td>76578911.0</td>\n      <td>106.0</td>\n      <td>[{'iso_639_1': 'en', 'name': 'English'}]</td>\n      <td>Released</td>\n      <td>Just When His World Is Back To Normal... He's ...</td>\n      <td>Father of the Bride Part II</td>\n      <td>False</td>\n      <td>5.7</td>\n      <td>173.0</td>\n      <td>1995</td>\n    </tr>\n  </tbody>\n</table>\n<p>5 rows × 25 columns</p>\n</div>"
     },
     "execution_count": 7,
     "metadata": {},
     "output_type": "execute_result"
    }
   ],
   "source": [
    "tdh.get_movies_df_deepcopy().head()"
   ],
   "metadata": {
    "collapsed": false,
    "ExecuteTime": {
     "end_time": "2024-01-14T18:43:27.750626Z",
     "start_time": "2024-01-14T18:43:27.683802600Z"
    }
   }
  },
  {
   "cell_type": "code",
   "execution_count": 8,
   "outputs": [
    {
     "data": {
      "text/plain": "adult                     object\nbelongs_to_collection     object\nbudget                    object\ngenres                    object\nhomepage                  object\nid                         int32\nimdb_id                   object\noriginal_language         object\noriginal_title            object\noverview                  object\npopularity                object\nposter_path               object\nproduction_companies      object\nproduction_countries      object\nrelease_date              object\nrevenue                  float64\nruntime                  float64\nspoken_languages          object\nstatus                    object\ntagline                   object\ntitle                     object\nvideo                     object\nvote_average             float64\nvote_count               float64\nyear                      object\ndtype: object"
     },
     "execution_count": 8,
     "metadata": {},
     "output_type": "execute_result"
    }
   ],
   "source": [
    "tdh.get_movies_df_deepcopy().dtypes"
   ],
   "metadata": {
    "collapsed": false,
    "ExecuteTime": {
     "end_time": "2024-01-14T18:43:27.853348300Z",
     "start_time": "2024-01-14T18:43:27.746636600Z"
    }
   }
  },
  {
   "cell_type": "markdown",
   "source": [
    "# Collaborative filtering: GNN-based"
   ],
   "metadata": {
    "collapsed": false
   }
  },
  {
   "cell_type": "markdown",
   "source": [
    "## Create a new user to suggest movies to"
   ],
   "metadata": {
    "collapsed": false
   }
  },
  {
   "cell_type": "code",
   "execution_count": 9,
   "outputs": [
    {
     "name": "stdout",
     "output_type": "stream",
     "text": [
      "Most rated movies:\n",
      "                                                    title\n",
      "id                                                       \n",
      "19404                         Dilwale Dulhania Le Jayenge\n",
      "27205                                           Inception\n",
      "155                                       The Dark Knight\n",
      "157336                                       Interstellar\n",
      "550                                            Fight Club\n",
      "120     The Lord of the Rings: The Fellowship of the Ring\n",
      "680                                          Pulp Fiction\n",
      "278                              The Shawshank Redemption\n",
      "122         The Lord of the Rings: The Return of the King\n",
      "13                                           Forrest Gump\n",
      "121                 The Lord of the Rings: The Two Towers\n",
      "11                                              Star Wars\n",
      "105                                    Back to the Future\n",
      "238                                         The Godfather\n",
      "1891                              The Empire Strikes Back\n"
     ]
    }
   ],
   "source": [
    "from Src.scripts.approaches.filters.popularity_rankings import PopularityRanking\n",
    "\n",
    "users_ratings_df = tdh.get_users_ratings_df_deepcopy()\n",
    "movies_df = tdh.get_small_movies_df_deepcopy()\n",
    "\n",
    "# Create a new user\n",
    "new_user_id = users_ratings_df['userId'].max() + 1\n",
    "\n",
    "# Popularity Ranking in this case is one good possible solution to solve the cold-start problem\n",
    "print('Most rated movies:')\n",
    "most_rated_movies = PopularityRanking.top_movies_IMDB_wr_formula(tdh, 15)\n",
    "most_rated_movies = most_rated_movies[['id', 'title']].set_index('id')\n",
    "print(most_rated_movies)\n",
    "\n",
    "# Initialize the movies ratings list\n",
    "ratings = []"
   ],
   "metadata": {
    "collapsed": false,
    "ExecuteTime": {
     "end_time": "2024-01-14T18:43:27.949091800Z",
     "start_time": "2024-01-14T18:43:27.794506500Z"
    }
   }
  },
  {
   "cell_type": "code",
   "execution_count": 10,
   "outputs": [
    {
     "data": {
      "text/plain": "[{'movieId': 19404, 'rating': 1.5, 'userId': 672},\n {'movieId': 27205, 'rating': 2, 'userId': 672},\n {'movieId': 155, 'rating': 3.5, 'userId': 672},\n {'movieId': 157336, 'rating': 3, 'userId': 672},\n {'movieId': 550, 'rating': 3, 'userId': 672},\n {'movieId': 120, 'rating': 5, 'userId': 672},\n {'movieId': 680, 'rating': 2, 'userId': 672},\n {'movieId': 278, 'rating': 1.5, 'userId': 672},\n {'movieId': 122, 'rating': 5, 'userId': 672},\n {'movieId': 13, 'rating': 5, 'userId': 672},\n {'movieId': 121, 'rating': 5, 'userId': 672},\n {'movieId': 11, 'rating': 2.5, 'userId': 672},\n {'movieId': 105, 'rating': 3.5, 'userId': 672},\n {'movieId': 238, 'rating': 3.5, 'userId': 672},\n {'movieId': 1891, 'rating': 2.5, 'userId': 672}]"
     },
     "execution_count": 10,
     "metadata": {},
     "output_type": "execute_result"
    }
   ],
   "source": [
    "# Set the new_user's ratings for the 'most_rated_movies', to avoid the cold-start problem\n",
    "ratings.append({'movieId': 19404, 'rating': 1.5, 'userId': new_user_id})\n",
    "ratings.append({'movieId': 27205, 'rating': 2, 'userId': new_user_id})\n",
    "ratings.append({'movieId': 155, 'rating': 3.5, 'userId': new_user_id})\n",
    "ratings.append({'movieId': 157336, 'rating': 3, 'userId': new_user_id})\n",
    "ratings.append({'movieId': 550, 'rating': 3, 'userId': new_user_id})\n",
    "ratings.append({'movieId': 120, 'rating': 5, 'userId': new_user_id})\n",
    "ratings.append({'movieId': 680, 'rating': 2, 'userId': new_user_id})\n",
    "ratings.append({'movieId': 278, 'rating': 1.5, 'userId': new_user_id})\n",
    "ratings.append({'movieId': 122, 'rating': 5, 'userId': new_user_id})\n",
    "ratings.append({'movieId': 13, 'rating': 5, 'userId': new_user_id})\n",
    "ratings.append({'movieId': 121, 'rating': 5, 'userId': new_user_id})\n",
    "ratings.append({'movieId': 11, 'rating': 2.5, 'userId': new_user_id})\n",
    "ratings.append({'movieId': 105, 'rating': 3.5, 'userId': new_user_id})\n",
    "ratings.append({'movieId': 238, 'rating': 3.5, 'userId': new_user_id})\n",
    "ratings.append({'movieId': 1891, 'rating': 2.5, 'userId': new_user_id})\n",
    "ratings"
   ],
   "metadata": {
    "collapsed": false,
    "ExecuteTime": {
     "end_time": "2024-01-14T18:43:27.973030800Z",
     "start_time": "2024-01-14T18:43:27.955081300Z"
    }
   }
  },
  {
   "cell_type": "markdown",
   "source": [
    "## Graph dataset construction"
   ],
   "metadata": {
    "collapsed": false
   }
  },
  {
   "cell_type": "code",
   "execution_count": 11,
   "outputs": [],
   "source": [
    "# Define a graph dataset\n",
    "gdh = HeterogeneousGraphDatasetHandler(preprocessed_tdh=tdh)"
   ],
   "metadata": {
    "collapsed": false,
    "ExecuteTime": {
     "end_time": "2024-01-14T18:43:27.998962600Z",
     "start_time": "2024-01-14T18:43:27.964052200Z"
    }
   }
  },
  {
   "cell_type": "code",
   "execution_count": 12,
   "outputs": [
    {
     "name": "stdout",
     "output_type": "stream",
     "text": [
      "Number of rating records before updating 100004\n",
      "Number of rating records after updating 100019\n"
     ]
    }
   ],
   "source": [
    "# Add the new user and its ratings to the graph dataset\n",
    "updated_users_ratings_df = gdh.users_ratings_df\n",
    "print(\"Number of rating records before updating\", len(gdh.users_ratings_df))\n",
    "gdh.add_users_ratings_data(pd.DataFrame.from_records(ratings))\n",
    "print(\"Number of rating records after updating\", len(gdh.users_ratings_df))"
   ],
   "metadata": {
    "collapsed": false,
    "ExecuteTime": {
     "end_time": "2024-01-14T18:43:28.040845500Z",
     "start_time": "2024-01-14T18:43:27.981005800Z"
    }
   }
  },
  {
   "cell_type": "code",
   "execution_count": 13,
   "outputs": [],
   "source": [
    "# Build the graph dataset\n",
    "gdh.build_graph_dataset()\n",
    "dataset = gdh.get_graph_dataset()"
   ],
   "metadata": {
    "collapsed": false,
    "ExecuteTime": {
     "end_time": "2024-01-14T18:43:43.634097300Z",
     "start_time": "2024-01-14T18:43:27.996964900Z"
    }
   }
  },
  {
   "cell_type": "code",
   "execution_count": 14,
   "outputs": [
    {
     "data": {
      "text/plain": "HeteroData(\n  user={\n    node_id=[672],\n    x=[672, 672],\n  },\n  movie={\n    node_id=[9099],\n    x=[9099, 404],\n  },\n  (user, rating, movie)={\n    edge_index=[2, 100019],\n    edge_label=[100019],\n    y=[100019],\n  },\n  (movie, rev_rating, user)={\n    edge_index=[2, 100019],\n    y=[100019],\n  }\n)"
     },
     "execution_count": 14,
     "metadata": {},
     "output_type": "execute_result"
    }
   ],
   "source": [
    "dataset"
   ],
   "metadata": {
    "collapsed": false,
    "ExecuteTime": {
     "end_time": "2024-01-14T18:43:43.652050Z",
     "start_time": "2024-01-14T18:43:43.638087300Z"
    }
   }
  },
  {
   "cell_type": "code",
   "execution_count": 15,
   "outputs": [
    {
     "name": "stdout",
     "output_type": "stream",
     "text": [
      "Dataset size:  (9771, 9771)\n",
      "\n",
      "Dataset type:  <class 'torch_geometric.data.hetero_data.HeteroData'>\n",
      "\n",
      "Dataset metadata:  (['user', 'movie'], [('user', 'rating', 'movie'), ('movie', 'rev_rating', 'user')])\n",
      "\n",
      "Dataset to dict:  {'_global_store': {}, 'user': {'node_id': tensor([  0,   1,   2,   3,   4,   5,   6,   7,   8,   9,  10,  11,  12,  13,\n",
      "         14,  15,  16,  17,  18,  19,  20,  21,  22,  23,  24,  25,  26,  27,\n",
      "         28,  29,  30,  31,  32,  33,  34,  35,  36,  37,  38,  39,  40,  41,\n",
      "         42,  43,  44,  45,  46,  47,  48,  49,  50,  51,  52,  53,  54,  55,\n",
      "         56,  57,  58,  59,  60,  61,  62,  63,  64,  65,  66,  67,  68,  69,\n",
      "         70,  71,  72,  73,  74,  75,  76,  77,  78,  79,  80,  81,  82,  83,\n",
      "         84,  85,  86,  87,  88,  89,  90,  91,  92,  93,  94,  95,  96,  97,\n",
      "         98,  99, 100, 101, 102, 103, 104, 105, 106, 107, 108, 109, 110, 111,\n",
      "        112, 113, 114, 115, 116, 117, 118, 119, 120, 121, 122, 123, 124, 125,\n",
      "        126, 127, 128, 129, 130, 131, 132, 133, 134, 135, 136, 137, 138, 139,\n",
      "        140, 141, 142, 143, 144, 145, 146, 147, 148, 149, 150, 151, 152, 153,\n",
      "        154, 155, 156, 157, 158, 159, 160, 161, 162, 163, 164, 165, 166, 167,\n",
      "        168, 169, 170, 171, 172, 173, 174, 175, 176, 177, 178, 179, 180, 181,\n",
      "        182, 183, 184, 185, 186, 187, 188, 189, 190, 191, 192, 193, 194, 195,\n",
      "        196, 197, 198, 199, 200, 201, 202, 203, 204, 205, 206, 207, 208, 209,\n",
      "        210, 211, 212, 213, 214, 215, 216, 217, 218, 219, 220, 221, 222, 223,\n",
      "        224, 225, 226, 227, 228, 229, 230, 231, 232, 233, 234, 235, 236, 237,\n",
      "        238, 239, 240, 241, 242, 243, 244, 245, 246, 247, 248, 249, 250, 251,\n",
      "        252, 253, 254, 255, 256, 257, 258, 259, 260, 261, 262, 263, 264, 265,\n",
      "        266, 267, 268, 269, 270, 271, 272, 273, 274, 275, 276, 277, 278, 279,\n",
      "        280, 281, 282, 283, 284, 285, 286, 287, 288, 289, 290, 291, 292, 293,\n",
      "        294, 295, 296, 297, 298, 299, 300, 301, 302, 303, 304, 305, 306, 307,\n",
      "        308, 309, 310, 311, 312, 313, 314, 315, 316, 317, 318, 319, 320, 321,\n",
      "        322, 323, 324, 325, 326, 327, 328, 329, 330, 331, 332, 333, 334, 335,\n",
      "        336, 337, 338, 339, 340, 341, 342, 343, 344, 345, 346, 347, 348, 349,\n",
      "        350, 351, 352, 353, 354, 355, 356, 357, 358, 359, 360, 361, 362, 363,\n",
      "        364, 365, 366, 367, 368, 369, 370, 371, 372, 373, 374, 375, 376, 377,\n",
      "        378, 379, 380, 381, 382, 383, 384, 385, 386, 387, 388, 389, 390, 391,\n",
      "        392, 393, 394, 395, 396, 397, 398, 399, 400, 401, 402, 403, 404, 405,\n",
      "        406, 407, 408, 409, 410, 411, 412, 413, 414, 415, 416, 417, 418, 419,\n",
      "        420, 421, 422, 423, 424, 425, 426, 427, 428, 429, 430, 431, 432, 433,\n",
      "        434, 435, 436, 437, 438, 439, 440, 441, 442, 443, 444, 445, 446, 447,\n",
      "        448, 449, 450, 451, 452, 453, 454, 455, 456, 457, 458, 459, 460, 461,\n",
      "        462, 463, 464, 465, 466, 467, 468, 469, 470, 471, 472, 473, 474, 475,\n",
      "        476, 477, 478, 479, 480, 481, 482, 483, 484, 485, 486, 487, 488, 489,\n",
      "        490, 491, 492, 493, 494, 495, 496, 497, 498, 499, 500, 501, 502, 503,\n",
      "        504, 505, 506, 507, 508, 509, 510, 511, 512, 513, 514, 515, 516, 517,\n",
      "        518, 519, 520, 521, 522, 523, 524, 525, 526, 527, 528, 529, 530, 531,\n",
      "        532, 533, 534, 535, 536, 537, 538, 539, 540, 541, 542, 543, 544, 545,\n",
      "        546, 547, 548, 549, 550, 551, 552, 553, 554, 555, 556, 557, 558, 559,\n",
      "        560, 561, 562, 563, 564, 565, 566, 567, 568, 569, 570, 571, 572, 573,\n",
      "        574, 575, 576, 577, 578, 579, 580, 581, 582, 583, 584, 585, 586, 587,\n",
      "        588, 589, 590, 591, 592, 593, 594, 595, 596, 597, 598, 599, 600, 601,\n",
      "        602, 603, 604, 605, 606, 607, 608, 609, 610, 611, 612, 613, 614, 615,\n",
      "        616, 617, 618, 619, 620, 621, 622, 623, 624, 625, 626, 627, 628, 629,\n",
      "        630, 631, 632, 633, 634, 635, 636, 637, 638, 639, 640, 641, 642, 643,\n",
      "        644, 645, 646, 647, 648, 649, 650, 651, 652, 653, 654, 655, 656, 657,\n",
      "        658, 659, 660, 661, 662, 663, 664, 665, 666, 667, 668, 669, 670, 671]), 'x': tensor([[1., 0., 0.,  ..., 0., 0., 0.],\n",
      "        [0., 1., 0.,  ..., 0., 0., 0.],\n",
      "        [0., 0., 1.,  ..., 0., 0., 0.],\n",
      "        ...,\n",
      "        [0., 0., 0.,  ..., 1., 0., 0.],\n",
      "        [0., 0., 0.,  ..., 0., 1., 0.],\n",
      "        [0., 0., 0.,  ..., 0., 0., 1.]])}, 'movie': {'node_id': tensor([   0,    1,    2,  ..., 9096, 9097, 9098]), 'x': tensor([[-0.0244,  0.0460,  0.0574,  ...,  0.0000,  0.0000,  0.0000],\n",
      "        [-0.0388,  0.1252, -0.0227,  ...,  0.0000,  0.0000,  0.0000],\n",
      "        [-0.0384,  0.0172, -0.0009,  ...,  0.0000,  0.0000,  0.0000],\n",
      "        ...,\n",
      "        [-0.1094,  0.0621, -0.0420,  ...,  0.0000,  0.0000,  0.0000],\n",
      "        [-0.0528,  0.0033,  0.0223,  ...,  0.0000,  0.0000,  0.0000],\n",
      "        [ 0.0095,  0.0498, -0.0061,  ...,  0.0000,  0.0000,  0.0000]])}, ('user', 'rating', 'movie'): {'edge_index': tensor([[   0,    6,   30,  ...,  671,  671,  671],\n",
      "        [   0,    0,    0,  ..., 9067, 9068, 9069]]), 'edge_label': tensor([2.5000, 3.0000, 3.0000,  ..., 3.5000, 3.5000, 2.5000]), 'y': tensor([2.5000, 3.0000, 3.0000,  ..., 3.5000, 3.5000, 2.5000])}, ('movie', 'rev_rating', 'user'): {'edge_index': tensor([[   0,    0,    0,  ..., 9067, 9068, 9069],\n",
      "        [   0,    6,   30,  ...,  671,  671,  671]]), 'y': tensor([2.5000, 3.0000, 3.0000,  ..., 3.5000, 3.5000, 2.5000])}}\n"
     ]
    }
   ],
   "source": [
    "# Print dataset information\n",
    "print(\"Dataset size: \", dataset.size())\n",
    "print(\"\\nDataset type: \", type(dataset))\n",
    "print(\"\\nDataset metadata: \", dataset.metadata())\n",
    "print(\"\\nDataset to dict: \", dataset.to_dict())"
   ],
   "metadata": {
    "collapsed": false,
    "ExecuteTime": {
     "end_time": "2024-01-14T18:43:43.686956Z",
     "start_time": "2024-01-14T18:43:43.654044600Z"
    }
   }
  },
  {
   "cell_type": "code",
   "execution_count": 16,
   "outputs": [
    {
     "data": {
      "text/plain": "<Figure size 640x480 with 1 Axes>",
      "image/png": "[encoded data removed]"
     },
     "metadata": {},
     "output_type": "display_data"
    }
   ],
   "source": [
    "# Visualize a sampled (sub)graph dataset (for better visualization reasons)\n",
    "gdh.plot_graph_dataset(node_sample_ratio=0.03, with_labels=False)"
   ],
   "metadata": {
    "collapsed": false,
    "ExecuteTime": {
     "end_time": "2024-01-14T18:43:45.527028600Z",
     "start_time": "2024-01-14T18:43:43.667009300Z"
    }
   }
  },
  {
   "cell_type": "code",
   "execution_count": 17,
   "outputs": [],
   "source": [
    "# Save the dataset locally on disk\n",
    "#gdh.save_graph_dataset()"
   ],
   "metadata": {
    "collapsed": false,
    "ExecuteTime": {
     "end_time": "2024-01-14T18:43:45.598884400Z",
     "start_time": "2024-01-14T18:43:45.527028600Z"
    }
   }
  },
  {
   "cell_type": "code",
   "execution_count": 18,
   "outputs": [],
   "source": [
    "# Load the dataset from disk\n",
    "#dataset = gdh.load_graph_dataset()\n",
    "#dataset"
   ],
   "metadata": {
    "collapsed": false,
    "ExecuteTime": {
     "end_time": "2024-01-14T18:43:45.599834100Z",
     "start_time": "2024-01-14T18:43:45.542985700Z"
    }
   }
  },
  {
   "cell_type": "markdown",
   "source": [
    "## GNN models training and evaluation"
   ],
   "metadata": {
    "collapsed": false
   }
  },
  {
   "cell_type": "markdown",
   "source": [
    "### GCN"
   ],
   "metadata": {
    "collapsed": false
   }
  },
  {
   "cell_type": "code",
   "execution_count": 19,
   "outputs": [],
   "source": [
    "GCN_movie_suggestor = GNN_Based_CollaborativeFilter(\n",
    "    graph_dataset_handler=gdh,\n",
    "    gnn_encoder=GCNEncoder(hidden_channels=64, out_channels=64)\n",
    ")"
   ],
   "metadata": {
    "collapsed": false,
    "ExecuteTime": {
     "end_time": "2024-01-14T18:43:45.626760800Z",
     "start_time": "2024-01-14T18:43:45.559941Z"
    }
   }
  },
  {
   "cell_type": "code",
   "execution_count": 20,
   "outputs": [
    {
     "name": "stdout",
     "output_type": "stream",
     "text": [
      "Device: 'cuda\n",
      "'\n",
      "Epoch: 001, Train loss: 10.9432, Train RMSE: 1.7981, Train MAE: 1.4545, Val RMSE: 1.8176, Val MAE: 1.4741\n",
      "Epoch: 002, Train loss: 4282.3594, Train RMSE: 1.7958, Train MAE: 1.4536, Val RMSE: 1.8160, Val MAE: 1.4730\n",
      "Epoch: 003, Train loss: 357.6802, Train RMSE: 3.6982, Train MAE: 3.5438, Val RMSE: 3.6580, Val MAE: 3.4960\n",
      "Epoch: 004, Train loss: 293.5372, Train RMSE: 3.6989, Train MAE: 3.5445, Val RMSE: 3.6851, Val MAE: 3.5281\n",
      "Epoch: 005, Train loss: 772.8289, Train RMSE: 3.6988, Train MAE: 3.5444, Val RMSE: 3.6806, Val MAE: 3.5233\n",
      "Epoch: 006, Train loss: 585.7818, Train RMSE: 3.6850, Train MAE: 3.5286, Val RMSE: 3.6078, Val MAE: 3.4227\n",
      "Epoch: 007, Train loss: 203.4606, Train RMSE: 3.3660, Train MAE: 3.1410, Val RMSE: 3.3101, Val MAE: 3.0706\n",
      "Epoch: 008, Train loss: 13.2271, Train RMSE: 1.7571, Train MAE: 1.4198, Val RMSE: 1.7723, Val MAE: 1.4336\n",
      "Epoch: 009, Train loss: 51.0769, Train RMSE: 1.7652, Train MAE: 1.4264, Val RMSE: 1.7810, Val MAE: 1.4423\n",
      "Epoch: 010, Train loss: 69.8997, Train RMSE: 1.7403, Train MAE: 1.4040, Val RMSE: 1.7525, Val MAE: 1.4133\n",
      "Epoch: 011, Train loss: 23.0166, Train RMSE: 2.3331, Train MAE: 2.0434, Val RMSE: 2.3193, Val MAE: 2.0261\n",
      "Epoch: 012, Train loss: 5.5530, Train RMSE: 3.5776, Train MAE: 3.3908, Val RMSE: 3.5156, Val MAE: 3.3044\n",
      "Epoch: 013, Train loss: 28.6434, Train RMSE: 3.5286, Train MAE: 3.3302, Val RMSE: 3.4676, Val MAE: 3.2472\n",
      "Epoch: 014, Train loss: 24.5440, Train RMSE: 2.1402, Train MAE: 1.8358, Val RMSE: 2.1356, Val MAE: 1.8297\n",
      "Epoch: 015, Train loss: 4.6469, Train RMSE: 1.7164, Train MAE: 1.3826, Val RMSE: 1.7270, Val MAE: 1.3889\n",
      "Epoch: 016, Train loss: 11.4868, Train RMSE: 1.7407, Train MAE: 1.4034, Val RMSE: 1.7545, Val MAE: 1.4154\n",
      "Epoch: 017, Train loss: 23.3124, Train RMSE: 1.7152, Train MAE: 1.3819, Val RMSE: 1.7267, Val MAE: 1.3897\n",
      "Epoch: 018, Train loss: 11.4089, Train RMSE: 2.0746, Train MAE: 1.7417, Val RMSE: 2.0776, Val MAE: 1.7468\n",
      "Epoch: 019, Train loss: 4.3645, Train RMSE: 3.2588, Train MAE: 3.0266, Val RMSE: 3.2000, Val MAE: 2.9454\n",
      "Epoch: 020, Train loss: 15.4360, Train RMSE: 3.1817, Train MAE: 2.9387, Val RMSE: 3.1270, Val MAE: 2.8641\n",
      "Epoch: 021, Train loss: 12.7388, Train RMSE: 1.9165, Train MAE: 1.5971, Val RMSE: 1.9153, Val MAE: 1.5962\n",
      "Epoch: 022, Train loss: 3.7323, Train RMSE: 1.7009, Train MAE: 1.3704, Val RMSE: 1.7088, Val MAE: 1.3761\n",
      "Epoch: 023, Train loss: 6.9971, Train RMSE: 1.7143, Train MAE: 1.3803, Val RMSE: 1.7257, Val MAE: 1.3865\n",
      "Epoch: 024, Train loss: 11.4534, Train RMSE: 1.6949, Train MAE: 1.3659, Val RMSE: 1.7012, Val MAE: 1.3699\n",
      "Epoch: 025, Train loss: 5.8974, Train RMSE: 1.9130, Train MAE: 1.5930, Val RMSE: 1.9129, Val MAE: 1.5936\n",
      "Epoch: 026, Train loss: 3.6980, Train RMSE: 2.8444, Train MAE: 2.5404, Val RMSE: 2.8110, Val MAE: 2.4949\n",
      "Epoch: 027, Train loss: 8.4814, Train RMSE: 2.7093, Train MAE: 2.4116, Val RMSE: 2.6801, Val MAE: 2.3742\n",
      "Epoch: 028, Train loss: 7.4170, Train RMSE: 1.7962, Train MAE: 1.4711, Val RMSE: 1.7908, Val MAE: 1.4629\n",
      "Epoch: 029, Train loss: 3.2634, Train RMSE: 1.6963, Train MAE: 1.3669, Val RMSE: 1.6960, Val MAE: 1.3662\n",
      "Epoch: 030, Train loss: 5.4847, Train RMSE: 1.6995, Train MAE: 1.3678, Val RMSE: 1.7014, Val MAE: 1.3667\n",
      "Epoch: 031, Train loss: 7.2811, Train RMSE: 1.7008, Train MAE: 1.3740, Val RMSE: 1.6961, Val MAE: 1.3668\n",
      "Epoch: 032, Train loss: 4.0347, Train RMSE: 1.9486, Train MAE: 1.6295, Val RMSE: 1.9449, Val MAE: 1.6297\n",
      "Epoch: 033, Train loss: 3.7986, Train RMSE: 2.4742, Train MAE: 2.1821, Val RMSE: 2.4576, Val MAE: 2.1663\n",
      "Epoch: 034, Train loss: 6.1311, Train RMSE: 2.1452, Train MAE: 1.8366, Val RMSE: 2.1387, Val MAE: 1.8335\n",
      "Epoch: 035, Train loss: 4.6020, Train RMSE: 1.7095, Train MAE: 1.3844, Val RMSE: 1.7037, Val MAE: 1.3764\n",
      "Epoch: 036, Train loss: 3.1806, Train RMSE: 1.6922, Train MAE: 1.3635, Val RMSE: 1.6894, Val MAE: 1.3577\n",
      "Epoch: 037, Train loss: 4.9488, Train RMSE: 1.6893, Train MAE: 1.3608, Val RMSE: 1.6873, Val MAE: 1.3556\n",
      "Epoch: 038, Train loss: 4.7199, Train RMSE: 1.7087, Train MAE: 1.3850, Val RMSE: 1.7098, Val MAE: 1.3868\n",
      "Epoch: 039, Train loss: 3.1069, Train RMSE: 2.0162, Train MAE: 1.7037, Val RMSE: 2.0247, Val MAE: 1.7178\n",
      "Epoch: 040, Train loss: 4.0683, Train RMSE: 2.1324, Train MAE: 1.8277, Val RMSE: 2.1398, Val MAE: 1.8398\n",
      "Epoch: 041, Train loss: 4.5479, Train RMSE: 1.7900, Train MAE: 1.4671, Val RMSE: 1.8019, Val MAE: 1.4809\n",
      "Epoch: 042, Train loss: 3.2419, Train RMSE: 1.6870, Train MAE: 1.3625, Val RMSE: 1.6904, Val MAE: 1.3660\n",
      "Epoch: 043, Train loss: 3.5496, Train RMSE: 1.6836, Train MAE: 1.3558, Val RMSE: 1.6852, Val MAE: 1.3567\n",
      "Epoch: 044, Train loss: 4.2199, Train RMSE: 1.6883, Train MAE: 1.3638, Val RMSE: 1.6880, Val MAE: 1.3631\n",
      "Epoch: 045, Train loss: 3.3015, Train RMSE: 1.8009, Train MAE: 1.4790, Val RMSE: 1.8063, Val MAE: 1.4877\n",
      "Epoch: 046, Train loss: 3.2677, Train RMSE: 1.9733, Train MAE: 1.6573, Val RMSE: 1.9756, Val MAE: 1.6644\n",
      "Epoch: 047, Train loss: 3.8963, Train RMSE: 1.8136, Train MAE: 1.4920, Val RMSE: 1.8176, Val MAE: 1.4991\n",
      "Epoch: 048, Train loss: 3.3025, Train RMSE: 1.6915, Train MAE: 1.3681, Val RMSE: 1.6901, Val MAE: 1.3664\n",
      "Epoch: 049, Train loss: 3.1148, Train RMSE: 1.6815, Train MAE: 1.3564, Val RMSE: 1.6802, Val MAE: 1.3525\n",
      "Epoch: 050, Train loss: 3.6341, Train RMSE: 1.6848, Train MAE: 1.3617, Val RMSE: 1.6841, Val MAE: 1.3594\n",
      "Epoch: 051, Train loss: 3.2628, Train RMSE: 1.7390, Train MAE: 1.4160, Val RMSE: 1.7408, Val MAE: 1.4181\n",
      "Epoch: 052, Train loss: 3.0552, Train RMSE: 1.8564, Train MAE: 1.5371, Val RMSE: 1.8567, Val MAE: 1.5408\n",
      "Epoch: 053, Train loss: 3.4478, Train RMSE: 1.7857, Train MAE: 1.4637, Val RMSE: 1.7868, Val MAE: 1.4665\n",
      "Epoch: 054, Train loss: 3.1968, Train RMSE: 1.6921, Train MAE: 1.3694, Val RMSE: 1.6898, Val MAE: 1.3647\n",
      "Epoch: 055, Train loss: 3.0146, Train RMSE: 1.6792, Train MAE: 1.3550, Val RMSE: 1.6764, Val MAE: 1.3483\n",
      "Epoch: 056, Train loss: 3.3101, Train RMSE: 1.6806, Train MAE: 1.3575, Val RMSE: 1.6777, Val MAE: 1.3514\n",
      "Epoch: 057, Train loss: 3.1228, Train RMSE: 1.7171, Train MAE: 1.3945, Val RMSE: 1.7178, Val MAE: 1.3944\n",
      "Epoch: 058, Train loss: 2.9871, Train RMSE: 1.7885, Train MAE: 1.4677, Val RMSE: 1.7901, Val MAE: 1.4714\n",
      "Epoch: 059, Train loss: 3.2051, Train RMSE: 1.7421, Train MAE: 1.4202, Val RMSE: 1.7441, Val MAE: 1.4229\n",
      "Epoch: 060, Train loss: 3.0536, Train RMSE: 1.6808, Train MAE: 1.3588, Val RMSE: 1.6802, Val MAE: 1.3563\n",
      "Epoch: 061, Train loss: 2.9715, Train RMSE: 1.6717, Train MAE: 1.3492, Val RMSE: 1.6701, Val MAE: 1.3446\n",
      "Epoch: 062, Train loss: 3.1302, Train RMSE: 1.6745, Train MAE: 1.3525, Val RMSE: 1.6733, Val MAE: 1.3485\n",
      "Epoch: 063, Train loss: 2.9953, Train RMSE: 1.7098, Train MAE: 1.3876, Val RMSE: 1.7117, Val MAE: 1.3888\n",
      "Epoch: 064, Train loss: 2.9600, Train RMSE: 1.7478, Train MAE: 1.4265, Val RMSE: 1.7502, Val MAE: 1.4307\n",
      "Epoch: 065, Train loss: 3.0671, Train RMSE: 1.7070, Train MAE: 1.3847, Val RMSE: 1.7088, Val MAE: 1.3859\n",
      "Epoch: 066, Train loss: 2.9477, Train RMSE: 1.6729, Train MAE: 1.3510, Val RMSE: 1.6722, Val MAE: 1.3475\n",
      "Epoch: 067, Train loss: 2.9492, Train RMSE: 1.6681, Train MAE: 1.3461, Val RMSE: 1.6670, Val MAE: 1.3417\n",
      "Epoch: 068, Train loss: 3.0095, Train RMSE: 1.6752, Train MAE: 1.3534, Val RMSE: 1.6759, Val MAE: 1.3519\n",
      "Epoch: 069, Train loss: 2.9097, Train RMSE: 1.7076, Train MAE: 1.3856, Val RMSE: 1.7098, Val MAE: 1.3877\n",
      "Epoch: 070, Train loss: 2.9391, Train RMSE: 1.7157, Train MAE: 1.3940, Val RMSE: 1.7180, Val MAE: 1.3967\n",
      "Epoch: 071, Train loss: 2.9595, Train RMSE: 1.6823, Train MAE: 1.3602, Val RMSE: 1.6838, Val MAE: 1.3600\n",
      "Epoch: 072, Train loss: 2.8854, Train RMSE: 1.6671, Train MAE: 1.3454, Val RMSE: 1.6667, Val MAE: 1.3421\n",
      "Epoch: 073, Train loss: 2.9269, Train RMSE: 1.6669, Train MAE: 1.3452, Val RMSE: 1.6666, Val MAE: 1.3420\n",
      "Epoch: 074, Train loss: 2.9157, Train RMSE: 1.6800, Train MAE: 1.3582, Val RMSE: 1.6817, Val MAE: 1.3581\n",
      "Epoch: 075, Train loss: 2.8718, Train RMSE: 1.7004, Train MAE: 1.3785, Val RMSE: 1.7029, Val MAE: 1.3809\n",
      "Epoch: 076, Train loss: 2.9097, Train RMSE: 1.6879, Train MAE: 1.3660, Val RMSE: 1.6903, Val MAE: 1.3678\n",
      "Epoch: 077, Train loss: 2.8785, Train RMSE: 1.6665, Train MAE: 1.3451, Val RMSE: 1.6680, Val MAE: 1.3444\n",
      "Epoch: 078, Train loss: 2.8638, Train RMSE: 1.6608, Train MAE: 1.3396, Val RMSE: 1.6615, Val MAE: 1.3374\n",
      "Epoch: 079, Train loss: 2.8869, Train RMSE: 1.6653, Train MAE: 1.3440, Val RMSE: 1.6672, Val MAE: 1.3438\n",
      "Epoch: 080, Train loss: 2.8513, Train RMSE: 1.6812, Train MAE: 1.3598, Val RMSE: 1.6841, Val MAE: 1.3618\n",
      "Epoch: 081, Train loss: 2.8573, Train RMSE: 1.6837, Train MAE: 1.3623, Val RMSE: 1.6867, Val MAE: 1.3646\n",
      "Epoch: 082, Train loss: 2.8605, Train RMSE: 1.6667, Train MAE: 1.3455, Val RMSE: 1.6691, Val MAE: 1.3460\n",
      "Epoch: 083, Train loss: 2.8339, Train RMSE: 1.6574, Train MAE: 1.3363, Val RMSE: 1.6587, Val MAE: 1.3349\n",
      "Epoch: 084, Train loss: 2.8474, Train RMSE: 1.6575, Train MAE: 1.3365, Val RMSE: 1.6593, Val MAE: 1.3358\n",
      "Epoch: 085, Train loss: 2.8342, Train RMSE: 1.6670, Train MAE: 1.3460, Val RMSE: 1.6698, Val MAE: 1.3473\n",
      "Epoch: 086, Train loss: 2.8228, Train RMSE: 1.6739, Train MAE: 1.3530, Val RMSE: 1.6769, Val MAE: 1.3548\n",
      "Epoch: 087, Train loss: 2.8314, Train RMSE: 1.6635, Train MAE: 1.3427, Val RMSE: 1.6662, Val MAE: 1.3437\n",
      "Epoch: 088, Train loss: 2.8129, Train RMSE: 1.6534, Train MAE: 1.3326, Val RMSE: 1.6554, Val MAE: 1.3320\n",
      "Epoch: 089, Train loss: 2.8139, Train RMSE: 1.6520, Train MAE: 1.3311, Val RMSE: 1.6538, Val MAE: 1.3303\n",
      "Epoch: 090, Train loss: 2.8115, Train RMSE: 1.6577, Train MAE: 1.3371, Val RMSE: 1.6602, Val MAE: 1.3375\n",
      "Epoch: 091, Train loss: 2.7981, Train RMSE: 1.6644, Train MAE: 1.3438, Val RMSE: 1.6671, Val MAE: 1.3449\n",
      "Epoch: 092, Train loss: 2.8025, Train RMSE: 1.6587, Train MAE: 1.3383, Val RMSE: 1.6613, Val MAE: 1.3390\n",
      "Epoch: 093, Train loss: 2.7918, Train RMSE: 1.6494, Train MAE: 1.3289, Val RMSE: 1.6516, Val MAE: 1.3287\n",
      "Epoch: 094, Train loss: 2.7873, Train RMSE: 1.6465, Train MAE: 1.3260, Val RMSE: 1.6486, Val MAE: 1.3254\n",
      "Epoch: 095, Train loss: 2.7868, Train RMSE: 1.6500, Train MAE: 1.3298, Val RMSE: 1.6525, Val MAE: 1.3301\n",
      "Epoch: 096, Train loss: 2.7758, Train RMSE: 1.6554, Train MAE: 1.3353, Val RMSE: 1.6582, Val MAE: 1.3362\n",
      "Epoch: 097, Train loss: 2.7761, Train RMSE: 1.6524, Train MAE: 1.3323, Val RMSE: 1.6551, Val MAE: 1.3330\n",
      "Epoch: 098, Train loss: 2.7693, Train RMSE: 1.6450, Train MAE: 1.3248, Val RMSE: 1.6474, Val MAE: 1.3248\n",
      "Epoch: 099, Train loss: 2.7636, Train RMSE: 1.6419, Train MAE: 1.3218, Val RMSE: 1.6443, Val MAE: 1.3214\n",
      "Epoch: 100, Train loss: 2.7623, Train RMSE: 1.6440, Train MAE: 1.3240, Val RMSE: 1.6466, Val MAE: 1.3243\n",
      "Epoch: 101, Train loss: 2.7538, Train RMSE: 1.6477, Train MAE: 1.3280, Val RMSE: 1.6506, Val MAE: 1.3288\n",
      "Epoch: 102, Train loss: 2.7520, Train RMSE: 1.6454, Train MAE: 1.3258, Val RMSE: 1.6483, Val MAE: 1.3265\n",
      "Epoch: 103, Train loss: 2.7466, Train RMSE: 1.6395, Train MAE: 1.3198, Val RMSE: 1.6421, Val MAE: 1.3200\n",
      "Epoch: 104, Train loss: 2.7411, Train RMSE: 1.6369, Train MAE: 1.3171, Val RMSE: 1.6394, Val MAE: 1.3170\n",
      "Epoch: 105, Train loss: 2.7387, Train RMSE: 1.6384, Train MAE: 1.3188, Val RMSE: 1.6411, Val MAE: 1.3191\n",
      "Epoch: 106, Train loss: 2.7319, Train RMSE: 1.6409, Train MAE: 1.3215, Val RMSE: 1.6438, Val MAE: 1.3222\n",
      "Epoch: 107, Train loss: 2.7291, Train RMSE: 1.6387, Train MAE: 1.3193, Val RMSE: 1.6416, Val MAE: 1.3200\n",
      "Epoch: 108, Train loss: 2.7240, Train RMSE: 1.6338, Train MAE: 1.3144, Val RMSE: 1.6366, Val MAE: 1.3145\n",
      "Epoch: 109, Train loss: 2.7191, Train RMSE: 1.6315, Train MAE: 1.3121, Val RMSE: 1.6342, Val MAE: 1.3121\n",
      "Epoch: 110, Train loss: 2.7158, Train RMSE: 1.6325, Train MAE: 1.3133, Val RMSE: 1.6354, Val MAE: 1.3137\n",
      "Epoch: 111, Train loss: 2.7100, Train RMSE: 1.6340, Train MAE: 1.3150, Val RMSE: 1.6370, Val MAE: 1.3156\n",
      "Epoch: 112, Train loss: 2.7068, Train RMSE: 1.6318, Train MAE: 1.3127, Val RMSE: 1.6348, Val MAE: 1.3132\n",
      "Epoch: 113, Train loss: 2.7017, Train RMSE: 1.6279, Train MAE: 1.3086, Val RMSE: 1.6308, Val MAE: 1.3088\n",
      "Epoch: 114, Train loss: 2.6974, Train RMSE: 1.6262, Train MAE: 1.3070, Val RMSE: 1.6291, Val MAE: 1.3071\n",
      "Epoch: 115, Train loss: 2.6934, Train RMSE: 1.6269, Train MAE: 1.3080, Val RMSE: 1.6300, Val MAE: 1.3084\n",
      "Epoch: 116, Train loss: 2.6883, Train RMSE: 1.6274, Train MAE: 1.3086, Val RMSE: 1.6306, Val MAE: 1.3092\n",
      "Epoch: 117, Train loss: 2.6847, Train RMSE: 1.6248, Train MAE: 1.3061, Val RMSE: 1.6280, Val MAE: 1.3066\n",
      "Epoch: 118, Train loss: 2.6797, Train RMSE: 1.6217, Train MAE: 1.3028, Val RMSE: 1.6249, Val MAE: 1.3030\n",
      "Epoch: 119, Train loss: 2.6756, Train RMSE: 1.6206, Train MAE: 1.3017, Val RMSE: 1.6238, Val MAE: 1.3019\n",
      "Epoch: 120, Train loss: 2.6712, Train RMSE: 1.6212, Train MAE: 1.3026, Val RMSE: 1.6246, Val MAE: 1.3030\n",
      "Epoch: 121, Train loss: 2.6666, Train RMSE: 1.6208, Train MAE: 1.3023, Val RMSE: 1.6243, Val MAE: 1.3028\n",
      "Epoch: 122, Train loss: 2.6625, Train RMSE: 1.6182, Train MAE: 1.2997, Val RMSE: 1.6217, Val MAE: 1.3001\n",
      "Epoch: 123, Train loss: 2.6577, Train RMSE: 1.6157, Train MAE: 1.2971, Val RMSE: 1.6192, Val MAE: 1.2975\n",
      "Epoch: 124, Train loss: 2.6536, Train RMSE: 1.6150, Train MAE: 1.2965, Val RMSE: 1.6185, Val MAE: 1.2970\n",
      "Epoch: 125, Train loss: 2.6489, Train RMSE: 1.6152, Train MAE: 1.2969, Val RMSE: 1.6188, Val MAE: 1.2975\n",
      "Epoch: 126, Train loss: 2.6446, Train RMSE: 1.6141, Train MAE: 1.2959, Val RMSE: 1.6177, Val MAE: 1.2965\n",
      "Epoch: 127, Train loss: 2.6401, Train RMSE: 1.6116, Train MAE: 1.2933, Val RMSE: 1.6153, Val MAE: 1.2939\n",
      "Epoch: 128, Train loss: 2.6355, Train RMSE: 1.6098, Train MAE: 1.2915, Val RMSE: 1.6136, Val MAE: 1.2921\n",
      "Epoch: 129, Train loss: 2.6312, Train RMSE: 1.6093, Train MAE: 1.2912, Val RMSE: 1.6131, Val MAE: 1.2919\n",
      "Epoch: 130, Train loss: 2.6265, Train RMSE: 1.6089, Train MAE: 1.2910, Val RMSE: 1.6128, Val MAE: 1.2918\n",
      "Epoch: 131, Train loss: 2.6221, Train RMSE: 1.6072, Train MAE: 1.2893, Val RMSE: 1.6111, Val MAE: 1.2901\n",
      "Epoch: 132, Train loss: 2.6175, Train RMSE: 1.6050, Train MAE: 1.2870, Val RMSE: 1.6090, Val MAE: 1.2879\n",
      "Epoch: 133, Train loss: 2.6130, Train RMSE: 1.6037, Train MAE: 1.2858, Val RMSE: 1.6078, Val MAE: 1.2867\n",
      "Epoch: 134, Train loss: 2.6084, Train RMSE: 1.6032, Train MAE: 1.2856, Val RMSE: 1.6074, Val MAE: 1.2866\n",
      "Epoch: 135, Train loss: 2.6038, Train RMSE: 1.6023, Train MAE: 1.2848, Val RMSE: 1.6065, Val MAE: 1.2858\n",
      "Epoch: 136, Train loss: 2.5994, Train RMSE: 1.6003, Train MAE: 1.2828, Val RMSE: 1.6046, Val MAE: 1.2839\n",
      "Epoch: 137, Train loss: 2.5948, Train RMSE: 1.5985, Train MAE: 1.2810, Val RMSE: 1.6029, Val MAE: 1.2821\n",
      "Epoch: 138, Train loss: 2.5903, Train RMSE: 1.5976, Train MAE: 1.2803, Val RMSE: 1.6021, Val MAE: 1.2814\n",
      "Epoch: 139, Train loss: 2.5858, Train RMSE: 1.5969, Train MAE: 1.2798, Val RMSE: 1.6014, Val MAE: 1.2810\n",
      "Epoch: 140, Train loss: 2.5814, Train RMSE: 1.5955, Train MAE: 1.2785, Val RMSE: 1.6001, Val MAE: 1.2797\n",
      "Epoch: 141, Train loss: 2.5769, Train RMSE: 1.5937, Train MAE: 1.2766, Val RMSE: 1.5984, Val MAE: 1.2779\n",
      "Epoch: 142, Train loss: 2.5725, Train RMSE: 1.5924, Train MAE: 1.2754, Val RMSE: 1.5972, Val MAE: 1.2768\n",
      "Epoch: 143, Train loss: 2.5682, Train RMSE: 1.5916, Train MAE: 1.2748, Val RMSE: 1.5965, Val MAE: 1.2763\n",
      "Epoch: 144, Train loss: 2.5638, Train RMSE: 1.5906, Train MAE: 1.2740, Val RMSE: 1.5955, Val MAE: 1.2755\n",
      "Epoch: 145, Train loss: 2.5595, Train RMSE: 1.5890, Train MAE: 1.2723, Val RMSE: 1.5939, Val MAE: 1.2739\n",
      "Epoch: 146, Train loss: 2.5551, Train RMSE: 1.5874, Train MAE: 1.2708, Val RMSE: 1.5924, Val MAE: 1.2725\n",
      "Epoch: 147, Train loss: 2.5508, Train RMSE: 1.5864, Train MAE: 1.2700, Val RMSE: 1.5915, Val MAE: 1.2717\n",
      "Epoch: 148, Train loss: 2.5465, Train RMSE: 1.5856, Train MAE: 1.2693, Val RMSE: 1.5907, Val MAE: 1.2711\n",
      "Epoch: 149, Train loss: 2.5422, Train RMSE: 1.5842, Train MAE: 1.2679, Val RMSE: 1.5894, Val MAE: 1.2699\n",
      "Epoch: 150, Train loss: 2.5379, Train RMSE: 1.5826, Train MAE: 1.2663, Val RMSE: 1.5879, Val MAE: 1.2684\n",
      "Epoch: 151, Train loss: 2.5336, Train RMSE: 1.5813, Train MAE: 1.2653, Val RMSE: 1.5868, Val MAE: 1.2674\n",
      "Epoch: 152, Train loss: 2.5294, Train RMSE: 1.5804, Train MAE: 1.2646, Val RMSE: 1.5859, Val MAE: 1.2668\n",
      "Epoch: 153, Train loss: 2.5251, Train RMSE: 1.5792, Train MAE: 1.2635, Val RMSE: 1.5849, Val MAE: 1.2658\n",
      "Epoch: 154, Train loss: 2.5209, Train RMSE: 1.5777, Train MAE: 1.2621, Val RMSE: 1.5835, Val MAE: 1.2645\n",
      "Epoch: 155, Train loss: 2.5167, Train RMSE: 1.5764, Train MAE: 1.2608, Val RMSE: 1.5823, Val MAE: 1.2633\n",
      "Epoch: 156, Train loss: 2.5125, Train RMSE: 1.5753, Train MAE: 1.2600, Val RMSE: 1.5814, Val MAE: 1.2626\n",
      "Epoch: 157, Train loss: 2.5084, Train RMSE: 1.5743, Train MAE: 1.2592, Val RMSE: 1.5804, Val MAE: 1.2618\n",
      "Epoch: 158, Train loss: 2.5044, Train RMSE: 1.5729, Train MAE: 1.2579, Val RMSE: 1.5791, Val MAE: 1.2606\n",
      "Epoch: 159, Train loss: 2.5003, Train RMSE: 1.5716, Train MAE: 1.2566, Val RMSE: 1.5779, Val MAE: 1.2594\n",
      "Epoch: 160, Train loss: 2.4963, Train RMSE: 1.5705, Train MAE: 1.2557, Val RMSE: 1.5769, Val MAE: 1.2585\n",
      "Epoch: 161, Train loss: 2.4923, Train RMSE: 1.5695, Train MAE: 1.2549, Val RMSE: 1.5760, Val MAE: 1.2578\n",
      "Epoch: 162, Train loss: 2.4883, Train RMSE: 1.5682, Train MAE: 1.2537, Val RMSE: 1.5749, Val MAE: 1.2567\n",
      "Epoch: 163, Train loss: 2.4843, Train RMSE: 1.5669, Train MAE: 1.2525, Val RMSE: 1.5736, Val MAE: 1.2554\n",
      "Epoch: 164, Train loss: 2.4804, Train RMSE: 1.5657, Train MAE: 1.2515, Val RMSE: 1.5725, Val MAE: 1.2544\n",
      "Epoch: 165, Train loss: 2.4764, Train RMSE: 1.5647, Train MAE: 1.2506, Val RMSE: 1.5715, Val MAE: 1.2536\n",
      "Epoch: 166, Train loss: 2.4725, Train RMSE: 1.5635, Train MAE: 1.2496, Val RMSE: 1.5703, Val MAE: 1.2525\n",
      "Epoch: 167, Train loss: 2.4686, Train RMSE: 1.5622, Train MAE: 1.2483, Val RMSE: 1.5691, Val MAE: 1.2513\n",
      "Epoch: 168, Train loss: 2.4647, Train RMSE: 1.5610, Train MAE: 1.2472, Val RMSE: 1.5679, Val MAE: 1.2502\n",
      "Epoch: 169, Train loss: 2.4609, Train RMSE: 1.5600, Train MAE: 1.2463, Val RMSE: 1.5669, Val MAE: 1.2493\n",
      "Epoch: 170, Train loss: 2.4570, Train RMSE: 1.5588, Train MAE: 1.2453, Val RMSE: 1.5657, Val MAE: 1.2483\n",
      "Epoch: 171, Train loss: 2.4532, Train RMSE: 1.5576, Train MAE: 1.2441, Val RMSE: 1.5644, Val MAE: 1.2470\n",
      "Epoch: 172, Train loss: 2.4494, Train RMSE: 1.5564, Train MAE: 1.2430, Val RMSE: 1.5632, Val MAE: 1.2459\n",
      "Epoch: 173, Train loss: 2.4456, Train RMSE: 1.5553, Train MAE: 1.2421, Val RMSE: 1.5621, Val MAE: 1.2449\n",
      "Epoch: 174, Train loss: 2.4418, Train RMSE: 1.5542, Train MAE: 1.2411, Val RMSE: 1.5609, Val MAE: 1.2439\n",
      "Epoch: 175, Train loss: 2.4381, Train RMSE: 1.5530, Train MAE: 1.2400, Val RMSE: 1.5596, Val MAE: 1.2427\n",
      "Epoch: 176, Train loss: 2.4343, Train RMSE: 1.5514, Train MAE: 1.2386, Val RMSE: 1.5579, Val MAE: 1.2410\n",
      "Epoch: 177, Train loss: 2.4295, Train RMSE: 1.5540, Train MAE: 1.2358, Val RMSE: 1.5619, Val MAE: 1.2366\n",
      "Epoch: 178, Train loss: 2.6628, Train RMSE: 1.7602, Train MAE: 1.4592, Val RMSE: 1.7577, Val MAE: 1.4559\n",
      "Epoch: 179, Train loss: 3.0988, Train RMSE: 1.5599, Train MAE: 1.2443, Val RMSE: 1.5685, Val MAE: 1.2506\n",
      "Epoch: 180, Train loss: 2.4434, Train RMSE: 1.5959, Train MAE: 1.2751, Val RMSE: 1.6025, Val MAE: 1.2748\n",
      "Epoch: 181, Train loss: 2.9489, Train RMSE: 1.5443, Train MAE: 1.2333, Val RMSE: 1.5483, Val MAE: 1.2318\n",
      "Epoch: 182, Train loss: 2.4342, Train RMSE: 1.6889, Train MAE: 1.3944, Val RMSE: 1.6829, Val MAE: 1.3865\n",
      "Epoch: 183, Train loss: 2.8524, Train RMSE: 1.5515, Train MAE: 1.2417, Val RMSE: 1.5559, Val MAE: 1.2428\n",
      "Epoch: 184, Train loss: 2.4182, Train RMSE: 1.5869, Train MAE: 1.2678, Val RMSE: 1.5920, Val MAE: 1.2659\n",
      "Epoch: 185, Train loss: 2.7552, Train RMSE: 1.5477, Train MAE: 1.2312, Val RMSE: 1.5547, Val MAE: 1.2342\n",
      "Epoch: 186, Train loss: 2.4255, Train RMSE: 1.6340, Train MAE: 1.3312, Val RMSE: 1.6343, Val MAE: 1.3310\n",
      "Epoch: 187, Train loss: 2.6704, Train RMSE: 1.5498, Train MAE: 1.2425, Val RMSE: 1.5522, Val MAE: 1.2414\n",
      "Epoch: 188, Train loss: 2.4142, Train RMSE: 1.5511, Train MAE: 1.2315, Val RMSE: 1.5573, Val MAE: 1.2319\n",
      "Epoch: 189, Train loss: 2.6197, Train RMSE: 1.5355, Train MAE: 1.2226, Val RMSE: 1.5404, Val MAE: 1.2222\n",
      "Epoch: 190, Train loss: 2.4007, Train RMSE: 1.6012, Train MAE: 1.2959, Val RMSE: 1.6041, Val MAE: 1.2977\n",
      "Epoch: 191, Train loss: 2.5652, Train RMSE: 1.5465, Train MAE: 1.2352, Val RMSE: 1.5525, Val MAE: 1.2384\n",
      "Epoch: 192, Train loss: 2.3995, Train RMSE: 1.5488, Train MAE: 1.2302, Val RMSE: 1.5548, Val MAE: 1.2304\n",
      "Epoch: 193, Train loss: 2.5213, Train RMSE: 1.5312, Train MAE: 1.2199, Val RMSE: 1.5353, Val MAE: 1.2186\n",
      "Epoch: 194, Train loss: 2.3860, Train RMSE: 1.5783, Train MAE: 1.2756, Val RMSE: 1.5784, Val MAE: 1.2740\n",
      "Epoch: 195, Train loss: 2.4931, Train RMSE: 1.5369, Train MAE: 1.2283, Val RMSE: 1.5407, Val MAE: 1.2285\n",
      "Epoch: 196, Train loss: 2.3739, Train RMSE: 1.5422, Train MAE: 1.2247, Val RMSE: 1.5481, Val MAE: 1.2249\n",
      "Epoch: 197, Train loss: 2.4630, Train RMSE: 1.5312, Train MAE: 1.2174, Val RMSE: 1.5371, Val MAE: 1.2190\n",
      "Epoch: 198, Train loss: 2.3683, Train RMSE: 1.5603, Train MAE: 1.2550, Val RMSE: 1.5632, Val MAE: 1.2553\n",
      "Epoch: 199, Train loss: 2.4375, Train RMSE: 1.5304, Train MAE: 1.2224, Val RMSE: 1.5339, Val MAE: 1.2217\n",
      "Epoch: 200, Train loss: 2.3577, Train RMSE: 1.5289, Train MAE: 1.2143, Val RMSE: 1.5340, Val MAE: 1.2135\n",
      "Epoch: 201, Train loss: 2.4201, Train RMSE: 1.5246, Train MAE: 1.2144, Val RMSE: 1.5293, Val MAE: 1.2143\n",
      "Epoch: 202, Train loss: 2.3480, Train RMSE: 1.5482, Train MAE: 1.2420, Val RMSE: 1.5520, Val MAE: 1.2431\n",
      "Epoch: 203, Train loss: 2.4006, Train RMSE: 1.5259, Train MAE: 1.2154, Val RMSE: 1.5314, Val MAE: 1.2170\n",
      "Epoch: 204, Train loss: 2.3427, Train RMSE: 1.5255, Train MAE: 1.2107, Val RMSE: 1.5311, Val MAE: 1.2107\n",
      "Epoch: 205, Train loss: 2.3832, Train RMSE: 1.5216, Train MAE: 1.2132, Val RMSE: 1.5256, Val MAE: 1.2126\n",
      "Epoch: 206, Train loss: 2.3352, Train RMSE: 1.5374, Train MAE: 1.2328, Val RMSE: 1.5398, Val MAE: 1.2321\n",
      "Epoch: 207, Train loss: 2.3696, Train RMSE: 1.5191, Train MAE: 1.2097, Val RMSE: 1.5240, Val MAE: 1.2099\n",
      "Epoch: 208, Train loss: 2.3281, Train RMSE: 1.5210, Train MAE: 1.2070, Val RMSE: 1.5271, Val MAE: 1.2075\n",
      "Epoch: 209, Train loss: 2.3554, Train RMSE: 1.5201, Train MAE: 1.2111, Val RMSE: 1.5253, Val MAE: 1.2125\n",
      "Epoch: 210, Train loss: 2.3237, Train RMSE: 1.5279, Train MAE: 1.2222, Val RMSE: 1.5315, Val MAE: 1.2226\n",
      "Epoch: 211, Train loss: 2.3414, Train RMSE: 1.5141, Train MAE: 1.2052, Val RMSE: 1.5187, Val MAE: 1.2047\n",
      "Epoch: 212, Train loss: 2.3187, Train RMSE: 1.5135, Train MAE: 1.2026, Val RMSE: 1.5186, Val MAE: 1.2022\n",
      "Epoch: 213, Train loss: 2.3299, Train RMSE: 1.5170, Train MAE: 1.2098, Val RMSE: 1.5214, Val MAE: 1.2104\n",
      "Epoch: 214, Train loss: 2.3131, Train RMSE: 1.5199, Train MAE: 1.2132, Val RMSE: 1.5245, Val MAE: 1.2145\n",
      "Epoch: 215, Train loss: 2.3186, Train RMSE: 1.5113, Train MAE: 1.2009, Val RMSE: 1.5167, Val MAE: 1.2016\n",
      "Epoch: 216, Train loss: 2.3086, Train RMSE: 1.5096, Train MAE: 1.1997, Val RMSE: 1.5145, Val MAE: 1.1997\n",
      "Epoch: 217, Train loss: 2.3075, Train RMSE: 1.5141, Train MAE: 1.2086, Val RMSE: 1.5174, Val MAE: 1.2081\n",
      "Epoch: 218, Train loss: 2.3038, Train RMSE: 1.5120, Train MAE: 1.2060, Val RMSE: 1.5157, Val MAE: 1.2059\n",
      "Epoch: 219, Train loss: 2.2982, Train RMSE: 1.5073, Train MAE: 1.1974, Val RMSE: 1.5124, Val MAE: 1.1977\n",
      "Epoch: 220, Train loss: 2.2980, Train RMSE: 1.5067, Train MAE: 1.1976, Val RMSE: 1.5117, Val MAE: 1.1983\n",
      "Epoch: 221, Train loss: 2.2900, Train RMSE: 1.5107, Train MAE: 1.2049, Val RMSE: 1.5145, Val MAE: 1.2054\n",
      "Epoch: 222, Train loss: 2.2919, Train RMSE: 1.5058, Train MAE: 1.1993, Val RMSE: 1.5096, Val MAE: 1.1992\n",
      "Epoch: 223, Train loss: 2.2823, Train RMSE: 1.5028, Train MAE: 1.1941, Val RMSE: 1.5073, Val MAE: 1.1938\n",
      "Epoch: 224, Train loss: 2.2855, Train RMSE: 1.5030, Train MAE: 1.1960, Val RMSE: 1.5072, Val MAE: 1.1961\n",
      "Epoch: 225, Train loss: 2.2757, Train RMSE: 1.5060, Train MAE: 1.2004, Val RMSE: 1.5101, Val MAE: 1.2011\n",
      "Epoch: 226, Train loss: 2.2783, Train RMSE: 1.5011, Train MAE: 1.1936, Val RMSE: 1.5058, Val MAE: 1.1942\n",
      "Epoch: 227, Train loss: 2.2702, Train RMSE: 1.4993, Train MAE: 1.1911, Val RMSE: 1.5041, Val MAE: 1.1913\n",
      "Epoch: 228, Train loss: 2.2707, Train RMSE: 1.5003, Train MAE: 1.1948, Val RMSE: 1.5041, Val MAE: 1.1948\n",
      "Epoch: 229, Train loss: 2.2648, Train RMSE: 1.5004, Train MAE: 1.1955, Val RMSE: 1.5041, Val MAE: 1.1955\n",
      "Epoch: 230, Train loss: 2.2634, Train RMSE: 1.4967, Train MAE: 1.1894, Val RMSE: 1.5014, Val MAE: 1.1897\n",
      "Epoch: 231, Train loss: 2.2595, Train RMSE: 1.4961, Train MAE: 1.1887, Val RMSE: 1.5009, Val MAE: 1.1893\n",
      "Epoch: 232, Train loss: 2.2563, Train RMSE: 1.4975, Train MAE: 1.1924, Val RMSE: 1.5016, Val MAE: 1.1929\n",
      "Epoch: 233, Train loss: 2.2542, Train RMSE: 1.4952, Train MAE: 1.1899, Val RMSE: 1.4992, Val MAE: 1.1900\n",
      "Epoch: 234, Train loss: 2.2496, Train RMSE: 1.4927, Train MAE: 1.1861, Val RMSE: 1.4971, Val MAE: 1.1861\n",
      "Epoch: 235, Train loss: 2.2485, Train RMSE: 1.4927, Train MAE: 1.1871, Val RMSE: 1.4969, Val MAE: 1.1873\n",
      "Epoch: 236, Train loss: 2.2434, Train RMSE: 1.4936, Train MAE: 1.1889, Val RMSE: 1.4978, Val MAE: 1.1895\n",
      "Epoch: 237, Train loss: 2.2424, Train RMSE: 1.4907, Train MAE: 1.1849, Val RMSE: 1.4953, Val MAE: 1.1854\n",
      "Epoch: 238, Train loss: 2.2379, Train RMSE: 1.4893, Train MAE: 1.1832, Val RMSE: 1.4938, Val MAE: 1.1835\n",
      "Epoch: 239, Train loss: 2.2360, Train RMSE: 1.4897, Train MAE: 1.1854, Val RMSE: 1.4936, Val MAE: 1.1854\n",
      "Epoch: 240, Train loss: 2.2325, Train RMSE: 1.4888, Train MAE: 1.1846, Val RMSE: 1.4928, Val MAE: 1.1848\n",
      "Epoch: 241, Train loss: 2.2297, Train RMSE: 1.4867, Train MAE: 1.1810, Val RMSE: 1.4912, Val MAE: 1.1814\n",
      "Epoch: 242, Train loss: 2.2271, Train RMSE: 1.4861, Train MAE: 1.1809, Val RMSE: 1.4906, Val MAE: 1.1814\n",
      "Epoch: 243, Train loss: 2.2236, Train RMSE: 1.4864, Train MAE: 1.1825, Val RMSE: 1.4904, Val MAE: 1.1829\n",
      "Epoch: 244, Train loss: 2.2215, Train RMSE: 1.4843, Train MAE: 1.1800, Val RMSE: 1.4884, Val MAE: 1.1802\n",
      "Epoch: 245, Train loss: 2.2178, Train RMSE: 1.4829, Train MAE: 1.1780, Val RMSE: 1.4871, Val MAE: 1.1782\n",
      "Epoch: 246, Train loss: 2.2156, Train RMSE: 1.4829, Train MAE: 1.1790, Val RMSE: 1.4869, Val MAE: 1.1793\n",
      "Epoch: 247, Train loss: 2.2122, Train RMSE: 1.4823, Train MAE: 1.1787, Val RMSE: 1.4864, Val MAE: 1.1790\n",
      "Epoch: 248, Train loss: 2.2096, Train RMSE: 1.4803, Train MAE: 1.1759, Val RMSE: 1.4846, Val MAE: 1.1762\n",
      "Epoch: 249, Train loss: 2.2067, Train RMSE: 1.4794, Train MAE: 1.1755, Val RMSE: 1.4833, Val MAE: 1.1755\n",
      "Epoch: 250, Train loss: 2.2035, Train RMSE: 1.4792, Train MAE: 1.1764, Val RMSE: 1.4826, Val MAE: 1.1760\n",
      "Epoch: 251, Train loss: 2.2006, Train RMSE: 1.4773, Train MAE: 1.1741, Val RMSE: 1.4820, Val MAE: 1.1752\n",
      "Epoch: 252, Train loss: 2.1966, Train RMSE: 1.4761, Train MAE: 1.1722, Val RMSE: 1.4845, Val MAE: 1.1765\n",
      "Epoch: 253, Train loss: 2.1946, Train RMSE: 1.4758, Train MAE: 1.1736, Val RMSE: 1.4827, Val MAE: 1.1765\n",
      "Epoch: 254, Train loss: 2.1911, Train RMSE: 1.4747, Train MAE: 1.1727, Val RMSE: 1.4797, Val MAE: 1.1742\n",
      "Epoch: 255, Train loss: 2.1882, Train RMSE: 1.4731, Train MAE: 1.1700, Val RMSE: 1.4781, Val MAE: 1.1715\n",
      "Epoch: 256, Train loss: 2.1855, Train RMSE: 1.4727, Train MAE: 1.1700, Val RMSE: 1.4777, Val MAE: 1.1716\n",
      "Epoch: 257, Train loss: 2.1822, Train RMSE: 1.4723, Train MAE: 1.1704, Val RMSE: 1.4775, Val MAE: 1.1722\n",
      "Epoch: 258, Train loss: 2.1796, Train RMSE: 1.4703, Train MAE: 1.1680, Val RMSE: 1.4762, Val MAE: 1.1701\n",
      "Epoch: 259, Train loss: 2.1763, Train RMSE: 1.4690, Train MAE: 1.1672, Val RMSE: 1.4742, Val MAE: 1.1685\n",
      "Epoch: 260, Train loss: 2.1734, Train RMSE: 1.4687, Train MAE: 1.1678, Val RMSE: 1.4724, Val MAE: 1.1677\n",
      "Epoch: 261, Train loss: 2.1702, Train RMSE: 1.4671, Train MAE: 1.1653, Val RMSE: 1.4712, Val MAE: 1.1656\n",
      "Epoch: 262, Train loss: 2.1660, Train RMSE: 1.4592, Train MAE: 1.1574, Val RMSE: 1.4637, Val MAE: 1.1572\n",
      "Epoch: 263, Train loss: 2.1456, Train RMSE: 1.5716, Train MAE: 1.2434, Val RMSE: 1.5813, Val MAE: 1.2476\n",
      "Epoch: 264, Train loss: 5.2263, Train RMSE: 3.2237, Train MAE: 2.9733, Val RMSE: 3.1602, Val MAE: 2.8965\n",
      "Epoch: 265, Train loss: 16.3346, Train RMSE: 1.6639, Train MAE: 1.3364, Val RMSE: 1.6691, Val MAE: 1.3394\n",
      "Epoch: 266, Train loss: 5.0782, Train RMSE: 1.7061, Train MAE: 1.3709, Val RMSE: 1.7182, Val MAE: 1.3803\n",
      "Epoch: 267, Train loss: 9.2452, Train RMSE: 2.6221, Train MAE: 2.3583, Val RMSE: 2.5955, Val MAE: 2.3318\n",
      "Epoch: 268, Train loss: 7.4232, Train RMSE: 2.4008, Train MAE: 2.1299, Val RMSE: 2.3653, Val MAE: 2.0966\n",
      "Epoch: 269, Train loss: 5.8284, Train RMSE: 1.6895, Train MAE: 1.3563, Val RMSE: 1.6987, Val MAE: 1.3636\n",
      "Epoch: 270, Train loss: 6.9280, Train RMSE: 1.6484, Train MAE: 1.3226, Val RMSE: 1.6511, Val MAE: 1.3228\n",
      "Epoch: 271, Train loss: 4.3111, Train RMSE: 2.5365, Train MAE: 2.1845, Val RMSE: 2.4971, Val MAE: 2.1363\n",
      "Epoch: 272, Train loss: 6.6503, Train RMSE: 1.7984, Train MAE: 1.5196, Val RMSE: 1.7810, Val MAE: 1.5002\n",
      "Epoch: 273, Train loss: 3.2345, Train RMSE: 1.5882, Train MAE: 1.2571, Val RMSE: 1.5944, Val MAE: 1.2601\n",
      "Epoch: 274, Train loss: 5.8355, Train RMSE: 1.5411, Train MAE: 1.2276, Val RMSE: 1.5405, Val MAE: 1.2224\n",
      "Epoch: 275, Train loss: 3.3298, Train RMSE: 2.1561, Train MAE: 1.8786, Val RMSE: 2.1248, Val MAE: 1.8444\n",
      "Epoch: 276, Train loss: 4.6502, Train RMSE: 1.8147, Train MAE: 1.5054, Val RMSE: 1.8066, Val MAE: 1.4949\n",
      "Epoch: 277, Train loss: 3.2948, Train RMSE: 1.6449, Train MAE: 1.3189, Val RMSE: 1.6482, Val MAE: 1.3186\n",
      "Epoch: 278, Train loss: 4.0368, Train RMSE: 1.6081, Train MAE: 1.2853, Val RMSE: 1.6096, Val MAE: 1.2828\n",
      "Epoch: 279, Train loss: 3.3488, Train RMSE: 1.7600, Train MAE: 1.4834, Val RMSE: 1.7429, Val MAE: 1.4657\n",
      "Epoch: 280, Train loss: 3.0976, Train RMSE: 1.9054, Train MAE: 1.6340, Val RMSE: 1.8790, Val MAE: 1.6106\n",
      "Epoch: 281, Train loss: 3.6313, Train RMSE: 1.5174, Train MAE: 1.2102, Val RMSE: 1.5147, Val MAE: 1.2013\n",
      "Epoch: 282, Train loss: 2.6198, Train RMSE: 1.5851, Train MAE: 1.2606, Val RMSE: 1.5904, Val MAE: 1.2630\n",
      "Epoch: 283, Train loss: 3.5087, Train RMSE: 1.5151, Train MAE: 1.2114, Val RMSE: 1.5197, Val MAE: 1.2134\n",
      "Epoch: 284, Train loss: 2.2982, Train RMSE: 1.8599, Train MAE: 1.5576, Val RMSE: 1.8497, Val MAE: 1.5450\n",
      "Epoch: 285, Train loss: 3.4604, Train RMSE: 1.5077, Train MAE: 1.2037, Val RMSE: 1.5131, Val MAE: 1.2064\n",
      "Epoch: 286, Train loss: 2.2755, Train RMSE: 1.5600, Train MAE: 1.2396, Val RMSE: 1.5669, Val MAE: 1.2425\n",
      "Epoch: 287, Train loss: 3.0273, Train RMSE: 1.5002, Train MAE: 1.1938, Val RMSE: 1.5004, Val MAE: 1.1872\n",
      "Epoch: 288, Train loss: 2.4382, Train RMSE: 1.6492, Train MAE: 1.3703, Val RMSE: 1.6337, Val MAE: 1.3526\n",
      "Epoch: 289, Train loss: 2.7198, Train RMSE: 1.6067, Train MAE: 1.3221, Val RMSE: 1.5969, Val MAE: 1.3099\n",
      "Epoch: 290, Train loss: 2.5816, Train RMSE: 1.5081, Train MAE: 1.1963, Val RMSE: 1.5147, Val MAE: 1.1971\n",
      "Epoch: 291, Train loss: 2.3572, Train RMSE: 1.5660, Train MAE: 1.2497, Val RMSE: 1.5710, Val MAE: 1.2490\n",
      "Epoch: 292, Train loss: 2.7085, Train RMSE: 1.4951, Train MAE: 1.1906, Val RMSE: 1.5029, Val MAE: 1.1955\n",
      "Epoch: 293, Train loss: 2.2381, Train RMSE: 1.6187, Train MAE: 1.3289, Val RMSE: 1.6141, Val MAE: 1.3227\n",
      "Epoch: 294, Train loss: 2.6205, Train RMSE: 1.4883, Train MAE: 1.1929, Val RMSE: 1.4875, Val MAE: 1.1879\n",
      "Epoch: 295, Train loss: 2.2182, Train RMSE: 1.5053, Train MAE: 1.1941, Val RMSE: 1.5115, Val MAE: 1.1944\n",
      "Epoch: 296, Train loss: 2.5002, Train RMSE: 1.4871, Train MAE: 1.1807, Val RMSE: 1.4925, Val MAE: 1.1795\n",
      "Epoch: 297, Train loss: 2.3061, Train RMSE: 1.5176, Train MAE: 1.2242, Val RMSE: 1.5195, Val MAE: 1.2231\n",
      "Epoch: 298, Train loss: 2.3038, Train RMSE: 1.5401, Train MAE: 1.2450, Val RMSE: 1.5453, Val MAE: 1.2481\n",
      "Epoch: 299, Train loss: 2.3727, Train RMSE: 1.4833, Train MAE: 1.1768, Val RMSE: 1.4922, Val MAE: 1.1802\n",
      "Epoch: 300, Train loss: 2.2172, Train RMSE: 1.5083, Train MAE: 1.1965, Val RMSE: 1.5175, Val MAE: 1.1985\n",
      "Epoch: 301, Train loss: 2.3769, Train RMSE: 1.4681, Train MAE: 1.1676, Val RMSE: 1.4754, Val MAE: 1.1700\n",
      "Epoch: 302, Train loss: 2.1680, Train RMSE: 1.5250, Train MAE: 1.2367, Val RMSE: 1.5235, Val MAE: 1.2319\n",
      "Epoch: 303, Train loss: 2.3261, Train RMSE: 1.4843, Train MAE: 1.1912, Val RMSE: 1.4860, Val MAE: 1.1890\n",
      "Epoch: 304, Train loss: 2.2065, Train RMSE: 1.4761, Train MAE: 1.1696, Val RMSE: 1.4852, Val MAE: 1.1726\n",
      "Epoch: 305, Train loss: 2.2398, Train RMSE: 1.4777, Train MAE: 1.1704, Val RMSE: 1.4875, Val MAE: 1.1735\n",
      "Epoch: 306, Train loss: 2.2286, Train RMSE: 1.4764, Train MAE: 1.1769, Val RMSE: 1.4864, Val MAE: 1.1839\n",
      "Epoch: 307, Train loss: 2.1829, Train RMSE: 1.4985, Train MAE: 1.2026, Val RMSE: 1.5066, Val MAE: 1.2083\n",
      "Epoch: 308, Train loss: 2.2470, Train RMSE: 1.4618, Train MAE: 1.1611, Val RMSE: 1.4710, Val MAE: 1.1661\n",
      "Epoch: 309, Train loss: 2.1467, Train RMSE: 1.4718, Train MAE: 1.1657, Val RMSE: 1.4812, Val MAE: 1.1689\n",
      "Epoch: 310, Train loss: 2.2221, Train RMSE: 1.4601, Train MAE: 1.1613, Val RMSE: 1.4661, Val MAE: 1.1622\n",
      "Epoch: 311, Train loss: 2.1521, Train RMSE: 1.4788, Train MAE: 1.1866, Val RMSE: 1.4821, Val MAE: 1.1865\n",
      "Epoch: 312, Train loss: 2.1890, Train RMSE: 1.4674, Train MAE: 1.1724, Val RMSE: 1.4737, Val MAE: 1.1753\n",
      "Epoch: 313, Train loss: 2.1565, Train RMSE: 1.4603, Train MAE: 1.1566, Val RMSE: 1.4698, Val MAE: 1.1610\n",
      "Epoch: 314, Train loss: 2.1521, Train RMSE: 1.4637, Train MAE: 1.1589, Val RMSE: 1.4734, Val MAE: 1.1627\n",
      "Epoch: 315, Train loss: 2.1669, Train RMSE: 1.4572, Train MAE: 1.1589, Val RMSE: 1.4661, Val MAE: 1.1645\n",
      "Epoch: 316, Train loss: 2.1288, Train RMSE: 1.4681, Train MAE: 1.1746, Val RMSE: 1.4738, Val MAE: 1.1772\n",
      "Epoch: 317, Train loss: 2.1577, Train RMSE: 1.4524, Train MAE: 1.1558, Val RMSE: 1.4586, Val MAE: 1.1579\n",
      "Epoch: 318, Train loss: 2.1188, Train RMSE: 1.4545, Train MAE: 1.1532, Val RMSE: 1.4620, Val MAE: 1.1558\n",
      "Epoch: 319, Train loss: 2.1463, Train RMSE: 1.4495, Train MAE: 1.1509, Val RMSE: 1.4568, Val MAE: 1.1540\n",
      "Epoch: 320, Train loss: 2.1149, Train RMSE: 1.4572, Train MAE: 1.1625, Val RMSE: 1.4641, Val MAE: 1.1663\n",
      "Epoch: 321, Train loss: 2.1270, Train RMSE: 1.4536, Train MAE: 1.1572, Val RMSE: 1.4616, Val MAE: 1.1623\n",
      "Epoch: 322, Train loss: 2.1172, Train RMSE: 1.4489, Train MAE: 1.1479, Val RMSE: 1.4579, Val MAE: 1.1529\n",
      "Epoch: 323, Train loss: 2.1129, Train RMSE: 1.4481, Train MAE: 1.1473, Val RMSE: 1.4563, Val MAE: 1.1514\n",
      "Epoch: 324, Train loss: 2.1140, Train RMSE: 1.4472, Train MAE: 1.1522, Val RMSE: 1.4532, Val MAE: 1.1543\n",
      "Epoch: 325, Train loss: 2.1007, Train RMSE: 1.4516, Train MAE: 1.1587, Val RMSE: 1.4564, Val MAE: 1.1599\n",
      "Epoch: 326, Train loss: 2.1112, Train RMSE: 1.4435, Train MAE: 1.1472, Val RMSE: 1.4501, Val MAE: 1.1497\n",
      "Epoch: 327, Train loss: 2.0933, Train RMSE: 1.4444, Train MAE: 1.1443, Val RMSE: 1.4525, Val MAE: 1.1483\n",
      "Epoch: 328, Train loss: 2.1029, Train RMSE: 1.4422, Train MAE: 1.1443, Val RMSE: 1.4506, Val MAE: 1.1488\n",
      "Epoch: 329, Train loss: 2.0888, Train RMSE: 1.4461, Train MAE: 1.1514, Val RMSE: 1.4537, Val MAE: 1.1555\n",
      "Epoch: 330, Train loss: 2.0956, Train RMSE: 1.4417, Train MAE: 1.1463, Val RMSE: 1.4492, Val MAE: 1.1498\n",
      "Epoch: 331, Train loss: 2.0849, Train RMSE: 1.4398, Train MAE: 1.1418, Val RMSE: 1.4473, Val MAE: 1.1450\n",
      "Epoch: 332, Train loss: 2.0870, Train RMSE: 1.4386, Train MAE: 1.1419, Val RMSE: 1.4456, Val MAE: 1.1444\n",
      "Epoch: 333, Train loss: 2.0823, Train RMSE: 1.4401, Train MAE: 1.1465, Val RMSE: 1.4463, Val MAE: 1.1486\n",
      "Epoch: 334, Train loss: 2.0800, Train RMSE: 1.4396, Train MAE: 1.1457, Val RMSE: 1.4464, Val MAE: 1.1484\n",
      "Epoch: 335, Train loss: 2.0781, Train RMSE: 1.4365, Train MAE: 1.1393, Val RMSE: 1.4446, Val MAE: 1.1432\n",
      "Epoch: 336, Train loss: 2.0736, Train RMSE: 1.4362, Train MAE: 1.1381, Val RMSE: 1.4445, Val MAE: 1.1423\n",
      "Epoch: 337, Train loss: 2.0744, Train RMSE: 1.4356, Train MAE: 1.1406, Val RMSE: 1.4429, Val MAE: 1.1437\n",
      "Epoch: 338, Train loss: 2.0680, Train RMSE: 1.4365, Train MAE: 1.1434, Val RMSE: 1.4429, Val MAE: 1.1456\n",
      "Epoch: 339, Train loss: 2.0693, Train RMSE: 1.4334, Train MAE: 1.1388, Val RMSE: 1.4399, Val MAE: 1.1408\n",
      "Epoch: 340, Train loss: 2.0634, Train RMSE: 1.4326, Train MAE: 1.1365, Val RMSE: 1.4396, Val MAE: 1.1389\n",
      "Epoch: 341, Train loss: 2.0645, Train RMSE: 1.4319, Train MAE: 1.1371, Val RMSE: 1.4388, Val MAE: 1.1396\n",
      "Epoch: 342, Train loss: 2.0587, Train RMSE: 1.4330, Train MAE: 1.1396, Val RMSE: 1.4399, Val MAE: 1.1422\n",
      "Epoch: 343, Train loss: 2.0593, Train RMSE: 1.4309, Train MAE: 1.1364, Val RMSE: 1.4382, Val MAE: 1.1393\n",
      "Epoch: 344, Train loss: 2.0548, Train RMSE: 1.4296, Train MAE: 1.1337, Val RMSE: 1.4371, Val MAE: 1.1366\n",
      "Epoch: 345, Train loss: 2.0542, Train RMSE: 1.4287, Train MAE: 1.1341, Val RMSE: 1.4356, Val MAE: 1.1364\n",
      "Epoch: 346, Train loss: 2.0504, Train RMSE: 1.4293, Train MAE: 1.1368, Val RMSE: 1.4354, Val MAE: 1.1382\n",
      "Epoch: 347, Train loss: 2.0494, Train RMSE: 1.4280, Train MAE: 1.1352, Val RMSE: 1.4343, Val MAE: 1.1367\n",
      "Epoch: 348, Train loss: 2.0464, Train RMSE: 1.4265, Train MAE: 1.1319, Val RMSE: 1.4334, Val MAE: 1.1340\n",
      "Epoch: 349, Train loss: 2.0446, Train RMSE: 1.4259, Train MAE: 1.1312, Val RMSE: 1.4329, Val MAE: 1.1336\n",
      "Epoch: 350, Train loss: 2.0422, Train RMSE: 1.4259, Train MAE: 1.1329, Val RMSE: 1.4326, Val MAE: 1.1349\n",
      "Epoch: 351, Train loss: 2.0401, Train RMSE: 1.4252, Train MAE: 1.1326, Val RMSE: 1.4316, Val MAE: 1.1342\n",
      "Epoch: 352, Train loss: 2.0380, Train RMSE: 1.4236, Train MAE: 1.1300, Val RMSE: 1.4300, Val MAE: 1.1315\n",
      "Epoch: 353, Train loss: 2.0356, Train RMSE: 1.4229, Train MAE: 1.1293, Val RMSE: 1.4291, Val MAE: 1.1306\n",
      "Epoch: 354, Train loss: 2.0339, Train RMSE: 1.4227, Train MAE: 1.1305, Val RMSE: 1.4286, Val MAE: 1.1314\n",
      "Epoch: 355, Train loss: 2.0314, Train RMSE: 1.4223, Train MAE: 1.1304, Val RMSE: 1.4283, Val MAE: 1.1314\n",
      "Epoch: 356, Train loss: 2.0297, Train RMSE: 1.4209, Train MAE: 1.1278, Val RMSE: 1.4273, Val MAE: 1.1292\n",
      "Epoch: 357, Train loss: 2.0272, Train RMSE: 1.4201, Train MAE: 1.1267, Val RMSE: 1.4266, Val MAE: 1.1281\n",
      "Epoch: 358, Train loss: 2.0256, Train RMSE: 1.4197, Train MAE: 1.1276, Val RMSE: 1.4258, Val MAE: 1.1285\n",
      "Epoch: 359, Train loss: 2.0230, Train RMSE: 1.4193, Train MAE: 1.1280, Val RMSE: 1.4251, Val MAE: 1.1286\n",
      "Epoch: 360, Train loss: 2.0214, Train RMSE: 1.4180, Train MAE: 1.1261, Val RMSE: 1.4239, Val MAE: 1.1267\n",
      "Epoch: 361, Train loss: 2.0190, Train RMSE: 1.4172, Train MAE: 1.1248, Val RMSE: 1.4233, Val MAE: 1.1256\n",
      "Epoch: 362, Train loss: 2.0173, Train RMSE: 1.4168, Train MAE: 1.1251, Val RMSE: 1.4228, Val MAE: 1.1258\n",
      "Epoch: 363, Train loss: 2.0149, Train RMSE: 1.4165, Train MAE: 1.1253, Val RMSE: 1.4224, Val MAE: 1.1260\n",
      "Epoch: 364, Train loss: 2.0133, Train RMSE: 1.4154, Train MAE: 1.1237, Val RMSE: 1.4214, Val MAE: 1.1244\n",
      "Epoch: 365, Train loss: 2.0110, Train RMSE: 1.4145, Train MAE: 1.1226, Val RMSE: 1.4205, Val MAE: 1.1232\n",
      "Epoch: 366, Train loss: 2.0092, Train RMSE: 1.4140, Train MAE: 1.1230, Val RMSE: 1.4197, Val MAE: 1.1232\n",
      "Epoch: 367, Train loss: 2.0070, Train RMSE: 1.4136, Train MAE: 1.1232, Val RMSE: 1.4192, Val MAE: 1.1233\n",
      "Epoch: 368, Train loss: 2.0053, Train RMSE: 1.4126, Train MAE: 1.1218, Val RMSE: 1.4184, Val MAE: 1.1220\n",
      "Epoch: 369, Train loss: 2.0031, Train RMSE: 1.4118, Train MAE: 1.1205, Val RMSE: 1.4178, Val MAE: 1.1210\n",
      "Epoch: 370, Train loss: 2.0014, Train RMSE: 1.4113, Train MAE: 1.1206, Val RMSE: 1.4172, Val MAE: 1.1210\n",
      "Epoch: 371, Train loss: 1.9993, Train RMSE: 1.4109, Train MAE: 1.1207, Val RMSE: 1.4166, Val MAE: 1.1209\n",
      "Epoch: 372, Train loss: 1.9975, Train RMSE: 1.4100, Train MAE: 1.1196, Val RMSE: 1.4157, Val MAE: 1.1198\n",
      "Epoch: 373, Train loss: 1.9955, Train RMSE: 1.4092, Train MAE: 1.1186, Val RMSE: 1.4150, Val MAE: 1.1188\n",
      "Epoch: 374, Train loss: 1.9937, Train RMSE: 1.4086, Train MAE: 1.1186, Val RMSE: 1.4144, Val MAE: 1.1188\n",
      "Epoch: 375, Train loss: 1.9917, Train RMSE: 1.4082, Train MAE: 1.1185, Val RMSE: 1.4139, Val MAE: 1.1187\n",
      "Epoch: 376, Train loss: 1.9899, Train RMSE: 1.4074, Train MAE: 1.1174, Val RMSE: 1.4133, Val MAE: 1.1177\n",
      "Epoch: 377, Train loss: 1.9880, Train RMSE: 1.4066, Train MAE: 1.1165, Val RMSE: 1.4126, Val MAE: 1.1169\n",
      "Epoch: 378, Train loss: 1.9862, Train RMSE: 1.4061, Train MAE: 1.1165, Val RMSE: 1.4120, Val MAE: 1.1168\n",
      "Epoch: 379, Train loss: 1.9843, Train RMSE: 1.4055, Train MAE: 1.1164, Val RMSE: 1.4113, Val MAE: 1.1166\n",
      "Epoch: 380, Train loss: 1.9825, Train RMSE: 1.4047, Train MAE: 1.1155, Val RMSE: 1.4106, Val MAE: 1.1157\n",
      "Epoch: 381, Train loss: 1.9806, Train RMSE: 1.4040, Train MAE: 1.1146, Val RMSE: 1.4100, Val MAE: 1.1149\n",
      "Epoch: 382, Train loss: 1.9788, Train RMSE: 1.4035, Train MAE: 1.1144, Val RMSE: 1.4095, Val MAE: 1.1148\n",
      "Epoch: 383, Train loss: 1.9770, Train RMSE: 1.4030, Train MAE: 1.1142, Val RMSE: 1.4090, Val MAE: 1.1146\n",
      "Epoch: 384, Train loss: 1.9752, Train RMSE: 1.4022, Train MAE: 1.1133, Val RMSE: 1.4083, Val MAE: 1.1137\n",
      "Epoch: 385, Train loss: 1.9734, Train RMSE: 1.4015, Train MAE: 1.1126, Val RMSE: 1.4076, Val MAE: 1.1130\n",
      "Epoch: 386, Train loss: 1.9716, Train RMSE: 1.4010, Train MAE: 1.1125, Val RMSE: 1.4070, Val MAE: 1.1129\n",
      "Epoch: 387, Train loss: 1.9698, Train RMSE: 1.4004, Train MAE: 1.1122, Val RMSE: 1.4064, Val MAE: 1.1126\n",
      "Epoch: 388, Train loss: 1.9680, Train RMSE: 1.3997, Train MAE: 1.1113, Val RMSE: 1.4058, Val MAE: 1.1118\n",
      "Epoch: 389, Train loss: 1.9662, Train RMSE: 1.3990, Train MAE: 1.1106, Val RMSE: 1.4053, Val MAE: 1.1112\n",
      "Epoch: 390, Train loss: 1.9645, Train RMSE: 1.3985, Train MAE: 1.1105, Val RMSE: 1.4047, Val MAE: 1.1110\n",
      "Epoch: 391, Train loss: 1.9627, Train RMSE: 1.3979, Train MAE: 1.1101, Val RMSE: 1.4040, Val MAE: 1.1106\n",
      "Epoch: 392, Train loss: 1.9610, Train RMSE: 1.3972, Train MAE: 1.1093, Val RMSE: 1.4034, Val MAE: 1.1098\n",
      "Epoch: 393, Train loss: 1.9592, Train RMSE: 1.3966, Train MAE: 1.1088, Val RMSE: 1.4028, Val MAE: 1.1093\n",
      "Epoch: 394, Train loss: 1.9575, Train RMSE: 1.3960, Train MAE: 1.1085, Val RMSE: 1.4023, Val MAE: 1.1091\n",
      "Epoch: 395, Train loss: 1.9557, Train RMSE: 1.3954, Train MAE: 1.1080, Val RMSE: 1.4017, Val MAE: 1.1086\n",
      "Epoch: 396, Train loss: 1.9540, Train RMSE: 1.3947, Train MAE: 1.1073, Val RMSE: 1.4011, Val MAE: 1.1079\n",
      "Epoch: 397, Train loss: 1.9522, Train RMSE: 1.3941, Train MAE: 1.1068, Val RMSE: 1.4005, Val MAE: 1.1075\n",
      "Epoch: 398, Train loss: 1.9505, Train RMSE: 1.3936, Train MAE: 1.1066, Val RMSE: 1.3999, Val MAE: 1.1072\n",
      "Epoch: 399, Train loss: 1.9488, Train RMSE: 1.3929, Train MAE: 1.1061, Val RMSE: 1.3992, Val MAE: 1.1067\n",
      "Epoch: 400, Train loss: 1.9471, Train RMSE: 1.3923, Train MAE: 1.1054, Val RMSE: 1.3987, Val MAE: 1.1060\n",
      "Epoch: 401, Train loss: 1.9453, Train RMSE: 1.3917, Train MAE: 1.1049, Val RMSE: 1.3981, Val MAE: 1.1056\n",
      "Epoch: 402, Train loss: 1.9436, Train RMSE: 1.3912, Train MAE: 1.1046, Val RMSE: 1.3975, Val MAE: 1.1053\n",
      "Epoch: 403, Train loss: 1.9419, Train RMSE: 1.3905, Train MAE: 1.1041, Val RMSE: 1.3969, Val MAE: 1.1047\n",
      "Epoch: 404, Train loss: 1.9402, Train RMSE: 1.3899, Train MAE: 1.1035, Val RMSE: 1.3963, Val MAE: 1.1041\n",
      "Epoch: 405, Train loss: 1.9385, Train RMSE: 1.3893, Train MAE: 1.1031, Val RMSE: 1.3957, Val MAE: 1.1037\n",
      "Epoch: 406, Train loss: 1.9368, Train RMSE: 1.3887, Train MAE: 1.1027, Val RMSE: 1.3951, Val MAE: 1.1033\n",
      "Epoch: 407, Train loss: 1.9351, Train RMSE: 1.3881, Train MAE: 1.1021, Val RMSE: 1.3945, Val MAE: 1.1028\n",
      "Epoch: 408, Train loss: 1.9334, Train RMSE: 1.3875, Train MAE: 1.1016, Val RMSE: 1.3940, Val MAE: 1.1022\n",
      "Epoch: 409, Train loss: 1.9317, Train RMSE: 1.3869, Train MAE: 1.1012, Val RMSE: 1.3934, Val MAE: 1.1019\n",
      "Epoch: 410, Train loss: 1.9301, Train RMSE: 1.3864, Train MAE: 1.1008, Val RMSE: 1.3928, Val MAE: 1.1014\n",
      "Epoch: 411, Train loss: 1.9284, Train RMSE: 1.3857, Train MAE: 1.1003, Val RMSE: 1.3922, Val MAE: 1.1009\n",
      "Epoch: 412, Train loss: 1.9267, Train RMSE: 1.3851, Train MAE: 1.0998, Val RMSE: 1.3916, Val MAE: 1.1004\n",
      "Epoch: 413, Train loss: 1.9251, Train RMSE: 1.3846, Train MAE: 1.0994, Val RMSE: 1.3911, Val MAE: 1.1000\n",
      "Epoch: 414, Train loss: 1.9234, Train RMSE: 1.3840, Train MAE: 1.0989, Val RMSE: 1.3905, Val MAE: 1.0996\n",
      "Epoch: 415, Train loss: 1.9217, Train RMSE: 1.3834, Train MAE: 1.0984, Val RMSE: 1.3899, Val MAE: 1.0990\n",
      "Epoch: 416, Train loss: 1.9201, Train RMSE: 1.3828, Train MAE: 1.0980, Val RMSE: 1.3893, Val MAE: 1.0986\n",
      "Epoch: 417, Train loss: 1.9185, Train RMSE: 1.3823, Train MAE: 1.0976, Val RMSE: 1.3888, Val MAE: 1.0982\n",
      "Epoch: 418, Train loss: 1.9169, Train RMSE: 1.3817, Train MAE: 1.0971, Val RMSE: 1.3882, Val MAE: 1.0977\n",
      "Epoch: 419, Train loss: 1.9152, Train RMSE: 1.3811, Train MAE: 1.0966, Val RMSE: 1.3877, Val MAE: 1.0972\n",
      "Epoch: 420, Train loss: 1.9136, Train RMSE: 1.3805, Train MAE: 1.0962, Val RMSE: 1.3871, Val MAE: 1.0968\n",
      "Epoch: 421, Train loss: 1.9120, Train RMSE: 1.3800, Train MAE: 1.0958, Val RMSE: 1.3866, Val MAE: 1.0964\n",
      "Epoch: 422, Train loss: 1.9104, Train RMSE: 1.3794, Train MAE: 1.0952, Val RMSE: 1.3860, Val MAE: 1.0959\n",
      "Epoch: 423, Train loss: 1.9088, Train RMSE: 1.3788, Train MAE: 1.0948, Val RMSE: 1.3854, Val MAE: 1.0954\n",
      "Epoch: 424, Train loss: 1.9072, Train RMSE: 1.3782, Train MAE: 1.0944, Val RMSE: 1.3849, Val MAE: 1.0951\n",
      "Epoch: 425, Train loss: 1.9056, Train RMSE: 1.3777, Train MAE: 1.0939, Val RMSE: 1.3843, Val MAE: 1.0946\n",
      "Epoch: 426, Train loss: 1.9040, Train RMSE: 1.3771, Train MAE: 1.0934, Val RMSE: 1.3838, Val MAE: 1.0941\n",
      "Epoch: 427, Train loss: 1.9024, Train RMSE: 1.3765, Train MAE: 1.0930, Val RMSE: 1.3832, Val MAE: 1.0937\n",
      "Epoch: 428, Train loss: 1.9008, Train RMSE: 1.3760, Train MAE: 1.0926, Val RMSE: 1.3827, Val MAE: 1.0933\n",
      "Epoch: 429, Train loss: 1.8992, Train RMSE: 1.3754, Train MAE: 1.0921, Val RMSE: 1.3822, Val MAE: 1.0928\n",
      "Epoch: 430, Train loss: 1.8976, Train RMSE: 1.3748, Train MAE: 1.0917, Val RMSE: 1.3816, Val MAE: 1.0924\n",
      "Epoch: 431, Train loss: 1.8960, Train RMSE: 1.3743, Train MAE: 1.0913, Val RMSE: 1.3811, Val MAE: 1.0920\n",
      "Epoch: 432, Train loss: 1.8945, Train RMSE: 1.3737, Train MAE: 1.0908, Val RMSE: 1.3806, Val MAE: 1.0916\n",
      "Epoch: 433, Train loss: 1.8929, Train RMSE: 1.3731, Train MAE: 1.0903, Val RMSE: 1.3801, Val MAE: 1.0911\n",
      "Epoch: 434, Train loss: 1.8913, Train RMSE: 1.3726, Train MAE: 1.0899, Val RMSE: 1.3795, Val MAE: 1.0907\n",
      "Epoch: 435, Train loss: 1.8898, Train RMSE: 1.3720, Train MAE: 1.0895, Val RMSE: 1.3790, Val MAE: 1.0903\n",
      "Epoch: 436, Train loss: 1.8882, Train RMSE: 1.3715, Train MAE: 1.0891, Val RMSE: 1.3784, Val MAE: 1.0899\n",
      "Epoch: 437, Train loss: 1.8867, Train RMSE: 1.3709, Train MAE: 1.0886, Val RMSE: 1.3779, Val MAE: 1.0894\n",
      "Epoch: 438, Train loss: 1.8851, Train RMSE: 1.3704, Train MAE: 1.0882, Val RMSE: 1.3774, Val MAE: 1.0890\n",
      "Epoch: 439, Train loss: 1.8836, Train RMSE: 1.3698, Train MAE: 1.0878, Val RMSE: 1.3768, Val MAE: 1.0886\n",
      "Epoch: 440, Train loss: 1.8820, Train RMSE: 1.3693, Train MAE: 1.0873, Val RMSE: 1.3763, Val MAE: 1.0882\n",
      "Epoch: 441, Train loss: 1.8805, Train RMSE: 1.3687, Train MAE: 1.0869, Val RMSE: 1.3758, Val MAE: 1.0878\n",
      "Epoch: 442, Train loss: 1.8789, Train RMSE: 1.3682, Train MAE: 1.0865, Val RMSE: 1.3753, Val MAE: 1.0874\n",
      "Epoch: 443, Train loss: 1.8774, Train RMSE: 1.3676, Train MAE: 1.0860, Val RMSE: 1.3747, Val MAE: 1.0869\n",
      "Epoch: 444, Train loss: 1.8759, Train RMSE: 1.3671, Train MAE: 1.0856, Val RMSE: 1.3742, Val MAE: 1.0865\n",
      "Epoch: 445, Train loss: 1.8743, Train RMSE: 1.3665, Train MAE: 1.0852, Val RMSE: 1.3737, Val MAE: 1.0861\n",
      "Epoch: 446, Train loss: 1.8728, Train RMSE: 1.3660, Train MAE: 1.0847, Val RMSE: 1.3732, Val MAE: 1.0857\n",
      "Epoch: 447, Train loss: 1.8713, Train RMSE: 1.3654, Train MAE: 1.0843, Val RMSE: 1.3727, Val MAE: 1.0853\n",
      "Epoch: 448, Train loss: 1.8698, Train RMSE: 1.3649, Train MAE: 1.0839, Val RMSE: 1.3721, Val MAE: 1.0849\n",
      "Epoch: 449, Train loss: 1.8683, Train RMSE: 1.3643, Train MAE: 1.0835, Val RMSE: 1.3716, Val MAE: 1.0845\n",
      "Epoch: 450, Train loss: 1.8667, Train RMSE: 1.3638, Train MAE: 1.0830, Val RMSE: 1.3711, Val MAE: 1.0841\n",
      "Epoch: 451, Train loss: 1.8652, Train RMSE: 1.3632, Train MAE: 1.0825, Val RMSE: 1.3706, Val MAE: 1.0837\n",
      "Epoch: 452, Train loss: 1.8637, Train RMSE: 1.3627, Train MAE: 1.0822, Val RMSE: 1.3701, Val MAE: 1.0833\n",
      "Epoch: 453, Train loss: 1.8622, Train RMSE: 1.3622, Train MAE: 1.0818, Val RMSE: 1.3696, Val MAE: 1.0829\n",
      "Epoch: 454, Train loss: 1.8607, Train RMSE: 1.3616, Train MAE: 1.0813, Val RMSE: 1.3691, Val MAE: 1.0824\n",
      "Epoch: 455, Train loss: 1.8592, Train RMSE: 1.3611, Train MAE: 1.0809, Val RMSE: 1.3685, Val MAE: 1.0820\n",
      "Epoch: 456, Train loss: 1.8577, Train RMSE: 1.3606, Train MAE: 1.0805, Val RMSE: 1.3680, Val MAE: 1.0817\n",
      "Epoch: 457, Train loss: 1.8563, Train RMSE: 1.3600, Train MAE: 1.0800, Val RMSE: 1.3675, Val MAE: 1.0813\n",
      "Epoch: 458, Train loss: 1.8548, Train RMSE: 1.3595, Train MAE: 1.0796, Val RMSE: 1.3670, Val MAE: 1.0808\n",
      "Epoch: 459, Train loss: 1.8533, Train RMSE: 1.3590, Train MAE: 1.0792, Val RMSE: 1.3665, Val MAE: 1.0805\n",
      "Epoch: 460, Train loss: 1.8518, Train RMSE: 1.3584, Train MAE: 1.0788, Val RMSE: 1.3660, Val MAE: 1.0801\n",
      "Epoch: 461, Train loss: 1.8504, Train RMSE: 1.3579, Train MAE: 1.0783, Val RMSE: 1.3655, Val MAE: 1.0796\n",
      "Epoch: 462, Train loss: 1.8489, Train RMSE: 1.3574, Train MAE: 1.0780, Val RMSE: 1.3650, Val MAE: 1.0793\n",
      "Epoch: 463, Train loss: 1.8474, Train RMSE: 1.3568, Train MAE: 1.0776, Val RMSE: 1.3645, Val MAE: 1.0789\n",
      "Epoch: 464, Train loss: 1.8460, Train RMSE: 1.3563, Train MAE: 1.0771, Val RMSE: 1.3640, Val MAE: 1.0784\n",
      "Epoch: 465, Train loss: 1.8445, Train RMSE: 1.3558, Train MAE: 1.0767, Val RMSE: 1.3635, Val MAE: 1.0781\n",
      "Epoch: 466, Train loss: 1.8431, Train RMSE: 1.3553, Train MAE: 1.0763, Val RMSE: 1.3630, Val MAE: 1.0777\n",
      "Epoch: 467, Train loss: 1.8416, Train RMSE: 1.3547, Train MAE: 1.0759, Val RMSE: 1.3625, Val MAE: 1.0773\n",
      "Epoch: 468, Train loss: 1.8402, Train RMSE: 1.3542, Train MAE: 1.0755, Val RMSE: 1.3620, Val MAE: 1.0769\n",
      "Epoch: 469, Train loss: 1.8387, Train RMSE: 1.3537, Train MAE: 1.0751, Val RMSE: 1.3615, Val MAE: 1.0765\n",
      "Epoch: 470, Train loss: 1.8373, Train RMSE: 1.3532, Train MAE: 1.0747, Val RMSE: 1.3610, Val MAE: 1.0761\n",
      "Epoch: 471, Train loss: 1.8359, Train RMSE: 1.3527, Train MAE: 1.0742, Val RMSE: 1.3605, Val MAE: 1.0757\n",
      "Epoch: 472, Train loss: 1.8344, Train RMSE: 1.3522, Train MAE: 1.0738, Val RMSE: 1.3600, Val MAE: 1.0753\n",
      "Epoch: 473, Train loss: 1.8330, Train RMSE: 1.3516, Train MAE: 1.0735, Val RMSE: 1.3595, Val MAE: 1.0749\n",
      "Epoch: 474, Train loss: 1.8316, Train RMSE: 1.3511, Train MAE: 1.0730, Val RMSE: 1.3590, Val MAE: 1.0745\n",
      "Epoch: 475, Train loss: 1.8302, Train RMSE: 1.3506, Train MAE: 1.0726, Val RMSE: 1.3585, Val MAE: 1.0741\n",
      "Epoch: 476, Train loss: 1.8288, Train RMSE: 1.3501, Train MAE: 1.0722, Val RMSE: 1.3581, Val MAE: 1.0738\n",
      "Epoch: 477, Train loss: 1.8273, Train RMSE: 1.3496, Train MAE: 1.0718, Val RMSE: 1.3576, Val MAE: 1.0734\n",
      "Epoch: 478, Train loss: 1.8259, Train RMSE: 1.3491, Train MAE: 1.0714, Val RMSE: 1.3571, Val MAE: 1.0730\n",
      "Epoch: 479, Train loss: 1.8245, Train RMSE: 1.3486, Train MAE: 1.0711, Val RMSE: 1.3566, Val MAE: 1.0727\n",
      "Epoch: 480, Train loss: 1.8231, Train RMSE: 1.3480, Train MAE: 1.0706, Val RMSE: 1.3562, Val MAE: 1.0723\n",
      "Epoch: 481, Train loss: 1.8217, Train RMSE: 1.3475, Train MAE: 1.0702, Val RMSE: 1.3557, Val MAE: 1.0719\n",
      "Epoch: 482, Train loss: 1.8203, Train RMSE: 1.3470, Train MAE: 1.0698, Val RMSE: 1.3553, Val MAE: 1.0715\n",
      "Epoch: 483, Train loss: 1.8189, Train RMSE: 1.3465, Train MAE: 1.0694, Val RMSE: 1.3548, Val MAE: 1.0712\n",
      "Epoch: 484, Train loss: 1.8176, Train RMSE: 1.3460, Train MAE: 1.0690, Val RMSE: 1.3543, Val MAE: 1.0708\n",
      "Epoch: 485, Train loss: 1.8162, Train RMSE: 1.3455, Train MAE: 1.0686, Val RMSE: 1.3539, Val MAE: 1.0704\n",
      "Epoch: 486, Train loss: 1.8148, Train RMSE: 1.3450, Train MAE: 1.0683, Val RMSE: 1.3534, Val MAE: 1.0701\n",
      "Epoch: 487, Train loss: 1.8134, Train RMSE: 1.3445, Train MAE: 1.0678, Val RMSE: 1.3530, Val MAE: 1.0697\n",
      "Epoch: 488, Train loss: 1.8121, Train RMSE: 1.3440, Train MAE: 1.0674, Val RMSE: 1.3525, Val MAE: 1.0693\n",
      "Epoch: 489, Train loss: 1.8107, Train RMSE: 1.3435, Train MAE: 1.0671, Val RMSE: 1.3520, Val MAE: 1.0690\n",
      "Epoch: 490, Train loss: 1.8093, Train RMSE: 1.3430, Train MAE: 1.0667, Val RMSE: 1.3515, Val MAE: 1.0686\n",
      "Epoch: 491, Train loss: 1.8080, Train RMSE: 1.3425, Train MAE: 1.0663, Val RMSE: 1.3511, Val MAE: 1.0682\n",
      "Epoch: 492, Train loss: 1.8066, Train RMSE: 1.3420, Train MAE: 1.0659, Val RMSE: 1.3506, Val MAE: 1.0679\n",
      "Epoch: 493, Train loss: 1.8052, Train RMSE: 1.3415, Train MAE: 1.0655, Val RMSE: 1.3502, Val MAE: 1.0675\n",
      "Epoch: 494, Train loss: 1.8039, Train RMSE: 1.3410, Train MAE: 1.0651, Val RMSE: 1.3497, Val MAE: 1.0671\n",
      "Epoch: 495, Train loss: 1.8025, Train RMSE: 1.3406, Train MAE: 1.0648, Val RMSE: 1.3492, Val MAE: 1.0668\n",
      "Epoch: 496, Train loss: 1.8012, Train RMSE: 1.3401, Train MAE: 1.0644, Val RMSE: 1.3488, Val MAE: 1.0664\n",
      "Epoch: 497, Train loss: 1.7999, Train RMSE: 1.3396, Train MAE: 1.0639, Val RMSE: 1.3483, Val MAE: 1.0661\n",
      "Epoch: 498, Train loss: 1.7985, Train RMSE: 1.3391, Train MAE: 1.0636, Val RMSE: 1.3479, Val MAE: 1.0657\n",
      "Epoch: 499, Train loss: 1.7972, Train RMSE: 1.3386, Train MAE: 1.0632, Val RMSE: 1.3474, Val MAE: 1.0653\n",
      "\n",
      "Training TensorBoard information of model GCN saved\n",
      "\n",
      "Trained model GCN saved\n"
     ]
    }
   ],
   "source": [
    "GCN_movie_suggestor.train(num_epochs=500, lr=0.001)"
   ],
   "metadata": {
    "collapsed": false,
    "ExecuteTime": {
     "end_time": "2024-01-14T18:44:22.133056800Z",
     "start_time": "2024-01-14T18:43:45.576894400Z"
    }
   }
  },
  {
   "cell_type": "code",
   "execution_count": 21,
   "outputs": [
    {
     "name": "stdout",
     "output_type": "stream",
     "text": [
      "Device: 'cuda\n",
      "'\n",
      "Test RMSE: 1.5314, Test MAE: 1.2127\n",
      "\n",
      "       userId  movieId  pred_rating  gt_rating\n",
      "0         310      876     4.394206        4.0\n",
      "1         460     2710     5.000000        1.0\n",
      "2         546     3968     5.000000        3.5\n",
      "3         517     5650     4.359289        1.0\n",
      "4         293      597     4.965607        5.0\n",
      "...       ...      ...          ...        ...\n",
      "9996      101     2148     3.873517        3.5\n",
      "9997      315     1711     2.914897        3.0\n",
      "9998      306     1500     3.014466        1.5\n",
      "9999      536      782     4.943999        3.0\n",
      "10000     647     8954     3.668745        4.0\n",
      "\n",
      "[10001 rows x 4 columns]\n"
     ]
    }
   ],
   "source": [
    "GCN_movie_suggestor.evaluate_performance()"
   ],
   "metadata": {
    "collapsed": false,
    "ExecuteTime": {
     "end_time": "2024-01-14T18:44:22.192862400Z",
     "start_time": "2024-01-14T18:44:22.122056500Z"
    }
   }
  },
  {
   "cell_type": "markdown",
   "source": [
    "### SAGEGraph"
   ],
   "metadata": {
    "collapsed": false
   }
  },
  {
   "cell_type": "code",
   "execution_count": 22,
   "outputs": [],
   "source": [
    "GraphSAGE_movie_suggestor = GNN_Based_CollaborativeFilter(\n",
    "    graph_dataset_handler=gdh,\n",
    "    gnn_encoder=GraphSAGEEncoder(hidden_channels=64, out_channels=64)\n",
    ")"
   ],
   "metadata": {
    "collapsed": false,
    "ExecuteTime": {
     "end_time": "2024-01-14T18:44:22.224773900Z",
     "start_time": "2024-01-14T18:44:22.183883100Z"
    }
   }
  },
  {
   "cell_type": "code",
   "execution_count": 23,
   "outputs": [
    {
     "name": "stdout",
     "output_type": "stream",
     "text": [
      "Device: 'cuda\n",
      "'\n",
      "Epoch: 001, Train loss: 13.6436, Train RMSE: 3.3148, Train MAE: 3.1405, Val RMSE: 3.3203, Val MAE: 3.1486\n",
      "Epoch: 002, Train loss: 10.9879, Train RMSE: 2.4350, Train MAE: 2.2340, Val RMSE: 2.4477, Val MAE: 2.2478\n",
      "Epoch: 003, Train loss: 5.9291, Train RMSE: 1.0742, Train MAE: 0.8533, Val RMSE: 1.0791, Val MAE: 0.8597\n",
      "Epoch: 004, Train loss: 1.1539, Train RMSE: 1.8034, Train MAE: 1.4584, Val RMSE: 1.7923, Val MAE: 1.4498\n",
      "Epoch: 005, Train loss: 10.8939, Train RMSE: 1.4483, Train MAE: 1.1279, Val RMSE: 1.4293, Val MAE: 1.1130\n",
      "Epoch: 006, Train loss: 2.0982, Train RMSE: 1.3122, Train MAE: 1.1178, Val RMSE: 1.3312, Val MAE: 1.1331\n",
      "Epoch: 007, Train loss: 1.7219, Train RMSE: 1.9605, Train MAE: 1.7527, Val RMSE: 1.9772, Val MAE: 1.7703\n",
      "Epoch: 008, Train loss: 3.8437, Train RMSE: 2.2551, Train MAE: 2.0524, Val RMSE: 2.2693, Val MAE: 2.0672\n",
      "Epoch: 009, Train loss: 5.0855, Train RMSE: 2.3009, Train MAE: 2.0983, Val RMSE: 2.3147, Val MAE: 2.1128\n",
      "Epoch: 010, Train loss: 5.2941, Train RMSE: 2.1839, Train MAE: 1.9813, Val RMSE: 2.1988, Val MAE: 1.9967\n",
      "Epoch: 011, Train loss: 4.7696, Train RMSE: 1.9329, Train MAE: 1.7243, Val RMSE: 1.9498, Val MAE: 1.7421\n",
      "Epoch: 012, Train loss: 3.7360, Train RMSE: 1.5599, Train MAE: 1.3677, Val RMSE: 1.5793, Val MAE: 1.3846\n",
      "Epoch: 013, Train loss: 2.4332, Train RMSE: 1.1592, Train MAE: 0.9573, Val RMSE: 1.1768, Val MAE: 0.9714\n",
      "Epoch: 014, Train loss: 1.3437, Train RMSE: 1.1351, Train MAE: 0.8517, Val RMSE: 1.1324, Val MAE: 0.8542\n",
      "Epoch: 015, Train loss: 1.2885, Train RMSE: 1.5572, Train MAE: 1.2315, Val RMSE: 1.5353, Val MAE: 1.2128\n",
      "Epoch: 016, Train loss: 2.4276, Train RMSE: 1.6653, Train MAE: 1.3319, Val RMSE: 1.6411, Val MAE: 1.3098\n",
      "Epoch: 017, Train loss: 2.8050, Train RMSE: 1.3651, Train MAE: 1.0530, Val RMSE: 1.3495, Val MAE: 1.0421\n",
      "Epoch: 018, Train loss: 1.8634, Train RMSE: 1.0784, Train MAE: 0.8437, Val RMSE: 1.0816, Val MAE: 0.8494\n",
      "Epoch: 019, Train loss: 1.1630, Train RMSE: 1.1392, Train MAE: 0.9414, Val RMSE: 1.1551, Val MAE: 0.9543\n",
      "Epoch: 020, Train loss: 1.2978, Train RMSE: 1.3314, Train MAE: 1.1406, Val RMSE: 1.3496, Val MAE: 1.1553\n",
      "Epoch: 021, Train loss: 1.7727, Train RMSE: 1.4391, Train MAE: 1.2492, Val RMSE: 1.4571, Val MAE: 1.2639\n",
      "Epoch: 022, Train loss: 2.0711, Train RMSE: 1.4174, Train MAE: 1.2280, Val RMSE: 1.4353, Val MAE: 1.2426\n",
      "Epoch: 023, Train loss: 2.0090, Train RMSE: 1.2894, Train MAE: 1.0950, Val RMSE: 1.3071, Val MAE: 1.1094\n",
      "Epoch: 024, Train loss: 1.6626, Train RMSE: 1.1270, Train MAE: 0.9320, Val RMSE: 1.1421, Val MAE: 0.9444\n",
      "Epoch: 025, Train loss: 1.2701, Train RMSE: 1.0612, Train MAE: 0.8473, Val RMSE: 1.0675, Val MAE: 0.8547\n",
      "Epoch: 026, Train loss: 1.1261, Train RMSE: 1.1590, Train MAE: 0.8627, Val RMSE: 1.1538, Val MAE: 0.8634\n",
      "Epoch: 027, Train loss: 1.3432, Train RMSE: 1.2732, Train MAE: 0.9684, Val RMSE: 1.2617, Val MAE: 0.9625\n",
      "Epoch: 028, Train loss: 1.6211, Train RMSE: 1.2533, Train MAE: 0.9493, Val RMSE: 1.2428, Val MAE: 0.9446\n",
      "Epoch: 029, Train loss: 1.5708, Train RMSE: 1.1349, Train MAE: 0.8479, Val RMSE: 1.1316, Val MAE: 0.8497\n",
      "Epoch: 030, Train loss: 1.2881, Train RMSE: 1.0596, Train MAE: 0.8452, Val RMSE: 1.0661, Val MAE: 0.8526\n",
      "Epoch: 031, Train loss: 1.1229, Train RMSE: 1.0858, Train MAE: 0.8962, Val RMSE: 1.0991, Val MAE: 0.9077\n",
      "Epoch: 032, Train loss: 1.1790, Train RMSE: 1.1494, Train MAE: 0.9487, Val RMSE: 1.1655, Val MAE: 0.9620\n",
      "Epoch: 033, Train loss: 1.3211, Train RMSE: 1.1825, Train MAE: 0.9768, Val RMSE: 1.1993, Val MAE: 0.9905\n",
      "Epoch: 034, Train loss: 1.3982, Train RMSE: 1.1639, Train MAE: 0.9604, Val RMSE: 1.1804, Val MAE: 0.9739\n",
      "Epoch: 035, Train loss: 1.3546, Train RMSE: 1.1100, Train MAE: 0.9182, Val RMSE: 1.1250, Val MAE: 0.9310\n",
      "Epoch: 036, Train loss: 1.2321, Train RMSE: 1.0627, Train MAE: 0.8668, Val RMSE: 1.0740, Val MAE: 0.8774\n",
      "Epoch: 037, Train loss: 1.1294, Train RMSE: 1.0621, Train MAE: 0.8399, Val RMSE: 1.0677, Val MAE: 0.8469\n",
      "Epoch: 038, Train loss: 1.1281, Train RMSE: 1.1006, Train MAE: 0.8359, Val RMSE: 1.1009, Val MAE: 0.8400\n",
      "Epoch: 039, Train loss: 1.2113, Train RMSE: 1.1258, Train MAE: 0.8426, Val RMSE: 1.1239, Val MAE: 0.8454\n",
      "Epoch: 040, Train loss: 1.2675, Train RMSE: 1.1102, Train MAE: 0.8372, Val RMSE: 1.1097, Val MAE: 0.8410\n",
      "Epoch: 041, Train loss: 1.2325, Train RMSE: 1.0693, Train MAE: 0.8362, Val RMSE: 1.0737, Val MAE: 0.8427\n",
      "Epoch: 042, Train loss: 1.1435, Train RMSE: 1.0538, Train MAE: 0.8479, Val RMSE: 1.0633, Val MAE: 0.8576\n",
      "Epoch: 043, Train loss: 1.1106, Train RMSE: 1.0680, Train MAE: 0.8758, Val RMSE: 1.0811, Val MAE: 0.8877\n",
      "Epoch: 044, Train loss: 1.1406, Train RMSE: 1.0882, Train MAE: 0.8987, Val RMSE: 1.1031, Val MAE: 0.9117\n",
      "Epoch: 045, Train loss: 1.1842, Train RMSE: 1.0930, Train MAE: 0.9032, Val RMSE: 1.1083, Val MAE: 0.9165\n",
      "Epoch: 046, Train loss: 1.1947, Train RMSE: 1.0791, Train MAE: 0.8893, Val RMSE: 1.0936, Val MAE: 0.9023\n",
      "Epoch: 047, Train loss: 1.1644, Train RMSE: 1.0596, Train MAE: 0.8639, Val RMSE: 1.0721, Val MAE: 0.8758\n",
      "Epoch: 048, Train loss: 1.1227, Train RMSE: 1.0522, Train MAE: 0.8434, Val RMSE: 1.0617, Val MAE: 0.8533\n",
      "Epoch: 049, Train loss: 1.1071, Train RMSE: 1.0615, Train MAE: 0.8352, Val RMSE: 1.0678, Val MAE: 0.8431\n",
      "Epoch: 050, Train loss: 1.1267, Train RMSE: 1.0732, Train MAE: 0.8326, Val RMSE: 1.0777, Val MAE: 0.8395\n",
      "Epoch: 051, Train loss: 1.1518, Train RMSE: 1.0721, Train MAE: 0.8324, Val RMSE: 1.0769, Val MAE: 0.8395\n",
      "Epoch: 052, Train loss: 1.1494, Train RMSE: 1.0601, Train MAE: 0.8346, Val RMSE: 1.0669, Val MAE: 0.8429\n",
      "Epoch: 053, Train loss: 1.1237, Train RMSE: 1.0512, Train MAE: 0.8410, Val RMSE: 1.0610, Val MAE: 0.8512\n",
      "Epoch: 054, Train loss: 1.1050, Train RMSE: 1.0531, Train MAE: 0.8534, Val RMSE: 1.0655, Val MAE: 0.8654\n",
      "Epoch: 055, Train loss: 1.1091, Train RMSE: 1.0603, Train MAE: 0.8662, Val RMSE: 1.0743, Val MAE: 0.8793\n",
      "Epoch: 056, Train loss: 1.1242, Train RMSE: 1.0634, Train MAE: 0.8707, Val RMSE: 1.0779, Val MAE: 0.8841\n",
      "Epoch: 057, Train loss: 1.1307, Train RMSE: 1.0591, Train MAE: 0.8647, Val RMSE: 1.0733, Val MAE: 0.8779\n",
      "Epoch: 058, Train loss: 1.1217, Train RMSE: 1.0521, Train MAE: 0.8524, Val RMSE: 1.0650, Val MAE: 0.8648\n",
      "Epoch: 059, Train loss: 1.1070, Train RMSE: 1.0494, Train MAE: 0.8414, Val RMSE: 1.0605, Val MAE: 0.8527\n",
      "Epoch: 060, Train loss: 1.1012, Train RMSE: 1.0525, Train MAE: 0.8353, Val RMSE: 1.0619, Val MAE: 0.8456\n",
      "Epoch: 061, Train loss: 1.1078, Train RMSE: 1.0563, Train MAE: 0.8329, Val RMSE: 1.0647, Val MAE: 0.8426\n",
      "Epoch: 062, Train loss: 1.1157, Train RMSE: 1.0554, Train MAE: 0.8329, Val RMSE: 1.0641, Val MAE: 0.8429\n",
      "Epoch: 063, Train loss: 1.1138, Train RMSE: 1.0510, Train MAE: 0.8353, Val RMSE: 1.0611, Val MAE: 0.8462\n",
      "Epoch: 064, Train loss: 1.1046, Train RMSE: 1.0483, Train MAE: 0.8406, Val RMSE: 1.0602, Val MAE: 0.8525\n",
      "Epoch: 065, Train loss: 1.0989, Train RMSE: 1.0494, Train MAE: 0.8478, Val RMSE: 1.0628, Val MAE: 0.8608\n",
      "Epoch: 066, Train loss: 1.1012, Train RMSE: 1.0517, Train MAE: 0.8535, Val RMSE: 1.0661, Val MAE: 0.8672\n",
      "Epoch: 067, Train loss: 1.1062, Train RMSE: 1.0520, Train MAE: 0.8542, Val RMSE: 1.0666, Val MAE: 0.8681\n",
      "Epoch: 068, Train loss: 1.1067, Train RMSE: 1.0498, Train MAE: 0.8497, Val RMSE: 1.0640, Val MAE: 0.8633\n",
      "Epoch: 069, Train loss: 1.1020, Train RMSE: 1.0475, Train MAE: 0.8431, Val RMSE: 1.0608, Val MAE: 0.8561\n",
      "Epoch: 070, Train loss: 1.0973, Train RMSE: 1.0474, Train MAE: 0.8375, Val RMSE: 1.0597, Val MAE: 0.8499\n",
      "Epoch: 071, Train loss: 1.0971, Train RMSE: 1.0489, Train MAE: 0.8343, Val RMSE: 1.0603, Val MAE: 0.8462\n",
      "Epoch: 072, Train loss: 1.1001, Train RMSE: 1.0494, Train MAE: 0.8333, Val RMSE: 1.0607, Val MAE: 0.8452\n",
      "Epoch: 073, Train loss: 1.1012, Train RMSE: 1.0481, Train MAE: 0.8344, Val RMSE: 1.0600, Val MAE: 0.8467\n",
      "Epoch: 074, Train loss: 1.0985, Train RMSE: 1.0466, Train MAE: 0.8373, Val RMSE: 1.0595, Val MAE: 0.8502\n",
      "Epoch: 075, Train loss: 1.0953, Train RMSE: 1.0463, Train MAE: 0.8414, Val RMSE: 1.0603, Val MAE: 0.8551\n",
      "Epoch: 076, Train loss: 1.0948, Train RMSE: 1.0471, Train MAE: 0.8451, Val RMSE: 1.0619, Val MAE: 0.8593\n",
      "Epoch: 077, Train loss: 1.0964, Train RMSE: 1.0474, Train MAE: 0.8463, Val RMSE: 1.0626, Val MAE: 0.8609\n",
      "Epoch: 078, Train loss: 1.0971, Train RMSE: 1.0467, Train MAE: 0.8446, Val RMSE: 1.0618, Val MAE: 0.8590\n",
      "Epoch: 079, Train loss: 1.0956, Train RMSE: 1.0457, Train MAE: 0.8409, Val RMSE: 1.0603, Val MAE: 0.8551\n",
      "Epoch: 080, Train loss: 1.0935, Train RMSE: 1.0454, Train MAE: 0.8372, Val RMSE: 1.0594, Val MAE: 0.8510\n",
      "Epoch: 081, Train loss: 1.0929, Train RMSE: 1.0458, Train MAE: 0.8347, Val RMSE: 1.0593, Val MAE: 0.8483\n",
      "Epoch: 082, Train loss: 1.0937, Train RMSE: 1.0460, Train MAE: 0.8337, Val RMSE: 1.0594, Val MAE: 0.8473\n",
      "Epoch: 083, Train loss: 1.0941, Train RMSE: 1.0455, Train MAE: 0.8343, Val RMSE: 1.0592, Val MAE: 0.8482\n",
      "Epoch: 084, Train loss: 1.0930, Train RMSE: 1.0448, Train MAE: 0.8362, Val RMSE: 1.0592, Val MAE: 0.8505\n",
      "Epoch: 085, Train loss: 1.0916, Train RMSE: 1.0446, Train MAE: 0.8388, Val RMSE: 1.0597, Val MAE: 0.8536\n",
      "Epoch: 086, Train loss: 1.0912, Train RMSE: 1.0448, Train MAE: 0.8409, Val RMSE: 1.0605, Val MAE: 0.8561\n",
      "Epoch: 087, Train loss: 1.0916, Train RMSE: 1.0448, Train MAE: 0.8415, Val RMSE: 1.0608, Val MAE: 0.8568\n",
      "Epoch: 088, Train loss: 1.0916, Train RMSE: 1.0444, Train MAE: 0.8403, Val RMSE: 1.0603, Val MAE: 0.8557\n",
      "Epoch: 089, Train loss: 1.0908, Train RMSE: 1.0440, Train MAE: 0.8380, Val RMSE: 1.0596, Val MAE: 0.8532\n",
      "Epoch: 090, Train loss: 1.0899, Train RMSE: 1.0438, Train MAE: 0.8357, Val RMSE: 1.0591, Val MAE: 0.8507\n",
      "Epoch: 091, Train loss: 1.0896, Train RMSE: 1.0439, Train MAE: 0.8341, Val RMSE: 1.0590, Val MAE: 0.8491\n",
      "Epoch: 092, Train loss: 1.0898, Train RMSE: 1.0438, Train MAE: 0.8337, Val RMSE: 1.0589, Val MAE: 0.8487\n",
      "Epoch: 093, Train loss: 1.0896, Train RMSE: 1.0435, Train MAE: 0.8343, Val RMSE: 1.0589, Val MAE: 0.8495\n",
      "Epoch: 094, Train loss: 1.0889, Train RMSE: 1.0432, Train MAE: 0.8357, Val RMSE: 1.0591, Val MAE: 0.8513\n",
      "Epoch: 095, Train loss: 1.0883, Train RMSE: 1.0431, Train MAE: 0.8372, Val RMSE: 1.0595, Val MAE: 0.8532\n",
      "Epoch: 096, Train loss: 1.0881, Train RMSE: 1.0431, Train MAE: 0.8382, Val RMSE: 1.0598, Val MAE: 0.8544\n",
      "Epoch: 097, Train loss: 1.0881, Train RMSE: 1.0430, Train MAE: 0.8381, Val RMSE: 1.0598, Val MAE: 0.8544\n",
      "Epoch: 098, Train loss: 1.0878, Train RMSE: 1.0427, Train MAE: 0.8370, Val RMSE: 1.0595, Val MAE: 0.8533\n",
      "Epoch: 099, Train loss: 1.0873, Train RMSE: 1.0425, Train MAE: 0.8355, Val RMSE: 1.0591, Val MAE: 0.8516\n",
      "Epoch: 100, Train loss: 1.0868, Train RMSE: 1.0424, Train MAE: 0.8341, Val RMSE: 1.0588, Val MAE: 0.8502\n",
      "Epoch: 101, Train loss: 1.0866, Train RMSE: 1.0423, Train MAE: 0.8334, Val RMSE: 1.0587, Val MAE: 0.8494\n",
      "Epoch: 102, Train loss: 1.0865, Train RMSE: 1.0422, Train MAE: 0.8334, Val RMSE: 1.0587, Val MAE: 0.8496\n",
      "Epoch: 103, Train loss: 1.0861, Train RMSE: 1.0420, Train MAE: 0.8341, Val RMSE: 1.0588, Val MAE: 0.8505\n",
      "Epoch: 104, Train loss: 1.0857, Train RMSE: 1.0418, Train MAE: 0.8350, Val RMSE: 1.0590, Val MAE: 0.8517\n",
      "Epoch: 105, Train loss: 1.0853, Train RMSE: 1.0417, Train MAE: 0.8358, Val RMSE: 1.0592, Val MAE: 0.8527\n",
      "Epoch: 106, Train loss: 1.0852, Train RMSE: 1.0416, Train MAE: 0.8359, Val RMSE: 1.0593, Val MAE: 0.8530\n",
      "Epoch: 107, Train loss: 1.0849, Train RMSE: 1.0414, Train MAE: 0.8354, Val RMSE: 1.0591, Val MAE: 0.8525\n",
      "Epoch: 108, Train loss: 1.0846, Train RMSE: 1.0412, Train MAE: 0.8344, Val RMSE: 1.0589, Val MAE: 0.8515\n",
      "Epoch: 109, Train loss: 1.0842, Train RMSE: 1.0411, Train MAE: 0.8334, Val RMSE: 1.0587, Val MAE: 0.8505\n",
      "Epoch: 110, Train loss: 1.0839, Train RMSE: 1.0410, Train MAE: 0.8328, Val RMSE: 1.0586, Val MAE: 0.8498\n",
      "Epoch: 111, Train loss: 1.0837, Train RMSE: 1.0409, Train MAE: 0.8326, Val RMSE: 1.0585, Val MAE: 0.8498\n",
      "Epoch: 112, Train loss: 1.0834, Train RMSE: 1.0407, Train MAE: 0.8329, Val RMSE: 1.0586, Val MAE: 0.8503\n",
      "Epoch: 113, Train loss: 1.0830, Train RMSE: 1.0405, Train MAE: 0.8335, Val RMSE: 1.0587, Val MAE: 0.8510\n",
      "Epoch: 114, Train loss: 1.0827, Train RMSE: 1.0404, Train MAE: 0.8340, Val RMSE: 1.0588, Val MAE: 0.8517\n",
      "Epoch: 115, Train loss: 1.0825, Train RMSE: 1.0403, Train MAE: 0.8341, Val RMSE: 1.0588, Val MAE: 0.8519\n",
      "Epoch: 116, Train loss: 1.0822, Train RMSE: 1.0401, Train MAE: 0.8337, Val RMSE: 1.0588, Val MAE: 0.8516\n",
      "Epoch: 117, Train loss: 1.0819, Train RMSE: 1.0400, Train MAE: 0.8331, Val RMSE: 1.0586, Val MAE: 0.8510\n",
      "Epoch: 118, Train loss: 1.0815, Train RMSE: 1.0398, Train MAE: 0.8324, Val RMSE: 1.0584, Val MAE: 0.8503\n",
      "Epoch: 119, Train loss: 1.0812, Train RMSE: 1.0397, Train MAE: 0.8319, Val RMSE: 1.0584, Val MAE: 0.8498\n",
      "Epoch: 120, Train loss: 1.0810, Train RMSE: 1.0396, Train MAE: 0.8317, Val RMSE: 1.0583, Val MAE: 0.8498\n",
      "Epoch: 121, Train loss: 1.0807, Train RMSE: 1.0394, Train MAE: 0.8319, Val RMSE: 1.0583, Val MAE: 0.8501\n",
      "Epoch: 122, Train loss: 1.0803, Train RMSE: 1.0392, Train MAE: 0.8322, Val RMSE: 1.0584, Val MAE: 0.8506\n",
      "Epoch: 123, Train loss: 1.0800, Train RMSE: 1.0391, Train MAE: 0.8324, Val RMSE: 1.0585, Val MAE: 0.8509\n",
      "Epoch: 124, Train loss: 1.0797, Train RMSE: 1.0390, Train MAE: 0.8324, Val RMSE: 1.0585, Val MAE: 0.8510\n",
      "Epoch: 125, Train loss: 1.0794, Train RMSE: 1.0388, Train MAE: 0.8321, Val RMSE: 1.0584, Val MAE: 0.8508\n",
      "Epoch: 126, Train loss: 1.0791, Train RMSE: 1.0387, Train MAE: 0.8316, Val RMSE: 1.0583, Val MAE: 0.8503\n",
      "Epoch: 127, Train loss: 1.0788, Train RMSE: 1.0385, Train MAE: 0.8311, Val RMSE: 1.0582, Val MAE: 0.8499\n",
      "Epoch: 128, Train loss: 1.0785, Train RMSE: 1.0384, Train MAE: 0.8308, Val RMSE: 1.0581, Val MAE: 0.8496\n",
      "Epoch: 129, Train loss: 1.0782, Train RMSE: 1.0382, Train MAE: 0.8307, Val RMSE: 1.0580, Val MAE: 0.8496\n",
      "Epoch: 130, Train loss: 1.0779, Train RMSE: 1.0381, Train MAE: 0.8308, Val RMSE: 1.0581, Val MAE: 0.8498\n",
      "Epoch: 131, Train loss: 1.0776, Train RMSE: 1.0379, Train MAE: 0.8309, Val RMSE: 1.0581, Val MAE: 0.8501\n",
      "Epoch: 132, Train loss: 1.0772, Train RMSE: 1.0378, Train MAE: 0.8310, Val RMSE: 1.0581, Val MAE: 0.8503\n",
      "Epoch: 133, Train loss: 1.0769, Train RMSE: 1.0376, Train MAE: 0.8309, Val RMSE: 1.0581, Val MAE: 0.8503\n",
      "Epoch: 134, Train loss: 1.0766, Train RMSE: 1.0374, Train MAE: 0.8306, Val RMSE: 1.0580, Val MAE: 0.8500\n",
      "Epoch: 135, Train loss: 1.0763, Train RMSE: 1.0373, Train MAE: 0.8302, Val RMSE: 1.0579, Val MAE: 0.8497\n",
      "Epoch: 136, Train loss: 1.0760, Train RMSE: 1.0371, Train MAE: 0.8298, Val RMSE: 1.0578, Val MAE: 0.8494\n",
      "Epoch: 137, Train loss: 1.0756, Train RMSE: 1.0370, Train MAE: 0.8296, Val RMSE: 1.0578, Val MAE: 0.8493\n",
      "Epoch: 138, Train loss: 1.0753, Train RMSE: 1.0368, Train MAE: 0.8295, Val RMSE: 1.0578, Val MAE: 0.8494\n",
      "Epoch: 139, Train loss: 1.0750, Train RMSE: 1.0367, Train MAE: 0.8296, Val RMSE: 1.0578, Val MAE: 0.8495\n",
      "Epoch: 140, Train loss: 1.0746, Train RMSE: 1.0365, Train MAE: 0.8296, Val RMSE: 1.0578, Val MAE: 0.8496\n",
      "Epoch: 141, Train loss: 1.0743, Train RMSE: 1.0363, Train MAE: 0.8295, Val RMSE: 1.0578, Val MAE: 0.8497\n",
      "Epoch: 142, Train loss: 1.0740, Train RMSE: 1.0362, Train MAE: 0.8293, Val RMSE: 1.0577, Val MAE: 0.8496\n",
      "Epoch: 143, Train loss: 1.0736, Train RMSE: 1.0360, Train MAE: 0.8290, Val RMSE: 1.0576, Val MAE: 0.8494\n",
      "Epoch: 144, Train loss: 1.0733, Train RMSE: 1.0358, Train MAE: 0.8287, Val RMSE: 1.0576, Val MAE: 0.8491\n",
      "Epoch: 145, Train loss: 1.0730, Train RMSE: 1.0357, Train MAE: 0.8285, Val RMSE: 1.0575, Val MAE: 0.8490\n",
      "Epoch: 146, Train loss: 1.0726, Train RMSE: 1.0355, Train MAE: 0.8283, Val RMSE: 1.0575, Val MAE: 0.8489\n",
      "Epoch: 147, Train loss: 1.0723, Train RMSE: 1.0353, Train MAE: 0.8283, Val RMSE: 1.0575, Val MAE: 0.8490\n",
      "Epoch: 148, Train loss: 1.0719, Train RMSE: 1.0352, Train MAE: 0.8282, Val RMSE: 1.0574, Val MAE: 0.8491\n",
      "Epoch: 149, Train loss: 1.0716, Train RMSE: 1.0350, Train MAE: 0.8281, Val RMSE: 1.0574, Val MAE: 0.8491\n",
      "Epoch: 150, Train loss: 1.0712, Train RMSE: 1.0348, Train MAE: 0.8280, Val RMSE: 1.0574, Val MAE: 0.8490\n",
      "Epoch: 151, Train loss: 1.0709, Train RMSE: 1.0347, Train MAE: 0.8277, Val RMSE: 1.0573, Val MAE: 0.8489\n",
      "Epoch: 152, Train loss: 1.0705, Train RMSE: 1.0345, Train MAE: 0.8274, Val RMSE: 1.0573, Val MAE: 0.8487\n",
      "Epoch: 153, Train loss: 1.0702, Train RMSE: 1.0343, Train MAE: 0.8272, Val RMSE: 1.0572, Val MAE: 0.8485\n",
      "Epoch: 154, Train loss: 1.0698, Train RMSE: 1.0341, Train MAE: 0.8270, Val RMSE: 1.0572, Val MAE: 0.8485\n",
      "Epoch: 155, Train loss: 1.0695, Train RMSE: 1.0340, Train MAE: 0.8269, Val RMSE: 1.0571, Val MAE: 0.8485\n",
      "Epoch: 156, Train loss: 1.0691, Train RMSE: 1.0338, Train MAE: 0.8268, Val RMSE: 1.0571, Val MAE: 0.8485\n",
      "Epoch: 157, Train loss: 1.0687, Train RMSE: 1.0336, Train MAE: 0.8267, Val RMSE: 1.0571, Val MAE: 0.8485\n",
      "Epoch: 158, Train loss: 1.0684, Train RMSE: 1.0334, Train MAE: 0.8266, Val RMSE: 1.0571, Val MAE: 0.8484\n",
      "Epoch: 159, Train loss: 1.0680, Train RMSE: 1.0333, Train MAE: 0.8263, Val RMSE: 1.0570, Val MAE: 0.8483\n",
      "Epoch: 160, Train loss: 1.0676, Train RMSE: 1.0331, Train MAE: 0.8261, Val RMSE: 1.0570, Val MAE: 0.8482\n",
      "Epoch: 161, Train loss: 1.0673, Train RMSE: 1.0329, Train MAE: 0.8259, Val RMSE: 1.0569, Val MAE: 0.8481\n",
      "Epoch: 162, Train loss: 1.0669, Train RMSE: 1.0327, Train MAE: 0.8257, Val RMSE: 1.0569, Val MAE: 0.8480\n",
      "Epoch: 163, Train loss: 1.0665, Train RMSE: 1.0325, Train MAE: 0.8255, Val RMSE: 1.0569, Val MAE: 0.8480\n",
      "Epoch: 164, Train loss: 1.0661, Train RMSE: 1.0323, Train MAE: 0.8254, Val RMSE: 1.0568, Val MAE: 0.8480\n",
      "Epoch: 165, Train loss: 1.0657, Train RMSE: 1.0322, Train MAE: 0.8253, Val RMSE: 1.0568, Val MAE: 0.8479\n",
      "Epoch: 166, Train loss: 1.0654, Train RMSE: 1.0320, Train MAE: 0.8251, Val RMSE: 1.0568, Val MAE: 0.8478\n",
      "Epoch: 167, Train loss: 1.0650, Train RMSE: 1.0318, Train MAE: 0.8249, Val RMSE: 1.0567, Val MAE: 0.8477\n",
      "Epoch: 168, Train loss: 1.0646, Train RMSE: 1.0316, Train MAE: 0.8246, Val RMSE: 1.0567, Val MAE: 0.8476\n",
      "Epoch: 169, Train loss: 1.0642, Train RMSE: 1.0314, Train MAE: 0.8244, Val RMSE: 1.0566, Val MAE: 0.8475\n",
      "Epoch: 170, Train loss: 1.0638, Train RMSE: 1.0312, Train MAE: 0.8242, Val RMSE: 1.0566, Val MAE: 0.8475\n",
      "Epoch: 171, Train loss: 1.0634, Train RMSE: 1.0310, Train MAE: 0.8241, Val RMSE: 1.0566, Val MAE: 0.8474\n",
      "Epoch: 172, Train loss: 1.0630, Train RMSE: 1.0308, Train MAE: 0.8239, Val RMSE: 1.0565, Val MAE: 0.8474\n",
      "Epoch: 173, Train loss: 1.0626, Train RMSE: 1.0306, Train MAE: 0.8237, Val RMSE: 1.0565, Val MAE: 0.8473\n",
      "Epoch: 174, Train loss: 1.0622, Train RMSE: 1.0304, Train MAE: 0.8235, Val RMSE: 1.0565, Val MAE: 0.8472\n",
      "Epoch: 175, Train loss: 1.0618, Train RMSE: 1.0302, Train MAE: 0.8233, Val RMSE: 1.0564, Val MAE: 0.8471\n",
      "Epoch: 176, Train loss: 1.0614, Train RMSE: 1.0300, Train MAE: 0.8231, Val RMSE: 1.0564, Val MAE: 0.8470\n",
      "Epoch: 177, Train loss: 1.0610, Train RMSE: 1.0298, Train MAE: 0.8229, Val RMSE: 1.0563, Val MAE: 0.8470\n",
      "Epoch: 178, Train loss: 1.0606, Train RMSE: 1.0296, Train MAE: 0.8227, Val RMSE: 1.0563, Val MAE: 0.8469\n",
      "Epoch: 179, Train loss: 1.0602, Train RMSE: 1.0294, Train MAE: 0.8225, Val RMSE: 1.0563, Val MAE: 0.8468\n",
      "Epoch: 180, Train loss: 1.0598, Train RMSE: 1.0292, Train MAE: 0.8223, Val RMSE: 1.0562, Val MAE: 0.8468\n",
      "Epoch: 181, Train loss: 1.0594, Train RMSE: 1.0290, Train MAE: 0.8221, Val RMSE: 1.0562, Val MAE: 0.8467\n",
      "Epoch: 182, Train loss: 1.0590, Train RMSE: 1.0288, Train MAE: 0.8219, Val RMSE: 1.0562, Val MAE: 0.8466\n",
      "Epoch: 183, Train loss: 1.0585, Train RMSE: 1.0286, Train MAE: 0.8217, Val RMSE: 1.0561, Val MAE: 0.8465\n",
      "Epoch: 184, Train loss: 1.0581, Train RMSE: 1.0284, Train MAE: 0.8215, Val RMSE: 1.0561, Val MAE: 0.8464\n",
      "Epoch: 185, Train loss: 1.0577, Train RMSE: 1.0282, Train MAE: 0.8213, Val RMSE: 1.0561, Val MAE: 0.8463\n",
      "Epoch: 186, Train loss: 1.0573, Train RMSE: 1.0280, Train MAE: 0.8211, Val RMSE: 1.0560, Val MAE: 0.8463\n",
      "Epoch: 187, Train loss: 1.0569, Train RMSE: 1.0278, Train MAE: 0.8209, Val RMSE: 1.0560, Val MAE: 0.8462\n",
      "Epoch: 188, Train loss: 1.0564, Train RMSE: 1.0276, Train MAE: 0.8207, Val RMSE: 1.0560, Val MAE: 0.8461\n",
      "Epoch: 189, Train loss: 1.0560, Train RMSE: 1.0274, Train MAE: 0.8205, Val RMSE: 1.0559, Val MAE: 0.8460\n",
      "Epoch: 190, Train loss: 1.0556, Train RMSE: 1.0272, Train MAE: 0.8203, Val RMSE: 1.0559, Val MAE: 0.8459\n",
      "Epoch: 191, Train loss: 1.0551, Train RMSE: 1.0270, Train MAE: 0.8201, Val RMSE: 1.0559, Val MAE: 0.8459\n",
      "Epoch: 192, Train loss: 1.0547, Train RMSE: 1.0267, Train MAE: 0.8199, Val RMSE: 1.0558, Val MAE: 0.8458\n",
      "Epoch: 193, Train loss: 1.0543, Train RMSE: 1.0265, Train MAE: 0.8197, Val RMSE: 1.0558, Val MAE: 0.8457\n",
      "Epoch: 194, Train loss: 1.0538, Train RMSE: 1.0263, Train MAE: 0.8195, Val RMSE: 1.0558, Val MAE: 0.8456\n",
      "Epoch: 195, Train loss: 1.0534, Train RMSE: 1.0261, Train MAE: 0.8192, Val RMSE: 1.0557, Val MAE: 0.8455\n",
      "Epoch: 196, Train loss: 1.0529, Train RMSE: 1.0259, Train MAE: 0.8190, Val RMSE: 1.0557, Val MAE: 0.8454\n",
      "Epoch: 197, Train loss: 1.0525, Train RMSE: 1.0257, Train MAE: 0.8188, Val RMSE: 1.0557, Val MAE: 0.8453\n",
      "Epoch: 198, Train loss: 1.0520, Train RMSE: 1.0254, Train MAE: 0.8186, Val RMSE: 1.0556, Val MAE: 0.8453\n",
      "Epoch: 199, Train loss: 1.0516, Train RMSE: 1.0252, Train MAE: 0.8184, Val RMSE: 1.0556, Val MAE: 0.8452\n",
      "Epoch: 200, Train loss: 1.0511, Train RMSE: 1.0250, Train MAE: 0.8182, Val RMSE: 1.0556, Val MAE: 0.8451\n",
      "Epoch: 201, Train loss: 1.0507, Train RMSE: 1.0248, Train MAE: 0.8179, Val RMSE: 1.0556, Val MAE: 0.8450\n",
      "Epoch: 202, Train loss: 1.0502, Train RMSE: 1.0245, Train MAE: 0.8177, Val RMSE: 1.0555, Val MAE: 0.8449\n",
      "Epoch: 203, Train loss: 1.0498, Train RMSE: 1.0243, Train MAE: 0.8175, Val RMSE: 1.0555, Val MAE: 0.8448\n",
      "Epoch: 204, Train loss: 1.0493, Train RMSE: 1.0241, Train MAE: 0.8172, Val RMSE: 1.0555, Val MAE: 0.8447\n",
      "Epoch: 205, Train loss: 1.0488, Train RMSE: 1.0239, Train MAE: 0.8170, Val RMSE: 1.0555, Val MAE: 0.8446\n",
      "Epoch: 206, Train loss: 1.0484, Train RMSE: 1.0236, Train MAE: 0.8168, Val RMSE: 1.0554, Val MAE: 0.8446\n",
      "Epoch: 207, Train loss: 1.0479, Train RMSE: 1.0234, Train MAE: 0.8166, Val RMSE: 1.0554, Val MAE: 0.8445\n",
      "Epoch: 208, Train loss: 1.0474, Train RMSE: 1.0232, Train MAE: 0.8164, Val RMSE: 1.0554, Val MAE: 0.8444\n",
      "Epoch: 209, Train loss: 1.0470, Train RMSE: 1.0229, Train MAE: 0.8161, Val RMSE: 1.0554, Val MAE: 0.8443\n",
      "Epoch: 210, Train loss: 1.0465, Train RMSE: 1.0227, Train MAE: 0.8159, Val RMSE: 1.0553, Val MAE: 0.8442\n",
      "Epoch: 211, Train loss: 1.0460, Train RMSE: 1.0225, Train MAE: 0.8157, Val RMSE: 1.0553, Val MAE: 0.8441\n",
      "Epoch: 212, Train loss: 1.0456, Train RMSE: 1.0222, Train MAE: 0.8154, Val RMSE: 1.0553, Val MAE: 0.8440\n",
      "Epoch: 213, Train loss: 1.0451, Train RMSE: 1.0220, Train MAE: 0.8152, Val RMSE: 1.0553, Val MAE: 0.8439\n",
      "Epoch: 214, Train loss: 1.0446, Train RMSE: 1.0218, Train MAE: 0.8150, Val RMSE: 1.0553, Val MAE: 0.8439\n",
      "Epoch: 215, Train loss: 1.0441, Train RMSE: 1.0215, Train MAE: 0.8147, Val RMSE: 1.0552, Val MAE: 0.8438\n",
      "Epoch: 216, Train loss: 1.0437, Train RMSE: 1.0213, Train MAE: 0.8145, Val RMSE: 1.0552, Val MAE: 0.8437\n",
      "Epoch: 217, Train loss: 1.0432, Train RMSE: 1.0211, Train MAE: 0.8142, Val RMSE: 1.0552, Val MAE: 0.8436\n",
      "Epoch: 218, Train loss: 1.0427, Train RMSE: 1.0208, Train MAE: 0.8140, Val RMSE: 1.0552, Val MAE: 0.8435\n",
      "Epoch: 219, Train loss: 1.0422, Train RMSE: 1.0206, Train MAE: 0.8138, Val RMSE: 1.0552, Val MAE: 0.8434\n",
      "Epoch: 220, Train loss: 1.0417, Train RMSE: 1.0204, Train MAE: 0.8135, Val RMSE: 1.0552, Val MAE: 0.8434\n",
      "Epoch: 221, Train loss: 1.0413, Train RMSE: 1.0201, Train MAE: 0.8133, Val RMSE: 1.0551, Val MAE: 0.8433\n",
      "Epoch: 222, Train loss: 1.0408, Train RMSE: 1.0199, Train MAE: 0.8131, Val RMSE: 1.0551, Val MAE: 0.8432\n",
      "Epoch: 223, Train loss: 1.0403, Train RMSE: 1.0197, Train MAE: 0.8128, Val RMSE: 1.0551, Val MAE: 0.8431\n",
      "Epoch: 224, Train loss: 1.0398, Train RMSE: 1.0194, Train MAE: 0.8126, Val RMSE: 1.0551, Val MAE: 0.8430\n",
      "Epoch: 225, Train loss: 1.0393, Train RMSE: 1.0192, Train MAE: 0.8123, Val RMSE: 1.0551, Val MAE: 0.8429\n",
      "Epoch: 226, Train loss: 1.0388, Train RMSE: 1.0189, Train MAE: 0.8121, Val RMSE: 1.0550, Val MAE: 0.8428\n",
      "Epoch: 227, Train loss: 1.0384, Train RMSE: 1.0187, Train MAE: 0.8119, Val RMSE: 1.0550, Val MAE: 0.8428\n",
      "Epoch: 228, Train loss: 1.0379, Train RMSE: 1.0184, Train MAE: 0.8116, Val RMSE: 1.0550, Val MAE: 0.8427\n",
      "Epoch: 229, Train loss: 1.0374, Train RMSE: 1.0182, Train MAE: 0.8114, Val RMSE: 1.0550, Val MAE: 0.8426\n",
      "Epoch: 230, Train loss: 1.0369, Train RMSE: 1.0180, Train MAE: 0.8111, Val RMSE: 1.0550, Val MAE: 0.8425\n",
      "Epoch: 231, Train loss: 1.0364, Train RMSE: 1.0177, Train MAE: 0.8109, Val RMSE: 1.0549, Val MAE: 0.8424\n",
      "Epoch: 232, Train loss: 1.0359, Train RMSE: 1.0175, Train MAE: 0.8106, Val RMSE: 1.0549, Val MAE: 0.8423\n",
      "Epoch: 233, Train loss: 1.0354, Train RMSE: 1.0172, Train MAE: 0.8104, Val RMSE: 1.0549, Val MAE: 0.8422\n",
      "Epoch: 234, Train loss: 1.0349, Train RMSE: 1.0170, Train MAE: 0.8101, Val RMSE: 1.0549, Val MAE: 0.8421\n",
      "Epoch: 235, Train loss: 1.0344, Train RMSE: 1.0167, Train MAE: 0.8099, Val RMSE: 1.0549, Val MAE: 0.8421\n",
      "Epoch: 236, Train loss: 1.0339, Train RMSE: 1.0165, Train MAE: 0.8097, Val RMSE: 1.0549, Val MAE: 0.8420\n",
      "Epoch: 237, Train loss: 1.0334, Train RMSE: 1.0162, Train MAE: 0.8094, Val RMSE: 1.0548, Val MAE: 0.8419\n",
      "Epoch: 238, Train loss: 1.0329, Train RMSE: 1.0160, Train MAE: 0.8091, Val RMSE: 1.0548, Val MAE: 0.8418\n",
      "Epoch: 239, Train loss: 1.0324, Train RMSE: 1.0157, Train MAE: 0.8089, Val RMSE: 1.0548, Val MAE: 0.8418\n",
      "Epoch: 240, Train loss: 1.0318, Train RMSE: 1.0155, Train MAE: 0.8086, Val RMSE: 1.0548, Val MAE: 0.8417\n",
      "Epoch: 241, Train loss: 1.0313, Train RMSE: 1.0152, Train MAE: 0.8084, Val RMSE: 1.0548, Val MAE: 0.8416\n",
      "Epoch: 242, Train loss: 1.0308, Train RMSE: 1.0149, Train MAE: 0.8081, Val RMSE: 1.0547, Val MAE: 0.8415\n",
      "Epoch: 243, Train loss: 1.0303, Train RMSE: 1.0147, Train MAE: 0.8079, Val RMSE: 1.0547, Val MAE: 0.8415\n",
      "Epoch: 244, Train loss: 1.0298, Train RMSE: 1.0144, Train MAE: 0.8076, Val RMSE: 1.0547, Val MAE: 0.8414\n",
      "Epoch: 245, Train loss: 1.0293, Train RMSE: 1.0142, Train MAE: 0.8073, Val RMSE: 1.0547, Val MAE: 0.8413\n",
      "Epoch: 246, Train loss: 1.0287, Train RMSE: 1.0139, Train MAE: 0.8071, Val RMSE: 1.0546, Val MAE: 0.8412\n",
      "Epoch: 247, Train loss: 1.0282, Train RMSE: 1.0136, Train MAE: 0.8068, Val RMSE: 1.0546, Val MAE: 0.8411\n",
      "Epoch: 248, Train loss: 1.0277, Train RMSE: 1.0134, Train MAE: 0.8066, Val RMSE: 1.0546, Val MAE: 0.8410\n",
      "Epoch: 249, Train loss: 1.0271, Train RMSE: 1.0131, Train MAE: 0.8063, Val RMSE: 1.0545, Val MAE: 0.8410\n",
      "Epoch: 250, Train loss: 1.0266, Train RMSE: 1.0128, Train MAE: 0.8060, Val RMSE: 1.0545, Val MAE: 0.8409\n",
      "Epoch: 251, Train loss: 1.0261, Train RMSE: 1.0126, Train MAE: 0.8057, Val RMSE: 1.0544, Val MAE: 0.8408\n",
      "Epoch: 252, Train loss: 1.0255, Train RMSE: 1.0123, Train MAE: 0.8055, Val RMSE: 1.0544, Val MAE: 0.8407\n",
      "Epoch: 253, Train loss: 1.0250, Train RMSE: 1.0120, Train MAE: 0.8052, Val RMSE: 1.0543, Val MAE: 0.8406\n",
      "Epoch: 254, Train loss: 1.0244, Train RMSE: 1.0117, Train MAE: 0.8049, Val RMSE: 1.0543, Val MAE: 0.8405\n",
      "Epoch: 255, Train loss: 1.0238, Train RMSE: 1.0115, Train MAE: 0.8046, Val RMSE: 1.0542, Val MAE: 0.8404\n",
      "Epoch: 256, Train loss: 1.0233, Train RMSE: 1.0112, Train MAE: 0.8044, Val RMSE: 1.0542, Val MAE: 0.8403\n",
      "Epoch: 257, Train loss: 1.0227, Train RMSE: 1.0109, Train MAE: 0.8041, Val RMSE: 1.0541, Val MAE: 0.8402\n",
      "Epoch: 258, Train loss: 1.0221, Train RMSE: 1.0106, Train MAE: 0.8038, Val RMSE: 1.0540, Val MAE: 0.8401\n",
      "Epoch: 259, Train loss: 1.0216, Train RMSE: 1.0103, Train MAE: 0.8035, Val RMSE: 1.0539, Val MAE: 0.8399\n",
      "Epoch: 260, Train loss: 1.0210, Train RMSE: 1.0100, Train MAE: 0.8032, Val RMSE: 1.0539, Val MAE: 0.8398\n",
      "Epoch: 261, Train loss: 1.0204, Train RMSE: 1.0098, Train MAE: 0.8029, Val RMSE: 1.0538, Val MAE: 0.8397\n",
      "Epoch: 262, Train loss: 1.0198, Train RMSE: 1.0095, Train MAE: 0.8026, Val RMSE: 1.0537, Val MAE: 0.8396\n",
      "Epoch: 263, Train loss: 1.0193, Train RMSE: 1.0092, Train MAE: 0.8023, Val RMSE: 1.0536, Val MAE: 0.8395\n",
      "Epoch: 264, Train loss: 1.0187, Train RMSE: 1.0089, Train MAE: 0.8020, Val RMSE: 1.0535, Val MAE: 0.8393\n",
      "Epoch: 265, Train loss: 1.0181, Train RMSE: 1.0086, Train MAE: 0.8017, Val RMSE: 1.0534, Val MAE: 0.8392\n",
      "Epoch: 266, Train loss: 1.0175, Train RMSE: 1.0083, Train MAE: 0.8014, Val RMSE: 1.0533, Val MAE: 0.8391\n",
      "Epoch: 267, Train loss: 1.0169, Train RMSE: 1.0080, Train MAE: 0.8011, Val RMSE: 1.0533, Val MAE: 0.8390\n",
      "Epoch: 268, Train loss: 1.0163, Train RMSE: 1.0077, Train MAE: 0.8008, Val RMSE: 1.0532, Val MAE: 0.8388\n",
      "Epoch: 269, Train loss: 1.0157, Train RMSE: 1.0074, Train MAE: 0.8005, Val RMSE: 1.0530, Val MAE: 0.8387\n",
      "Epoch: 270, Train loss: 1.0150, Train RMSE: 1.0071, Train MAE: 0.8002, Val RMSE: 1.0529, Val MAE: 0.8385\n",
      "Epoch: 271, Train loss: 1.0144, Train RMSE: 1.0067, Train MAE: 0.7999, Val RMSE: 1.0528, Val MAE: 0.8384\n",
      "Epoch: 272, Train loss: 1.0138, Train RMSE: 1.0064, Train MAE: 0.7996, Val RMSE: 1.0527, Val MAE: 0.8382\n",
      "Epoch: 273, Train loss: 1.0132, Train RMSE: 1.0061, Train MAE: 0.7993, Val RMSE: 1.0526, Val MAE: 0.8381\n",
      "Epoch: 274, Train loss: 1.0125, Train RMSE: 1.0058, Train MAE: 0.7989, Val RMSE: 1.0525, Val MAE: 0.8379\n",
      "Epoch: 275, Train loss: 1.0119, Train RMSE: 1.0055, Train MAE: 0.7986, Val RMSE: 1.0523, Val MAE: 0.8378\n",
      "Epoch: 276, Train loss: 1.0113, Train RMSE: 1.0052, Train MAE: 0.7983, Val RMSE: 1.0522, Val MAE: 0.8376\n",
      "Epoch: 277, Train loss: 1.0106, Train RMSE: 1.0048, Train MAE: 0.7980, Val RMSE: 1.0521, Val MAE: 0.8375\n",
      "Epoch: 278, Train loss: 1.0100, Train RMSE: 1.0045, Train MAE: 0.7977, Val RMSE: 1.0520, Val MAE: 0.8373\n",
      "Epoch: 279, Train loss: 1.0093, Train RMSE: 1.0042, Train MAE: 0.7973, Val RMSE: 1.0518, Val MAE: 0.8371\n",
      "Epoch: 280, Train loss: 1.0087, Train RMSE: 1.0039, Train MAE: 0.7970, Val RMSE: 1.0517, Val MAE: 0.8370\n",
      "Epoch: 281, Train loss: 1.0080, Train RMSE: 1.0035, Train MAE: 0.7967, Val RMSE: 1.0515, Val MAE: 0.8368\n",
      "Epoch: 282, Train loss: 1.0073, Train RMSE: 1.0032, Train MAE: 0.7963, Val RMSE: 1.0514, Val MAE: 0.8366\n",
      "Epoch: 283, Train loss: 1.0067, Train RMSE: 1.0028, Train MAE: 0.7960, Val RMSE: 1.0512, Val MAE: 0.8364\n",
      "Epoch: 284, Train loss: 1.0060, Train RMSE: 1.0025, Train MAE: 0.7956, Val RMSE: 1.0511, Val MAE: 0.8362\n",
      "Epoch: 285, Train loss: 1.0053, Train RMSE: 1.0022, Train MAE: 0.7953, Val RMSE: 1.0509, Val MAE: 0.8360\n",
      "Epoch: 286, Train loss: 1.0046, Train RMSE: 1.0018, Train MAE: 0.7950, Val RMSE: 1.0508, Val MAE: 0.8359\n",
      "Epoch: 287, Train loss: 1.0039, Train RMSE: 1.0015, Train MAE: 0.7946, Val RMSE: 1.0506, Val MAE: 0.8357\n",
      "Epoch: 288, Train loss: 1.0032, Train RMSE: 1.0011, Train MAE: 0.7942, Val RMSE: 1.0504, Val MAE: 0.8354\n",
      "Epoch: 289, Train loss: 1.0025, Train RMSE: 1.0007, Train MAE: 0.7939, Val RMSE: 1.0503, Val MAE: 0.8352\n",
      "Epoch: 290, Train loss: 1.0018, Train RMSE: 1.0004, Train MAE: 0.7935, Val RMSE: 1.0501, Val MAE: 0.8350\n",
      "Epoch: 291, Train loss: 1.0011, Train RMSE: 1.0000, Train MAE: 0.7932, Val RMSE: 1.0499, Val MAE: 0.8349\n",
      "Epoch: 292, Train loss: 1.0004, Train RMSE: 0.9997, Train MAE: 0.7929, Val RMSE: 1.0498, Val MAE: 0.8347\n",
      "Epoch: 293, Train loss: 0.9996, Train RMSE: 0.9993, Train MAE: 0.7925, Val RMSE: 1.0496, Val MAE: 0.8345\n",
      "Epoch: 294, Train loss: 0.9989, Train RMSE: 0.9989, Train MAE: 0.7921, Val RMSE: 1.0494, Val MAE: 0.8342\n",
      "Epoch: 295, Train loss: 0.9982, Train RMSE: 0.9986, Train MAE: 0.7917, Val RMSE: 1.0492, Val MAE: 0.8340\n",
      "Epoch: 296, Train loss: 0.9975, Train RMSE: 0.9982, Train MAE: 0.7914, Val RMSE: 1.0490, Val MAE: 0.8338\n",
      "Epoch: 297, Train loss: 0.9967, Train RMSE: 0.9978, Train MAE: 0.7910, Val RMSE: 1.0488, Val MAE: 0.8336\n",
      "Epoch: 298, Train loss: 0.9960, Train RMSE: 0.9975, Train MAE: 0.7906, Val RMSE: 1.0485, Val MAE: 0.8334\n",
      "Epoch: 299, Train loss: 0.9952, Train RMSE: 0.9971, Train MAE: 0.7903, Val RMSE: 1.0483, Val MAE: 0.8331\n",
      "Epoch: 300, Train loss: 0.9945, Train RMSE: 0.9967, Train MAE: 0.7899, Val RMSE: 1.0481, Val MAE: 0.8329\n",
      "Epoch: 301, Train loss: 0.9937, Train RMSE: 0.9963, Train MAE: 0.7895, Val RMSE: 1.0479, Val MAE: 0.8327\n",
      "Epoch: 302, Train loss: 0.9930, Train RMSE: 0.9959, Train MAE: 0.7891, Val RMSE: 1.0477, Val MAE: 0.8324\n",
      "Epoch: 303, Train loss: 0.9922, Train RMSE: 0.9956, Train MAE: 0.7887, Val RMSE: 1.0475, Val MAE: 0.8322\n",
      "Epoch: 304, Train loss: 0.9914, Train RMSE: 0.9952, Train MAE: 0.7884, Val RMSE: 1.0472, Val MAE: 0.8320\n",
      "Epoch: 305, Train loss: 0.9907, Train RMSE: 0.9948, Train MAE: 0.7880, Val RMSE: 1.0470, Val MAE: 0.8317\n",
      "Epoch: 306, Train loss: 0.9899, Train RMSE: 0.9944, Train MAE: 0.7876, Val RMSE: 1.0468, Val MAE: 0.8315\n",
      "Epoch: 307, Train loss: 0.9891, Train RMSE: 0.9940, Train MAE: 0.7872, Val RMSE: 1.0465, Val MAE: 0.8313\n",
      "Epoch: 308, Train loss: 0.9884, Train RMSE: 0.9936, Train MAE: 0.7868, Val RMSE: 1.0463, Val MAE: 0.8310\n",
      "Epoch: 309, Train loss: 0.9876, Train RMSE: 0.9932, Train MAE: 0.7864, Val RMSE: 1.0461, Val MAE: 0.8307\n",
      "Epoch: 310, Train loss: 0.9868, Train RMSE: 0.9928, Train MAE: 0.7860, Val RMSE: 1.0458, Val MAE: 0.8304\n",
      "Epoch: 311, Train loss: 0.9860, Train RMSE: 0.9924, Train MAE: 0.7856, Val RMSE: 1.0456, Val MAE: 0.8302\n",
      "Epoch: 312, Train loss: 0.9852, Train RMSE: 0.9920, Train MAE: 0.7853, Val RMSE: 1.0453, Val MAE: 0.8300\n",
      "Epoch: 313, Train loss: 0.9844, Train RMSE: 0.9916, Train MAE: 0.7848, Val RMSE: 1.0451, Val MAE: 0.8297\n",
      "Epoch: 314, Train loss: 0.9836, Train RMSE: 0.9912, Train MAE: 0.7844, Val RMSE: 1.0448, Val MAE: 0.8294\n",
      "Epoch: 315, Train loss: 0.9828, Train RMSE: 0.9908, Train MAE: 0.7840, Val RMSE: 1.0445, Val MAE: 0.8291\n",
      "Epoch: 316, Train loss: 0.9820, Train RMSE: 0.9904, Train MAE: 0.7836, Val RMSE: 1.0443, Val MAE: 0.8289\n",
      "Epoch: 317, Train loss: 0.9812, Train RMSE: 0.9900, Train MAE: 0.7832, Val RMSE: 1.0440, Val MAE: 0.8287\n",
      "Epoch: 318, Train loss: 0.9804, Train RMSE: 0.9896, Train MAE: 0.7828, Val RMSE: 1.0437, Val MAE: 0.8284\n",
      "Epoch: 319, Train loss: 0.9796, Train RMSE: 0.9892, Train MAE: 0.7824, Val RMSE: 1.0434, Val MAE: 0.8281\n",
      "Epoch: 320, Train loss: 0.9788, Train RMSE: 0.9888, Train MAE: 0.7820, Val RMSE: 1.0431, Val MAE: 0.8278\n",
      "Epoch: 321, Train loss: 0.9779, Train RMSE: 0.9883, Train MAE: 0.7816, Val RMSE: 1.0429, Val MAE: 0.8276\n",
      "Epoch: 322, Train loss: 0.9771, Train RMSE: 0.9879, Train MAE: 0.7812, Val RMSE: 1.0426, Val MAE: 0.8273\n",
      "Epoch: 323, Train loss: 0.9763, Train RMSE: 0.9875, Train MAE: 0.7807, Val RMSE: 1.0423, Val MAE: 0.8270\n",
      "Epoch: 324, Train loss: 0.9755, Train RMSE: 0.9871, Train MAE: 0.7803, Val RMSE: 1.0420, Val MAE: 0.8267\n",
      "Epoch: 325, Train loss: 0.9746, Train RMSE: 0.9867, Train MAE: 0.7799, Val RMSE: 1.0417, Val MAE: 0.8265\n",
      "Epoch: 326, Train loss: 0.9738, Train RMSE: 0.9862, Train MAE: 0.7795, Val RMSE: 1.0414, Val MAE: 0.8263\n",
      "Epoch: 327, Train loss: 0.9730, Train RMSE: 0.9858, Train MAE: 0.7791, Val RMSE: 1.0411, Val MAE: 0.8260\n",
      "Epoch: 328, Train loss: 0.9721, Train RMSE: 0.9854, Train MAE: 0.7787, Val RMSE: 1.0408, Val MAE: 0.8257\n",
      "Epoch: 329, Train loss: 0.9713, Train RMSE: 0.9850, Train MAE: 0.7782, Val RMSE: 1.0406, Val MAE: 0.8254\n",
      "Epoch: 330, Train loss: 0.9705, Train RMSE: 0.9845, Train MAE: 0.7778, Val RMSE: 1.0403, Val MAE: 0.8251\n",
      "Epoch: 331, Train loss: 0.9696, Train RMSE: 0.9841, Train MAE: 0.7774, Val RMSE: 1.0400, Val MAE: 0.8249\n",
      "Epoch: 332, Train loss: 0.9688, Train RMSE: 0.9837, Train MAE: 0.7770, Val RMSE: 1.0397, Val MAE: 0.8246\n",
      "Epoch: 333, Train loss: 0.9679, Train RMSE: 0.9832, Train MAE: 0.7765, Val RMSE: 1.0394, Val MAE: 0.8243\n",
      "Epoch: 334, Train loss: 0.9671, Train RMSE: 0.9828, Train MAE: 0.7761, Val RMSE: 1.0391, Val MAE: 0.8240\n",
      "Epoch: 335, Train loss: 0.9662, Train RMSE: 0.9824, Train MAE: 0.7757, Val RMSE: 1.0388, Val MAE: 0.8238\n",
      "Epoch: 336, Train loss: 0.9654, Train RMSE: 0.9819, Train MAE: 0.7753, Val RMSE: 1.0385, Val MAE: 0.8235\n",
      "Epoch: 337, Train loss: 0.9645, Train RMSE: 0.9815, Train MAE: 0.7749, Val RMSE: 1.0382, Val MAE: 0.8232\n",
      "Epoch: 338, Train loss: 0.9637, Train RMSE: 0.9811, Train MAE: 0.7744, Val RMSE: 1.0379, Val MAE: 0.8229\n",
      "Epoch: 339, Train loss: 0.9628, Train RMSE: 0.9806, Train MAE: 0.7741, Val RMSE: 1.0376, Val MAE: 0.8227\n",
      "Epoch: 340, Train loss: 0.9620, Train RMSE: 0.9802, Train MAE: 0.7737, Val RMSE: 1.0373, Val MAE: 0.8224\n",
      "Epoch: 341, Train loss: 0.9611, Train RMSE: 0.9798, Train MAE: 0.7732, Val RMSE: 1.0370, Val MAE: 0.8221\n",
      "Epoch: 342, Train loss: 0.9603, Train RMSE: 0.9793, Train MAE: 0.7727, Val RMSE: 1.0367, Val MAE: 0.8218\n",
      "Epoch: 343, Train loss: 0.9594, Train RMSE: 0.9789, Train MAE: 0.7723, Val RMSE: 1.0363, Val MAE: 0.8215\n",
      "Epoch: 344, Train loss: 0.9586, Train RMSE: 0.9785, Train MAE: 0.7719, Val RMSE: 1.0360, Val MAE: 0.8213\n",
      "Epoch: 345, Train loss: 0.9577, Train RMSE: 0.9780, Train MAE: 0.7715, Val RMSE: 1.0357, Val MAE: 0.8210\n",
      "Epoch: 346, Train loss: 0.9569, Train RMSE: 0.9776, Train MAE: 0.7711, Val RMSE: 1.0354, Val MAE: 0.8207\n",
      "Epoch: 347, Train loss: 0.9560, Train RMSE: 0.9772, Train MAE: 0.7706, Val RMSE: 1.0351, Val MAE: 0.8204\n",
      "Epoch: 348, Train loss: 0.9551, Train RMSE: 0.9767, Train MAE: 0.7702, Val RMSE: 1.0348, Val MAE: 0.8202\n",
      "Epoch: 349, Train loss: 0.9543, Train RMSE: 0.9763, Train MAE: 0.7699, Val RMSE: 1.0345, Val MAE: 0.8199\n",
      "Epoch: 350, Train loss: 0.9534, Train RMSE: 0.9758, Train MAE: 0.7694, Val RMSE: 1.0342, Val MAE: 0.8196\n",
      "Epoch: 351, Train loss: 0.9526, Train RMSE: 0.9754, Train MAE: 0.7689, Val RMSE: 1.0339, Val MAE: 0.8193\n",
      "Epoch: 352, Train loss: 0.9517, Train RMSE: 0.9750, Train MAE: 0.7685, Val RMSE: 1.0335, Val MAE: 0.8190\n",
      "Epoch: 353, Train loss: 0.9509, Train RMSE: 0.9745, Train MAE: 0.7681, Val RMSE: 1.0332, Val MAE: 0.8187\n",
      "Epoch: 354, Train loss: 0.9500, Train RMSE: 0.9741, Train MAE: 0.7677, Val RMSE: 1.0329, Val MAE: 0.8184\n",
      "Epoch: 355, Train loss: 0.9492, Train RMSE: 0.9737, Train MAE: 0.7672, Val RMSE: 1.0325, Val MAE: 0.8180\n",
      "Epoch: 356, Train loss: 0.9483, Train RMSE: 0.9732, Train MAE: 0.7669, Val RMSE: 1.0322, Val MAE: 0.8178\n",
      "Epoch: 357, Train loss: 0.9475, Train RMSE: 0.9728, Train MAE: 0.7665, Val RMSE: 1.0319, Val MAE: 0.8175\n",
      "Epoch: 358, Train loss: 0.9467, Train RMSE: 0.9724, Train MAE: 0.7660, Val RMSE: 1.0316, Val MAE: 0.8172\n",
      "Epoch: 359, Train loss: 0.9458, Train RMSE: 0.9719, Train MAE: 0.7655, Val RMSE: 1.0313, Val MAE: 0.8168\n",
      "Epoch: 360, Train loss: 0.9450, Train RMSE: 0.9715, Train MAE: 0.7651, Val RMSE: 1.0310, Val MAE: 0.8165\n",
      "Epoch: 361, Train loss: 0.9441, Train RMSE: 0.9711, Train MAE: 0.7647, Val RMSE: 1.0307, Val MAE: 0.8163\n",
      "Epoch: 362, Train loss: 0.9433, Train RMSE: 0.9707, Train MAE: 0.7643, Val RMSE: 1.0303, Val MAE: 0.8160\n",
      "Epoch: 363, Train loss: 0.9425, Train RMSE: 0.9702, Train MAE: 0.7639, Val RMSE: 1.0300, Val MAE: 0.8156\n",
      "Epoch: 364, Train loss: 0.9416, Train RMSE: 0.9698, Train MAE: 0.7635, Val RMSE: 1.0297, Val MAE: 0.8152\n",
      "Epoch: 365, Train loss: 0.9408, Train RMSE: 0.9694, Train MAE: 0.7630, Val RMSE: 1.0293, Val MAE: 0.8149\n",
      "Epoch: 366, Train loss: 0.9400, Train RMSE: 0.9690, Train MAE: 0.7626, Val RMSE: 1.0290, Val MAE: 0.8146\n",
      "Epoch: 367, Train loss: 0.9392, Train RMSE: 0.9685, Train MAE: 0.7622, Val RMSE: 1.0287, Val MAE: 0.8143\n",
      "Epoch: 368, Train loss: 0.9383, Train RMSE: 0.9681, Train MAE: 0.7618, Val RMSE: 1.0284, Val MAE: 0.8141\n",
      "Epoch: 369, Train loss: 0.9375, Train RMSE: 0.9677, Train MAE: 0.7614, Val RMSE: 1.0281, Val MAE: 0.8137\n",
      "Epoch: 370, Train loss: 0.9367, Train RMSE: 0.9673, Train MAE: 0.7610, Val RMSE: 1.0278, Val MAE: 0.8134\n",
      "Epoch: 371, Train loss: 0.9359, Train RMSE: 0.9668, Train MAE: 0.7606, Val RMSE: 1.0275, Val MAE: 0.8132\n",
      "Epoch: 372, Train loss: 0.9351, Train RMSE: 0.9664, Train MAE: 0.7602, Val RMSE: 1.0272, Val MAE: 0.8129\n",
      "Epoch: 373, Train loss: 0.9343, Train RMSE: 0.9660, Train MAE: 0.7597, Val RMSE: 1.0269, Val MAE: 0.8126\n",
      "Epoch: 374, Train loss: 0.9335, Train RMSE: 0.9656, Train MAE: 0.7594, Val RMSE: 1.0266, Val MAE: 0.8123\n",
      "Epoch: 375, Train loss: 0.9327, Train RMSE: 0.9652, Train MAE: 0.7589, Val RMSE: 1.0263, Val MAE: 0.8119\n",
      "Epoch: 376, Train loss: 0.9319, Train RMSE: 0.9648, Train MAE: 0.7585, Val RMSE: 1.0260, Val MAE: 0.8116\n",
      "Epoch: 377, Train loss: 0.9311, Train RMSE: 0.9644, Train MAE: 0.7582, Val RMSE: 1.0257, Val MAE: 0.8114\n",
      "Epoch: 378, Train loss: 0.9303, Train RMSE: 0.9640, Train MAE: 0.7578, Val RMSE: 1.0254, Val MAE: 0.8111\n",
      "Epoch: 379, Train loss: 0.9295, Train RMSE: 0.9636, Train MAE: 0.7573, Val RMSE: 1.0251, Val MAE: 0.8107\n",
      "Epoch: 380, Train loss: 0.9287, Train RMSE: 0.9632, Train MAE: 0.7569, Val RMSE: 1.0248, Val MAE: 0.8104\n",
      "Epoch: 381, Train loss: 0.9280, Train RMSE: 0.9628, Train MAE: 0.7566, Val RMSE: 1.0245, Val MAE: 0.8103\n",
      "Epoch: 382, Train loss: 0.9272, Train RMSE: 0.9624, Train MAE: 0.7562, Val RMSE: 1.0243, Val MAE: 0.8100\n",
      "Epoch: 383, Train loss: 0.9264, Train RMSE: 0.9620, Train MAE: 0.7558, Val RMSE: 1.0240, Val MAE: 0.8097\n",
      "Epoch: 384, Train loss: 0.9257, Train RMSE: 0.9616, Train MAE: 0.7554, Val RMSE: 1.0237, Val MAE: 0.8094\n",
      "Epoch: 385, Train loss: 0.9249, Train RMSE: 0.9612, Train MAE: 0.7551, Val RMSE: 1.0234, Val MAE: 0.8092\n",
      "Epoch: 386, Train loss: 0.9241, Train RMSE: 0.9608, Train MAE: 0.7547, Val RMSE: 1.0232, Val MAE: 0.8089\n",
      "Epoch: 387, Train loss: 0.9234, Train RMSE: 0.9604, Train MAE: 0.7543, Val RMSE: 1.0229, Val MAE: 0.8087\n",
      "Epoch: 388, Train loss: 0.9226, Train RMSE: 0.9600, Train MAE: 0.7539, Val RMSE: 1.0226, Val MAE: 0.8084\n",
      "Epoch: 389, Train loss: 0.9219, Train RMSE: 0.9596, Train MAE: 0.7536, Val RMSE: 1.0224, Val MAE: 0.8082\n",
      "Epoch: 390, Train loss: 0.9212, Train RMSE: 0.9593, Train MAE: 0.7532, Val RMSE: 1.0221, Val MAE: 0.8079\n",
      "Epoch: 391, Train loss: 0.9204, Train RMSE: 0.9589, Train MAE: 0.7528, Val RMSE: 1.0219, Val MAE: 0.8076\n",
      "Epoch: 392, Train loss: 0.9197, Train RMSE: 0.9585, Train MAE: 0.7525, Val RMSE: 1.0216, Val MAE: 0.8074\n",
      "Epoch: 393, Train loss: 0.9190, Train RMSE: 0.9581, Train MAE: 0.7522, Val RMSE: 1.0214, Val MAE: 0.8072\n",
      "Epoch: 394, Train loss: 0.9182, Train RMSE: 0.9577, Train MAE: 0.7518, Val RMSE: 1.0211, Val MAE: 0.8069\n",
      "Epoch: 395, Train loss: 0.9175, Train RMSE: 0.9574, Train MAE: 0.7514, Val RMSE: 1.0208, Val MAE: 0.8066\n",
      "Epoch: 396, Train loss: 0.9168, Train RMSE: 0.9570, Train MAE: 0.7511, Val RMSE: 1.0206, Val MAE: 0.8064\n",
      "Epoch: 397, Train loss: 0.9161, Train RMSE: 0.9566, Train MAE: 0.7507, Val RMSE: 1.0203, Val MAE: 0.8061\n",
      "Epoch: 398, Train loss: 0.9154, Train RMSE: 0.9563, Train MAE: 0.7504, Val RMSE: 1.0200, Val MAE: 0.8058\n",
      "Epoch: 399, Train loss: 0.9147, Train RMSE: 0.9559, Train MAE: 0.7500, Val RMSE: 1.0198, Val MAE: 0.8056\n",
      "Epoch: 400, Train loss: 0.9140, Train RMSE: 0.9555, Train MAE: 0.7497, Val RMSE: 1.0195, Val MAE: 0.8054\n",
      "Epoch: 401, Train loss: 0.9133, Train RMSE: 0.9552, Train MAE: 0.7493, Val RMSE: 1.0192, Val MAE: 0.8050\n",
      "Epoch: 402, Train loss: 0.9126, Train RMSE: 0.9548, Train MAE: 0.7489, Val RMSE: 1.0190, Val MAE: 0.8048\n",
      "Epoch: 403, Train loss: 0.9119, Train RMSE: 0.9545, Train MAE: 0.7487, Val RMSE: 1.0188, Val MAE: 0.8047\n",
      "Epoch: 404, Train loss: 0.9113, Train RMSE: 0.9541, Train MAE: 0.7483, Val RMSE: 1.0186, Val MAE: 0.8044\n",
      "Epoch: 405, Train loss: 0.9106, Train RMSE: 0.9538, Train MAE: 0.7479, Val RMSE: 1.0183, Val MAE: 0.8040\n",
      "Epoch: 406, Train loss: 0.9099, Train RMSE: 0.9534, Train MAE: 0.7476, Val RMSE: 1.0181, Val MAE: 0.8038\n",
      "Epoch: 407, Train loss: 0.9093, Train RMSE: 0.9531, Train MAE: 0.7473, Val RMSE: 1.0179, Val MAE: 0.8037\n",
      "Epoch: 408, Train loss: 0.9086, Train RMSE: 0.9527, Train MAE: 0.7469, Val RMSE: 1.0177, Val MAE: 0.8034\n",
      "Epoch: 409, Train loss: 0.9079, Train RMSE: 0.9524, Train MAE: 0.7465, Val RMSE: 1.0174, Val MAE: 0.8031\n",
      "Epoch: 410, Train loss: 0.9073, Train RMSE: 0.9520, Train MAE: 0.7463, Val RMSE: 1.0173, Val MAE: 0.8029\n",
      "Epoch: 411, Train loss: 0.9066, Train RMSE: 0.9517, Train MAE: 0.7460, Val RMSE: 1.0171, Val MAE: 0.8027\n",
      "Epoch: 412, Train loss: 0.9060, Train RMSE: 0.9514, Train MAE: 0.7456, Val RMSE: 1.0169, Val MAE: 0.8025\n",
      "Epoch: 413, Train loss: 0.9054, Train RMSE: 0.9511, Train MAE: 0.7453, Val RMSE: 1.0167, Val MAE: 0.8023\n",
      "Epoch: 414, Train loss: 0.9048, Train RMSE: 0.9507, Train MAE: 0.7450, Val RMSE: 1.0165, Val MAE: 0.8021\n",
      "Epoch: 415, Train loss: 0.9041, Train RMSE: 0.9504, Train MAE: 0.7447, Val RMSE: 1.0163, Val MAE: 0.8018\n",
      "Epoch: 416, Train loss: 0.9035, Train RMSE: 0.9501, Train MAE: 0.7444, Val RMSE: 1.0161, Val MAE: 0.8016\n",
      "Epoch: 417, Train loss: 0.9029, Train RMSE: 0.9498, Train MAE: 0.7441, Val RMSE: 1.0159, Val MAE: 0.8015\n",
      "Epoch: 418, Train loss: 0.9023, Train RMSE: 0.9494, Train MAE: 0.7438, Val RMSE: 1.0157, Val MAE: 0.8012\n",
      "Epoch: 419, Train loss: 0.9017, Train RMSE: 0.9491, Train MAE: 0.7435, Val RMSE: 1.0156, Val MAE: 0.8010\n",
      "Epoch: 420, Train loss: 0.9011, Train RMSE: 0.9488, Train MAE: 0.7433, Val RMSE: 1.0154, Val MAE: 0.8009\n",
      "Epoch: 421, Train loss: 0.9005, Train RMSE: 0.9485, Train MAE: 0.7429, Val RMSE: 1.0152, Val MAE: 0.8006\n",
      "Epoch: 422, Train loss: 0.8999, Train RMSE: 0.9482, Train MAE: 0.7426, Val RMSE: 1.0150, Val MAE: 0.8004\n",
      "Epoch: 423, Train loss: 0.8993, Train RMSE: 0.9479, Train MAE: 0.7424, Val RMSE: 1.0148, Val MAE: 0.8003\n",
      "Epoch: 424, Train loss: 0.8988, Train RMSE: 0.9476, Train MAE: 0.7421, Val RMSE: 1.0147, Val MAE: 0.8001\n",
      "Epoch: 425, Train loss: 0.8982, Train RMSE: 0.9473, Train MAE: 0.7418, Val RMSE: 1.0145, Val MAE: 0.7998\n",
      "Epoch: 426, Train loss: 0.8976, Train RMSE: 0.9470, Train MAE: 0.7415, Val RMSE: 1.0143, Val MAE: 0.7997\n",
      "Epoch: 427, Train loss: 0.8970, Train RMSE: 0.9467, Train MAE: 0.7413, Val RMSE: 1.0142, Val MAE: 0.7995\n",
      "Epoch: 428, Train loss: 0.8965, Train RMSE: 0.9464, Train MAE: 0.7410, Val RMSE: 1.0140, Val MAE: 0.7993\n",
      "Epoch: 429, Train loss: 0.8959, Train RMSE: 0.9461, Train MAE: 0.7407, Val RMSE: 1.0138, Val MAE: 0.7991\n",
      "Epoch: 430, Train loss: 0.8954, Train RMSE: 0.9458, Train MAE: 0.7405, Val RMSE: 1.0137, Val MAE: 0.7990\n",
      "Epoch: 431, Train loss: 0.8948, Train RMSE: 0.9455, Train MAE: 0.7402, Val RMSE: 1.0136, Val MAE: 0.7988\n",
      "Epoch: 432, Train loss: 0.8943, Train RMSE: 0.9452, Train MAE: 0.7399, Val RMSE: 1.0134, Val MAE: 0.7986\n",
      "Epoch: 433, Train loss: 0.8937, Train RMSE: 0.9450, Train MAE: 0.7397, Val RMSE: 1.0133, Val MAE: 0.7984\n",
      "Epoch: 434, Train loss: 0.8932, Train RMSE: 0.9447, Train MAE: 0.7395, Val RMSE: 1.0131, Val MAE: 0.7983\n",
      "Epoch: 435, Train loss: 0.8927, Train RMSE: 0.9444, Train MAE: 0.7391, Val RMSE: 1.0130, Val MAE: 0.7981\n",
      "Epoch: 436, Train loss: 0.8922, Train RMSE: 0.9441, Train MAE: 0.7389, Val RMSE: 1.0128, Val MAE: 0.7980\n",
      "Epoch: 437, Train loss: 0.8916, Train RMSE: 0.9439, Train MAE: 0.7387, Val RMSE: 1.0127, Val MAE: 0.7979\n",
      "Epoch: 438, Train loss: 0.8911, Train RMSE: 0.9436, Train MAE: 0.7384, Val RMSE: 1.0126, Val MAE: 0.7977\n",
      "Epoch: 439, Train loss: 0.8906, Train RMSE: 0.9433, Train MAE: 0.7381, Val RMSE: 1.0125, Val MAE: 0.7976\n",
      "Epoch: 440, Train loss: 0.8901, Train RMSE: 0.9431, Train MAE: 0.7380, Val RMSE: 1.0124, Val MAE: 0.7976\n",
      "Epoch: 441, Train loss: 0.8896, Train RMSE: 0.9428, Train MAE: 0.7377, Val RMSE: 1.0123, Val MAE: 0.7974\n",
      "Epoch: 442, Train loss: 0.8891, Train RMSE: 0.9425, Train MAE: 0.7374, Val RMSE: 1.0122, Val MAE: 0.7972\n",
      "Epoch: 443, Train loss: 0.8886, Train RMSE: 0.9423, Train MAE: 0.7373, Val RMSE: 1.0121, Val MAE: 0.7972\n",
      "Epoch: 444, Train loss: 0.8881, Train RMSE: 0.9420, Train MAE: 0.7369, Val RMSE: 1.0119, Val MAE: 0.7970\n",
      "Epoch: 445, Train loss: 0.8877, Train RMSE: 0.9418, Train MAE: 0.7367, Val RMSE: 1.0118, Val MAE: 0.7969\n",
      "Epoch: 446, Train loss: 0.8872, Train RMSE: 0.9415, Train MAE: 0.7365, Val RMSE: 1.0118, Val MAE: 0.7968\n",
      "Epoch: 447, Train loss: 0.8867, Train RMSE: 0.9413, Train MAE: 0.7363, Val RMSE: 1.0116, Val MAE: 0.7966\n",
      "Epoch: 448, Train loss: 0.8862, Train RMSE: 0.9410, Train MAE: 0.7361, Val RMSE: 1.0115, Val MAE: 0.7965\n",
      "Epoch: 449, Train loss: 0.8858, Train RMSE: 0.9408, Train MAE: 0.7359, Val RMSE: 1.0114, Val MAE: 0.7964\n",
      "Epoch: 450, Train loss: 0.8853, Train RMSE: 0.9405, Train MAE: 0.7356, Val RMSE: 1.0113, Val MAE: 0.7962\n",
      "Epoch: 451, Train loss: 0.8849, Train RMSE: 0.9403, Train MAE: 0.7354, Val RMSE: 1.0112, Val MAE: 0.7961\n",
      "Epoch: 452, Train loss: 0.8844, Train RMSE: 0.9401, Train MAE: 0.7352, Val RMSE: 1.0111, Val MAE: 0.7960\n",
      "Epoch: 453, Train loss: 0.8840, Train RMSE: 0.9398, Train MAE: 0.7349, Val RMSE: 1.0109, Val MAE: 0.7958\n",
      "Epoch: 454, Train loss: 0.8835, Train RMSE: 0.9396, Train MAE: 0.7348, Val RMSE: 1.0108, Val MAE: 0.7957\n",
      "Epoch: 455, Train loss: 0.8831, Train RMSE: 0.9394, Train MAE: 0.7345, Val RMSE: 1.0107, Val MAE: 0.7956\n",
      "Epoch: 456, Train loss: 0.8827, Train RMSE: 0.9391, Train MAE: 0.7343, Val RMSE: 1.0106, Val MAE: 0.7954\n",
      "Epoch: 457, Train loss: 0.8822, Train RMSE: 0.9389, Train MAE: 0.7341, Val RMSE: 1.0105, Val MAE: 0.7953\n",
      "Epoch: 458, Train loss: 0.8818, Train RMSE: 0.9387, Train MAE: 0.7339, Val RMSE: 1.0104, Val MAE: 0.7952\n",
      "Epoch: 459, Train loss: 0.8814, Train RMSE: 0.9385, Train MAE: 0.7336, Val RMSE: 1.0103, Val MAE: 0.7951\n",
      "Epoch: 460, Train loss: 0.8810, Train RMSE: 0.9382, Train MAE: 0.7335, Val RMSE: 1.0102, Val MAE: 0.7950\n",
      "Epoch: 461, Train loss: 0.8805, Train RMSE: 0.9380, Train MAE: 0.7332, Val RMSE: 1.0101, Val MAE: 0.7948\n",
      "Epoch: 462, Train loss: 0.8801, Train RMSE: 0.9378, Train MAE: 0.7330, Val RMSE: 1.0100, Val MAE: 0.7947\n",
      "Epoch: 463, Train loss: 0.8797, Train RMSE: 0.9376, Train MAE: 0.7328, Val RMSE: 1.0100, Val MAE: 0.7947\n",
      "Epoch: 464, Train loss: 0.8793, Train RMSE: 0.9374, Train MAE: 0.7326, Val RMSE: 1.0099, Val MAE: 0.7946\n",
      "Epoch: 465, Train loss: 0.8789, Train RMSE: 0.9372, Train MAE: 0.7325, Val RMSE: 1.0098, Val MAE: 0.7945\n",
      "Epoch: 466, Train loss: 0.8785, Train RMSE: 0.9370, Train MAE: 0.7322, Val RMSE: 1.0098, Val MAE: 0.7944\n",
      "Epoch: 467, Train loss: 0.8781, Train RMSE: 0.9368, Train MAE: 0.7320, Val RMSE: 1.0097, Val MAE: 0.7943\n",
      "Epoch: 468, Train loss: 0.8778, Train RMSE: 0.9366, Train MAE: 0.7319, Val RMSE: 1.0096, Val MAE: 0.7942\n",
      "Epoch: 469, Train loss: 0.8774, Train RMSE: 0.9364, Train MAE: 0.7316, Val RMSE: 1.0095, Val MAE: 0.7941\n",
      "Epoch: 470, Train loss: 0.8770, Train RMSE: 0.9362, Train MAE: 0.7315, Val RMSE: 1.0095, Val MAE: 0.7940\n",
      "Epoch: 471, Train loss: 0.8766, Train RMSE: 0.9360, Train MAE: 0.7312, Val RMSE: 1.0094, Val MAE: 0.7939\n",
      "Epoch: 472, Train loss: 0.8762, Train RMSE: 0.9358, Train MAE: 0.7311, Val RMSE: 1.0094, Val MAE: 0.7939\n",
      "Epoch: 473, Train loss: 0.8759, Train RMSE: 0.9356, Train MAE: 0.7308, Val RMSE: 1.0093, Val MAE: 0.7937\n",
      "Epoch: 474, Train loss: 0.8755, Train RMSE: 0.9354, Train MAE: 0.7307, Val RMSE: 1.0092, Val MAE: 0.7937\n",
      "Epoch: 475, Train loss: 0.8751, Train RMSE: 0.9352, Train MAE: 0.7305, Val RMSE: 1.0092, Val MAE: 0.7936\n",
      "Epoch: 476, Train loss: 0.8748, Train RMSE: 0.9350, Train MAE: 0.7303, Val RMSE: 1.0091, Val MAE: 0.7935\n",
      "Epoch: 477, Train loss: 0.8744, Train RMSE: 0.9348, Train MAE: 0.7302, Val RMSE: 1.0091, Val MAE: 0.7935\n",
      "Epoch: 478, Train loss: 0.8741, Train RMSE: 0.9346, Train MAE: 0.7299, Val RMSE: 1.0089, Val MAE: 0.7932\n",
      "Epoch: 479, Train loss: 0.8737, Train RMSE: 0.9344, Train MAE: 0.7299, Val RMSE: 1.0090, Val MAE: 0.7934\n",
      "Epoch: 480, Train loss: 0.8734, Train RMSE: 0.9342, Train MAE: 0.7295, Val RMSE: 1.0088, Val MAE: 0.7930\n",
      "Epoch: 481, Train loss: 0.8730, Train RMSE: 0.9341, Train MAE: 0.7295, Val RMSE: 1.0088, Val MAE: 0.7932\n",
      "Epoch: 482, Train loss: 0.8727, Train RMSE: 0.9339, Train MAE: 0.7293, Val RMSE: 1.0088, Val MAE: 0.7930\n",
      "Epoch: 483, Train loss: 0.8723, Train RMSE: 0.9337, Train MAE: 0.7291, Val RMSE: 1.0087, Val MAE: 0.7930\n",
      "Epoch: 484, Train loss: 0.8720, Train RMSE: 0.9335, Train MAE: 0.7290, Val RMSE: 1.0087, Val MAE: 0.7929\n",
      "Epoch: 485, Train loss: 0.8717, Train RMSE: 0.9333, Train MAE: 0.7287, Val RMSE: 1.0086, Val MAE: 0.7927\n",
      "Epoch: 486, Train loss: 0.8713, Train RMSE: 0.9332, Train MAE: 0.7287, Val RMSE: 1.0086, Val MAE: 0.7929\n",
      "Epoch: 487, Train loss: 0.8710, Train RMSE: 0.9330, Train MAE: 0.7283, Val RMSE: 1.0085, Val MAE: 0.7925\n",
      "Epoch: 488, Train loss: 0.8707, Train RMSE: 0.9328, Train MAE: 0.7284, Val RMSE: 1.0086, Val MAE: 0.7928\n",
      "Epoch: 489, Train loss: 0.8704, Train RMSE: 0.9327, Train MAE: 0.7279, Val RMSE: 1.0084, Val MAE: 0.7923\n",
      "Epoch: 490, Train loss: 0.8701, Train RMSE: 0.9325, Train MAE: 0.7282, Val RMSE: 1.0085, Val MAE: 0.7928\n",
      "Epoch: 491, Train loss: 0.8697, Train RMSE: 0.9323, Train MAE: 0.7275, Val RMSE: 1.0083, Val MAE: 0.7921\n",
      "Epoch: 492, Train loss: 0.8694, Train RMSE: 0.9322, Train MAE: 0.7280, Val RMSE: 1.0085, Val MAE: 0.7928\n",
      "Epoch: 493, Train loss: 0.8691, Train RMSE: 0.9320, Train MAE: 0.7270, Val RMSE: 1.0082, Val MAE: 0.7917\n",
      "Epoch: 494, Train loss: 0.8688, Train RMSE: 0.9318, Train MAE: 0.7278, Val RMSE: 1.0084, Val MAE: 0.7929\n",
      "Epoch: 495, Train loss: 0.8685, Train RMSE: 0.9317, Train MAE: 0.7266, Val RMSE: 1.0080, Val MAE: 0.7915\n",
      "Epoch: 496, Train loss: 0.8682, Train RMSE: 0.9315, Train MAE: 0.7277, Val RMSE: 1.0084, Val MAE: 0.7930\n",
      "Epoch: 497, Train loss: 0.8680, Train RMSE: 0.9314, Train MAE: 0.7261, Val RMSE: 1.0079, Val MAE: 0.7912\n",
      "Epoch: 498, Train loss: 0.8677, Train RMSE: 0.9312, Train MAE: 0.7276, Val RMSE: 1.0084, Val MAE: 0.7931\n",
      "Epoch: 499, Train loss: 0.8674, Train RMSE: 0.9311, Train MAE: 0.7256, Val RMSE: 1.0077, Val MAE: 0.7908\n",
      "\n",
      "Training TensorBoard information of model GraphSAGE saved\n",
      "\n",
      "Trained model GraphSAGE saved\n"
     ]
    }
   ],
   "source": [
    "GraphSAGE_movie_suggestor.train(num_epochs=500)"
   ],
   "metadata": {
    "collapsed": false,
    "ExecuteTime": {
     "end_time": "2024-01-14T18:44:59.343399800Z",
     "start_time": "2024-01-14T18:44:22.197845600Z"
    }
   }
  },
  {
   "cell_type": "code",
   "execution_count": 24,
   "outputs": [
    {
     "name": "stdout",
     "output_type": "stream",
     "text": [
      "Device: 'cuda\n",
      "'\n",
      "Test RMSE: 0.9913, Test MAE: 0.7748\n",
      "\n",
      "       userId  movieId  pred_rating  gt_rating\n",
      "0         528      165     3.422981        4.0\n",
      "1         261     1260     3.554120        4.0\n",
      "2         200       27     2.375737        2.0\n",
      "3         471      740     3.513098        4.0\n",
      "4         508     4695     3.312469        3.0\n",
      "...       ...      ...          ...        ...\n",
      "9996      653      129     3.967447        3.0\n",
      "9997      451      216     4.426600        3.5\n",
      "9998      312     1322     3.919653        4.0\n",
      "9999      504      739     3.706846        3.0\n",
      "10000     451     2758     3.069538        2.0\n",
      "\n",
      "[10001 rows x 4 columns]\n"
     ]
    }
   ],
   "source": [
    "GraphSAGE_movie_suggestor.evaluate_performance()"
   ],
   "metadata": {
    "collapsed": false,
    "ExecuteTime": {
     "end_time": "2024-01-14T18:44:59.385316300Z",
     "start_time": "2024-01-14T18:44:59.340406200Z"
    }
   }
  },
  {
   "cell_type": "markdown",
   "source": [
    "### GAT"
   ],
   "metadata": {
    "collapsed": false
   }
  },
  {
   "cell_type": "code",
   "execution_count": 25,
   "outputs": [],
   "source": [
    "GAT_movie_suggestor = GNN_Based_CollaborativeFilter(\n",
    "    graph_dataset_handler=gdh,\n",
    "    gnn_encoder=GATEncoder(hidden_channels=64, out_channels=64)\n",
    ")"
   ],
   "metadata": {
    "collapsed": false,
    "ExecuteTime": {
     "end_time": "2024-01-14T18:44:59.437143300Z",
     "start_time": "2024-01-14T18:44:59.386279200Z"
    }
   }
  },
  {
   "cell_type": "code",
   "execution_count": 26,
   "outputs": [
    {
     "name": "stdout",
     "output_type": "stream",
     "text": [
      "Device: 'cuda\n",
      "'\n",
      "Epoch: 001, Train loss: 14.2571, Train RMSE: 3.4128, Train MAE: 3.2439, Val RMSE: 3.4325, Val MAE: 3.2706\n",
      "Epoch: 002, Train loss: 11.6470, Train RMSE: 2.4927, Train MAE: 2.2924, Val RMSE: 2.5165, Val MAE: 2.3206\n",
      "Epoch: 003, Train loss: 6.2135, Train RMSE: 1.0786, Train MAE: 0.8489, Val RMSE: 1.0682, Val MAE: 0.8444\n",
      "Epoch: 004, Train loss: 1.1635, Train RMSE: 1.8044, Train MAE: 1.4602, Val RMSE: 1.7717, Val MAE: 1.4335\n",
      "Epoch: 005, Train loss: 10.0231, Train RMSE: 1.3941, Train MAE: 1.0790, Val RMSE: 1.3580, Val MAE: 1.0537\n",
      "Epoch: 006, Train loss: 1.9435, Train RMSE: 1.3408, Train MAE: 1.1504, Val RMSE: 1.3610, Val MAE: 1.1670\n",
      "Epoch: 007, Train loss: 1.7978, Train RMSE: 1.9240, Train MAE: 1.7147, Val RMSE: 1.9490, Val MAE: 1.7425\n",
      "Epoch: 008, Train loss: 3.7017, Train RMSE: 2.1615, Train MAE: 1.9588, Val RMSE: 2.1862, Val MAE: 1.9866\n",
      "Epoch: 009, Train loss: 4.6722, Train RMSE: 2.1451, Train MAE: 1.9422, Val RMSE: 2.1697, Val MAE: 1.9699\n",
      "Epoch: 010, Train loss: 4.6013, Train RMSE: 1.9416, Train MAE: 1.7333, Val RMSE: 1.9662, Val MAE: 1.7607\n",
      "Epoch: 011, Train loss: 3.7697, Train RMSE: 1.5792, Train MAE: 1.3873, Val RMSE: 1.6024, Val MAE: 1.4084\n",
      "Epoch: 012, Train loss: 2.4937, Train RMSE: 1.1638, Train MAE: 0.9594, Val RMSE: 1.1767, Val MAE: 0.9710\n",
      "Epoch: 013, Train loss: 1.3544, Train RMSE: 1.1379, Train MAE: 0.8470, Val RMSE: 1.1176, Val MAE: 0.8372\n",
      "Epoch: 014, Train loss: 1.2948, Train RMSE: 1.5574, Train MAE: 1.2340, Val RMSE: 1.5163, Val MAE: 1.2014\n",
      "Epoch: 015, Train loss: 2.4256, Train RMSE: 1.6193, Train MAE: 1.2920, Val RMSE: 1.5765, Val MAE: 1.2567\n",
      "Epoch: 016, Train loss: 2.6235, Train RMSE: 1.3075, Train MAE: 1.0016, Val RMSE: 1.2753, Val MAE: 0.9810\n",
      "Epoch: 017, Train loss: 1.7095, Train RMSE: 1.0680, Train MAE: 0.8460, Val RMSE: 1.0585, Val MAE: 0.8417\n",
      "Epoch: 018, Train loss: 1.1407, Train RMSE: 1.1384, Train MAE: 0.9413, Val RMSE: 1.1485, Val MAE: 0.9508\n",
      "Epoch: 019, Train loss: 1.2959, Train RMSE: 1.3052, Train MAE: 1.1138, Val RMSE: 1.3228, Val MAE: 1.1288\n",
      "Epoch: 020, Train loss: 1.7035, Train RMSE: 1.3953, Train MAE: 1.2072, Val RMSE: 1.4148, Val MAE: 1.2236\n",
      "Epoch: 021, Train loss: 1.9468, Train RMSE: 1.3745, Train MAE: 1.1865, Val RMSE: 1.3935, Val MAE: 1.2025\n",
      "Epoch: 022, Train loss: 1.8891, Train RMSE: 1.2630, Train MAE: 1.0663, Val RMSE: 1.2791, Val MAE: 1.0802\n",
      "Epoch: 023, Train loss: 1.5953, Train RMSE: 1.1217, Train MAE: 0.9295, Val RMSE: 1.1300, Val MAE: 0.9376\n",
      "Epoch: 024, Train loss: 1.2583, Train RMSE: 1.0588, Train MAE: 0.8485, Val RMSE: 1.0527, Val MAE: 0.8460\n",
      "Epoch: 025, Train loss: 1.1210, Train RMSE: 1.1355, Train MAE: 0.8427, Val RMSE: 1.1145, Val MAE: 0.8323\n",
      "Epoch: 026, Train loss: 1.2893, Train RMSE: 1.2402, Train MAE: 0.9369, Val RMSE: 1.2116, Val MAE: 0.9201\n",
      "Epoch: 027, Train loss: 1.5382, Train RMSE: 1.2374, Train MAE: 0.9340, Val RMSE: 1.2090, Val MAE: 0.9174\n",
      "Epoch: 028, Train loss: 1.5311, Train RMSE: 1.1393, Train MAE: 0.8437, Val RMSE: 1.1180, Val MAE: 0.8331\n",
      "Epoch: 029, Train loss: 1.2980, Train RMSE: 1.0627, Train MAE: 0.8439, Val RMSE: 1.0534, Val MAE: 0.8394\n",
      "Epoch: 030, Train loss: 1.1294, Train RMSE: 1.0734, Train MAE: 0.8840, Val RMSE: 1.0755, Val MAE: 0.8871\n",
      "Epoch: 031, Train loss: 1.1522, Train RMSE: 1.1283, Train MAE: 0.9340, Val RMSE: 1.1371, Val MAE: 0.9425\n",
      "Epoch: 032, Train loss: 1.2731, Train RMSE: 1.1643, Train MAE: 0.9586, Val RMSE: 1.1756, Val MAE: 0.9694\n",
      "Epoch: 033, Train loss: 1.3557, Train RMSE: 1.1555, Train MAE: 0.9522, Val RMSE: 1.1662, Val MAE: 0.9626\n",
      "Epoch: 034, Train loss: 1.3351, Train RMSE: 1.1114, Train MAE: 0.9214, Val RMSE: 1.1187, Val MAE: 0.9288\n",
      "Epoch: 035, Train loss: 1.2351, Train RMSE: 1.0664, Train MAE: 0.8741, Val RMSE: 1.0672, Val MAE: 0.8763\n",
      "Epoch: 036, Train loss: 1.1372, Train RMSE: 1.0582, Train MAE: 0.8436, Val RMSE: 1.0505, Val MAE: 0.8401\n",
      "Epoch: 037, Train loss: 1.1198, Train RMSE: 1.0886, Train MAE: 0.8373, Val RMSE: 1.0735, Val MAE: 0.8297\n",
      "Epoch: 038, Train loss: 1.1851, Train RMSE: 1.1159, Train MAE: 0.8363, Val RMSE: 1.0973, Val MAE: 0.8272\n",
      "Epoch: 039, Train loss: 1.2453, Train RMSE: 1.1066, Train MAE: 0.8357, Val RMSE: 1.0891, Val MAE: 0.8271\n",
      "Epoch: 040, Train loss: 1.2247, Train RMSE: 1.0741, Train MAE: 0.8385, Val RMSE: 1.0616, Val MAE: 0.8322\n",
      "Epoch: 041, Train loss: 1.1537, Train RMSE: 1.0548, Train MAE: 0.8450, Val RMSE: 1.0492, Val MAE: 0.8427\n",
      "Epoch: 042, Train loss: 1.1126, Train RMSE: 1.0626, Train MAE: 0.8688, Val RMSE: 1.0631, Val MAE: 0.8708\n",
      "Epoch: 043, Train loss: 1.1291, Train RMSE: 1.0810, Train MAE: 0.8938, Val RMSE: 1.0852, Val MAE: 0.8988\n",
      "Epoch: 044, Train loss: 1.1685, Train RMSE: 1.0889, Train MAE: 0.9019, Val RMSE: 1.0943, Val MAE: 0.9078\n",
      "Epoch: 045, Train loss: 1.1856, Train RMSE: 1.0796, Train MAE: 0.8923, Val RMSE: 1.0838, Val MAE: 0.8973\n",
      "Epoch: 046, Train loss: 1.1655, Train RMSE: 1.0624, Train MAE: 0.8691, Val RMSE: 1.0633, Val MAE: 0.8715\n",
      "Epoch: 047, Train loss: 1.1287, Train RMSE: 1.0532, Train MAE: 0.8469, Val RMSE: 1.0494, Val MAE: 0.8459\n",
      "Epoch: 048, Train loss: 1.1092, Train RMSE: 1.0590, Train MAE: 0.8396, Val RMSE: 1.0505, Val MAE: 0.8357\n",
      "Epoch: 049, Train loss: 1.1216, Train RMSE: 1.0701, Train MAE: 0.8367, Val RMSE: 1.0586, Val MAE: 0.8312\n",
      "Epoch: 050, Train loss: 1.1451, Train RMSE: 1.0717, Train MAE: 0.8362, Val RMSE: 1.0599, Val MAE: 0.8305\n",
      "Epoch: 051, Train loss: 1.1485, Train RMSE: 1.0622, Train MAE: 0.8378, Val RMSE: 1.0527, Val MAE: 0.8334\n",
      "Epoch: 052, Train loss: 1.1283, Train RMSE: 1.0532, Train MAE: 0.8416, Val RMSE: 1.0475, Val MAE: 0.8395\n",
      "Epoch: 053, Train loss: 1.1092, Train RMSE: 1.0532, Train MAE: 0.8513, Val RMSE: 1.0514, Val MAE: 0.8519\n",
      "Epoch: 054, Train loss: 1.1093, Train RMSE: 1.0593, Train MAE: 0.8649, Val RMSE: 1.0603, Val MAE: 0.8676\n",
      "Epoch: 055, Train loss: 1.1221, Train RMSE: 1.0630, Train MAE: 0.8712, Val RMSE: 1.0651, Val MAE: 0.8748\n",
      "Epoch: 056, Train loss: 1.1300, Train RMSE: 1.0602, Train MAE: 0.8668, Val RMSE: 1.0617, Val MAE: 0.8700\n",
      "Epoch: 057, Train loss: 1.1241, Train RMSE: 1.0541, Train MAE: 0.8550, Val RMSE: 1.0536, Val MAE: 0.8567\n",
      "Epoch: 058, Train loss: 1.1111, Train RMSE: 1.0509, Train MAE: 0.8442, Val RMSE: 1.0476, Val MAE: 0.8437\n",
      "Epoch: 059, Train loss: 1.1043, Train RMSE: 1.0533, Train MAE: 0.8387, Val RMSE: 1.0472, Val MAE: 0.8366\n",
      "Epoch: 060, Train loss: 1.1093, Train RMSE: 1.0564, Train MAE: 0.8368, Val RMSE: 1.0490, Val MAE: 0.8339\n",
      "Epoch: 061, Train loss: 1.1160, Train RMSE: 1.0562, Train MAE: 0.8367, Val RMSE: 1.0488, Val MAE: 0.8338\n",
      "Epoch: 062, Train loss: 1.1155, Train RMSE: 1.0526, Train MAE: 0.8382, Val RMSE: 1.0468, Val MAE: 0.8362\n",
      "Epoch: 063, Train loss: 1.1080, Train RMSE: 1.0500, Train MAE: 0.8420, Val RMSE: 1.0465, Val MAE: 0.8414\n",
      "Epoch: 064, Train loss: 1.1024, Train RMSE: 1.0506, Train MAE: 0.8482, Val RMSE: 1.0493, Val MAE: 0.8492\n",
      "Epoch: 065, Train loss: 1.1037, Train RMSE: 1.0526, Train MAE: 0.8539, Val RMSE: 1.0528, Val MAE: 0.8562\n",
      "Epoch: 066, Train loss: 1.1080, Train RMSE: 1.0530, Train MAE: 0.8551, Val RMSE: 1.0536, Val MAE: 0.8576\n",
      "Epoch: 067, Train loss: 1.1088, Train RMSE: 1.0512, Train MAE: 0.8512, Val RMSE: 1.0511, Val MAE: 0.8531\n",
      "Epoch: 068, Train loss: 1.1050, Train RMSE: 1.0492, Train MAE: 0.8451, Val RMSE: 1.0476, Val MAE: 0.8459\n",
      "Epoch: 069, Train loss: 1.1008, Train RMSE: 1.0489, Train MAE: 0.8401, Val RMSE: 1.0457, Val MAE: 0.8399\n",
      "Epoch: 070, Train loss: 1.1003, Train RMSE: 1.0501, Train MAE: 0.8374, Val RMSE: 1.0456, Val MAE: 0.8365\n",
      "Epoch: 071, Train loss: 1.1026, Train RMSE: 1.0505, Train MAE: 0.8365, Val RMSE: 1.0458, Val MAE: 0.8354\n",
      "Epoch: 072, Train loss: 1.1036, Train RMSE: 1.0494, Train MAE: 0.8371, Val RMSE: 1.0455, Val MAE: 0.8366\n",
      "Epoch: 073, Train loss: 1.1013, Train RMSE: 1.0480, Train MAE: 0.8394, Val RMSE: 1.0455, Val MAE: 0.8397\n",
      "Epoch: 074, Train loss: 1.0984, Train RMSE: 1.0477, Train MAE: 0.8430, Val RMSE: 1.0466, Val MAE: 0.8442\n",
      "Epoch: 075, Train loss: 1.0978, Train RMSE: 1.0482, Train MAE: 0.8462, Val RMSE: 1.0482, Val MAE: 0.8484\n",
      "Epoch: 076, Train loss: 1.0987, Train RMSE: 1.0483, Train MAE: 0.8472, Val RMSE: 1.0489, Val MAE: 0.8498\n",
      "Epoch: 077, Train loss: 1.0990, Train RMSE: 1.0474, Train MAE: 0.8452, Val RMSE: 1.0477, Val MAE: 0.8474\n",
      "Epoch: 078, Train loss: 1.0971, Train RMSE: 1.0464, Train MAE: 0.8408, Val RMSE: 1.0454, Val MAE: 0.8419\n",
      "Epoch: 079, Train loss: 1.0950, Train RMSE: 1.0466, Train MAE: 0.8365, Val RMSE: 1.0440, Val MAE: 0.8364\n",
      "Epoch: 080, Train loss: 1.0954, Train RMSE: 1.0462, Train MAE: 0.8360, Val RMSE: 1.0442, Val MAE: 0.8362\n",
      "Epoch: 081, Train loss: 1.0946, Train RMSE: 1.0454, Train MAE: 0.8374, Val RMSE: 1.0448, Val MAE: 0.8388\n",
      "Epoch: 082, Train loss: 1.0928, Train RMSE: 1.0450, Train MAE: 0.8393, Val RMSE: 1.0451, Val MAE: 0.8410\n",
      "Epoch: 083, Train loss: 1.0921, Train RMSE: 1.0447, Train MAE: 0.8403, Val RMSE: 1.0454, Val MAE: 0.8425\n",
      "Epoch: 084, Train loss: 1.0914, Train RMSE: 1.0443, Train MAE: 0.8409, Val RMSE: 1.0454, Val MAE: 0.8433\n",
      "Epoch: 085, Train loss: 1.0905, Train RMSE: 1.0437, Train MAE: 0.8407, Val RMSE: 1.0450, Val MAE: 0.8432\n",
      "Epoch: 086, Train loss: 1.0892, Train RMSE: 1.0430, Train MAE: 0.8390, Val RMSE: 1.0437, Val MAE: 0.8409\n",
      "Epoch: 087, Train loss: 1.0878, Train RMSE: 1.0422, Train MAE: 0.8374, Val RMSE: 1.0424, Val MAE: 0.8387\n",
      "Epoch: 088, Train loss: 1.0862, Train RMSE: 1.0417, Train MAE: 0.8386, Val RMSE: 1.0417, Val MAE: 0.8396\n",
      "Epoch: 089, Train loss: 1.0851, Train RMSE: 1.0413, Train MAE: 0.8326, Val RMSE: 1.0402, Val MAE: 0.8328\n",
      "Epoch: 090, Train loss: 1.0844, Train RMSE: 1.0400, Train MAE: 0.8335, Val RMSE: 1.0391, Val MAE: 0.8337\n",
      "Epoch: 091, Train loss: 1.0816, Train RMSE: 1.0410, Train MAE: 0.8421, Val RMSE: 1.0413, Val MAE: 0.8431\n",
      "Epoch: 092, Train loss: 1.0837, Train RMSE: 1.0392, Train MAE: 0.8296, Val RMSE: 1.0377, Val MAE: 0.8295\n",
      "Epoch: 093, Train loss: 1.0799, Train RMSE: 1.0394, Train MAE: 0.8277, Val RMSE: 1.0375, Val MAE: 0.8274\n",
      "Epoch: 094, Train loss: 1.0803, Train RMSE: 1.0372, Train MAE: 0.8328, Val RMSE: 1.0368, Val MAE: 0.8334\n",
      "Epoch: 095, Train loss: 1.0757, Train RMSE: 1.0386, Train MAE: 0.8396, Val RMSE: 1.0396, Val MAE: 0.8414\n",
      "Epoch: 096, Train loss: 1.0787, Train RMSE: 1.0361, Train MAE: 0.8285, Val RMSE: 1.0354, Val MAE: 0.8291\n",
      "Epoch: 097, Train loss: 1.0735, Train RMSE: 1.0372, Train MAE: 0.8242, Val RMSE: 1.0355, Val MAE: 0.8244\n",
      "Epoch: 098, Train loss: 1.0758, Train RMSE: 1.0348, Train MAE: 0.8281, Val RMSE: 1.0344, Val MAE: 0.8290\n",
      "Epoch: 099, Train loss: 1.0707, Train RMSE: 1.0360, Train MAE: 0.8361, Val RMSE: 1.0372, Val MAE: 0.8385\n",
      "Epoch: 100, Train loss: 1.0732, Train RMSE: 1.0335, Train MAE: 0.8286, Val RMSE: 1.0336, Val MAE: 0.8301\n",
      "Epoch: 101, Train loss: 1.0682, Train RMSE: 1.0343, Train MAE: 0.8220, Val RMSE: 1.0328, Val MAE: 0.8225\n",
      "Epoch: 102, Train loss: 1.0698, Train RMSE: 1.0325, Train MAE: 0.8241, Val RMSE: 1.0318, Val MAE: 0.8252\n",
      "Epoch: 103, Train loss: 1.0661, Train RMSE: 1.0329, Train MAE: 0.8316, Val RMSE: 1.0338, Val MAE: 0.8341\n",
      "Epoch: 104, Train loss: 1.0669, Train RMSE: 1.0312, Train MAE: 0.8231, Val RMSE: 1.0307, Val MAE: 0.8247\n",
      "Epoch: 105, Train loss: 1.0635, Train RMSE: 1.0305, Train MAE: 0.8245, Val RMSE: 1.0302, Val MAE: 0.8261\n",
      "Epoch: 106, Train loss: 1.0619, Train RMSE: 1.0299, Train MAE: 0.8224, Val RMSE: 1.0293, Val MAE: 0.8238\n",
      "Epoch: 107, Train loss: 1.0608, Train RMSE: 1.0292, Train MAE: 0.8224, Val RMSE: 1.0287, Val MAE: 0.8240\n",
      "Epoch: 108, Train loss: 1.0593, Train RMSE: 1.0286, Train MAE: 0.8230, Val RMSE: 1.0283, Val MAE: 0.8246\n",
      "Epoch: 109, Train loss: 1.0580, Train RMSE: 1.0278, Train MAE: 0.8203, Val RMSE: 1.0272, Val MAE: 0.8217\n",
      "Epoch: 110, Train loss: 1.0564, Train RMSE: 1.0271, Train MAE: 0.8193, Val RMSE: 1.0265, Val MAE: 0.8207\n",
      "Epoch: 111, Train loss: 1.0549, Train RMSE: 1.0264, Train MAE: 0.8198, Val RMSE: 1.0261, Val MAE: 0.8214\n",
      "Epoch: 112, Train loss: 1.0534, Train RMSE: 1.0258, Train MAE: 0.8152, Val RMSE: 1.0253, Val MAE: 0.8163\n",
      "Epoch: 113, Train loss: 1.0523, Train RMSE: 1.0260, Train MAE: 0.8219, Val RMSE: 1.0271, Val MAE: 0.8246\n",
      "Epoch: 114, Train loss: 1.0526, Train RMSE: 1.0293, Train MAE: 0.8080, Val RMSE: 1.0277, Val MAE: 0.8082\n",
      "Epoch: 115, Train loss: 1.0595, Train RMSE: 1.0304, Train MAE: 0.8310, Val RMSE: 1.0335, Val MAE: 0.8358\n",
      "Epoch: 116, Train loss: 1.0616, Train RMSE: 1.0235, Train MAE: 0.8114, Val RMSE: 1.0241, Val MAE: 0.8134\n",
      "Epoch: 117, Train loss: 1.0477, Train RMSE: 1.0264, Train MAE: 0.8069, Val RMSE: 1.0256, Val MAE: 0.8079\n",
      "Epoch: 118, Train loss: 1.0536, Train RMSE: 1.0230, Train MAE: 0.8182, Val RMSE: 1.0253, Val MAE: 0.8218\n",
      "Epoch: 119, Train loss: 1.0466, Train RMSE: 1.0239, Train MAE: 0.8216, Val RMSE: 1.0268, Val MAE: 0.8259\n",
      "Epoch: 120, Train loss: 1.0484, Train RMSE: 1.0220, Train MAE: 0.8085, Val RMSE: 1.0223, Val MAE: 0.8104\n",
      "Epoch: 121, Train loss: 1.0445, Train RMSE: 1.0222, Train MAE: 0.8070, Val RMSE: 1.0222, Val MAE: 0.8084\n",
      "Epoch: 122, Train loss: 1.0450, Train RMSE: 1.0205, Train MAE: 0.8160, Val RMSE: 1.0226, Val MAE: 0.8195\n",
      "Epoch: 123, Train loss: 1.0415, Train RMSE: 1.0208, Train MAE: 0.8179, Val RMSE: 1.0233, Val MAE: 0.8219\n",
      "Epoch: 124, Train loss: 1.0419, Train RMSE: 1.0193, Train MAE: 0.8073, Val RMSE: 1.0200, Val MAE: 0.8093\n",
      "Epoch: 125, Train loss: 1.0389, Train RMSE: 1.0192, Train MAE: 0.8052, Val RMSE: 1.0198, Val MAE: 0.8072\n",
      "Epoch: 126, Train loss: 1.0387, Train RMSE: 1.0177, Train MAE: 0.8122, Val RMSE: 1.0203, Val MAE: 0.8162\n",
      "Epoch: 127, Train loss: 1.0357, Train RMSE: 1.0175, Train MAE: 0.8132, Val RMSE: 1.0208, Val MAE: 0.8181\n",
      "Epoch: 128, Train loss: 1.0352, Train RMSE: 1.0161, Train MAE: 0.8041, Val RMSE: 1.0182, Val MAE: 0.8077\n",
      "Epoch: 129, Train loss: 1.0324, Train RMSE: 1.0157, Train MAE: 0.8023, Val RMSE: 1.0179, Val MAE: 0.8060\n",
      "Epoch: 130, Train loss: 1.0317, Train RMSE: 1.0147, Train MAE: 0.8089, Val RMSE: 1.0187, Val MAE: 0.8144\n",
      "Epoch: 131, Train loss: 1.0296, Train RMSE: 1.0139, Train MAE: 0.8077, Val RMSE: 1.0180, Val MAE: 0.8134\n",
      "Epoch: 132, Train loss: 1.0279, Train RMSE: 1.0133, Train MAE: 0.8001, Val RMSE: 1.0161, Val MAE: 0.8044\n",
      "Epoch: 133, Train loss: 1.0268, Train RMSE: 1.0121, Train MAE: 0.8008, Val RMSE: 1.0154, Val MAE: 0.8056\n",
      "Epoch: 134, Train loss: 1.0243, Train RMSE: 1.0119, Train MAE: 0.8061, Val RMSE: 1.0164, Val MAE: 0.8122\n",
      "Epoch: 135, Train loss: 1.0239, Train RMSE: 1.0107, Train MAE: 0.8023, Val RMSE: 1.0148, Val MAE: 0.8080\n",
      "Epoch: 136, Train loss: 1.0214, Train RMSE: 1.0106, Train MAE: 0.7974, Val RMSE: 1.0139, Val MAE: 0.8023\n",
      "Epoch: 137, Train loss: 1.0212, Train RMSE: 1.0093, Train MAE: 0.8000, Val RMSE: 1.0134, Val MAE: 0.8058\n",
      "Epoch: 138, Train loss: 1.0187, Train RMSE: 1.0091, Train MAE: 0.8031, Val RMSE: 1.0140, Val MAE: 0.8098\n",
      "Epoch: 139, Train loss: 1.0183, Train RMSE: 1.0083, Train MAE: 0.7957, Val RMSE: 1.0121, Val MAE: 0.8013\n",
      "Epoch: 140, Train loss: 1.0167, Train RMSE: 1.0074, Train MAE: 0.8000, Val RMSE: 1.0124, Val MAE: 0.8068\n",
      "Epoch: 141, Train loss: 1.0149, Train RMSE: 1.0066, Train MAE: 0.7970, Val RMSE: 1.0113, Val MAE: 0.8036\n",
      "Epoch: 142, Train loss: 1.0132, Train RMSE: 1.0061, Train MAE: 0.7945, Val RMSE: 1.0106, Val MAE: 0.8008\n",
      "Epoch: 143, Train loss: 1.0122, Train RMSE: 1.0053, Train MAE: 0.7967, Val RMSE: 1.0104, Val MAE: 0.8037\n",
      "Epoch: 144, Train loss: 1.0106, Train RMSE: 1.0047, Train MAE: 0.7968, Val RMSE: 1.0101, Val MAE: 0.8041\n",
      "Epoch: 145, Train loss: 1.0094, Train RMSE: 1.0040, Train MAE: 0.7932, Val RMSE: 1.0090, Val MAE: 0.7999\n",
      "Epoch: 146, Train loss: 1.0080, Train RMSE: 1.0032, Train MAE: 0.7936, Val RMSE: 1.0085, Val MAE: 0.8007\n",
      "Epoch: 147, Train loss: 1.0064, Train RMSE: 1.0026, Train MAE: 0.7948, Val RMSE: 1.0084, Val MAE: 0.8023\n",
      "Epoch: 148, Train loss: 1.0053, Train RMSE: 1.0019, Train MAE: 0.7920, Val RMSE: 1.0074, Val MAE: 0.7992\n",
      "Epoch: 149, Train loss: 1.0037, Train RMSE: 1.0012, Train MAE: 0.7912, Val RMSE: 1.0069, Val MAE: 0.7986\n",
      "Epoch: 150, Train loss: 1.0025, Train RMSE: 1.0006, Train MAE: 0.7930, Val RMSE: 1.0070, Val MAE: 0.8010\n",
      "Epoch: 151, Train loss: 1.0013, Train RMSE: 0.9999, Train MAE: 0.7906, Val RMSE: 1.0062, Val MAE: 0.7986\n",
      "Epoch: 152, Train loss: 0.9998, Train RMSE: 0.9992, Train MAE: 0.7890, Val RMSE: 1.0056, Val MAE: 0.7970\n",
      "Epoch: 153, Train loss: 0.9985, Train RMSE: 0.9985, Train MAE: 0.7903, Val RMSE: 1.0055, Val MAE: 0.7989\n",
      "Epoch: 154, Train loss: 0.9971, Train RMSE: 0.9978, Train MAE: 0.7883, Val RMSE: 1.0048, Val MAE: 0.7970\n",
      "Epoch: 155, Train loss: 0.9956, Train RMSE: 0.9971, Train MAE: 0.7869, Val RMSE: 1.0044, Val MAE: 0.7959\n",
      "Epoch: 156, Train loss: 0.9943, Train RMSE: 0.9964, Train MAE: 0.7881, Val RMSE: 1.0043, Val MAE: 0.7977\n",
      "Epoch: 157, Train loss: 0.9929, Train RMSE: 0.9957, Train MAE: 0.7862, Val RMSE: 1.0036, Val MAE: 0.7959\n",
      "Epoch: 158, Train loss: 0.9915, Train RMSE: 0.9950, Train MAE: 0.7850, Val RMSE: 1.0031, Val MAE: 0.7949\n",
      "Epoch: 159, Train loss: 0.9901, Train RMSE: 0.9943, Train MAE: 0.7859, Val RMSE: 1.0030, Val MAE: 0.7963\n",
      "Epoch: 160, Train loss: 0.9887, Train RMSE: 0.9936, Train MAE: 0.7835, Val RMSE: 1.0023, Val MAE: 0.7939\n",
      "Epoch: 161, Train loss: 0.9873, Train RMSE: 0.9929, Train MAE: 0.7836, Val RMSE: 1.0020, Val MAE: 0.7944\n",
      "Epoch: 162, Train loss: 0.9858, Train RMSE: 0.9922, Train MAE: 0.7836, Val RMSE: 1.0018, Val MAE: 0.7948\n",
      "Epoch: 163, Train loss: 0.9844, Train RMSE: 0.9915, Train MAE: 0.7813, Val RMSE: 1.0011, Val MAE: 0.7924\n",
      "Epoch: 164, Train loss: 0.9831, Train RMSE: 0.9908, Train MAE: 0.7824, Val RMSE: 1.0010, Val MAE: 0.7940\n",
      "Epoch: 165, Train loss: 0.9817, Train RMSE: 0.9900, Train MAE: 0.7806, Val RMSE: 1.0004, Val MAE: 0.7922\n",
      "Epoch: 166, Train loss: 0.9802, Train RMSE: 0.9893, Train MAE: 0.7801, Val RMSE: 0.9999, Val MAE: 0.7919\n",
      "Epoch: 167, Train loss: 0.9788, Train RMSE: 0.9886, Train MAE: 0.7801, Val RMSE: 0.9995, Val MAE: 0.7920\n",
      "Epoch: 168, Train loss: 0.9774, Train RMSE: 0.9879, Train MAE: 0.7781, Val RMSE: 0.9988, Val MAE: 0.7898\n",
      "Epoch: 169, Train loss: 0.9760, Train RMSE: 0.9872, Train MAE: 0.7791, Val RMSE: 0.9986, Val MAE: 0.7912\n",
      "Epoch: 170, Train loss: 0.9746, Train RMSE: 0.9866, Train MAE: 0.7768, Val RMSE: 0.9980, Val MAE: 0.7888\n",
      "Epoch: 171, Train loss: 0.9733, Train RMSE: 0.9859, Train MAE: 0.7780, Val RMSE: 0.9980, Val MAE: 0.7906\n",
      "Epoch: 172, Train loss: 0.9720, Train RMSE: 0.9852, Train MAE: 0.7752, Val RMSE: 0.9973, Val MAE: 0.7877\n",
      "Epoch: 173, Train loss: 0.9707, Train RMSE: 0.9846, Train MAE: 0.7767, Val RMSE: 0.9974, Val MAE: 0.7899\n",
      "Epoch: 174, Train loss: 0.9694, Train RMSE: 0.9839, Train MAE: 0.7736, Val RMSE: 0.9967, Val MAE: 0.7867\n",
      "Epoch: 175, Train loss: 0.9681, Train RMSE: 0.9833, Train MAE: 0.7759, Val RMSE: 0.9968, Val MAE: 0.7897\n",
      "Epoch: 176, Train loss: 0.9668, Train RMSE: 0.9827, Train MAE: 0.7717, Val RMSE: 0.9959, Val MAE: 0.7850\n",
      "Epoch: 177, Train loss: 0.9657, Train RMSE: 0.9822, Train MAE: 0.7758, Val RMSE: 0.9962, Val MAE: 0.7899\n",
      "Epoch: 178, Train loss: 0.9647, Train RMSE: 0.9818, Train MAE: 0.7693, Val RMSE: 0.9952, Val MAE: 0.7824\n",
      "Epoch: 179, Train loss: 0.9639, Train RMSE: 0.9815, Train MAE: 0.7767, Val RMSE: 0.9962, Val MAE: 0.7912\n",
      "Epoch: 180, Train loss: 0.9633, Train RMSE: 0.9809, Train MAE: 0.7677, Val RMSE: 0.9948, Val MAE: 0.7813\n",
      "Epoch: 181, Train loss: 0.9621, Train RMSE: 0.9800, Train MAE: 0.7749, Val RMSE: 0.9953, Val MAE: 0.7899\n",
      "Epoch: 182, Train loss: 0.9604, Train RMSE: 0.9788, Train MAE: 0.7681, Val RMSE: 0.9938, Val MAE: 0.7827\n",
      "Epoch: 183, Train loss: 0.9582, Train RMSE: 0.9780, Train MAE: 0.7695, Val RMSE: 0.9936, Val MAE: 0.7847\n",
      "Epoch: 184, Train loss: 0.9565, Train RMSE: 0.9775, Train MAE: 0.7706, Val RMSE: 0.9937, Val MAE: 0.7864\n",
      "Epoch: 185, Train loss: 0.9555, Train RMSE: 0.9772, Train MAE: 0.7655, Val RMSE: 0.9931, Val MAE: 0.7810\n",
      "Epoch: 186, Train loss: 0.9550, Train RMSE: 0.9768, Train MAE: 0.7717, Val RMSE: 0.9939, Val MAE: 0.7883\n",
      "Epoch: 187, Train loss: 0.9542, Train RMSE: 0.9761, Train MAE: 0.7640, Val RMSE: 0.9926, Val MAE: 0.7801\n",
      "Epoch: 188, Train loss: 0.9529, Train RMSE: 0.9752, Train MAE: 0.7687, Val RMSE: 0.9928, Val MAE: 0.7859\n",
      "Epoch: 189, Train loss: 0.9510, Train RMSE: 0.9743, Train MAE: 0.7652, Val RMSE: 0.9920, Val MAE: 0.7825\n",
      "Epoch: 190, Train loss: 0.9494, Train RMSE: 0.9738, Train MAE: 0.7644, Val RMSE: 0.9918, Val MAE: 0.7818\n",
      "Epoch: 191, Train loss: 0.9483, Train RMSE: 0.9734, Train MAE: 0.7671, Val RMSE: 0.9921, Val MAE: 0.7851\n",
      "Epoch: 192, Train loss: 0.9476, Train RMSE: 0.9731, Train MAE: 0.7617, Val RMSE: 0.9913, Val MAE: 0.7793\n",
      "Epoch: 193, Train loss: 0.9470, Train RMSE: 0.9727, Train MAE: 0.7676, Val RMSE: 0.9921, Val MAE: 0.7862\n",
      "Epoch: 194, Train loss: 0.9462, Train RMSE: 0.9720, Train MAE: 0.7605, Val RMSE: 0.9909, Val MAE: 0.7786\n",
      "Epoch: 195, Train loss: 0.9449, Train RMSE: 0.9713, Train MAE: 0.7656, Val RMSE: 0.9915, Val MAE: 0.7848\n",
      "Epoch: 196, Train loss: 0.9434, Train RMSE: 0.9705, Train MAE: 0.7607, Val RMSE: 0.9905, Val MAE: 0.7798\n",
      "Epoch: 197, Train loss: 0.9418, Train RMSE: 0.9698, Train MAE: 0.7619, Val RMSE: 0.9905, Val MAE: 0.7816\n",
      "Epoch: 198, Train loss: 0.9405, Train RMSE: 0.9693, Train MAE: 0.7616, Val RMSE: 0.9903, Val MAE: 0.7816\n",
      "Epoch: 199, Train loss: 0.9395, Train RMSE: 0.9689, Train MAE: 0.7590, Val RMSE: 0.9899, Val MAE: 0.7787\n",
      "Epoch: 200, Train loss: 0.9388, Train RMSE: 0.9686, Train MAE: 0.7628, Val RMSE: 0.9905, Val MAE: 0.7832\n",
      "Epoch: 201, Train loss: 0.9382, Train RMSE: 0.9683, Train MAE: 0.7569, Val RMSE: 0.9898, Val MAE: 0.7768\n",
      "Epoch: 202, Train loss: 0.9378, Train RMSE: 0.9682, Train MAE: 0.7641, Val RMSE: 0.9910, Val MAE: 0.7851\n",
      "Epoch: 203, Train loss: 0.9375, Train RMSE: 0.9679, Train MAE: 0.7552, Val RMSE: 0.9899, Val MAE: 0.7755\n",
      "Epoch: 204, Train loss: 0.9369, Train RMSE: 0.9674, Train MAE: 0.7635, Val RMSE: 0.9909, Val MAE: 0.7853\n",
      "Epoch: 205, Train loss: 0.9358, Train RMSE: 0.9664, Train MAE: 0.7552, Val RMSE: 0.9894, Val MAE: 0.7765\n",
      "Epoch: 206, Train loss: 0.9339, Train RMSE: 0.9655, Train MAE: 0.7593, Val RMSE: 0.9894, Val MAE: 0.7814\n",
      "Epoch: 207, Train loss: 0.9322, Train RMSE: 0.9649, Train MAE: 0.7575, Val RMSE: 0.9889, Val MAE: 0.7798\n",
      "Epoch: 208, Train loss: 0.9311, Train RMSE: 0.9646, Train MAE: 0.7552, Val RMSE: 0.9886, Val MAE: 0.7774\n",
      "Epoch: 209, Train loss: 0.9306, Train RMSE: 0.9646, Train MAE: 0.7599, Val RMSE: 0.9893, Val MAE: 0.7826\n",
      "Epoch: 210, Train loss: 0.9305, Train RMSE: 0.9644, Train MAE: 0.7528, Val RMSE: 0.9885, Val MAE: 0.7751\n",
      "Epoch: 211, Train loss: 0.9302, Train RMSE: 0.9642, Train MAE: 0.7604, Val RMSE: 0.9894, Val MAE: 0.7834\n",
      "Epoch: 212, Train loss: 0.9297, Train RMSE: 0.9635, Train MAE: 0.7521, Val RMSE: 0.9880, Val MAE: 0.7748\n",
      "Epoch: 213, Train loss: 0.9285, Train RMSE: 0.9628, Train MAE: 0.7578, Val RMSE: 0.9881, Val MAE: 0.7811\n",
      "Epoch: 214, Train loss: 0.9270, Train RMSE: 0.9620, Train MAE: 0.7531, Val RMSE: 0.9870, Val MAE: 0.7762\n",
      "Epoch: 215, Train loss: 0.9256, Train RMSE: 0.9615, Train MAE: 0.7540, Val RMSE: 0.9868, Val MAE: 0.7772\n",
      "Epoch: 216, Train loss: 0.9246, Train RMSE: 0.9612, Train MAE: 0.7551, Val RMSE: 0.9868, Val MAE: 0.7785\n",
      "Epoch: 217, Train loss: 0.9240, Train RMSE: 0.9611, Train MAE: 0.7513, Val RMSE: 0.9863, Val MAE: 0.7745\n",
      "Epoch: 218, Train loss: 0.9238, Train RMSE: 0.9610, Train MAE: 0.7570, Val RMSE: 0.9870, Val MAE: 0.7805\n",
      "Epoch: 219, Train loss: 0.9237, Train RMSE: 0.9610, Train MAE: 0.7493, Val RMSE: 0.9864, Val MAE: 0.7725\n",
      "Epoch: 220, Train loss: 0.9235, Train RMSE: 0.9609, Train MAE: 0.7581, Val RMSE: 0.9873, Val MAE: 0.7819\n",
      "Epoch: 221, Train loss: 0.9234, Train RMSE: 0.9605, Train MAE: 0.7480, Val RMSE: 0.9864, Val MAE: 0.7715\n",
      "Epoch: 222, Train loss: 0.9227, Train RMSE: 0.9599, Train MAE: 0.7568, Val RMSE: 0.9870, Val MAE: 0.7812\n",
      "Epoch: 223, Train loss: 0.9214, Train RMSE: 0.9589, Train MAE: 0.7480, Val RMSE: 0.9857, Val MAE: 0.7723\n",
      "Epoch: 224, Train loss: 0.9195, Train RMSE: 0.9579, Train MAE: 0.7524, Val RMSE: 0.9857, Val MAE: 0.7775\n",
      "Epoch: 225, Train loss: 0.9176, Train RMSE: 0.9572, Train MAE: 0.7498, Val RMSE: 0.9853, Val MAE: 0.7752\n",
      "Epoch: 226, Train loss: 0.9164, Train RMSE: 0.9569, Train MAE: 0.7482, Val RMSE: 0.9850, Val MAE: 0.7738\n",
      "Epoch: 227, Train loss: 0.9156, Train RMSE: 0.9567, Train MAE: 0.7518, Val RMSE: 0.9855, Val MAE: 0.7777\n",
      "Epoch: 228, Train loss: 0.9153, Train RMSE: 0.9566, Train MAE: 0.7457, Val RMSE: 0.9856, Val MAE: 0.7720\n",
      "Epoch: 229, Train loss: 0.9153, Train RMSE: 0.9568, Train MAE: 0.7540, Val RMSE: 0.9865, Val MAE: 0.7806\n",
      "Epoch: 230, Train loss: 0.9155, Train RMSE: 0.9567, Train MAE: 0.7440, Val RMSE: 0.9860, Val MAE: 0.7704\n",
      "Epoch: 231, Train loss: 0.9154, Train RMSE: 0.9566, Train MAE: 0.7547, Val RMSE: 0.9870, Val MAE: 0.7817\n",
      "Epoch: 232, Train loss: 0.9151, Train RMSE: 0.9557, Train MAE: 0.7433, Val RMSE: 0.9856, Val MAE: 0.7703\n",
      "Epoch: 233, Train loss: 0.9135, Train RMSE: 0.9546, Train MAE: 0.7510, Val RMSE: 0.9855, Val MAE: 0.7786\n",
      "Epoch: 234, Train loss: 0.9113, Train RMSE: 0.9535, Train MAE: 0.7446, Val RMSE: 0.9845, Val MAE: 0.7725\n",
      "Epoch: 235, Train loss: 0.9093, Train RMSE: 0.9529, Train MAE: 0.7457, Val RMSE: 0.9844, Val MAE: 0.7738\n",
      "Epoch: 236, Train loss: 0.9082, Train RMSE: 0.9528, Train MAE: 0.7476, Val RMSE: 0.9847, Val MAE: 0.7760\n",
      "Epoch: 237, Train loss: 0.9079, Train RMSE: 0.9529, Train MAE: 0.7423, Val RMSE: 0.9847, Val MAE: 0.7707\n",
      "Epoch: 238, Train loss: 0.9081, Train RMSE: 0.9530, Train MAE: 0.7500, Val RMSE: 0.9856, Val MAE: 0.7788\n",
      "Epoch: 239, Train loss: 0.9084, Train RMSE: 0.9529, Train MAE: 0.7408, Val RMSE: 0.9850, Val MAE: 0.7694\n",
      "Epoch: 240, Train loss: 0.9081, Train RMSE: 0.9524, Train MAE: 0.7495, Val RMSE: 0.9855, Val MAE: 0.7787\n",
      "Epoch: 241, Train loss: 0.9071, Train RMSE: 0.9515, Train MAE: 0.7410, Val RMSE: 0.9843, Val MAE: 0.7703\n",
      "Epoch: 242, Train loss: 0.9054, Train RMSE: 0.9507, Train MAE: 0.7455, Val RMSE: 0.9842, Val MAE: 0.7752\n",
      "Epoch: 243, Train loss: 0.9038, Train RMSE: 0.9501, Train MAE: 0.7428, Val RMSE: 0.9837, Val MAE: 0.7727\n",
      "Epoch: 244, Train loss: 0.9028, Train RMSE: 0.9499, Train MAE: 0.7417, Val RMSE: 0.9836, Val MAE: 0.7716\n",
      "Epoch: 245, Train loss: 0.9023, Train RMSE: 0.9498, Train MAE: 0.7453, Val RMSE: 0.9840, Val MAE: 0.7753\n",
      "Epoch: 246, Train loss: 0.9023, Train RMSE: 0.9499, Train MAE: 0.7393, Val RMSE: 0.9837, Val MAE: 0.7692\n",
      "Epoch: 247, Train loss: 0.9024, Train RMSE: 0.9500, Train MAE: 0.7469, Val RMSE: 0.9846, Val MAE: 0.7771\n",
      "Epoch: 248, Train loss: 0.9025, Train RMSE: 0.9498, Train MAE: 0.7380, Val RMSE: 0.9841, Val MAE: 0.7682\n",
      "Epoch: 249, Train loss: 0.9023, Train RMSE: 0.9496, Train MAE: 0.7468, Val RMSE: 0.9844, Val MAE: 0.7771\n",
      "Epoch: 250, Train loss: 0.9018, Train RMSE: 0.9490, Train MAE: 0.7376, Val RMSE: 0.9835, Val MAE: 0.7679\n",
      "Epoch: 251, Train loss: 0.9007, Train RMSE: 0.9483, Train MAE: 0.7443, Val RMSE: 0.9839, Val MAE: 0.7753\n",
      "Epoch: 252, Train loss: 0.8993, Train RMSE: 0.9476, Train MAE: 0.7384, Val RMSE: 0.9832, Val MAE: 0.7696\n",
      "Epoch: 253, Train loss: 0.8980, Train RMSE: 0.9471, Train MAE: 0.7408, Val RMSE: 0.9828, Val MAE: 0.7718\n",
      "Epoch: 254, Train loss: 0.8970, Train RMSE: 0.9468, Train MAE: 0.7400, Val RMSE: 0.9827, Val MAE: 0.7710\n",
      "Epoch: 255, Train loss: 0.8964, Train RMSE: 0.9465, Train MAE: 0.7381, Val RMSE: 0.9829, Val MAE: 0.7696\n",
      "Epoch: 256, Train loss: 0.8960, Train RMSE: 0.9465, Train MAE: 0.7416, Val RMSE: 0.9834, Val MAE: 0.7735\n",
      "Epoch: 257, Train loss: 0.8959, Train RMSE: 0.9465, Train MAE: 0.7362, Val RMSE: 0.9830, Val MAE: 0.7678\n",
      "Epoch: 258, Train loss: 0.8960, Train RMSE: 0.9468, Train MAE: 0.7436, Val RMSE: 0.9838, Val MAE: 0.7755\n",
      "Epoch: 259, Train loss: 0.8964, Train RMSE: 0.9470, Train MAE: 0.7346, Val RMSE: 0.9839, Val MAE: 0.7667\n",
      "Epoch: 260, Train loss: 0.8970, Train RMSE: 0.9477, Train MAE: 0.7464, Val RMSE: 0.9855, Val MAE: 0.7788\n",
      "Epoch: 261, Train loss: 0.8982, Train RMSE: 0.9481, Train MAE: 0.7336, Val RMSE: 0.9851, Val MAE: 0.7658\n",
      "Epoch: 262, Train loss: 0.8989, Train RMSE: 0.9482, Train MAE: 0.7479, Val RMSE: 0.9858, Val MAE: 0.7802\n",
      "Epoch: 263, Train loss: 0.8990, Train RMSE: 0.9470, Train MAE: 0.7334, Val RMSE: 0.9839, Val MAE: 0.7655\n",
      "Epoch: 264, Train loss: 0.8969, Train RMSE: 0.9453, Train MAE: 0.7424, Val RMSE: 0.9833, Val MAE: 0.7753\n",
      "Epoch: 265, Train loss: 0.8936, Train RMSE: 0.9439, Train MAE: 0.7357, Val RMSE: 0.9820, Val MAE: 0.7689\n",
      "Epoch: 266, Train loss: 0.8911, Train RMSE: 0.9437, Train MAE: 0.7352, Val RMSE: 0.9817, Val MAE: 0.7682\n",
      "Epoch: 267, Train loss: 0.8907, Train RMSE: 0.9443, Train MAE: 0.7410, Val RMSE: 0.9827, Val MAE: 0.7742\n",
      "Epoch: 268, Train loss: 0.8918, Train RMSE: 0.9449, Train MAE: 0.7325, Val RMSE: 0.9830, Val MAE: 0.7654\n",
      "Epoch: 269, Train loss: 0.8930, Train RMSE: 0.9452, Train MAE: 0.7437, Val RMSE: 0.9842, Val MAE: 0.7772\n",
      "Epoch: 270, Train loss: 0.8935, Train RMSE: 0.9444, Train MAE: 0.7321, Val RMSE: 0.9828, Val MAE: 0.7651\n",
      "Epoch: 271, Train loss: 0.8920, Train RMSE: 0.9432, Train MAE: 0.7396, Val RMSE: 0.9821, Val MAE: 0.7730\n",
      "Epoch: 272, Train loss: 0.8897, Train RMSE: 0.9422, Train MAE: 0.7343, Val RMSE: 0.9812, Val MAE: 0.7679\n",
      "Epoch: 273, Train loss: 0.8878, Train RMSE: 0.9421, Train MAE: 0.7337, Val RMSE: 0.9816, Val MAE: 0.7677\n",
      "Epoch: 274, Train loss: 0.8876, Train RMSE: 0.9425, Train MAE: 0.7389, Val RMSE: 0.9826, Val MAE: 0.7733\n",
      "Epoch: 275, Train loss: 0.8884, Train RMSE: 0.9430, Train MAE: 0.7311, Val RMSE: 0.9826, Val MAE: 0.7651\n",
      "Epoch: 276, Train loss: 0.8893, Train RMSE: 0.9431, Train MAE: 0.7410, Val RMSE: 0.9835, Val MAE: 0.7755\n",
      "Epoch: 277, Train loss: 0.8895, Train RMSE: 0.9424, Train MAE: 0.7306, Val RMSE: 0.9825, Val MAE: 0.7650\n",
      "Epoch: 278, Train loss: 0.8883, Train RMSE: 0.9415, Train MAE: 0.7375, Val RMSE: 0.9822, Val MAE: 0.7724\n",
      "Epoch: 279, Train loss: 0.8864, Train RMSE: 0.9406, Train MAE: 0.7324, Val RMSE: 0.9815, Val MAE: 0.7676\n",
      "Epoch: 280, Train loss: 0.8849, Train RMSE: 0.9404, Train MAE: 0.7325, Val RMSE: 0.9817, Val MAE: 0.7680\n",
      "Epoch: 281, Train loss: 0.8844, Train RMSE: 0.9406, Train MAE: 0.7361, Val RMSE: 0.9823, Val MAE: 0.7717\n",
      "Epoch: 282, Train loss: 0.8847, Train RMSE: 0.9409, Train MAE: 0.7299, Val RMSE: 0.9823, Val MAE: 0.7654\n",
      "Epoch: 283, Train loss: 0.8854, Train RMSE: 0.9413, Train MAE: 0.7387, Val RMSE: 0.9833, Val MAE: 0.7745\n",
      "Epoch: 284, Train loss: 0.8860, Train RMSE: 0.9411, Train MAE: 0.7288, Val RMSE: 0.9828, Val MAE: 0.7644\n",
      "Epoch: 285, Train loss: 0.8858, Train RMSE: 0.9406, Train MAE: 0.7377, Val RMSE: 0.9832, Val MAE: 0.7740\n",
      "Epoch: 286, Train loss: 0.8849, Train RMSE: 0.9397, Train MAE: 0.7293, Val RMSE: 0.9822, Val MAE: 0.7657\n",
      "Epoch: 287, Train loss: 0.8832, Train RMSE: 0.9390, Train MAE: 0.7337, Val RMSE: 0.9820, Val MAE: 0.7706\n",
      "Epoch: 288, Train loss: 0.8818, Train RMSE: 0.9385, Train MAE: 0.7313, Val RMSE: 0.9819, Val MAE: 0.7686\n",
      "Epoch: 289, Train loss: 0.8809, Train RMSE: 0.9384, Train MAE: 0.7301, Val RMSE: 0.9821, Val MAE: 0.7678\n",
      "Epoch: 290, Train loss: 0.8807, Train RMSE: 0.9385, Train MAE: 0.7339, Val RMSE: 0.9827, Val MAE: 0.7719\n",
      "Epoch: 291, Train loss: 0.8809, Train RMSE: 0.9387, Train MAE: 0.7281, Val RMSE: 0.9827, Val MAE: 0.7660\n",
      "Epoch: 292, Train loss: 0.8813, Train RMSE: 0.9389, Train MAE: 0.7359, Val RMSE: 0.9835, Val MAE: 0.7741\n",
      "Epoch: 293, Train loss: 0.8816, Train RMSE: 0.9389, Train MAE: 0.7271, Val RMSE: 0.9833, Val MAE: 0.7653\n",
      "Epoch: 294, Train loss: 0.8817, Train RMSE: 0.9389, Train MAE: 0.7365, Val RMSE: 0.9839, Val MAE: 0.7751\n",
      "Epoch: 295, Train loss: 0.8816, Train RMSE: 0.9385, Train MAE: 0.7267, Val RMSE: 0.9836, Val MAE: 0.7655\n",
      "Epoch: 296, Train loss: 0.8809, Train RMSE: 0.9381, Train MAE: 0.7349, Val RMSE: 0.9841, Val MAE: 0.7743\n",
      "Epoch: 297, Train loss: 0.8800, Train RMSE: 0.9374, Train MAE: 0.7269, Val RMSE: 0.9829, Val MAE: 0.7661\n",
      "Epoch: 298, Train loss: 0.8789, Train RMSE: 0.9369, Train MAE: 0.7325, Val RMSE: 0.9828, Val MAE: 0.7721\n",
      "Epoch: 299, Train loss: 0.8779, Train RMSE: 0.9363, Train MAE: 0.7278, Val RMSE: 0.9826, Val MAE: 0.7676\n",
      "Epoch: 300, Train loss: 0.8769, Train RMSE: 0.9360, Train MAE: 0.7295, Val RMSE: 0.9830, Val MAE: 0.7699\n",
      "Epoch: 301, Train loss: 0.8762, Train RMSE: 0.9358, Train MAE: 0.7292, Val RMSE: 0.9833, Val MAE: 0.7698\n",
      "Epoch: 302, Train loss: 0.8758, Train RMSE: 0.9357, Train MAE: 0.7273, Val RMSE: 0.9830, Val MAE: 0.7678\n",
      "Epoch: 303, Train loss: 0.8756, Train RMSE: 0.9357, Train MAE: 0.7311, Val RMSE: 0.9830, Val MAE: 0.7718\n",
      "Epoch: 304, Train loss: 0.8757, Train RMSE: 0.9358, Train MAE: 0.7257, Val RMSE: 0.9834, Val MAE: 0.7665\n",
      "Epoch: 305, Train loss: 0.8759, Train RMSE: 0.9362, Train MAE: 0.7332, Val RMSE: 0.9848, Val MAE: 0.7747\n",
      "Epoch: 306, Train loss: 0.8766, Train RMSE: 0.9369, Train MAE: 0.7241, Val RMSE: 0.9845, Val MAE: 0.7649\n",
      "Epoch: 307, Train loss: 0.8779, Train RMSE: 0.9383, Train MAE: 0.7382, Val RMSE: 0.9868, Val MAE: 0.7797\n",
      "Epoch: 308, Train loss: 0.8805, Train RMSE: 0.9395, Train MAE: 0.7234, Val RMSE: 0.9873, Val MAE: 0.7642\n",
      "Epoch: 309, Train loss: 0.8828, Train RMSE: 0.9409, Train MAE: 0.7425, Val RMSE: 0.9901, Val MAE: 0.7842\n",
      "Epoch: 310, Train loss: 0.8853, Train RMSE: 0.9404, Train MAE: 0.7232, Val RMSE: 0.9876, Val MAE: 0.7635\n",
      "Epoch: 311, Train loss: 0.8846, Train RMSE: 0.9382, Train MAE: 0.7388, Val RMSE: 0.9868, Val MAE: 0.7803\n",
      "Epoch: 312, Train loss: 0.8803, Train RMSE: 0.9348, Train MAE: 0.7241, Val RMSE: 0.9835, Val MAE: 0.7657\n",
      "Epoch: 313, Train loss: 0.8740, Train RMSE: 0.9335, Train MAE: 0.7261, Val RMSE: 0.9830, Val MAE: 0.7683\n",
      "Epoch: 314, Train loss: 0.8716, Train RMSE: 0.9349, Train MAE: 0.7326, Val RMSE: 0.9851, Val MAE: 0.7753\n",
      "Epoch: 315, Train loss: 0.8742, Train RMSE: 0.9365, Train MAE: 0.7224, Val RMSE: 0.9861, Val MAE: 0.7644\n",
      "Epoch: 316, Train loss: 0.8772, Train RMSE: 0.9368, Train MAE: 0.7368, Val RMSE: 0.9877, Val MAE: 0.7798\n",
      "Epoch: 317, Train loss: 0.8777, Train RMSE: 0.9350, Train MAE: 0.7224, Val RMSE: 0.9844, Val MAE: 0.7643\n",
      "Epoch: 318, Train loss: 0.8744, Train RMSE: 0.9330, Train MAE: 0.7286, Val RMSE: 0.9828, Val MAE: 0.7710\n",
      "Epoch: 319, Train loss: 0.8707, Train RMSE: 0.9326, Train MAE: 0.7274, Val RMSE: 0.9830, Val MAE: 0.7704\n",
      "Epoch: 320, Train loss: 0.8698, Train RMSE: 0.9336, Train MAE: 0.7221, Val RMSE: 0.9845, Val MAE: 0.7651\n",
      "Epoch: 321, Train loss: 0.8718, Train RMSE: 0.9348, Train MAE: 0.7332, Val RMSE: 0.9875, Val MAE: 0.7776\n",
      "Epoch: 322, Train loss: 0.8739, Train RMSE: 0.9346, Train MAE: 0.7215, Val RMSE: 0.9847, Val MAE: 0.7639\n",
      "Epoch: 323, Train loss: 0.8737, Train RMSE: 0.9336, Train MAE: 0.7318, Val RMSE: 0.9837, Val MAE: 0.7746\n",
      "Epoch: 324, Train loss: 0.8718, Train RMSE: 0.9320, Train MAE: 0.7239, Val RMSE: 0.9819, Val MAE: 0.7664\n",
      "Epoch: 325, Train loss: 0.8688, Train RMSE: 0.9318, Train MAE: 0.7231, Val RMSE: 0.9823, Val MAE: 0.7660\n",
      "Epoch: 326, Train loss: 0.8684, Train RMSE: 0.9327, Train MAE: 0.7300, Val RMSE: 0.9846, Val MAE: 0.7742\n",
      "Epoch: 327, Train loss: 0.8700, Train RMSE: 0.9331, Train MAE: 0.7206, Val RMSE: 0.9850, Val MAE: 0.7645\n",
      "Epoch: 328, Train loss: 0.8708, Train RMSE: 0.9326, Train MAE: 0.7297, Val RMSE: 0.9858, Val MAE: 0.7745\n",
      "Epoch: 329, Train loss: 0.8697, Train RMSE: 0.9314, Train MAE: 0.7218, Val RMSE: 0.9833, Val MAE: 0.7656\n",
      "Epoch: 330, Train loss: 0.8677, Train RMSE: 0.9309, Train MAE: 0.7251, Val RMSE: 0.9828, Val MAE: 0.7692\n",
      "Epoch: 331, Train loss: 0.8666, Train RMSE: 0.9307, Train MAE: 0.7255, Val RMSE: 0.9828, Val MAE: 0.7698\n",
      "Epoch: 332, Train loss: 0.8663, Train RMSE: 0.9309, Train MAE: 0.7209, Val RMSE: 0.9833, Val MAE: 0.7652\n",
      "Epoch: 333, Train loss: 0.8667, Train RMSE: 0.9312, Train MAE: 0.7272, Val RMSE: 0.9854, Val MAE: 0.7729\n",
      "Epoch: 334, Train loss: 0.8673, Train RMSE: 0.9311, Train MAE: 0.7200, Val RMSE: 0.9842, Val MAE: 0.7648\n",
      "Epoch: 335, Train loss: 0.8672, Train RMSE: 0.9307, Train MAE: 0.7273, Val RMSE: 0.9841, Val MAE: 0.7726\n",
      "Epoch: 336, Train loss: 0.8664, Train RMSE: 0.9301, Train MAE: 0.7209, Val RMSE: 0.9828, Val MAE: 0.7656\n",
      "Epoch: 337, Train loss: 0.8652, Train RMSE: 0.9295, Train MAE: 0.7232, Val RMSE: 0.9829, Val MAE: 0.7686\n",
      "Epoch: 338, Train loss: 0.8641, Train RMSE: 0.9294, Train MAE: 0.7235, Val RMSE: 0.9836, Val MAE: 0.7694\n",
      "Epoch: 339, Train loss: 0.8639, Train RMSE: 0.9297, Train MAE: 0.7200, Val RMSE: 0.9833, Val MAE: 0.7653\n",
      "Epoch: 340, Train loss: 0.8644, Train RMSE: 0.9300, Train MAE: 0.7266, Val RMSE: 0.9841, Val MAE: 0.7723\n",
      "Epoch: 341, Train loss: 0.8649, Train RMSE: 0.9302, Train MAE: 0.7189, Val RMSE: 0.9831, Val MAE: 0.7637\n",
      "Epoch: 342, Train loss: 0.8654, Train RMSE: 0.9300, Train MAE: 0.7273, Val RMSE: 0.9843, Val MAE: 0.7732\n",
      "Epoch: 343, Train loss: 0.8650, Train RMSE: 0.9293, Train MAE: 0.7189, Val RMSE: 0.9834, Val MAE: 0.7646\n",
      "Epoch: 344, Train loss: 0.8638, Train RMSE: 0.9289, Train MAE: 0.7239, Val RMSE: 0.9845, Val MAE: 0.7708\n",
      "Epoch: 345, Train loss: 0.8630, Train RMSE: 0.9285, Train MAE: 0.7194, Val RMSE: 0.9826, Val MAE: 0.7655\n",
      "Epoch: 346, Train loss: 0.8623, Train RMSE: 0.9283, Train MAE: 0.7233, Val RMSE: 0.9828, Val MAE: 0.7697\n",
      "Epoch: 347, Train loss: 0.8618, Train RMSE: 0.9280, Train MAE: 0.7199, Val RMSE: 0.9826, Val MAE: 0.7663\n",
      "Epoch: 348, Train loss: 0.8613, Train RMSE: 0.9278, Train MAE: 0.7212, Val RMSE: 0.9829, Val MAE: 0.7679\n",
      "Epoch: 349, Train loss: 0.8609, Train RMSE: 0.9276, Train MAE: 0.7202, Val RMSE: 0.9824, Val MAE: 0.7667\n",
      "Epoch: 350, Train loss: 0.8605, Train RMSE: 0.9274, Train MAE: 0.7205, Val RMSE: 0.9822, Val MAE: 0.7669\n",
      "Epoch: 351, Train loss: 0.8602, Train RMSE: 0.9272, Train MAE: 0.7205, Val RMSE: 0.9824, Val MAE: 0.7671\n",
      "Epoch: 352, Train loss: 0.8599, Train RMSE: 0.9271, Train MAE: 0.7193, Val RMSE: 0.9822, Val MAE: 0.7659\n",
      "Epoch: 353, Train loss: 0.8597, Train RMSE: 0.9270, Train MAE: 0.7213, Val RMSE: 0.9826, Val MAE: 0.7683\n",
      "Epoch: 354, Train loss: 0.8595, Train RMSE: 0.9271, Train MAE: 0.7182, Val RMSE: 0.9820, Val MAE: 0.7647\n",
      "Epoch: 355, Train loss: 0.8597, Train RMSE: 0.9278, Train MAE: 0.7239, Val RMSE: 0.9845, Val MAE: 0.7715\n",
      "Epoch: 356, Train loss: 0.8610, Train RMSE: 0.9305, Train MAE: 0.7161, Val RMSE: 0.9836, Val MAE: 0.7611\n",
      "Epoch: 357, Train loss: 0.8660, Train RMSE: 0.9357, Train MAE: 0.7391, Val RMSE: 0.9903, Val MAE: 0.7853\n",
      "Epoch: 358, Train loss: 0.8756, Train RMSE: 0.9402, Train MAE: 0.7181, Val RMSE: 0.9923, Val MAE: 0.7619\n",
      "Epoch: 359, Train loss: 0.8843, Train RMSE: 0.9435, Train MAE: 0.7489, Val RMSE: 0.9993, Val MAE: 0.7954\n",
      "Epoch: 360, Train loss: 0.8902, Train RMSE: 0.9416, Train MAE: 0.7193, Val RMSE: 0.9924, Val MAE: 0.7623\n",
      "Epoch: 361, Train loss: 0.8870, Train RMSE: 0.9331, Train MAE: 0.7349, Val RMSE: 0.9848, Val MAE: 0.7793\n",
      "Epoch: 362, Train loss: 0.8707, Train RMSE: 0.9276, Train MAE: 0.7224, Val RMSE: 0.9790, Val MAE: 0.7665\n",
      "Epoch: 363, Train loss: 0.8605, Train RMSE: 0.9331, Train MAE: 0.7165, Val RMSE: 0.9843, Val MAE: 0.7600\n",
      "Epoch: 364, Train loss: 0.8708, Train RMSE: 0.9367, Train MAE: 0.7403, Val RMSE: 0.9898, Val MAE: 0.7855\n",
      "Epoch: 365, Train loss: 0.8774, Train RMSE: 0.9303, Train MAE: 0.7159, Val RMSE: 0.9839, Val MAE: 0.7611\n",
      "Epoch: 366, Train loss: 0.8657, Train RMSE: 0.9267, Train MAE: 0.7183, Val RMSE: 0.9815, Val MAE: 0.7649\n",
      "Epoch: 367, Train loss: 0.8588, Train RMSE: 0.9307, Train MAE: 0.7309, Val RMSE: 0.9860, Val MAE: 0.7777\n",
      "Epoch: 368, Train loss: 0.8663, Train RMSE: 0.9317, Train MAE: 0.7149, Val RMSE: 0.9863, Val MAE: 0.7613\n",
      "Epoch: 369, Train loss: 0.8682, Train RMSE: 0.9276, Train MAE: 0.7247, Val RMSE: 0.9830, Val MAE: 0.7722\n",
      "Epoch: 370, Train loss: 0.8605, Train RMSE: 0.9264, Train MAE: 0.7220, Val RMSE: 0.9822, Val MAE: 0.7700\n",
      "Epoch: 371, Train loss: 0.8584, Train RMSE: 0.9292, Train MAE: 0.7149, Val RMSE: 0.9841, Val MAE: 0.7616\n",
      "Epoch: 372, Train loss: 0.8637, Train RMSE: 0.9287, Train MAE: 0.7278, Val RMSE: 0.9844, Val MAE: 0.7753\n",
      "Epoch: 373, Train loss: 0.8625, Train RMSE: 0.9257, Train MAE: 0.7169, Val RMSE: 0.9813, Val MAE: 0.7644\n",
      "Epoch: 374, Train loss: 0.8570, Train RMSE: 0.9263, Train MAE: 0.7153, Val RMSE: 0.9824, Val MAE: 0.7630\n",
      "Epoch: 375, Train loss: 0.8583, Train RMSE: 0.9280, Train MAE: 0.7268, Val RMSE: 0.9852, Val MAE: 0.7755\n",
      "Epoch: 376, Train loss: 0.8613, Train RMSE: 0.9262, Train MAE: 0.7149, Val RMSE: 0.9827, Val MAE: 0.7631\n",
      "Epoch: 377, Train loss: 0.8581, Train RMSE: 0.9248, Train MAE: 0.7173, Val RMSE: 0.9815, Val MAE: 0.7659\n",
      "Epoch: 378, Train loss: 0.8554, Train RMSE: 0.9261, Train MAE: 0.7231, Val RMSE: 0.9830, Val MAE: 0.7717\n",
      "Epoch: 379, Train loss: 0.8577, Train RMSE: 0.9263, Train MAE: 0.7140, Val RMSE: 0.9827, Val MAE: 0.7622\n",
      "Epoch: 380, Train loss: 0.8582, Train RMSE: 0.9248, Train MAE: 0.7202, Val RMSE: 0.9825, Val MAE: 0.7694\n",
      "Epoch: 381, Train loss: 0.8554, Train RMSE: 0.9244, Train MAE: 0.7186, Val RMSE: 0.9823, Val MAE: 0.7680\n",
      "Epoch: 382, Train loss: 0.8546, Train RMSE: 0.9252, Train MAE: 0.7141, Val RMSE: 0.9826, Val MAE: 0.7630\n",
      "Epoch: 383, Train loss: 0.8562, Train RMSE: 0.9251, Train MAE: 0.7218, Val RMSE: 0.9837, Val MAE: 0.7717\n",
      "Epoch: 384, Train loss: 0.8560, Train RMSE: 0.9241, Train MAE: 0.7152, Val RMSE: 0.9821, Val MAE: 0.7649\n",
      "Epoch: 385, Train loss: 0.8540, Train RMSE: 0.9238, Train MAE: 0.7154, Val RMSE: 0.9823, Val MAE: 0.7655\n",
      "Epoch: 386, Train loss: 0.8535, Train RMSE: 0.9244, Train MAE: 0.7202, Val RMSE: 0.9840, Val MAE: 0.7712\n",
      "Epoch: 387, Train loss: 0.8545, Train RMSE: 0.9243, Train MAE: 0.7135, Val RMSE: 0.9831, Val MAE: 0.7638\n",
      "Epoch: 388, Train loss: 0.8545, Train RMSE: 0.9236, Train MAE: 0.7184, Val RMSE: 0.9832, Val MAE: 0.7694\n",
      "Epoch: 389, Train loss: 0.8531, Train RMSE: 0.9231, Train MAE: 0.7162, Val RMSE: 0.9822, Val MAE: 0.7669\n",
      "Epoch: 390, Train loss: 0.8523, Train RMSE: 0.9233, Train MAE: 0.7142, Val RMSE: 0.9820, Val MAE: 0.7647\n",
      "Epoch: 391, Train loss: 0.8526, Train RMSE: 0.9235, Train MAE: 0.7190, Val RMSE: 0.9836, Val MAE: 0.7705\n",
      "Epoch: 392, Train loss: 0.8530, Train RMSE: 0.9233, Train MAE: 0.7135, Val RMSE: 0.9825, Val MAE: 0.7643\n",
      "Epoch: 393, Train loss: 0.8525, Train RMSE: 0.9227, Train MAE: 0.7171, Val RMSE: 0.9829, Val MAE: 0.7687\n",
      "Epoch: 394, Train loss: 0.8516, Train RMSE: 0.9224, Train MAE: 0.7156, Val RMSE: 0.9826, Val MAE: 0.7672\n",
      "Epoch: 395, Train loss: 0.8510, Train RMSE: 0.9225, Train MAE: 0.7136, Val RMSE: 0.9826, Val MAE: 0.7651\n",
      "Epoch: 396, Train loss: 0.8511, Train RMSE: 0.9228, Train MAE: 0.7179, Val RMSE: 0.9841, Val MAE: 0.7702\n",
      "Epoch: 397, Train loss: 0.8516, Train RMSE: 0.9230, Train MAE: 0.7131, Val RMSE: 0.9824, Val MAE: 0.7639\n",
      "Epoch: 398, Train loss: 0.8520, Train RMSE: 0.9227, Train MAE: 0.7188, Val RMSE: 0.9837, Val MAE: 0.7710\n",
      "Epoch: 399, Train loss: 0.8515, Train RMSE: 0.9222, Train MAE: 0.7129, Val RMSE: 0.9824, Val MAE: 0.7643\n",
      "Epoch: 400, Train loss: 0.8506, Train RMSE: 0.9218, Train MAE: 0.7154, Val RMSE: 0.9834, Val MAE: 0.7680\n",
      "Epoch: 401, Train loss: 0.8498, Train RMSE: 0.9216, Train MAE: 0.7146, Val RMSE: 0.9824, Val MAE: 0.7666\n",
      "Epoch: 402, Train loss: 0.8494, Train RMSE: 0.9214, Train MAE: 0.7146, Val RMSE: 0.9826, Val MAE: 0.7669\n",
      "Epoch: 403, Train loss: 0.8491, Train RMSE: 0.9213, Train MAE: 0.7144, Val RMSE: 0.9831, Val MAE: 0.7672\n",
      "Epoch: 404, Train loss: 0.8489, Train RMSE: 0.9212, Train MAE: 0.7134, Val RMSE: 0.9828, Val MAE: 0.7660\n",
      "Epoch: 405, Train loss: 0.8487, Train RMSE: 0.9212, Train MAE: 0.7156, Val RMSE: 0.9835, Val MAE: 0.7689\n",
      "Epoch: 406, Train loss: 0.8487, Train RMSE: 0.9213, Train MAE: 0.7125, Val RMSE: 0.9825, Val MAE: 0.7649\n",
      "Epoch: 407, Train loss: 0.8488, Train RMSE: 0.9218, Train MAE: 0.7172, Val RMSE: 0.9857, Val MAE: 0.7716\n",
      "Epoch: 408, Train loss: 0.8499, Train RMSE: 0.9234, Train MAE: 0.7116, Val RMSE: 0.9830, Val MAE: 0.7626\n",
      "Epoch: 409, Train loss: 0.8529, Train RMSE: 0.9244, Train MAE: 0.7244, Val RMSE: 0.9865, Val MAE: 0.7777\n",
      "Epoch: 410, Train loss: 0.8546, Train RMSE: 0.9230, Train MAE: 0.7099, Val RMSE: 0.9849, Val MAE: 0.7625\n",
      "Epoch: 411, Train loss: 0.8521, Train RMSE: 0.9239, Train MAE: 0.7195, Val RMSE: 0.9906, Val MAE: 0.7759\n",
      "Epoch: 412, Train loss: 0.8537, Train RMSE: 0.9253, Train MAE: 0.7126, Val RMSE: 0.9839, Val MAE: 0.7623\n",
      "Epoch: 413, Train loss: 0.8564, Train RMSE: 0.9271, Train MAE: 0.7284, Val RMSE: 0.9851, Val MAE: 0.7784\n",
      "Epoch: 414, Train loss: 0.8596, Train RMSE: 0.9238, Train MAE: 0.7124, Val RMSE: 0.9814, Val MAE: 0.7618\n",
      "Epoch: 415, Train loss: 0.8535, Train RMSE: 0.9214, Train MAE: 0.7151, Val RMSE: 0.9829, Val MAE: 0.7676\n",
      "Epoch: 416, Train loss: 0.8491, Train RMSE: 0.9228, Train MAE: 0.7190, Val RMSE: 0.9885, Val MAE: 0.7745\n",
      "Epoch: 417, Train loss: 0.8516, Train RMSE: 0.9263, Train MAE: 0.7111, Val RMSE: 0.9889, Val MAE: 0.7634\n",
      "Epoch: 418, Train loss: 0.8583, Train RMSE: 0.9284, Train MAE: 0.7302, Val RMSE: 0.9934, Val MAE: 0.7854\n",
      "Epoch: 419, Train loss: 0.8621, Train RMSE: 0.9271, Train MAE: 0.7108, Val RMSE: 0.9865, Val MAE: 0.7612\n",
      "Epoch: 420, Train loss: 0.8598, Train RMSE: 0.9225, Train MAE: 0.7209, Val RMSE: 0.9850, Val MAE: 0.7744\n",
      "Epoch: 421, Train loss: 0.8511, Train RMSE: 0.9204, Train MAE: 0.7150, Val RMSE: 0.9846, Val MAE: 0.7701\n",
      "Epoch: 422, Train loss: 0.8473, Train RMSE: 0.9231, Train MAE: 0.7097, Val RMSE: 0.9869, Val MAE: 0.7636\n",
      "Epoch: 423, Train loss: 0.8524, Train RMSE: 0.9273, Train MAE: 0.7270, Val RMSE: 0.9947, Val MAE: 0.7842\n",
      "Epoch: 424, Train loss: 0.8600, Train RMSE: 0.9304, Train MAE: 0.7120, Val RMSE: 0.9882, Val MAE: 0.7609\n",
      "Epoch: 425, Train loss: 0.8659, Train RMSE: 0.9273, Train MAE: 0.7295, Val RMSE: 0.9859, Val MAE: 0.7802\n",
      "Epoch: 426, Train loss: 0.8599, Train RMSE: 0.9217, Train MAE: 0.7149, Val RMSE: 0.9809, Val MAE: 0.7660\n",
      "Epoch: 427, Train loss: 0.8496, Train RMSE: 0.9242, Train MAE: 0.7101, Val RMSE: 0.9852, Val MAE: 0.7621\n",
      "Epoch: 428, Train loss: 0.8544, Train RMSE: 0.9281, Train MAE: 0.7299, Val RMSE: 0.9928, Val MAE: 0.7848\n",
      "Epoch: 429, Train loss: 0.8615, Train RMSE: 0.9247, Train MAE: 0.7099, Val RMSE: 0.9874, Val MAE: 0.7627\n",
      "Epoch: 430, Train loss: 0.8553, Train RMSE: 0.9203, Train MAE: 0.7148, Val RMSE: 0.9842, Val MAE: 0.7694\n",
      "Epoch: 431, Train loss: 0.8470, Train RMSE: 0.9212, Train MAE: 0.7192, Val RMSE: 0.9856, Val MAE: 0.7740\n",
      "Epoch: 432, Train loss: 0.8487, Train RMSE: 0.9238, Train MAE: 0.7089, Val RMSE: 0.9866, Val MAE: 0.7624\n",
      "Epoch: 433, Train loss: 0.8535, Train RMSE: 0.9228, Train MAE: 0.7219, Val RMSE: 0.9897, Val MAE: 0.7791\n",
      "Epoch: 434, Train loss: 0.8516, Train RMSE: 0.9200, Train MAE: 0.7110, Val RMSE: 0.9845, Val MAE: 0.7658\n",
      "Epoch: 435, Train loss: 0.8465, Train RMSE: 0.9192, Train MAE: 0.7112, Val RMSE: 0.9839, Val MAE: 0.7663\n",
      "Epoch: 436, Train loss: 0.8451, Train RMSE: 0.9209, Train MAE: 0.7180, Val RMSE: 0.9877, Val MAE: 0.7751\n",
      "Epoch: 437, Train loss: 0.8481, Train RMSE: 0.9219, Train MAE: 0.7078, Val RMSE: 0.9853, Val MAE: 0.7619\n",
      "Epoch: 438, Train loss: 0.8500, Train RMSE: 0.9202, Train MAE: 0.7179, Val RMSE: 0.9863, Val MAE: 0.7748\n",
      "Epoch: 439, Train loss: 0.8468, Train RMSE: 0.9184, Train MAE: 0.7109, Val RMSE: 0.9837, Val MAE: 0.7672\n",
      "Epoch: 440, Train loss: 0.8436, Train RMSE: 0.9189, Train MAE: 0.7095, Val RMSE: 0.9845, Val MAE: 0.7658\n",
      "Epoch: 441, Train loss: 0.8444, Train RMSE: 0.9200, Train MAE: 0.7175, Val RMSE: 0.9877, Val MAE: 0.7758\n",
      "Epoch: 442, Train loss: 0.8465, Train RMSE: 0.9201, Train MAE: 0.7080, Val RMSE: 0.9842, Val MAE: 0.7628\n",
      "Epoch: 443, Train loss: 0.8468, Train RMSE: 0.9187, Train MAE: 0.7155, Val RMSE: 0.9849, Val MAE: 0.7724\n",
      "Epoch: 444, Train loss: 0.8440, Train RMSE: 0.9175, Train MAE: 0.7107, Val RMSE: 0.9835, Val MAE: 0.7675\n",
      "Epoch: 445, Train loss: 0.8418, Train RMSE: 0.9179, Train MAE: 0.7084, Val RMSE: 0.9845, Val MAE: 0.7654\n",
      "Epoch: 446, Train loss: 0.8426, Train RMSE: 0.9189, Train MAE: 0.7156, Val RMSE: 0.9878, Val MAE: 0.7747\n",
      "Epoch: 447, Train loss: 0.8444, Train RMSE: 0.9192, Train MAE: 0.7080, Val RMSE: 0.9838, Val MAE: 0.7629\n",
      "Epoch: 448, Train loss: 0.8451, Train RMSE: 0.9182, Train MAE: 0.7152, Val RMSE: 0.9852, Val MAE: 0.7727\n",
      "Epoch: 449, Train loss: 0.8431, Train RMSE: 0.9169, Train MAE: 0.7090, Val RMSE: 0.9844, Val MAE: 0.7667\n",
      "Epoch: 450, Train loss: 0.8408, Train RMSE: 0.9172, Train MAE: 0.7073, Val RMSE: 0.9855, Val MAE: 0.7655\n",
      "Epoch: 451, Train loss: 0.8413, Train RMSE: 0.9179, Train MAE: 0.7145, Val RMSE: 0.9875, Val MAE: 0.7741\n",
      "Epoch: 452, Train loss: 0.8426, Train RMSE: 0.9187, Train MAE: 0.7083, Val RMSE: 0.9839, Val MAE: 0.7638\n",
      "Epoch: 453, Train loss: 0.8442, Train RMSE: 0.9174, Train MAE: 0.7145, Val RMSE: 0.9859, Val MAE: 0.7735\n",
      "Epoch: 454, Train loss: 0.8417, Train RMSE: 0.9165, Train MAE: 0.7082, Val RMSE: 0.9856, Val MAE: 0.7672\n",
      "Epoch: 455, Train loss: 0.8400, Train RMSE: 0.9164, Train MAE: 0.7070, Val RMSE: 0.9856, Val MAE: 0.7661\n",
      "Epoch: 456, Train loss: 0.8400, Train RMSE: 0.9176, Train MAE: 0.7149, Val RMSE: 0.9880, Val MAE: 0.7753\n",
      "Epoch: 457, Train loss: 0.8421, Train RMSE: 0.9192, Train MAE: 0.7075, Val RMSE: 0.9843, Val MAE: 0.7630\n",
      "Epoch: 458, Train loss: 0.8450, Train RMSE: 0.9179, Train MAE: 0.7163, Val RMSE: 0.9881, Val MAE: 0.7766\n",
      "Epoch: 459, Train loss: 0.8427, Train RMSE: 0.9167, Train MAE: 0.7061, Val RMSE: 0.9853, Val MAE: 0.7648\n",
      "Epoch: 460, Train loss: 0.8404, Train RMSE: 0.9158, Train MAE: 0.7096, Val RMSE: 0.9876, Val MAE: 0.7708\n",
      "Epoch: 461, Train loss: 0.8389, Train RMSE: 0.9158, Train MAE: 0.7090, Val RMSE: 0.9845, Val MAE: 0.7677\n",
      "Epoch: 462, Train loss: 0.8387, Train RMSE: 0.9153, Train MAE: 0.7097, Val RMSE: 0.9855, Val MAE: 0.7697\n",
      "Epoch: 463, Train loss: 0.8380, Train RMSE: 0.9154, Train MAE: 0.7076, Val RMSE: 0.9875, Val MAE: 0.7690\n",
      "Epoch: 464, Train loss: 0.8380, Train RMSE: 0.9153, Train MAE: 0.7065, Val RMSE: 0.9853, Val MAE: 0.7664\n",
      "Epoch: 465, Train loss: 0.8378, Train RMSE: 0.9162, Train MAE: 0.7136, Val RMSE: 0.9878, Val MAE: 0.7751\n",
      "Epoch: 466, Train loss: 0.8395, Train RMSE: 0.9173, Train MAE: 0.7062, Val RMSE: 0.9852, Val MAE: 0.7638\n",
      "Epoch: 467, Train loss: 0.8416, Train RMSE: 0.9190, Train MAE: 0.7170, Val RMSE: 0.9937, Val MAE: 0.7800\n",
      "Epoch: 468, Train loss: 0.8446, Train RMSE: 0.9244, Train MAE: 0.7083, Val RMSE: 0.9871, Val MAE: 0.7612\n",
      "Epoch: 469, Train loss: 0.8547, Train RMSE: 0.9243, Train MAE: 0.7280, Val RMSE: 0.9912, Val MAE: 0.7854\n",
      "Epoch: 470, Train loss: 0.8544, Train RMSE: 0.9159, Train MAE: 0.7052, Val RMSE: 0.9856, Val MAE: 0.7649\n",
      "Epoch: 471, Train loss: 0.8390, Train RMSE: 0.9185, Train MAE: 0.7067, Val RMSE: 0.9944, Val MAE: 0.7700\n",
      "Epoch: 472, Train loss: 0.8438, Train RMSE: 0.9153, Train MAE: 0.7115, Val RMSE: 0.9867, Val MAE: 0.7723\n",
      "Epoch: 473, Train loss: 0.8380, Train RMSE: 0.9169, Train MAE: 0.7122, Val RMSE: 0.9832, Val MAE: 0.7687\n",
      "Epoch: 474, Train loss: 0.8408, Train RMSE: 0.9145, Train MAE: 0.7073, Val RMSE: 0.9846, Val MAE: 0.7670\n",
      "Epoch: 475, Train loss: 0.8364, Train RMSE: 0.9189, Train MAE: 0.7130, Val RMSE: 0.9958, Val MAE: 0.7766\n",
      "Epoch: 476, Train loss: 0.8444, Train RMSE: 0.9237, Train MAE: 0.7078, Val RMSE: 0.9876, Val MAE: 0.7615\n",
      "Epoch: 477, Train loss: 0.8535, Train RMSE: 0.9313, Train MAE: 0.7374, Val RMSE: 0.9983, Val MAE: 0.7953\n",
      "Epoch: 478, Train loss: 0.8673, Train RMSE: 0.9190, Train MAE: 0.7057, Val RMSE: 0.9865, Val MAE: 0.7626\n",
      "Epoch: 479, Train loss: 0.8447, Train RMSE: 0.9184, Train MAE: 0.7091, Val RMSE: 0.9953, Val MAE: 0.7729\n",
      "Epoch: 480, Train loss: 0.8436, Train RMSE: 0.9143, Train MAE: 0.7092, Val RMSE: 0.9869, Val MAE: 0.7709\n",
      "Epoch: 481, Train loss: 0.8360, Train RMSE: 0.9168, Train MAE: 0.7098, Val RMSE: 0.9817, Val MAE: 0.7655\n",
      "Epoch: 482, Train loss: 0.8405, Train RMSE: 0.9162, Train MAE: 0.7133, Val RMSE: 0.9833, Val MAE: 0.7711\n",
      "Epoch: 483, Train loss: 0.8395, Train RMSE: 0.9137, Train MAE: 0.7071, Val RMSE: 0.9878, Val MAE: 0.7701\n",
      "Epoch: 484, Train loss: 0.8350, Train RMSE: 0.9163, Train MAE: 0.7052, Val RMSE: 0.9936, Val MAE: 0.7701\n",
      "Epoch: 485, Train loss: 0.8397, Train RMSE: 0.9132, Train MAE: 0.7068, Val RMSE: 0.9863, Val MAE: 0.7692\n",
      "Epoch: 486, Train loss: 0.8340, Train RMSE: 0.9154, Train MAE: 0.7127, Val RMSE: 0.9850, Val MAE: 0.7725\n",
      "Epoch: 487, Train loss: 0.8380, Train RMSE: 0.9143, Train MAE: 0.7056, Val RMSE: 0.9845, Val MAE: 0.7655\n",
      "Epoch: 488, Train loss: 0.8360, Train RMSE: 0.9151, Train MAE: 0.7098, Val RMSE: 0.9926, Val MAE: 0.7750\n",
      "Epoch: 489, Train loss: 0.8375, Train RMSE: 0.9153, Train MAE: 0.7031, Val RMSE: 0.9873, Val MAE: 0.7643\n",
      "Epoch: 490, Train loss: 0.8379, Train RMSE: 0.9162, Train MAE: 0.7164, Val RMSE: 0.9902, Val MAE: 0.7800\n",
      "Epoch: 491, Train loss: 0.8396, Train RMSE: 0.9146, Train MAE: 0.7047, Val RMSE: 0.9849, Val MAE: 0.7648\n",
      "Epoch: 492, Train loss: 0.8366, Train RMSE: 0.9128, Train MAE: 0.7073, Val RMSE: 0.9888, Val MAE: 0.7720\n",
      "Epoch: 493, Train loss: 0.8333, Train RMSE: 0.9126, Train MAE: 0.7060, Val RMSE: 0.9888, Val MAE: 0.7707\n",
      "Epoch: 494, Train loss: 0.8328, Train RMSE: 0.9132, Train MAE: 0.7040, Val RMSE: 0.9857, Val MAE: 0.7658\n",
      "Epoch: 495, Train loss: 0.8341, Train RMSE: 0.9144, Train MAE: 0.7132, Val RMSE: 0.9907, Val MAE: 0.7783\n",
      "Epoch: 496, Train loss: 0.8362, Train RMSE: 0.9147, Train MAE: 0.7027, Val RMSE: 0.9873, Val MAE: 0.7644\n",
      "Epoch: 497, Train loss: 0.8368, Train RMSE: 0.9145, Train MAE: 0.7120, Val RMSE: 0.9935, Val MAE: 0.7786\n",
      "Epoch: 498, Train loss: 0.8363, Train RMSE: 0.9150, Train MAE: 0.7038, Val RMSE: 0.9856, Val MAE: 0.7638\n",
      "Epoch: 499, Train loss: 0.8374, Train RMSE: 0.9140, Train MAE: 0.7130, Val RMSE: 0.9896, Val MAE: 0.7775\n",
      "\n",
      "Training TensorBoard information of model GAT saved\n",
      "\n",
      "Trained model GAT saved\n"
     ]
    }
   ],
   "source": [
    "GAT_movie_suggestor.train(num_epochs=500)"
   ],
   "metadata": {
    "collapsed": false,
    "ExecuteTime": {
     "end_time": "2024-01-14T18:45:25.448499200Z",
     "start_time": "2024-01-14T18:44:59.417194800Z"
    }
   }
  },
  {
   "cell_type": "code",
   "execution_count": 27,
   "outputs": [
    {
     "name": "stdout",
     "output_type": "stream",
     "text": [
      "Device: 'cuda\n",
      "'\n",
      "Test RMSE: 1.0445, Test MAE: 0.8200\n",
      "\n",
      "       userId  movieId  pred_rating  gt_rating\n",
      "0         411      521     3.582801        5.0\n",
      "1         357      141     3.242698        2.0\n",
      "2         277      551     3.120617        3.0\n",
      "3         242      196     3.477158        4.0\n",
      "4         242      165     3.495454        2.0\n",
      "...       ...      ...          ...        ...\n",
      "9996      663     1781     3.916698        3.0\n",
      "9997      184     2275     4.003401        5.0\n",
      "9998      653     3119     3.362052        3.0\n",
      "9999      290      362     3.606582        3.0\n",
      "10000     471      186     3.837898        5.0\n",
      "\n",
      "[10001 rows x 4 columns]\n"
     ]
    }
   ],
   "source": [
    "GAT_movie_suggestor.evaluate_performance()"
   ],
   "metadata": {
    "collapsed": false,
    "ExecuteTime": {
     "end_time": "2024-01-14T18:45:25.488445Z",
     "start_time": "2024-01-14T18:45:25.449496400Z"
    }
   }
  },
  {
   "cell_type": "code",
   "execution_count": 28,
   "outputs": [],
   "source": [
    "# MY COMMENT: RMSE = 1 means that the mean error on rating predictions is around [-1, +1] \n",
    "# on a rate that goes from [1, 5] "
   ],
   "metadata": {
    "collapsed": false,
    "ExecuteTime": {
     "end_time": "2024-01-14T18:45:25.507345900Z",
     "start_time": "2024-01-14T18:45:25.484403600Z"
    }
   }
  },
  {
   "cell_type": "markdown",
   "source": [
    "## Movie prediction"
   ],
   "metadata": {
    "collapsed": false
   }
  },
  {
   "cell_type": "code",
   "execution_count": 29,
   "outputs": [
    {
     "name": "stdout",
     "output_type": "stream",
     "text": [
      "Ground truth ratings of new_user:\n"
     ]
    },
    {
     "data": {
      "text/plain": "[{'movieId': 19404, 'rating': 1.5, 'userId': 672},\n {'movieId': 27205, 'rating': 2, 'userId': 672},\n {'movieId': 155, 'rating': 3.5, 'userId': 672},\n {'movieId': 157336, 'rating': 3, 'userId': 672},\n {'movieId': 550, 'rating': 3, 'userId': 672},\n {'movieId': 120, 'rating': 5, 'userId': 672},\n {'movieId': 680, 'rating': 2, 'userId': 672},\n {'movieId': 278, 'rating': 1.5, 'userId': 672},\n {'movieId': 122, 'rating': 5, 'userId': 672},\n {'movieId': 13, 'rating': 5, 'userId': 672},\n {'movieId': 121, 'rating': 5, 'userId': 672},\n {'movieId': 11, 'rating': 2.5, 'userId': 672},\n {'movieId': 105, 'rating': 3.5, 'userId': 672},\n {'movieId': 238, 'rating': 3.5, 'userId': 672},\n {'movieId': 1891, 'rating': 2.5, 'userId': 672}]"
     },
     "execution_count": 29,
     "metadata": {},
     "output_type": "execute_result"
    }
   ],
   "source": [
    "print(\"Ground truth ratings of new_user:\")\n",
    "ratings"
   ],
   "metadata": {
    "collapsed": false,
    "ExecuteTime": {
     "end_time": "2024-01-14T18:45:25.548265100Z",
     "start_time": "2024-01-14T18:45:25.495374300Z"
    }
   }
  },
  {
   "cell_type": "code",
   "execution_count": 30,
   "outputs": [
    {
     "name": "stdout",
     "output_type": "stream",
     "text": [
      "Movie: The Empire Strikes Back, Pred rating: 0.8041, Ground truth rating: 2.5000\n"
     ]
    }
   ],
   "source": [
    "user_id = new_user_id\n",
    "movie_id = 1891\n",
    "pred_rating, gt_rating = GCN_movie_suggestor.predict(user_id, movie_id)\n",
    "\n",
    "# Extract movie titles as a list\n",
    "movie_titles = gdh.movies_df.loc[gdh.movies_df['id'] == movie_id, 'title'].tolist()\n",
    "\n",
    "# Check if any titles were found\n",
    "if movie_titles:\n",
    "    movie_title = movie_titles[0]   # Display the first title\n",
    "    print(f\"Movie: {movie_title}, Pred rating: {pred_rating:.4f}, Ground truth rating: {gt_rating:.4f}\")\n",
    "else:\n",
    "    print(f\"No movie found with id {movie_id}\")"
   ],
   "metadata": {
    "collapsed": false,
    "ExecuteTime": {
     "end_time": "2024-01-14T18:45:25.572200500Z",
     "start_time": "2024-01-14T18:45:25.513325700Z"
    }
   }
  },
  {
   "cell_type": "code",
   "execution_count": 31,
   "outputs": [
    {
     "name": "stdout",
     "output_type": "stream",
     "text": [
      "Movie: The Shawshank Redemption, Pred rating: 4.1136, Ground truth rating: 1.5000\n"
     ]
    }
   ],
   "source": [
    "user_id = new_user_id\n",
    "movie_id = 278\n",
    "pred_rating, gt_rating = GraphSAGE_movie_suggestor.predict(user_id, movie_id)\n",
    "\n",
    "# Extract movie titles as a list\n",
    "movie_titles = gdh.movies_df.loc[gdh.movies_df['id'] == movie_id, 'title'].tolist()\n",
    "\n",
    "# Check if any titles were found\n",
    "if movie_titles:\n",
    "    movie_title = movie_titles[0]   # Display the first title\n",
    "    print(f\"Movie: {movie_title}, Pred rating: {pred_rating:.4f}, Ground truth rating: {gt_rating:.4f}\")\n",
    "else:\n",
    "    print(f\"No movie found with id {movie_id}\")"
   ],
   "metadata": {
    "collapsed": false,
    "ExecuteTime": {
     "end_time": "2024-01-14T18:45:25.628019100Z",
     "start_time": "2024-01-14T18:45:25.575160800Z"
    }
   }
  },
  {
   "cell_type": "code",
   "execution_count": 32,
   "outputs": [
    {
     "name": "stdout",
     "output_type": "stream",
     "text": [
      "Movie: Three Colors: Red, Pred rating: 2.3842, Ground truth rating: 4.0000\n"
     ]
    }
   ],
   "source": [
    "user_id = 2\n",
    "movie_id = 110\n",
    "pred_rating, gt_rating = GAT_movie_suggestor.predict(user_id, movie_id)\n",
    "\n",
    "# Extract movie titles as a list\n",
    "movie_titles = gdh.movies_df.loc[gdh.movies_df['id'] == movie_id, 'title'].tolist()\n",
    "\n",
    "# Check if any titles were found\n",
    "if movie_titles:\n",
    "    movie_title = movie_titles[0]   # Display the first title\n",
    "    print(f\"Movie: {movie_title}, Pred rating: {pred_rating:.4f}, Ground truth rating: {gt_rating:.4f}\")\n",
    "else:\n",
    "    print(f\"No movie found with id {movie_id}\")"
   ],
   "metadata": {
    "collapsed": false,
    "ExecuteTime": {
     "end_time": "2024-01-14T18:45:25.684897400Z",
     "start_time": "2024-01-14T18:45:25.622034500Z"
    }
   }
  },
  {
   "cell_type": "markdown",
   "source": [
    "## Movie suggestion"
   ],
   "metadata": {
    "collapsed": false
   }
  },
  {
   "cell_type": "code",
   "execution_count": 33,
   "outputs": [
    {
     "name": "stdout",
     "output_type": "stream",
     "text": [
      "New movie:  Batman & Robin, Predicted rating: 4.9464\n"
     ]
    }
   ],
   "source": [
    "pred_movie_id, pred_rating = GraphSAGE_movie_suggestor.suggest_new_movie(new_user_id)\n",
    "movie_title = pred_movie_id['title'].item()\n",
    "\n",
    "print(f\"New movie:  {movie_title}, Predicted rating: {pred_rating:.4f}\")"
   ],
   "metadata": {
    "collapsed": false,
    "ExecuteTime": {
     "end_time": "2024-01-14T18:45:25.754719600Z",
     "start_time": "2024-01-14T18:45:25.653950600Z"
    }
   }
  },
  {
   "cell_type": "markdown",
   "source": [
    "# Hybrid filtering: GNN-based"
   ],
   "metadata": {
    "collapsed": false
   }
  },
  {
   "cell_type": "markdown",
   "source": [
    "## CGN"
   ],
   "metadata": {
    "collapsed": false
   }
  },
  {
   "cell_type": "code",
   "execution_count": 34,
   "outputs": [
    {
     "data": {
      "text/plain": "          id                  title  year  \\\n3381      77                Memento  2000   \n6218     272          Batman Begins  2005   \n7648   27205              Inception  2010   \n1532    1051  The French Connection  1971   \n4145     320               Insomnia  2002   \n6623    1124           The Prestige  2006   \n8031   49026  The Dark Knight Rises  2012   \n8613  157336           Interstellar  2014   \n149    10428                Hackers  1995   \n440     9516      Menace II Society  1993   \n\n                                                   soup  est_rating  gt_rating  \n3381  guypearce carrie-annemoss joepantoliano christ...    3.752687        NaN  \n6218  christianbale michaelcaine liamneeson christop...    3.007505        NaN  \n7648  leonardodicaprio josephgordon-levitt ellenpage...    2.695839        NaN  \n1532  genehackman fernandorey royscheider williamfri...    2.603200        4.0  \n4145  alpacino robinwilliams hilaryswank christopher...    1.947761        NaN  \n6623  hughjackman christianbale michaelcaine christo...    1.936158        NaN  \n8031  christianbale michaelcaine garyoldman christop...    1.605446        NaN  \n8613  matthewmcconaughey jessicachastain annehathawa...    1.403532        NaN  \n149   jonnyleemiller angelinajolie jessebradford iai...    1.364102        NaN  \n440   tyrinturner larenztate glennplummer alberthugh...    1.158412        NaN  ",
      "text/html": "<div>\n<style scoped>\n    .dataframe tbody tr th:only-of-type {\n        vertical-align: middle;\n    }\n\n    .dataframe tbody tr th {\n        vertical-align: top;\n    }\n\n    .dataframe thead th {\n        text-align: right;\n    }\n</style>\n<table border=\"1\" class=\"dataframe\">\n  <thead>\n    <tr style=\"text-align: right;\">\n      <th></th>\n      <th>id</th>\n      <th>title</th>\n      <th>year</th>\n      <th>soup</th>\n      <th>est_rating</th>\n      <th>gt_rating</th>\n    </tr>\n  </thead>\n  <tbody>\n    <tr>\n      <th>3381</th>\n      <td>77</td>\n      <td>Memento</td>\n      <td>2000</td>\n      <td>guypearce carrie-annemoss joepantoliano christ...</td>\n      <td>3.752687</td>\n      <td>NaN</td>\n    </tr>\n    <tr>\n      <th>6218</th>\n      <td>272</td>\n      <td>Batman Begins</td>\n      <td>2005</td>\n      <td>christianbale michaelcaine liamneeson christop...</td>\n      <td>3.007505</td>\n      <td>NaN</td>\n    </tr>\n    <tr>\n      <th>7648</th>\n      <td>27205</td>\n      <td>Inception</td>\n      <td>2010</td>\n      <td>leonardodicaprio josephgordon-levitt ellenpage...</td>\n      <td>2.695839</td>\n      <td>NaN</td>\n    </tr>\n    <tr>\n      <th>1532</th>\n      <td>1051</td>\n      <td>The French Connection</td>\n      <td>1971</td>\n      <td>genehackman fernandorey royscheider williamfri...</td>\n      <td>2.603200</td>\n      <td>4.0</td>\n    </tr>\n    <tr>\n      <th>4145</th>\n      <td>320</td>\n      <td>Insomnia</td>\n      <td>2002</td>\n      <td>alpacino robinwilliams hilaryswank christopher...</td>\n      <td>1.947761</td>\n      <td>NaN</td>\n    </tr>\n    <tr>\n      <th>6623</th>\n      <td>1124</td>\n      <td>The Prestige</td>\n      <td>2006</td>\n      <td>hughjackman christianbale michaelcaine christo...</td>\n      <td>1.936158</td>\n      <td>NaN</td>\n    </tr>\n    <tr>\n      <th>8031</th>\n      <td>49026</td>\n      <td>The Dark Knight Rises</td>\n      <td>2012</td>\n      <td>christianbale michaelcaine garyoldman christop...</td>\n      <td>1.605446</td>\n      <td>NaN</td>\n    </tr>\n    <tr>\n      <th>8613</th>\n      <td>157336</td>\n      <td>Interstellar</td>\n      <td>2014</td>\n      <td>matthewmcconaughey jessicachastain annehathawa...</td>\n      <td>1.403532</td>\n      <td>NaN</td>\n    </tr>\n    <tr>\n      <th>149</th>\n      <td>10428</td>\n      <td>Hackers</td>\n      <td>1995</td>\n      <td>jonnyleemiller angelinajolie jessebradford iai...</td>\n      <td>1.364102</td>\n      <td>NaN</td>\n    </tr>\n    <tr>\n      <th>440</th>\n      <td>9516</td>\n      <td>Menace II Society</td>\n      <td>1993</td>\n      <td>tyrinturner larenztate glennplummer alberthugh...</td>\n      <td>1.158412</td>\n      <td>NaN</td>\n    </tr>\n  </tbody>\n</table>\n</div>"
     },
     "execution_count": 34,
     "metadata": {},
     "output_type": "execute_result"
    }
   ],
   "source": [
    "hybrid_movies_suggestor = HybridFiltering(tdh, GCN_movie_suggestor)\n",
    "user_id = 1\n",
    "movie_title = 'The Dark Knight'\n",
    "hybrid_movies_suggestor.predict(user_id, movie_title, 25).head(10)"
   ],
   "metadata": {
    "collapsed": false,
    "ExecuteTime": {
     "end_time": "2024-01-14T18:46:05.614964800Z",
     "start_time": "2024-01-14T18:45:25.713789200Z"
    }
   }
  },
  {
   "cell_type": "markdown",
   "source": [
    "## GraphSAGE"
   ],
   "metadata": {
    "collapsed": false
   }
  },
  {
   "cell_type": "code",
   "execution_count": 35,
   "outputs": [
    {
     "data": {
      "text/plain": "          id                  title  year  \\\n2639    9367            El Mariachi  1992   \n7648   27205              Inception  2010   \n2952   10648           Magnum Force  1973   \n1952   16885            The General  1998   \n8031   49026  The Dark Knight Rises  2012   \n8613  157336           Interstellar  2014   \n6218     272          Batman Begins  2005   \n1532    1051  The French Connection  1971   \n3864   17689           The Gauntlet  1977   \n2772    2085         Romeo Must Die  2000   \n\n                                                   soup  est_rating  gt_rating  \n2639  carlosgallardo jaimedehoyos petermarquardt rob...    4.485916        NaN  \n7648  leonardodicaprio josephgordon-levitt ellenpage...    4.371590        NaN  \n2952  clinteastwood halholbrook mitchellryan tedpost...    4.034558        NaN  \n1952  brendangleeson adriandunbar seanmcginley johnb...    3.841166        NaN  \n8031  christianbale michaelcaine garyoldman christop...    3.739189        NaN  \n8613  matthewmcconaughey jessicachastain annehathawa...    3.718846        NaN  \n6218  christianbale michaelcaine liamneeson christop...    3.701414        NaN  \n1532  genehackman fernandorey royscheider williamfri...    3.676449        4.0  \n3864  clinteastwood sondralocke pathingle clinteastw...    3.654951        NaN  \n2772  jetli aaliyah isaiahwashington andrzejbartkowi...    3.631895        NaN  ",
      "text/html": "<div>\n<style scoped>\n    .dataframe tbody tr th:only-of-type {\n        vertical-align: middle;\n    }\n\n    .dataframe tbody tr th {\n        vertical-align: top;\n    }\n\n    .dataframe thead th {\n        text-align: right;\n    }\n</style>\n<table border=\"1\" class=\"dataframe\">\n  <thead>\n    <tr style=\"text-align: right;\">\n      <th></th>\n      <th>id</th>\n      <th>title</th>\n      <th>year</th>\n      <th>soup</th>\n      <th>est_rating</th>\n      <th>gt_rating</th>\n    </tr>\n  </thead>\n  <tbody>\n    <tr>\n      <th>2639</th>\n      <td>9367</td>\n      <td>El Mariachi</td>\n      <td>1992</td>\n      <td>carlosgallardo jaimedehoyos petermarquardt rob...</td>\n      <td>4.485916</td>\n      <td>NaN</td>\n    </tr>\n    <tr>\n      <th>7648</th>\n      <td>27205</td>\n      <td>Inception</td>\n      <td>2010</td>\n      <td>leonardodicaprio josephgordon-levitt ellenpage...</td>\n      <td>4.371590</td>\n      <td>NaN</td>\n    </tr>\n    <tr>\n      <th>2952</th>\n      <td>10648</td>\n      <td>Magnum Force</td>\n      <td>1973</td>\n      <td>clinteastwood halholbrook mitchellryan tedpost...</td>\n      <td>4.034558</td>\n      <td>NaN</td>\n    </tr>\n    <tr>\n      <th>1952</th>\n      <td>16885</td>\n      <td>The General</td>\n      <td>1998</td>\n      <td>brendangleeson adriandunbar seanmcginley johnb...</td>\n      <td>3.841166</td>\n      <td>NaN</td>\n    </tr>\n    <tr>\n      <th>8031</th>\n      <td>49026</td>\n      <td>The Dark Knight Rises</td>\n      <td>2012</td>\n      <td>christianbale michaelcaine garyoldman christop...</td>\n      <td>3.739189</td>\n      <td>NaN</td>\n    </tr>\n    <tr>\n      <th>8613</th>\n      <td>157336</td>\n      <td>Interstellar</td>\n      <td>2014</td>\n      <td>matthewmcconaughey jessicachastain annehathawa...</td>\n      <td>3.718846</td>\n      <td>NaN</td>\n    </tr>\n    <tr>\n      <th>6218</th>\n      <td>272</td>\n      <td>Batman Begins</td>\n      <td>2005</td>\n      <td>christianbale michaelcaine liamneeson christop...</td>\n      <td>3.701414</td>\n      <td>NaN</td>\n    </tr>\n    <tr>\n      <th>1532</th>\n      <td>1051</td>\n      <td>The French Connection</td>\n      <td>1971</td>\n      <td>genehackman fernandorey royscheider williamfri...</td>\n      <td>3.676449</td>\n      <td>4.0</td>\n    </tr>\n    <tr>\n      <th>3864</th>\n      <td>17689</td>\n      <td>The Gauntlet</td>\n      <td>1977</td>\n      <td>clinteastwood sondralocke pathingle clinteastw...</td>\n      <td>3.654951</td>\n      <td>NaN</td>\n    </tr>\n    <tr>\n      <th>2772</th>\n      <td>2085</td>\n      <td>Romeo Must Die</td>\n      <td>2000</td>\n      <td>jetli aaliyah isaiahwashington andrzejbartkowi...</td>\n      <td>3.631895</td>\n      <td>NaN</td>\n    </tr>\n  </tbody>\n</table>\n</div>"
     },
     "execution_count": 35,
     "metadata": {},
     "output_type": "execute_result"
    }
   ],
   "source": [
    "hybrid_movies_suggestor = HybridFiltering(tdh, GraphSAGE_movie_suggestor)\n",
    "user_id = 1\n",
    "movie_title = 'The Dark Knight'\n",
    "hybrid_movies_suggestor.predict(user_id, movie_title, 25).head(10)"
   ],
   "metadata": {
    "collapsed": false,
    "ExecuteTime": {
     "end_time": "2024-01-14T18:46:45.696686100Z",
     "start_time": "2024-01-14T18:46:05.616952600Z"
    }
   }
  },
  {
   "cell_type": "markdown",
   "source": [
    "## GAT"
   ],
   "metadata": {
    "collapsed": false
   }
  },
  {
   "cell_type": "code",
   "execution_count": 36,
   "outputs": [
    {
     "data": {
      "text/plain": "         id           title  year  \\\n7648  27205       Inception  2010   \n149   10428         Hackers  1995   \n2952  10648    Magnum Force  1973   \n3864  17689    The Gauntlet  1977   \n1952  16885     The General  1998   \n4145    320        Insomnia  2002   \n628   26744   Force of Evil  1948   \n2772   2085  Romeo Must Die  2000   \n2639   9367     El Mariachi  1992   \n6218    272   Batman Begins  2005   \n\n                                                   soup  est_rating  gt_rating  \n7648  leonardodicaprio josephgordon-levitt ellenpage...    4.780433        NaN  \n149   jonnyleemiller angelinajolie jessebradford iai...    4.309751        NaN  \n2952  clinteastwood halholbrook mitchellryan tedpost...    4.247252        NaN  \n3864  clinteastwood sondralocke pathingle clinteastw...    4.052695        NaN  \n1952  brendangleeson adriandunbar seanmcginley johnb...    4.006466        NaN  \n4145  alpacino robinwilliams hilaryswank christopher...    3.996456        NaN  \n628   johngarfield thomasgomez mariewindsor abrahamp...    3.995101        NaN  \n2772  jetli aaliyah isaiahwashington andrzejbartkowi...    3.994118        NaN  \n2639  carlosgallardo jaimedehoyos petermarquardt rob...    3.991994        NaN  \n6218  christianbale michaelcaine liamneeson christop...    3.937779        NaN  ",
      "text/html": "<div>\n<style scoped>\n    .dataframe tbody tr th:only-of-type {\n        vertical-align: middle;\n    }\n\n    .dataframe tbody tr th {\n        vertical-align: top;\n    }\n\n    .dataframe thead th {\n        text-align: right;\n    }\n</style>\n<table border=\"1\" class=\"dataframe\">\n  <thead>\n    <tr style=\"text-align: right;\">\n      <th></th>\n      <th>id</th>\n      <th>title</th>\n      <th>year</th>\n      <th>soup</th>\n      <th>est_rating</th>\n      <th>gt_rating</th>\n    </tr>\n  </thead>\n  <tbody>\n    <tr>\n      <th>7648</th>\n      <td>27205</td>\n      <td>Inception</td>\n      <td>2010</td>\n      <td>leonardodicaprio josephgordon-levitt ellenpage...</td>\n      <td>4.780433</td>\n      <td>NaN</td>\n    </tr>\n    <tr>\n      <th>149</th>\n      <td>10428</td>\n      <td>Hackers</td>\n      <td>1995</td>\n      <td>jonnyleemiller angelinajolie jessebradford iai...</td>\n      <td>4.309751</td>\n      <td>NaN</td>\n    </tr>\n    <tr>\n      <th>2952</th>\n      <td>10648</td>\n      <td>Magnum Force</td>\n      <td>1973</td>\n      <td>clinteastwood halholbrook mitchellryan tedpost...</td>\n      <td>4.247252</td>\n      <td>NaN</td>\n    </tr>\n    <tr>\n      <th>3864</th>\n      <td>17689</td>\n      <td>The Gauntlet</td>\n      <td>1977</td>\n      <td>clinteastwood sondralocke pathingle clinteastw...</td>\n      <td>4.052695</td>\n      <td>NaN</td>\n    </tr>\n    <tr>\n      <th>1952</th>\n      <td>16885</td>\n      <td>The General</td>\n      <td>1998</td>\n      <td>brendangleeson adriandunbar seanmcginley johnb...</td>\n      <td>4.006466</td>\n      <td>NaN</td>\n    </tr>\n    <tr>\n      <th>4145</th>\n      <td>320</td>\n      <td>Insomnia</td>\n      <td>2002</td>\n      <td>alpacino robinwilliams hilaryswank christopher...</td>\n      <td>3.996456</td>\n      <td>NaN</td>\n    </tr>\n    <tr>\n      <th>628</th>\n      <td>26744</td>\n      <td>Force of Evil</td>\n      <td>1948</td>\n      <td>johngarfield thomasgomez mariewindsor abrahamp...</td>\n      <td>3.995101</td>\n      <td>NaN</td>\n    </tr>\n    <tr>\n      <th>2772</th>\n      <td>2085</td>\n      <td>Romeo Must Die</td>\n      <td>2000</td>\n      <td>jetli aaliyah isaiahwashington andrzejbartkowi...</td>\n      <td>3.994118</td>\n      <td>NaN</td>\n    </tr>\n    <tr>\n      <th>2639</th>\n      <td>9367</td>\n      <td>El Mariachi</td>\n      <td>1992</td>\n      <td>carlosgallardo jaimedehoyos petermarquardt rob...</td>\n      <td>3.991994</td>\n      <td>NaN</td>\n    </tr>\n    <tr>\n      <th>6218</th>\n      <td>272</td>\n      <td>Batman Begins</td>\n      <td>2005</td>\n      <td>christianbale michaelcaine liamneeson christop...</td>\n      <td>3.937779</td>\n      <td>NaN</td>\n    </tr>\n  </tbody>\n</table>\n</div>"
     },
     "execution_count": 36,
     "metadata": {},
     "output_type": "execute_result"
    }
   ],
   "source": [
    "hybrid_movies_suggestor = HybridFiltering(tdh, GAT_movie_suggestor)\n",
    "user_id = 1\n",
    "movie_title = 'The Dark Knight'\n",
    "hybrid_movies_suggestor.predict(user_id, movie_title, 25).head(10)"
   ],
   "metadata": {
    "collapsed": false,
    "ExecuteTime": {
     "end_time": "2024-01-14T18:47:18.971554900Z",
     "start_time": "2024-01-14T18:46:45.699640600Z"
    }
   }
  },
  {
   "cell_type": "code",
   "execution_count": 36,
   "outputs": [],
   "source": [],
   "metadata": {
    "collapsed": false,
    "ExecuteTime": {
     "end_time": "2024-01-14T18:47:18.987511500Z",
     "start_time": "2024-01-14T18:47:18.961582100Z"
    }
   }
  }
 ],
 "metadata": {
  "kernelspec": {
   "display_name": "Python 3",
   "language": "python",
   "name": "python3"
  },
  "language_info": {
   "codemirror_mode": {
    "name": "ipython",
    "version": 2
   },
   "file_extension": ".py",
   "mimetype": "text/x-python",
   "name": "python",
   "nbconvert_exporter": "python",
   "pygments_lexer": "ipython2",
   "version": "2.7.6"
  }
 },
 "nbformat": 4,
 "nbformat_minor": 0
}
