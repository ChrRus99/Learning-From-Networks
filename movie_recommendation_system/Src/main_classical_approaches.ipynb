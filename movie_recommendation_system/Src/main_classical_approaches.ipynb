{
 "cells": [
  {
   "cell_type": "markdown",
   "source": [
    "# Movie Recommendation System"
   ],
   "metadata": {
    "collapsed": false
   }
  },
  {
   "cell_type": "code",
   "execution_count": 1,
   "outputs": [],
   "source": [
    "# My scripts\n",
    "from Src.scripts.data.tabular_dataset_handler import TabularDatasetHandler\n",
    "from Src.scripts.approaches.filters.popularity_rankings import PopularityRanking\n",
    "from Src.scripts.approaches.filters.content_based_filtering import ContentBasedFiltering\n",
    "from Src.scripts.approaches.collaborative_filters.SVD_based_CF import SVD_Based_CollaborativeFilter\n",
    "from Src.scripts.approaches.filters.hybrid_filtering import HybridFiltering\n",
    "\n",
    "# Remove warnings\n",
    "import warnings; warnings.simplefilter('ignore')"
   ],
   "metadata": {
    "collapsed": false,
    "ExecuteTime": {
     "end_time": "2024-01-14T18:26:39.434974300Z",
     "start_time": "2024-01-14T18:26:33.460969900Z"
    }
   }
  },
  {
   "cell_type": "markdown",
   "source": [
    "# Data preparation"
   ],
   "metadata": {
    "collapsed": false
   }
  },
  {
   "cell_type": "markdown",
   "source": [
    "## Data loading"
   ],
   "metadata": {
    "collapsed": false
   }
  },
  {
   "cell_type": "code",
   "execution_count": 2,
   "outputs": [
    {
     "data": {
      "text/plain": "(45466, 24)"
     },
     "execution_count": 2,
     "metadata": {},
     "output_type": "execute_result"
    }
   ],
   "source": [
    "tdh = TabularDatasetHandler()\n",
    "tdh.get_movies_df_deepcopy().shape"
   ],
   "metadata": {
    "collapsed": false,
    "ExecuteTime": {
     "end_time": "2024-01-14T18:26:41.126477900Z",
     "start_time": "2024-01-14T18:26:39.436973600Z"
    }
   }
  },
  {
   "cell_type": "code",
   "execution_count": 3,
   "outputs": [
    {
     "data": {
      "text/plain": "   adult                              belongs_to_collection    budget  \\\n0  False  {'id': 10194, 'name': 'Toy Story Collection', ...  30000000   \n1  False                                                NaN  65000000   \n2  False  {'id': 119050, 'name': 'Grumpy Old Men Collect...         0   \n3  False                                                NaN  16000000   \n4  False  {'id': 96871, 'name': 'Father of the Bride Col...         0   \n\n                                              genres  \\\n0  [{'id': 16, 'name': 'Animation'}, {'id': 35, '...   \n1  [{'id': 12, 'name': 'Adventure'}, {'id': 14, '...   \n2  [{'id': 10749, 'name': 'Romance'}, {'id': 35, ...   \n3  [{'id': 35, 'name': 'Comedy'}, {'id': 18, 'nam...   \n4                     [{'id': 35, 'name': 'Comedy'}]   \n\n                               homepage     id    imdb_id original_language  \\\n0  http://toystory.disney.com/toy-story    862  tt0114709                en   \n1                                   NaN   8844  tt0113497                en   \n2                                   NaN  15602  tt0113228                en   \n3                                   NaN  31357  tt0114885                en   \n4                                   NaN  11862  tt0113041                en   \n\n                original_title  \\\n0                    Toy Story   \n1                      Jumanji   \n2             Grumpier Old Men   \n3            Waiting to Exhale   \n4  Father of the Bride Part II   \n\n                                            overview  ... release_date  \\\n0  Led by Woody, Andy's toys live happily in his ...  ...   1995-10-30   \n1  When siblings Judy and Peter discover an encha...  ...   1995-12-15   \n2  A family wedding reignites the ancient feud be...  ...   1995-12-22   \n3  Cheated on, mistreated and stepped on, the wom...  ...   1995-12-22   \n4  Just when George Banks has recovered from his ...  ...   1995-02-10   \n\n       revenue runtime                                   spoken_languages  \\\n0  373554033.0    81.0           [{'iso_639_1': 'en', 'name': 'English'}]   \n1  262797249.0   104.0  [{'iso_639_1': 'en', 'name': 'English'}, {'iso...   \n2          0.0   101.0           [{'iso_639_1': 'en', 'name': 'English'}]   \n3   81452156.0   127.0           [{'iso_639_1': 'en', 'name': 'English'}]   \n4   76578911.0   106.0           [{'iso_639_1': 'en', 'name': 'English'}]   \n\n     status                                            tagline  \\\n0  Released                                                NaN   \n1  Released          Roll the dice and unleash the excitement!   \n2  Released  Still Yelling. Still Fighting. Still Ready for...   \n3  Released  Friends are the people who let you be yourself...   \n4  Released  Just When His World Is Back To Normal... He's ...   \n\n                         title  video vote_average vote_count  \n0                    Toy Story  False          7.7     5415.0  \n1                      Jumanji  False          6.9     2413.0  \n2             Grumpier Old Men  False          6.5       92.0  \n3            Waiting to Exhale  False          6.1       34.0  \n4  Father of the Bride Part II  False          5.7      173.0  \n\n[5 rows x 24 columns]",
      "text/html": "<div>\n<style scoped>\n    .dataframe tbody tr th:only-of-type {\n        vertical-align: middle;\n    }\n\n    .dataframe tbody tr th {\n        vertical-align: top;\n    }\n\n    .dataframe thead th {\n        text-align: right;\n    }\n</style>\n<table border=\"1\" class=\"dataframe\">\n  <thead>\n    <tr style=\"text-align: right;\">\n      <th></th>\n      <th>adult</th>\n      <th>belongs_to_collection</th>\n      <th>budget</th>\n      <th>genres</th>\n      <th>homepage</th>\n      <th>id</th>\n      <th>imdb_id</th>\n      <th>original_language</th>\n      <th>original_title</th>\n      <th>overview</th>\n      <th>...</th>\n      <th>release_date</th>\n      <th>revenue</th>\n      <th>runtime</th>\n      <th>spoken_languages</th>\n      <th>status</th>\n      <th>tagline</th>\n      <th>title</th>\n      <th>video</th>\n      <th>vote_average</th>\n      <th>vote_count</th>\n    </tr>\n  </thead>\n  <tbody>\n    <tr>\n      <th>0</th>\n      <td>False</td>\n      <td>{'id': 10194, 'name': 'Toy Story Collection', ...</td>\n      <td>30000000</td>\n      <td>[{'id': 16, 'name': 'Animation'}, {'id': 35, '...</td>\n      <td>http://toystory.disney.com/toy-story</td>\n      <td>862</td>\n      <td>tt0114709</td>\n      <td>en</td>\n      <td>Toy Story</td>\n      <td>Led by Woody, Andy's toys live happily in his ...</td>\n      <td>...</td>\n      <td>1995-10-30</td>\n      <td>373554033.0</td>\n      <td>81.0</td>\n      <td>[{'iso_639_1': 'en', 'name': 'English'}]</td>\n      <td>Released</td>\n      <td>NaN</td>\n      <td>Toy Story</td>\n      <td>False</td>\n      <td>7.7</td>\n      <td>5415.0</td>\n    </tr>\n    <tr>\n      <th>1</th>\n      <td>False</td>\n      <td>NaN</td>\n      <td>65000000</td>\n      <td>[{'id': 12, 'name': 'Adventure'}, {'id': 14, '...</td>\n      <td>NaN</td>\n      <td>8844</td>\n      <td>tt0113497</td>\n      <td>en</td>\n      <td>Jumanji</td>\n      <td>When siblings Judy and Peter discover an encha...</td>\n      <td>...</td>\n      <td>1995-12-15</td>\n      <td>262797249.0</td>\n      <td>104.0</td>\n      <td>[{'iso_639_1': 'en', 'name': 'English'}, {'iso...</td>\n      <td>Released</td>\n      <td>Roll the dice and unleash the excitement!</td>\n      <td>Jumanji</td>\n      <td>False</td>\n      <td>6.9</td>\n      <td>2413.0</td>\n    </tr>\n    <tr>\n      <th>2</th>\n      <td>False</td>\n      <td>{'id': 119050, 'name': 'Grumpy Old Men Collect...</td>\n      <td>0</td>\n      <td>[{'id': 10749, 'name': 'Romance'}, {'id': 35, ...</td>\n      <td>NaN</td>\n      <td>15602</td>\n      <td>tt0113228</td>\n      <td>en</td>\n      <td>Grumpier Old Men</td>\n      <td>A family wedding reignites the ancient feud be...</td>\n      <td>...</td>\n      <td>1995-12-22</td>\n      <td>0.0</td>\n      <td>101.0</td>\n      <td>[{'iso_639_1': 'en', 'name': 'English'}]</td>\n      <td>Released</td>\n      <td>Still Yelling. Still Fighting. Still Ready for...</td>\n      <td>Grumpier Old Men</td>\n      <td>False</td>\n      <td>6.5</td>\n      <td>92.0</td>\n    </tr>\n    <tr>\n      <th>3</th>\n      <td>False</td>\n      <td>NaN</td>\n      <td>16000000</td>\n      <td>[{'id': 35, 'name': 'Comedy'}, {'id': 18, 'nam...</td>\n      <td>NaN</td>\n      <td>31357</td>\n      <td>tt0114885</td>\n      <td>en</td>\n      <td>Waiting to Exhale</td>\n      <td>Cheated on, mistreated and stepped on, the wom...</td>\n      <td>...</td>\n      <td>1995-12-22</td>\n      <td>81452156.0</td>\n      <td>127.0</td>\n      <td>[{'iso_639_1': 'en', 'name': 'English'}]</td>\n      <td>Released</td>\n      <td>Friends are the people who let you be yourself...</td>\n      <td>Waiting to Exhale</td>\n      <td>False</td>\n      <td>6.1</td>\n      <td>34.0</td>\n    </tr>\n    <tr>\n      <th>4</th>\n      <td>False</td>\n      <td>{'id': 96871, 'name': 'Father of the Bride Col...</td>\n      <td>0</td>\n      <td>[{'id': 35, 'name': 'Comedy'}]</td>\n      <td>NaN</td>\n      <td>11862</td>\n      <td>tt0113041</td>\n      <td>en</td>\n      <td>Father of the Bride Part II</td>\n      <td>Just when George Banks has recovered from his ...</td>\n      <td>...</td>\n      <td>1995-02-10</td>\n      <td>76578911.0</td>\n      <td>106.0</td>\n      <td>[{'iso_639_1': 'en', 'name': 'English'}]</td>\n      <td>Released</td>\n      <td>Just When His World Is Back To Normal... He's ...</td>\n      <td>Father of the Bride Part II</td>\n      <td>False</td>\n      <td>5.7</td>\n      <td>173.0</td>\n    </tr>\n  </tbody>\n</table>\n<p>5 rows × 24 columns</p>\n</div>"
     },
     "execution_count": 3,
     "metadata": {},
     "output_type": "execute_result"
    }
   ],
   "source": [
    "tdh.get_movies_df_deepcopy().head()"
   ],
   "metadata": {
    "collapsed": false,
    "ExecuteTime": {
     "end_time": "2024-01-14T18:26:41.158360100Z",
     "start_time": "2024-01-14T18:26:41.127443900Z"
    }
   }
  },
  {
   "cell_type": "code",
   "execution_count": 4,
   "outputs": [
    {
     "data": {
      "text/plain": "adult                     object\nbelongs_to_collection     object\nbudget                    object\ngenres                    object\nhomepage                  object\nid                        object\nimdb_id                   object\noriginal_language         object\noriginal_title            object\noverview                  object\npopularity                object\nposter_path               object\nproduction_companies      object\nproduction_countries      object\nrelease_date              object\nrevenue                  float64\nruntime                  float64\nspoken_languages          object\nstatus                    object\ntagline                   object\ntitle                     object\nvideo                     object\nvote_average             float64\nvote_count               float64\ndtype: object"
     },
     "execution_count": 4,
     "metadata": {},
     "output_type": "execute_result"
    }
   ],
   "source": [
    "tdh.get_movies_df_deepcopy().dtypes"
   ],
   "metadata": {
    "collapsed": false,
    "ExecuteTime": {
     "end_time": "2024-01-14T18:26:41.182295200Z",
     "start_time": "2024-01-14T18:26:41.159406Z"
    }
   }
  },
  {
   "cell_type": "markdown",
   "source": [
    "## Data preprocessing"
   ],
   "metadata": {
    "collapsed": false
   }
  },
  {
   "cell_type": "code",
   "execution_count": 5,
   "outputs": [
    {
     "data": {
      "text/plain": "(45463, 25)"
     },
     "execution_count": 5,
     "metadata": {},
     "output_type": "execute_result"
    }
   ],
   "source": [
    "tdh.preprocess_datasets()\n",
    "tdh.get_movies_df_deepcopy().shape"
   ],
   "metadata": {
    "collapsed": false,
    "ExecuteTime": {
     "end_time": "2024-01-14T18:26:44.310920500Z",
     "start_time": "2024-01-14T18:26:41.174318300Z"
    }
   }
  },
  {
   "cell_type": "code",
   "execution_count": 6,
   "outputs": [
    {
     "data": {
      "text/plain": "   adult           belongs_to_collection    budget  \\\n0  False            Toy Story Collection  30000000   \n1  False                            None  65000000   \n2  False       Grumpy Old Men Collection         0   \n3  False                            None  16000000   \n4  False  Father of the Bride Collection         0   \n\n                         genres                              homepage     id  \\\n0   [Animation, Comedy, Family]  http://toystory.disney.com/toy-story    862   \n1  [Adventure, Fantasy, Family]                                   NaN   8844   \n2             [Romance, Comedy]                                   NaN  15602   \n3      [Comedy, Drama, Romance]                                   NaN  31357   \n4                      [Comedy]                                   NaN  11862   \n\n     imdb_id original_language               original_title  \\\n0  tt0114709                en                    Toy Story   \n1  tt0113497                en                      Jumanji   \n2  tt0113228                en             Grumpier Old Men   \n3  tt0114885                en            Waiting to Exhale   \n4  tt0113041                en  Father of the Bride Part II   \n\n                                            overview  ...      revenue  \\\n0  Led by Woody, Andy's toys live happily in his ...  ...  373554033.0   \n1  When siblings Judy and Peter discover an encha...  ...  262797249.0   \n2  A family wedding reignites the ancient feud be...  ...          0.0   \n3  Cheated on, mistreated and stepped on, the wom...  ...   81452156.0   \n4  Just when George Banks has recovered from his ...  ...   76578911.0   \n\n  runtime                                   spoken_languages    status  \\\n0    81.0           [{'iso_639_1': 'en', 'name': 'English'}]  Released   \n1   104.0  [{'iso_639_1': 'en', 'name': 'English'}, {'iso...  Released   \n2   101.0           [{'iso_639_1': 'en', 'name': 'English'}]  Released   \n3   127.0           [{'iso_639_1': 'en', 'name': 'English'}]  Released   \n4   106.0           [{'iso_639_1': 'en', 'name': 'English'}]  Released   \n\n                                             tagline  \\\n0                                                NaN   \n1          Roll the dice and unleash the excitement!   \n2  Still Yelling. Still Fighting. Still Ready for...   \n3  Friends are the people who let you be yourself...   \n4  Just When His World Is Back To Normal... He's ...   \n\n                         title  video vote_average vote_count  year  \n0                    Toy Story  False          7.7     5415.0  1995  \n1                      Jumanji  False          6.9     2413.0  1995  \n2             Grumpier Old Men  False          6.5       92.0  1995  \n3            Waiting to Exhale  False          6.1       34.0  1995  \n4  Father of the Bride Part II  False          5.7      173.0  1995  \n\n[5 rows x 25 columns]",
      "text/html": "<div>\n<style scoped>\n    .dataframe tbody tr th:only-of-type {\n        vertical-align: middle;\n    }\n\n    .dataframe tbody tr th {\n        vertical-align: top;\n    }\n\n    .dataframe thead th {\n        text-align: right;\n    }\n</style>\n<table border=\"1\" class=\"dataframe\">\n  <thead>\n    <tr style=\"text-align: right;\">\n      <th></th>\n      <th>adult</th>\n      <th>belongs_to_collection</th>\n      <th>budget</th>\n      <th>genres</th>\n      <th>homepage</th>\n      <th>id</th>\n      <th>imdb_id</th>\n      <th>original_language</th>\n      <th>original_title</th>\n      <th>overview</th>\n      <th>...</th>\n      <th>revenue</th>\n      <th>runtime</th>\n      <th>spoken_languages</th>\n      <th>status</th>\n      <th>tagline</th>\n      <th>title</th>\n      <th>video</th>\n      <th>vote_average</th>\n      <th>vote_count</th>\n      <th>year</th>\n    </tr>\n  </thead>\n  <tbody>\n    <tr>\n      <th>0</th>\n      <td>False</td>\n      <td>Toy Story Collection</td>\n      <td>30000000</td>\n      <td>[Animation, Comedy, Family]</td>\n      <td>http://toystory.disney.com/toy-story</td>\n      <td>862</td>\n      <td>tt0114709</td>\n      <td>en</td>\n      <td>Toy Story</td>\n      <td>Led by Woody, Andy's toys live happily in his ...</td>\n      <td>...</td>\n      <td>373554033.0</td>\n      <td>81.0</td>\n      <td>[{'iso_639_1': 'en', 'name': 'English'}]</td>\n      <td>Released</td>\n      <td>NaN</td>\n      <td>Toy Story</td>\n      <td>False</td>\n      <td>7.7</td>\n      <td>5415.0</td>\n      <td>1995</td>\n    </tr>\n    <tr>\n      <th>1</th>\n      <td>False</td>\n      <td>None</td>\n      <td>65000000</td>\n      <td>[Adventure, Fantasy, Family]</td>\n      <td>NaN</td>\n      <td>8844</td>\n      <td>tt0113497</td>\n      <td>en</td>\n      <td>Jumanji</td>\n      <td>When siblings Judy and Peter discover an encha...</td>\n      <td>...</td>\n      <td>262797249.0</td>\n      <td>104.0</td>\n      <td>[{'iso_639_1': 'en', 'name': 'English'}, {'iso...</td>\n      <td>Released</td>\n      <td>Roll the dice and unleash the excitement!</td>\n      <td>Jumanji</td>\n      <td>False</td>\n      <td>6.9</td>\n      <td>2413.0</td>\n      <td>1995</td>\n    </tr>\n    <tr>\n      <th>2</th>\n      <td>False</td>\n      <td>Grumpy Old Men Collection</td>\n      <td>0</td>\n      <td>[Romance, Comedy]</td>\n      <td>NaN</td>\n      <td>15602</td>\n      <td>tt0113228</td>\n      <td>en</td>\n      <td>Grumpier Old Men</td>\n      <td>A family wedding reignites the ancient feud be...</td>\n      <td>...</td>\n      <td>0.0</td>\n      <td>101.0</td>\n      <td>[{'iso_639_1': 'en', 'name': 'English'}]</td>\n      <td>Released</td>\n      <td>Still Yelling. Still Fighting. Still Ready for...</td>\n      <td>Grumpier Old Men</td>\n      <td>False</td>\n      <td>6.5</td>\n      <td>92.0</td>\n      <td>1995</td>\n    </tr>\n    <tr>\n      <th>3</th>\n      <td>False</td>\n      <td>None</td>\n      <td>16000000</td>\n      <td>[Comedy, Drama, Romance]</td>\n      <td>NaN</td>\n      <td>31357</td>\n      <td>tt0114885</td>\n      <td>en</td>\n      <td>Waiting to Exhale</td>\n      <td>Cheated on, mistreated and stepped on, the wom...</td>\n      <td>...</td>\n      <td>81452156.0</td>\n      <td>127.0</td>\n      <td>[{'iso_639_1': 'en', 'name': 'English'}]</td>\n      <td>Released</td>\n      <td>Friends are the people who let you be yourself...</td>\n      <td>Waiting to Exhale</td>\n      <td>False</td>\n      <td>6.1</td>\n      <td>34.0</td>\n      <td>1995</td>\n    </tr>\n    <tr>\n      <th>4</th>\n      <td>False</td>\n      <td>Father of the Bride Collection</td>\n      <td>0</td>\n      <td>[Comedy]</td>\n      <td>NaN</td>\n      <td>11862</td>\n      <td>tt0113041</td>\n      <td>en</td>\n      <td>Father of the Bride Part II</td>\n      <td>Just when George Banks has recovered from his ...</td>\n      <td>...</td>\n      <td>76578911.0</td>\n      <td>106.0</td>\n      <td>[{'iso_639_1': 'en', 'name': 'English'}]</td>\n      <td>Released</td>\n      <td>Just When His World Is Back To Normal... He's ...</td>\n      <td>Father of the Bride Part II</td>\n      <td>False</td>\n      <td>5.7</td>\n      <td>173.0</td>\n      <td>1995</td>\n    </tr>\n  </tbody>\n</table>\n<p>5 rows × 25 columns</p>\n</div>"
     },
     "execution_count": 6,
     "metadata": {},
     "output_type": "execute_result"
    }
   ],
   "source": [
    "tdh.get_movies_df_deepcopy().head()"
   ],
   "metadata": {
    "collapsed": false,
    "ExecuteTime": {
     "end_time": "2024-01-14T18:26:44.358791900Z",
     "start_time": "2024-01-14T18:26:44.311916200Z"
    }
   }
  },
  {
   "cell_type": "code",
   "execution_count": 7,
   "outputs": [
    {
     "data": {
      "text/plain": "adult                     object\nbelongs_to_collection     object\nbudget                    object\ngenres                    object\nhomepage                  object\nid                         int32\nimdb_id                   object\noriginal_language         object\noriginal_title            object\noverview                  object\npopularity                object\nposter_path               object\nproduction_companies      object\nproduction_countries      object\nrelease_date              object\nrevenue                  float64\nruntime                  float64\nspoken_languages          object\nstatus                    object\ntagline                   object\ntitle                     object\nvideo                     object\nvote_average             float64\nvote_count               float64\nyear                      object\ndtype: object"
     },
     "execution_count": 7,
     "metadata": {},
     "output_type": "execute_result"
    }
   ],
   "source": [
    "tdh.get_movies_df_deepcopy().dtypes"
   ],
   "metadata": {
    "collapsed": false,
    "ExecuteTime": {
     "end_time": "2024-01-14T18:26:44.443596400Z",
     "start_time": "2024-01-14T18:26:44.358791900Z"
    }
   }
  },
  {
   "cell_type": "markdown",
   "source": [
    "# Models testing"
   ],
   "metadata": {
    "collapsed": false
   }
  },
  {
   "cell_type": "markdown",
   "source": [
    "## Popularity Ranking"
   ],
   "metadata": {
    "collapsed": false
   }
  },
  {
   "cell_type": "code",
   "execution_count": 8,
   "outputs": [
    {
     "data": {
      "text/plain": "           id                                              title  year  \\\n10309   19404                        Dilwale Dulhania Le Jayenge  1995   \n15480   27205                                          Inception  2010   \n12481     155                                    The Dark Knight  2008   \n22879  157336                                       Interstellar  2014   \n2843      550                                         Fight Club  1999   \n4863      120  The Lord of the Rings: The Fellowship of the Ring  2001   \n292       680                                       Pulp Fiction  1994   \n314       278                           The Shawshank Redemption  1994   \n7000      122      The Lord of the Rings: The Return of the King  2003   \n351        13                                       Forrest Gump  1994   \n\n       vote_count  vote_average  popularity  \\\n10309         661             9   34.457024   \n15480       14075             8   29.108149   \n12481       12269             8  123.167259   \n22879       11187             8   32.213481   \n2843         9678             8   63.869599   \n4863         8892             8   32.070725   \n292          8670             8  140.950236   \n314          8358             8   51.645403   \n7000         8226             8   29.324358   \n351          8147             8   48.307194   \n\n                                                  genres        wr  \n10309                           [Comedy, Drama, Romance]  8.585574  \n15480  [Action, Thriller, Science Fiction, Mystery, A...  7.984042  \n12481                   [Drama, Action, Crime, Thriller]  7.981708  \n22879                [Adventure, Drama, Science Fiction]  7.979952  \n2843                                             [Drama]  7.976853  \n4863                        [Adventure, Fantasy, Action]  7.974825  \n292                                    [Thriller, Crime]  7.974187  \n314                                       [Drama, Crime]  7.973232  \n7000                        [Adventure, Fantasy, Action]  7.972807  \n351                             [Comedy, Drama, Romance]  7.972546  ",
      "text/html": "<div>\n<style scoped>\n    .dataframe tbody tr th:only-of-type {\n        vertical-align: middle;\n    }\n\n    .dataframe tbody tr th {\n        vertical-align: top;\n    }\n\n    .dataframe thead th {\n        text-align: right;\n    }\n</style>\n<table border=\"1\" class=\"dataframe\">\n  <thead>\n    <tr style=\"text-align: right;\">\n      <th></th>\n      <th>id</th>\n      <th>title</th>\n      <th>year</th>\n      <th>vote_count</th>\n      <th>vote_average</th>\n      <th>popularity</th>\n      <th>genres</th>\n      <th>wr</th>\n    </tr>\n  </thead>\n  <tbody>\n    <tr>\n      <th>10309</th>\n      <td>19404</td>\n      <td>Dilwale Dulhania Le Jayenge</td>\n      <td>1995</td>\n      <td>661</td>\n      <td>9</td>\n      <td>34.457024</td>\n      <td>[Comedy, Drama, Romance]</td>\n      <td>8.585574</td>\n    </tr>\n    <tr>\n      <th>15480</th>\n      <td>27205</td>\n      <td>Inception</td>\n      <td>2010</td>\n      <td>14075</td>\n      <td>8</td>\n      <td>29.108149</td>\n      <td>[Action, Thriller, Science Fiction, Mystery, A...</td>\n      <td>7.984042</td>\n    </tr>\n    <tr>\n      <th>12481</th>\n      <td>155</td>\n      <td>The Dark Knight</td>\n      <td>2008</td>\n      <td>12269</td>\n      <td>8</td>\n      <td>123.167259</td>\n      <td>[Drama, Action, Crime, Thriller]</td>\n      <td>7.981708</td>\n    </tr>\n    <tr>\n      <th>22879</th>\n      <td>157336</td>\n      <td>Interstellar</td>\n      <td>2014</td>\n      <td>11187</td>\n      <td>8</td>\n      <td>32.213481</td>\n      <td>[Adventure, Drama, Science Fiction]</td>\n      <td>7.979952</td>\n    </tr>\n    <tr>\n      <th>2843</th>\n      <td>550</td>\n      <td>Fight Club</td>\n      <td>1999</td>\n      <td>9678</td>\n      <td>8</td>\n      <td>63.869599</td>\n      <td>[Drama]</td>\n      <td>7.976853</td>\n    </tr>\n    <tr>\n      <th>4863</th>\n      <td>120</td>\n      <td>The Lord of the Rings: The Fellowship of the Ring</td>\n      <td>2001</td>\n      <td>8892</td>\n      <td>8</td>\n      <td>32.070725</td>\n      <td>[Adventure, Fantasy, Action]</td>\n      <td>7.974825</td>\n    </tr>\n    <tr>\n      <th>292</th>\n      <td>680</td>\n      <td>Pulp Fiction</td>\n      <td>1994</td>\n      <td>8670</td>\n      <td>8</td>\n      <td>140.950236</td>\n      <td>[Thriller, Crime]</td>\n      <td>7.974187</td>\n    </tr>\n    <tr>\n      <th>314</th>\n      <td>278</td>\n      <td>The Shawshank Redemption</td>\n      <td>1994</td>\n      <td>8358</td>\n      <td>8</td>\n      <td>51.645403</td>\n      <td>[Drama, Crime]</td>\n      <td>7.973232</td>\n    </tr>\n    <tr>\n      <th>7000</th>\n      <td>122</td>\n      <td>The Lord of the Rings: The Return of the King</td>\n      <td>2003</td>\n      <td>8226</td>\n      <td>8</td>\n      <td>29.324358</td>\n      <td>[Adventure, Fantasy, Action]</td>\n      <td>7.972807</td>\n    </tr>\n    <tr>\n      <th>351</th>\n      <td>13</td>\n      <td>Forrest Gump</td>\n      <td>1994</td>\n      <td>8147</td>\n      <td>8</td>\n      <td>48.307194</td>\n      <td>[Comedy, Drama, Romance]</td>\n      <td>7.972546</td>\n    </tr>\n  </tbody>\n</table>\n</div>"
     },
     "execution_count": 8,
     "metadata": {},
     "output_type": "execute_result"
    }
   ],
   "source": [
    "top_movies = PopularityRanking.top_movies_IMDB_wr_formula(tdh, 50)\n",
    "top_movies.head(10)"
   ],
   "metadata": {
    "collapsed": false,
    "ExecuteTime": {
     "end_time": "2024-01-14T18:26:44.560295900Z",
     "start_time": "2024-01-14T18:26:44.408700100Z"
    }
   }
  },
  {
   "cell_type": "code",
   "execution_count": 9,
   "outputs": [
    {
     "data": {
      "text/plain": "          id                                              title  year  \\\n15480  27205                                          Inception  2010   \n12481    155                                    The Dark Knight  2008   \n4863     120  The Lord of the Rings: The Fellowship of the Ring  2001   \n7000     122      The Lord of the Rings: The Return of the King  2003   \n5814     121              The Lord of the Rings: The Two Towers  2002   \n256       11                                          Star Wars  1977   \n1154    1891                            The Empire Strikes Back  1980   \n4135     111                                           Scarface  1983   \n9430     670                                             Oldboy  2003   \n1910     346                                      Seven Samurai  1954   \n\n       vote_count  vote_average  popularity   genre        wr  \n15480       14075             8   29.108149  Action  7.955099  \n12481       12269             8  123.167259  Action  7.948610  \n4863         8892             8   32.070725  Action  7.929579  \n7000         8226             8   29.324358  Action  7.924031  \n5814         7641             8   29.423537  Action  7.918382  \n256          6778             8   42.149697  Action  7.908327  \n1154         5998             8   19.470959  Action  7.896841  \n4135         3017             8   11.299673  Action  7.802046  \n9430         2000             8   10.616859  Action  7.711649  \n1910          892             8    15.01777  Action  7.426145  ",
      "text/html": "<div>\n<style scoped>\n    .dataframe tbody tr th:only-of-type {\n        vertical-align: middle;\n    }\n\n    .dataframe tbody tr th {\n        vertical-align: top;\n    }\n\n    .dataframe thead th {\n        text-align: right;\n    }\n</style>\n<table border=\"1\" class=\"dataframe\">\n  <thead>\n    <tr style=\"text-align: right;\">\n      <th></th>\n      <th>id</th>\n      <th>title</th>\n      <th>year</th>\n      <th>vote_count</th>\n      <th>vote_average</th>\n      <th>popularity</th>\n      <th>genre</th>\n      <th>wr</th>\n    </tr>\n  </thead>\n  <tbody>\n    <tr>\n      <th>15480</th>\n      <td>27205</td>\n      <td>Inception</td>\n      <td>2010</td>\n      <td>14075</td>\n      <td>8</td>\n      <td>29.108149</td>\n      <td>Action</td>\n      <td>7.955099</td>\n    </tr>\n    <tr>\n      <th>12481</th>\n      <td>155</td>\n      <td>The Dark Knight</td>\n      <td>2008</td>\n      <td>12269</td>\n      <td>8</td>\n      <td>123.167259</td>\n      <td>Action</td>\n      <td>7.948610</td>\n    </tr>\n    <tr>\n      <th>4863</th>\n      <td>120</td>\n      <td>The Lord of the Rings: The Fellowship of the Ring</td>\n      <td>2001</td>\n      <td>8892</td>\n      <td>8</td>\n      <td>32.070725</td>\n      <td>Action</td>\n      <td>7.929579</td>\n    </tr>\n    <tr>\n      <th>7000</th>\n      <td>122</td>\n      <td>The Lord of the Rings: The Return of the King</td>\n      <td>2003</td>\n      <td>8226</td>\n      <td>8</td>\n      <td>29.324358</td>\n      <td>Action</td>\n      <td>7.924031</td>\n    </tr>\n    <tr>\n      <th>5814</th>\n      <td>121</td>\n      <td>The Lord of the Rings: The Two Towers</td>\n      <td>2002</td>\n      <td>7641</td>\n      <td>8</td>\n      <td>29.423537</td>\n      <td>Action</td>\n      <td>7.918382</td>\n    </tr>\n    <tr>\n      <th>256</th>\n      <td>11</td>\n      <td>Star Wars</td>\n      <td>1977</td>\n      <td>6778</td>\n      <td>8</td>\n      <td>42.149697</td>\n      <td>Action</td>\n      <td>7.908327</td>\n    </tr>\n    <tr>\n      <th>1154</th>\n      <td>1891</td>\n      <td>The Empire Strikes Back</td>\n      <td>1980</td>\n      <td>5998</td>\n      <td>8</td>\n      <td>19.470959</td>\n      <td>Action</td>\n      <td>7.896841</td>\n    </tr>\n    <tr>\n      <th>4135</th>\n      <td>111</td>\n      <td>Scarface</td>\n      <td>1983</td>\n      <td>3017</td>\n      <td>8</td>\n      <td>11.299673</td>\n      <td>Action</td>\n      <td>7.802046</td>\n    </tr>\n    <tr>\n      <th>9430</th>\n      <td>670</td>\n      <td>Oldboy</td>\n      <td>2003</td>\n      <td>2000</td>\n      <td>8</td>\n      <td>10.616859</td>\n      <td>Action</td>\n      <td>7.711649</td>\n    </tr>\n    <tr>\n      <th>1910</th>\n      <td>346</td>\n      <td>Seven Samurai</td>\n      <td>1954</td>\n      <td>892</td>\n      <td>8</td>\n      <td>15.01777</td>\n      <td>Action</td>\n      <td>7.426145</td>\n    </tr>\n  </tbody>\n</table>\n</div>"
     },
     "execution_count": 9,
     "metadata": {},
     "output_type": "execute_result"
    }
   ],
   "source": [
    "top_movies_for_genre = PopularityRanking.top_movies_for_genre(tdh, 'Action', 50)\n",
    "top_movies_for_genre.head(10)"
   ],
   "metadata": {
    "collapsed": false,
    "ExecuteTime": {
     "end_time": "2024-01-14T18:26:51.622344500Z",
     "start_time": "2024-01-14T18:26:44.560295900Z"
    }
   }
  },
  {
   "cell_type": "markdown",
   "source": [
    "## Content-based filtering"
   ],
   "metadata": {
    "collapsed": false
   }
  },
  {
   "cell_type": "code",
   "execution_count": 10,
   "outputs": [
    {
     "data": {
      "text/plain": "(9099, 25)"
     },
     "execution_count": 10,
     "metadata": {},
     "output_type": "execute_result"
    }
   ],
   "source": [
    "tdh.get_small_movies_df_deepcopy().shape"
   ],
   "metadata": {
    "collapsed": false,
    "ExecuteTime": {
     "end_time": "2024-01-14T18:26:51.638301500Z",
     "start_time": "2024-01-14T18:26:51.625337Z"
    }
   }
  },
  {
   "cell_type": "code",
   "execution_count": 11,
   "outputs": [
    {
     "data": {
      "text/plain": "          id                                    title  year  \\\n7931   49026                    The Dark Knight Rises  2012   \n132      414                           Batman Forever  1995   \n1113     364                           Batman Returns  1992   \n8227  142061  Batman: The Dark Knight Returns, Part 2  2013   \n7565   40662               Batman: Under the Red Hood  2010   \n524      268                                   Batman  1989   \n7901   69735                         Batman: Year One  2011   \n2579   14919             Batman: Mask of the Phantasm  1993   \n2696     820                                      JFK  1991   \n8165  123025  Batman: The Dark Knight Returns, Part 1  2012   \n\n                                            description  \n7931  Following the death of District Attorney Harve...  \n132   The Dark Knight of Gotham City confronts a das...  \n1113  Having defeated the Joker, Batman now faces th...  \n8227  Batman has stopped the reign of terror that Th...  \n7565  Batman faces his ultimate challenge as the mys...  \n524   The Dark Knight of Gotham City begins his war ...  \n7901  Two men come to Gotham City: Bruce Wayne after...  \n2579  An old flame of Bruce Wayne's strolls into tow...  \n2696  New Orleans District Attorney Jim Garrison dis...  \n8165  Batman has not been seen for ten years. A new ...  ",
      "text/html": "<div>\n<style scoped>\n    .dataframe tbody tr th:only-of-type {\n        vertical-align: middle;\n    }\n\n    .dataframe tbody tr th {\n        vertical-align: top;\n    }\n\n    .dataframe thead th {\n        text-align: right;\n    }\n</style>\n<table border=\"1\" class=\"dataframe\">\n  <thead>\n    <tr style=\"text-align: right;\">\n      <th></th>\n      <th>id</th>\n      <th>title</th>\n      <th>year</th>\n      <th>description</th>\n    </tr>\n  </thead>\n  <tbody>\n    <tr>\n      <th>7931</th>\n      <td>49026</td>\n      <td>The Dark Knight Rises</td>\n      <td>2012</td>\n      <td>Following the death of District Attorney Harve...</td>\n    </tr>\n    <tr>\n      <th>132</th>\n      <td>414</td>\n      <td>Batman Forever</td>\n      <td>1995</td>\n      <td>The Dark Knight of Gotham City confronts a das...</td>\n    </tr>\n    <tr>\n      <th>1113</th>\n      <td>364</td>\n      <td>Batman Returns</td>\n      <td>1992</td>\n      <td>Having defeated the Joker, Batman now faces th...</td>\n    </tr>\n    <tr>\n      <th>8227</th>\n      <td>142061</td>\n      <td>Batman: The Dark Knight Returns, Part 2</td>\n      <td>2013</td>\n      <td>Batman has stopped the reign of terror that Th...</td>\n    </tr>\n    <tr>\n      <th>7565</th>\n      <td>40662</td>\n      <td>Batman: Under the Red Hood</td>\n      <td>2010</td>\n      <td>Batman faces his ultimate challenge as the mys...</td>\n    </tr>\n    <tr>\n      <th>524</th>\n      <td>268</td>\n      <td>Batman</td>\n      <td>1989</td>\n      <td>The Dark Knight of Gotham City begins his war ...</td>\n    </tr>\n    <tr>\n      <th>7901</th>\n      <td>69735</td>\n      <td>Batman: Year One</td>\n      <td>2011</td>\n      <td>Two men come to Gotham City: Bruce Wayne after...</td>\n    </tr>\n    <tr>\n      <th>2579</th>\n      <td>14919</td>\n      <td>Batman: Mask of the Phantasm</td>\n      <td>1993</td>\n      <td>An old flame of Bruce Wayne's strolls into tow...</td>\n    </tr>\n    <tr>\n      <th>2696</th>\n      <td>820</td>\n      <td>JFK</td>\n      <td>1991</td>\n      <td>New Orleans District Attorney Jim Garrison dis...</td>\n    </tr>\n    <tr>\n      <th>8165</th>\n      <td>123025</td>\n      <td>Batman: The Dark Knight Returns, Part 1</td>\n      <td>2012</td>\n      <td>Batman has not been seen for ten years. A new ...</td>\n    </tr>\n  </tbody>\n</table>\n</div>"
     },
     "execution_count": 11,
     "metadata": {},
     "output_type": "execute_result"
    }
   ],
   "source": [
    "top_similar_movies = ContentBasedFiltering.description_based_recommender(tdh, 'The Dark Knight', 25, improved=False)\n",
    "top_similar_movies.head(10)"
   ],
   "metadata": {
    "collapsed": false,
    "ExecuteTime": {
     "end_time": "2024-01-14T18:26:53.140285800Z",
     "start_time": "2024-01-14T18:26:51.640303Z"
    }
   }
  },
  {
   "cell_type": "code",
   "execution_count": 12,
   "outputs": [
    {
     "data": {
      "text/plain": "          id                               title  year  vote_count  \\\n7931   49026               The Dark Knight Rises  2012        9263   \n6144     272                       Batman Begins  2005        7511   \n7933   58574  Sherlock Holmes: A Game of Shadows  2011        3971   \n524      268                              Batman  1989        2145   \n7344   22803                 Law Abiding Citizen  2009        1522   \n6740    5174                         Rush Hour 3  2007         801   \n1113     364                      Batman Returns  1992        1706   \n132      414                      Batman Forever  1995        1529   \n8917  209112  Batman v Superman: Dawn of Justice  2016        7189   \n1240     415                      Batman & Robin  1997        1447   \n\n      vote_average popularity        wr  \n7931             7   20.58258  6.938090  \n6144             7  28.505341  6.924949  \n7933             7  18.695329  6.868594  \n524              7   19.10673  6.785521  \n7344             7  16.639047  6.726538  \n6740             6   9.718111  6.080225  \n1113             6  15.001681  6.050584  \n132              5  13.321354  5.381667  \n8917             5  31.435879  5.109336  \n1240             4  17.038824  4.735345  ",
      "text/html": "<div>\n<style scoped>\n    .dataframe tbody tr th:only-of-type {\n        vertical-align: middle;\n    }\n\n    .dataframe tbody tr th {\n        vertical-align: top;\n    }\n\n    .dataframe thead th {\n        text-align: right;\n    }\n</style>\n<table border=\"1\" class=\"dataframe\">\n  <thead>\n    <tr style=\"text-align: right;\">\n      <th></th>\n      <th>id</th>\n      <th>title</th>\n      <th>year</th>\n      <th>vote_count</th>\n      <th>vote_average</th>\n      <th>popularity</th>\n      <th>wr</th>\n    </tr>\n  </thead>\n  <tbody>\n    <tr>\n      <th>7931</th>\n      <td>49026</td>\n      <td>The Dark Knight Rises</td>\n      <td>2012</td>\n      <td>9263</td>\n      <td>7</td>\n      <td>20.58258</td>\n      <td>6.938090</td>\n    </tr>\n    <tr>\n      <th>6144</th>\n      <td>272</td>\n      <td>Batman Begins</td>\n      <td>2005</td>\n      <td>7511</td>\n      <td>7</td>\n      <td>28.505341</td>\n      <td>6.924949</td>\n    </tr>\n    <tr>\n      <th>7933</th>\n      <td>58574</td>\n      <td>Sherlock Holmes: A Game of Shadows</td>\n      <td>2011</td>\n      <td>3971</td>\n      <td>7</td>\n      <td>18.695329</td>\n      <td>6.868594</td>\n    </tr>\n    <tr>\n      <th>524</th>\n      <td>268</td>\n      <td>Batman</td>\n      <td>1989</td>\n      <td>2145</td>\n      <td>7</td>\n      <td>19.10673</td>\n      <td>6.785521</td>\n    </tr>\n    <tr>\n      <th>7344</th>\n      <td>22803</td>\n      <td>Law Abiding Citizen</td>\n      <td>2009</td>\n      <td>1522</td>\n      <td>7</td>\n      <td>16.639047</td>\n      <td>6.726538</td>\n    </tr>\n    <tr>\n      <th>6740</th>\n      <td>5174</td>\n      <td>Rush Hour 3</td>\n      <td>2007</td>\n      <td>801</td>\n      <td>6</td>\n      <td>9.718111</td>\n      <td>6.080225</td>\n    </tr>\n    <tr>\n      <th>1113</th>\n      <td>364</td>\n      <td>Batman Returns</td>\n      <td>1992</td>\n      <td>1706</td>\n      <td>6</td>\n      <td>15.001681</td>\n      <td>6.050584</td>\n    </tr>\n    <tr>\n      <th>132</th>\n      <td>414</td>\n      <td>Batman Forever</td>\n      <td>1995</td>\n      <td>1529</td>\n      <td>5</td>\n      <td>13.321354</td>\n      <td>5.381667</td>\n    </tr>\n    <tr>\n      <th>8917</th>\n      <td>209112</td>\n      <td>Batman v Superman: Dawn of Justice</td>\n      <td>2016</td>\n      <td>7189</td>\n      <td>5</td>\n      <td>31.435879</td>\n      <td>5.109336</td>\n    </tr>\n    <tr>\n      <th>1240</th>\n      <td>415</td>\n      <td>Batman &amp; Robin</td>\n      <td>1997</td>\n      <td>1447</td>\n      <td>4</td>\n      <td>17.038824</td>\n      <td>4.735345</td>\n    </tr>\n  </tbody>\n</table>\n</div>"
     },
     "execution_count": 12,
     "metadata": {},
     "output_type": "execute_result"
    }
   ],
   "source": [
    "top_similar_movies = ContentBasedFiltering.description_based_recommender(tdh, 'The Dark Knight', 25, improved=True)\n",
    "top_similar_movies.head(10)"
   ],
   "metadata": {
    "collapsed": false,
    "ExecuteTime": {
     "end_time": "2024-01-14T18:26:54.732019200Z",
     "start_time": "2024-01-14T18:26:53.141277100Z"
    }
   }
  },
  {
   "cell_type": "code",
   "execution_count": 13,
   "outputs": [
    {
     "data": {
      "text/plain": "          id                    title  year  \\\n8031   49026    The Dark Knight Rises  2012   \n6218     272            Batman Begins  2005   \n6623    1124             The Prestige  2006   \n2085   11660                Following  1998   \n4145     320                 Insomnia  2002   \n3381      77                  Memento  2000   \n8613  157336             Interstellar  2014   \n7648   27205                Inception  2010   \n5943    9812                 Thursday  1998   \n8927  228968  Kidnapping Mr. Heineken  2015   \n\n                                                   soup  \n8031  christianbale michaelcaine garyoldman christop...  \n6218  christianbale michaelcaine liamneeson christop...  \n6623  hughjackman christianbale michaelcaine christo...  \n2085  jeremytheobald alexhaw lucyrussell christopher...  \n4145  alpacino robinwilliams hilaryswank christopher...  \n3381  guypearce carrie-annemoss joepantoliano christ...  \n8613  matthewmcconaughey jessicachastain annehathawa...  \n7648  leonardodicaprio josephgordon-levitt ellenpage...  \n5943  thomasjane paulamarshall aaroneckhart skipwood...  \n8927  anthonyhopkins jimsturgess samworthington dani...  ",
      "text/html": "<div>\n<style scoped>\n    .dataframe tbody tr th:only-of-type {\n        vertical-align: middle;\n    }\n\n    .dataframe tbody tr th {\n        vertical-align: top;\n    }\n\n    .dataframe thead th {\n        text-align: right;\n    }\n</style>\n<table border=\"1\" class=\"dataframe\">\n  <thead>\n    <tr style=\"text-align: right;\">\n      <th></th>\n      <th>id</th>\n      <th>title</th>\n      <th>year</th>\n      <th>soup</th>\n    </tr>\n  </thead>\n  <tbody>\n    <tr>\n      <th>8031</th>\n      <td>49026</td>\n      <td>The Dark Knight Rises</td>\n      <td>2012</td>\n      <td>christianbale michaelcaine garyoldman christop...</td>\n    </tr>\n    <tr>\n      <th>6218</th>\n      <td>272</td>\n      <td>Batman Begins</td>\n      <td>2005</td>\n      <td>christianbale michaelcaine liamneeson christop...</td>\n    </tr>\n    <tr>\n      <th>6623</th>\n      <td>1124</td>\n      <td>The Prestige</td>\n      <td>2006</td>\n      <td>hughjackman christianbale michaelcaine christo...</td>\n    </tr>\n    <tr>\n      <th>2085</th>\n      <td>11660</td>\n      <td>Following</td>\n      <td>1998</td>\n      <td>jeremytheobald alexhaw lucyrussell christopher...</td>\n    </tr>\n    <tr>\n      <th>4145</th>\n      <td>320</td>\n      <td>Insomnia</td>\n      <td>2002</td>\n      <td>alpacino robinwilliams hilaryswank christopher...</td>\n    </tr>\n    <tr>\n      <th>3381</th>\n      <td>77</td>\n      <td>Memento</td>\n      <td>2000</td>\n      <td>guypearce carrie-annemoss joepantoliano christ...</td>\n    </tr>\n    <tr>\n      <th>8613</th>\n      <td>157336</td>\n      <td>Interstellar</td>\n      <td>2014</td>\n      <td>matthewmcconaughey jessicachastain annehathawa...</td>\n    </tr>\n    <tr>\n      <th>7648</th>\n      <td>27205</td>\n      <td>Inception</td>\n      <td>2010</td>\n      <td>leonardodicaprio josephgordon-levitt ellenpage...</td>\n    </tr>\n    <tr>\n      <th>5943</th>\n      <td>9812</td>\n      <td>Thursday</td>\n      <td>1998</td>\n      <td>thomasjane paulamarshall aaroneckhart skipwood...</td>\n    </tr>\n    <tr>\n      <th>8927</th>\n      <td>228968</td>\n      <td>Kidnapping Mr. Heineken</td>\n      <td>2015</td>\n      <td>anthonyhopkins jimsturgess samworthington dani...</td>\n    </tr>\n  </tbody>\n</table>\n</div>"
     },
     "execution_count": 13,
     "metadata": {},
     "output_type": "execute_result"
    }
   ],
   "source": [
    "top_similar_movies = ContentBasedFiltering.metadata_based_recommender(tdh, 'The Dark Knight', 25, improved=False)\n",
    "top_similar_movies.head(10)"
   ],
   "metadata": {
    "collapsed": false,
    "ExecuteTime": {
     "end_time": "2024-01-14T18:27:12.986177100Z",
     "start_time": "2024-01-14T18:26:54.734013300Z"
    }
   }
  },
  {
   "cell_type": "code",
   "execution_count": 14,
   "outputs": [
    {
     "data": {
      "text/plain": "          id                  title  year  vote_count  vote_average  \\\n7648   27205              Inception  2010       14075             8   \n8613  157336           Interstellar  2014       11187             8   \n6623    1124           The Prestige  2006        4510             8   \n3381      77                Memento  2000        4168             8   \n8031   49026  The Dark Knight Rises  2012        9263             7   \n6218     272          Batman Begins  2005        7511             7   \n1532    1051  The French Connection  1971         435             7   \n2085   11660              Following  1998         363             7   \n149    10428                Hackers  1995         406             6   \n4145     320               Insomnia  2002        1181             6   \n\n     popularity        wr  \n7648  29.108149  7.963571  \n8613  32.213481  7.954460  \n6623   16.94556  7.892031  \n3381  15.450789  7.883877  \n8031   20.58258  6.982826  \n6218  28.505341  6.979004  \n1532   6.694959  6.792264  \n2085   5.283661  6.771593  \n149   14.810519  6.254794  \n4145  11.424974  6.126703  ",
      "text/html": "<div>\n<style scoped>\n    .dataframe tbody tr th:only-of-type {\n        vertical-align: middle;\n    }\n\n    .dataframe tbody tr th {\n        vertical-align: top;\n    }\n\n    .dataframe thead th {\n        text-align: right;\n    }\n</style>\n<table border=\"1\" class=\"dataframe\">\n  <thead>\n    <tr style=\"text-align: right;\">\n      <th></th>\n      <th>id</th>\n      <th>title</th>\n      <th>year</th>\n      <th>vote_count</th>\n      <th>vote_average</th>\n      <th>popularity</th>\n      <th>wr</th>\n    </tr>\n  </thead>\n  <tbody>\n    <tr>\n      <th>7648</th>\n      <td>27205</td>\n      <td>Inception</td>\n      <td>2010</td>\n      <td>14075</td>\n      <td>8</td>\n      <td>29.108149</td>\n      <td>7.963571</td>\n    </tr>\n    <tr>\n      <th>8613</th>\n      <td>157336</td>\n      <td>Interstellar</td>\n      <td>2014</td>\n      <td>11187</td>\n      <td>8</td>\n      <td>32.213481</td>\n      <td>7.954460</td>\n    </tr>\n    <tr>\n      <th>6623</th>\n      <td>1124</td>\n      <td>The Prestige</td>\n      <td>2006</td>\n      <td>4510</td>\n      <td>8</td>\n      <td>16.94556</td>\n      <td>7.892031</td>\n    </tr>\n    <tr>\n      <th>3381</th>\n      <td>77</td>\n      <td>Memento</td>\n      <td>2000</td>\n      <td>4168</td>\n      <td>8</td>\n      <td>15.450789</td>\n      <td>7.883877</td>\n    </tr>\n    <tr>\n      <th>8031</th>\n      <td>49026</td>\n      <td>The Dark Knight Rises</td>\n      <td>2012</td>\n      <td>9263</td>\n      <td>7</td>\n      <td>20.58258</td>\n      <td>6.982826</td>\n    </tr>\n    <tr>\n      <th>6218</th>\n      <td>272</td>\n      <td>Batman Begins</td>\n      <td>2005</td>\n      <td>7511</td>\n      <td>7</td>\n      <td>28.505341</td>\n      <td>6.979004</td>\n    </tr>\n    <tr>\n      <th>1532</th>\n      <td>1051</td>\n      <td>The French Connection</td>\n      <td>1971</td>\n      <td>435</td>\n      <td>7</td>\n      <td>6.694959</td>\n      <td>6.792264</td>\n    </tr>\n    <tr>\n      <th>2085</th>\n      <td>11660</td>\n      <td>Following</td>\n      <td>1998</td>\n      <td>363</td>\n      <td>7</td>\n      <td>5.283661</td>\n      <td>6.771593</td>\n    </tr>\n    <tr>\n      <th>149</th>\n      <td>10428</td>\n      <td>Hackers</td>\n      <td>1995</td>\n      <td>406</td>\n      <td>6</td>\n      <td>14.810519</td>\n      <td>6.254794</td>\n    </tr>\n    <tr>\n      <th>4145</th>\n      <td>320</td>\n      <td>Insomnia</td>\n      <td>2002</td>\n      <td>1181</td>\n      <td>6</td>\n      <td>11.424974</td>\n      <td>6.126703</td>\n    </tr>\n  </tbody>\n</table>\n</div>"
     },
     "execution_count": 14,
     "metadata": {},
     "output_type": "execute_result"
    }
   ],
   "source": [
    "top_similar_movies = ContentBasedFiltering.metadata_based_recommender(tdh, 'The Dark Knight', 25, improved=True)\n",
    "top_similar_movies.head(10)"
   ],
   "metadata": {
    "collapsed": false,
    "ExecuteTime": {
     "end_time": "2024-01-14T18:27:31.498613500Z",
     "start_time": "2024-01-14T18:27:12.956258Z"
    }
   }
  },
  {
   "cell_type": "markdown",
   "source": [
    "## Collaborative filtering"
   ],
   "metadata": {
    "collapsed": false
   }
  },
  {
   "cell_type": "code",
   "execution_count": 15,
   "outputs": [
    {
     "name": "stdout",
     "output_type": "stream",
     "text": [
      "Evaluating RMSE, MAE of algorithm SVD on 5 split(s).\n",
      "\n",
      "                  Fold 1  Fold 2  Fold 3  Fold 4  Fold 5  Mean    Std     \n",
      "RMSE (testset)    0.8958  0.9021  0.8943  0.8967  0.9005  0.8979  0.0029  \n",
      "MAE (testset)     0.6891  0.6930  0.6863  0.6933  0.6924  0.6908  0.0027  \n",
      "Fit time          0.71    0.73    0.66    0.65    0.66    0.68    0.03    \n",
      "Test time         0.06    0.06    0.07    0.20    0.07    0.09    0.06    \n"
     ]
    },
    {
     "data": {
      "text/plain": "(0.8978882314211262, 0.690845928622682)"
     },
     "execution_count": 15,
     "metadata": {},
     "output_type": "execute_result"
    }
   ],
   "source": [
    "# SVD model with cross-validation\n",
    "movies_suggestor = SVD_Based_CollaborativeFilter(tdh)\n",
    "movies_suggestor.train_with_cross_validation()\n",
    "movies_suggestor.evaluate_performance_with_cross_validation()"
   ],
   "metadata": {
    "collapsed": false,
    "ExecuteTime": {
     "end_time": "2024-01-14T18:27:36.762520600Z",
     "start_time": "2024-01-14T18:27:31.500574200Z"
    }
   }
  },
  {
   "cell_type": "code",
   "execution_count": 16,
   "outputs": [
    {
     "name": "stdout",
     "output_type": "stream",
     "text": [
      "RMSE: 0.9005\n",
      "MAE:  0.6901\n"
     ]
    },
    {
     "data": {
      "text/plain": "(0.9005420994345136, 0.6901334682615878)"
     },
     "execution_count": 16,
     "metadata": {},
     "output_type": "execute_result"
    }
   ],
   "source": [
    "# SVD model without cross-validation\n",
    "movies_suggestor = SVD_Based_CollaborativeFilter(tdh)\n",
    "movies_suggestor.train()\n",
    "movies_suggestor.evaluate_performance()"
   ],
   "metadata": {
    "collapsed": false,
    "ExecuteTime": {
     "end_time": "2024-01-14T18:27:37.687042800Z",
     "start_time": "2024-01-14T18:27:36.763482700Z"
    }
   }
  },
  {
   "cell_type": "code",
   "execution_count": 17,
   "outputs": [
    {
     "data": {
      "text/plain": "Prediction(uid=1, iid=302, r_ui=3, est=2.8435996375143677, details={'was_impossible': False})"
     },
     "execution_count": 17,
     "metadata": {},
     "output_type": "execute_result"
    }
   ],
   "source": [
    "# Predict the rating given by a sample user give to a sample movie\n",
    "user_id = 1\n",
    "movie_id = 302\n",
    "rating = 3\n",
    "movies_suggestor.predict(user_id, movie_id, rating)"
   ],
   "metadata": {
    "collapsed": false,
    "ExecuteTime": {
     "end_time": "2024-01-14T18:27:37.705960500Z",
     "start_time": "2024-01-14T18:27:37.688007300Z"
    }
   }
  },
  {
   "cell_type": "code",
   "execution_count": 18,
   "outputs": [
    {
     "data": {
      "text/plain": "   id                     title  userId  gt_rating  est_rating\n0   6            Judgment Night     100        3.0    3.724054\n1  62     2001: A Space Odyssey     100        3.0    3.463279\n2  88             Dirty Dancing     100        2.0    2.759209\n3  25                   Jarhead     100        4.0    3.558439\n4  86  The Elementary Particles     100        3.0    3.405179",
      "text/html": "<div>\n<style scoped>\n    .dataframe tbody tr th:only-of-type {\n        vertical-align: middle;\n    }\n\n    .dataframe tbody tr th {\n        vertical-align: top;\n    }\n\n    .dataframe thead th {\n        text-align: right;\n    }\n</style>\n<table border=\"1\" class=\"dataframe\">\n  <thead>\n    <tr style=\"text-align: right;\">\n      <th></th>\n      <th>id</th>\n      <th>title</th>\n      <th>userId</th>\n      <th>gt_rating</th>\n      <th>est_rating</th>\n    </tr>\n  </thead>\n  <tbody>\n    <tr>\n      <th>0</th>\n      <td>6</td>\n      <td>Judgment Night</td>\n      <td>100</td>\n      <td>3.0</td>\n      <td>3.724054</td>\n    </tr>\n    <tr>\n      <th>1</th>\n      <td>62</td>\n      <td>2001: A Space Odyssey</td>\n      <td>100</td>\n      <td>3.0</td>\n      <td>3.463279</td>\n    </tr>\n    <tr>\n      <th>2</th>\n      <td>88</td>\n      <td>Dirty Dancing</td>\n      <td>100</td>\n      <td>2.0</td>\n      <td>2.759209</td>\n    </tr>\n    <tr>\n      <th>3</th>\n      <td>25</td>\n      <td>Jarhead</td>\n      <td>100</td>\n      <td>4.0</td>\n      <td>3.558439</td>\n    </tr>\n    <tr>\n      <th>4</th>\n      <td>86</td>\n      <td>The Elementary Particles</td>\n      <td>100</td>\n      <td>3.0</td>\n      <td>3.405179</td>\n    </tr>\n  </tbody>\n</table>\n</div>"
     },
     "execution_count": 18,
     "metadata": {},
     "output_type": "execute_result"
    }
   ],
   "source": [
    "import pandas as pd\n",
    "\n",
    "users_ratings_df = tdh.get_users_ratings_df_deepcopy()\n",
    "movies_df = tdh.get_small_movies_df_deepcopy()\n",
    "\n",
    "# Specify the userId for which you want to extract the first record\n",
    "user_id = 100\n",
    "\n",
    "# Extract up to the first 10 seen movies for the specific userId\n",
    "seen_movies_ratings = users_ratings_df[users_ratings_df['userId'] == user_id][['userId', 'movieId', 'rating']]\n",
    "seen_movies_ratings = seen_movies_ratings.head(10)\n",
    "\n",
    "# Extract the 'movieId' from the 'seen_movies_ratings'\n",
    "seen_movies_ids = seen_movies_ratings['movieId']\n",
    "\n",
    "# Extract the seen movies from the 'movies_df' \n",
    "seen_movies = movies_df[movies_df['id'].isin(seen_movies_ids)][['id', 'title']]\n",
    "\n",
    "# Merge dataframes based on 'id' in 'seen_movies' and 'movieId' in 'seen_movies_ratings'\n",
    "merged_df = pd.merge(seen_movies, seen_movies_ratings, left_on='id', right_on='movieId', how='left')\n",
    "\n",
    "# Drop the redundant 'movie_id' column\n",
    "merged_df = merged_df.drop(columns=['movieId'])\n",
    "\n",
    "# Rename the 'rating' column to 'gt_rating'\n",
    "merged_df = merged_df.rename(columns={'rating': 'gt_rating'})\n",
    "\n",
    "# Add the 'est_rating' column\n",
    "merged_df['est_rating'] = merged_df.apply(\n",
    "    lambda row: movies_suggestor.predict(user_id, row['id']).est, axis=1\n",
    ")\n",
    "\n",
    "merged_df"
   ],
   "metadata": {
    "collapsed": false,
    "ExecuteTime": {
     "end_time": "2024-01-14T18:27:37.744859800Z",
     "start_time": "2024-01-14T18:27:37.705960500Z"
    }
   }
  },
  {
   "cell_type": "markdown",
   "source": [
    "## Hybrid recommender"
   ],
   "metadata": {
    "collapsed": false
   }
  },
  {
   "cell_type": "code",
   "execution_count": 19,
   "outputs": [],
   "source": [
    "model = SVD_Based_CollaborativeFilter(tdh)\n",
    "hybrid_movies_suggestor = HybridFiltering(tdh, model)"
   ],
   "metadata": {
    "collapsed": false,
    "ExecuteTime": {
     "end_time": "2024-01-14T18:27:38.686366300Z",
     "start_time": "2024-01-14T18:27:37.734888900Z"
    }
   }
  },
  {
   "cell_type": "code",
   "execution_count": 20,
   "outputs": [
    {
     "data": {
      "text/plain": "          id                  title  year  \\\n7648   27205              Inception  2010   \n3381      77                Memento  2000   \n1532    1051  The French Connection  1971   \n6623    1124           The Prestige  2006   \n6218     272          Batman Begins  2005   \n8613  157336           Interstellar  2014   \n5943    9812               Thursday  1998   \n2639    9367            El Mariachi  1992   \n149    10428                Hackers  1995   \n1952   16885            The General  1998   \n\n                                                   soup  est_rating  gt_rating  \n7648  leonardodicaprio josephgordon-levitt ellenpage...    3.589502        NaN  \n3381  guypearce carrie-annemoss joepantoliano christ...    3.496507        NaN  \n1532  genehackman fernandorey royscheider williamfri...    3.379926        4.0  \n6623  hughjackman christianbale michaelcaine christo...    3.321779        NaN  \n6218  christianbale michaelcaine liamneeson christop...    3.221891        NaN  \n8613  matthewmcconaughey jessicachastain annehathawa...    3.186174        NaN  \n5943  thomasjane paulamarshall aaroneckhart skipwood...    3.180507        NaN  \n2639  carlosgallardo jaimedehoyos petermarquardt rob...    3.058095        NaN  \n149   jonnyleemiller angelinajolie jessebradford iai...    2.981085        NaN  \n1952  brendangleeson adriandunbar seanmcginley johnb...    2.932187        NaN  ",
      "text/html": "<div>\n<style scoped>\n    .dataframe tbody tr th:only-of-type {\n        vertical-align: middle;\n    }\n\n    .dataframe tbody tr th {\n        vertical-align: top;\n    }\n\n    .dataframe thead th {\n        text-align: right;\n    }\n</style>\n<table border=\"1\" class=\"dataframe\">\n  <thead>\n    <tr style=\"text-align: right;\">\n      <th></th>\n      <th>id</th>\n      <th>title</th>\n      <th>year</th>\n      <th>soup</th>\n      <th>est_rating</th>\n      <th>gt_rating</th>\n    </tr>\n  </thead>\n  <tbody>\n    <tr>\n      <th>7648</th>\n      <td>27205</td>\n      <td>Inception</td>\n      <td>2010</td>\n      <td>leonardodicaprio josephgordon-levitt ellenpage...</td>\n      <td>3.589502</td>\n      <td>NaN</td>\n    </tr>\n    <tr>\n      <th>3381</th>\n      <td>77</td>\n      <td>Memento</td>\n      <td>2000</td>\n      <td>guypearce carrie-annemoss joepantoliano christ...</td>\n      <td>3.496507</td>\n      <td>NaN</td>\n    </tr>\n    <tr>\n      <th>1532</th>\n      <td>1051</td>\n      <td>The French Connection</td>\n      <td>1971</td>\n      <td>genehackman fernandorey royscheider williamfri...</td>\n      <td>3.379926</td>\n      <td>4.0</td>\n    </tr>\n    <tr>\n      <th>6623</th>\n      <td>1124</td>\n      <td>The Prestige</td>\n      <td>2006</td>\n      <td>hughjackman christianbale michaelcaine christo...</td>\n      <td>3.321779</td>\n      <td>NaN</td>\n    </tr>\n    <tr>\n      <th>6218</th>\n      <td>272</td>\n      <td>Batman Begins</td>\n      <td>2005</td>\n      <td>christianbale michaelcaine liamneeson christop...</td>\n      <td>3.221891</td>\n      <td>NaN</td>\n    </tr>\n    <tr>\n      <th>8613</th>\n      <td>157336</td>\n      <td>Interstellar</td>\n      <td>2014</td>\n      <td>matthewmcconaughey jessicachastain annehathawa...</td>\n      <td>3.186174</td>\n      <td>NaN</td>\n    </tr>\n    <tr>\n      <th>5943</th>\n      <td>9812</td>\n      <td>Thursday</td>\n      <td>1998</td>\n      <td>thomasjane paulamarshall aaroneckhart skipwood...</td>\n      <td>3.180507</td>\n      <td>NaN</td>\n    </tr>\n    <tr>\n      <th>2639</th>\n      <td>9367</td>\n      <td>El Mariachi</td>\n      <td>1992</td>\n      <td>carlosgallardo jaimedehoyos petermarquardt rob...</td>\n      <td>3.058095</td>\n      <td>NaN</td>\n    </tr>\n    <tr>\n      <th>149</th>\n      <td>10428</td>\n      <td>Hackers</td>\n      <td>1995</td>\n      <td>jonnyleemiller angelinajolie jessebradford iai...</td>\n      <td>2.981085</td>\n      <td>NaN</td>\n    </tr>\n    <tr>\n      <th>1952</th>\n      <td>16885</td>\n      <td>The General</td>\n      <td>1998</td>\n      <td>brendangleeson adriandunbar seanmcginley johnb...</td>\n      <td>2.932187</td>\n      <td>NaN</td>\n    </tr>\n  </tbody>\n</table>\n</div>"
     },
     "execution_count": 20,
     "metadata": {},
     "output_type": "execute_result"
    }
   ],
   "source": [
    "# Suggest the user (new and already rate) movies similar to a target movie  \n",
    "user_id = 1\n",
    "movie_title = 'The Dark Knight'\n",
    "hybrid_movies_suggestor.predict(user_id, movie_title, 25).head(10)"
   ],
   "metadata": {
    "collapsed": false,
    "ExecuteTime": {
     "end_time": "2024-01-14T18:27:57.357344600Z",
     "start_time": "2024-01-14T18:27:38.686366300Z"
    }
   }
  },
  {
   "cell_type": "code",
   "execution_count": 21,
   "outputs": [
    {
     "data": {
      "text/plain": "          id                  title  year  \\\n1532    1051  The French Connection  1971   \n8613  157336           Interstellar  2014   \n3381      77                Memento  2000   \n6218     272          Batman Begins  2005   \n6623    1124           The Prestige  2006   \n7648   27205              Inception  2010   \n440     9516      Menace II Society  1993   \n1952   16885            The General  1998   \n2952   10648           Magnum Force  1973   \n628    26744          Force of Evil  1948   \n\n                                                   soup  est_rating  gt_rating  \n1532  genehackman fernandorey royscheider williamfri...    4.020271        NaN  \n8613  matthewmcconaughey jessicachastain annehathawa...    3.881496        NaN  \n3381  guypearce carrie-annemoss joepantoliano christ...    3.771929        4.5  \n6218  christianbale michaelcaine liamneeson christop...    3.567193        NaN  \n6623  hughjackman christianbale michaelcaine christo...    3.438043        4.5  \n7648  leonardodicaprio josephgordon-levitt ellenpage...    3.388354        3.5  \n440   tyrinturner larenztate glennplummer alberthugh...    3.355887        NaN  \n1952  brendangleeson adriandunbar seanmcginley johnb...    3.324491        NaN  \n2952  clinteastwood halholbrook mitchellryan tedpost...    3.248506        NaN  \n628   johngarfield thomasgomez mariewindsor abrahamp...    3.230238        NaN  ",
      "text/html": "<div>\n<style scoped>\n    .dataframe tbody tr th:only-of-type {\n        vertical-align: middle;\n    }\n\n    .dataframe tbody tr th {\n        vertical-align: top;\n    }\n\n    .dataframe thead th {\n        text-align: right;\n    }\n</style>\n<table border=\"1\" class=\"dataframe\">\n  <thead>\n    <tr style=\"text-align: right;\">\n      <th></th>\n      <th>id</th>\n      <th>title</th>\n      <th>year</th>\n      <th>soup</th>\n      <th>est_rating</th>\n      <th>gt_rating</th>\n    </tr>\n  </thead>\n  <tbody>\n    <tr>\n      <th>1532</th>\n      <td>1051</td>\n      <td>The French Connection</td>\n      <td>1971</td>\n      <td>genehackman fernandorey royscheider williamfri...</td>\n      <td>4.020271</td>\n      <td>NaN</td>\n    </tr>\n    <tr>\n      <th>8613</th>\n      <td>157336</td>\n      <td>Interstellar</td>\n      <td>2014</td>\n      <td>matthewmcconaughey jessicachastain annehathawa...</td>\n      <td>3.881496</td>\n      <td>NaN</td>\n    </tr>\n    <tr>\n      <th>3381</th>\n      <td>77</td>\n      <td>Memento</td>\n      <td>2000</td>\n      <td>guypearce carrie-annemoss joepantoliano christ...</td>\n      <td>3.771929</td>\n      <td>4.5</td>\n    </tr>\n    <tr>\n      <th>6218</th>\n      <td>272</td>\n      <td>Batman Begins</td>\n      <td>2005</td>\n      <td>christianbale michaelcaine liamneeson christop...</td>\n      <td>3.567193</td>\n      <td>NaN</td>\n    </tr>\n    <tr>\n      <th>6623</th>\n      <td>1124</td>\n      <td>The Prestige</td>\n      <td>2006</td>\n      <td>hughjackman christianbale michaelcaine christo...</td>\n      <td>3.438043</td>\n      <td>4.5</td>\n    </tr>\n    <tr>\n      <th>7648</th>\n      <td>27205</td>\n      <td>Inception</td>\n      <td>2010</td>\n      <td>leonardodicaprio josephgordon-levitt ellenpage...</td>\n      <td>3.388354</td>\n      <td>3.5</td>\n    </tr>\n    <tr>\n      <th>440</th>\n      <td>9516</td>\n      <td>Menace II Society</td>\n      <td>1993</td>\n      <td>tyrinturner larenztate glennplummer alberthugh...</td>\n      <td>3.355887</td>\n      <td>NaN</td>\n    </tr>\n    <tr>\n      <th>1952</th>\n      <td>16885</td>\n      <td>The General</td>\n      <td>1998</td>\n      <td>brendangleeson adriandunbar seanmcginley johnb...</td>\n      <td>3.324491</td>\n      <td>NaN</td>\n    </tr>\n    <tr>\n      <th>2952</th>\n      <td>10648</td>\n      <td>Magnum Force</td>\n      <td>1973</td>\n      <td>clinteastwood halholbrook mitchellryan tedpost...</td>\n      <td>3.248506</td>\n      <td>NaN</td>\n    </tr>\n    <tr>\n      <th>628</th>\n      <td>26744</td>\n      <td>Force of Evil</td>\n      <td>1948</td>\n      <td>johngarfield thomasgomez mariewindsor abrahamp...</td>\n      <td>3.230238</td>\n      <td>NaN</td>\n    </tr>\n  </tbody>\n</table>\n</div>"
     },
     "execution_count": 21,
     "metadata": {},
     "output_type": "execute_result"
    }
   ],
   "source": [
    "# Suggest the user (new and already rated) movies similar to a target movie  \n",
    "user_id = 200\n",
    "movie_title = 'The Dark Knight'\n",
    "hybrid_movies_suggestor.predict(user_id, movie_title, 25).head(10)"
   ],
   "metadata": {
    "collapsed": false,
    "ExecuteTime": {
     "end_time": "2024-01-14T18:28:15.680292200Z",
     "start_time": "2024-01-14T18:27:57.358343Z"
    }
   }
  },
  {
   "cell_type": "code",
   "execution_count": 22,
   "outputs": [],
   "source": [
    "# MY COMMENT: IT DOES NOT MAKE SENSE TO COMPUTE RMSE AND MAE FOR EVALUATIONG THE PERFORMANCE OF THE FIRST CLASSICAL TECHNIQUES, BECAUSE THEY ARE NOT USER-BASED"
   ],
   "metadata": {
    "collapsed": false,
    "ExecuteTime": {
     "end_time": "2024-01-14T18:28:15.699262100Z",
     "start_time": "2024-01-14T18:28:15.671312900Z"
    }
   }
  },
  {
   "cell_type": "code",
   "execution_count": 22,
   "outputs": [],
   "source": [],
   "metadata": {
    "collapsed": false,
    "ExecuteTime": {
     "end_time": "2024-01-14T18:28:15.706218900Z",
     "start_time": "2024-01-14T18:28:15.687269800Z"
    }
   }
  }
 ],
 "metadata": {
  "kernelspec": {
   "display_name": "Python 3",
   "language": "python",
   "name": "python3"
  },
  "language_info": {
   "codemirror_mode": {
    "name": "ipython",
    "version": 2
   },
   "file_extension": ".py",
   "mimetype": "text/x-python",
   "name": "python",
   "nbconvert_exporter": "python",
   "pygments_lexer": "ipython2",
   "version": "2.7.6"
  }
 },
 "nbformat": 4,
 "nbformat_minor": 0
}
